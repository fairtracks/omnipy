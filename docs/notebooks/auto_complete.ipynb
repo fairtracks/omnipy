{
 "cells": [
  {
   "cell_type": "code",
   "id": "initial_id",
   "metadata": {},
   "source": [
    "from omnipy import TaskTemplate, LinearFlowTemplate, DagFlowTemplate, FuncFlowTemplate"
   ],
   "outputs": [],
   "execution_count": null
  },
  {
   "cell_type": "code",
   "id": "b8aa0b7cff0e05e0",
   "metadata": {},
   "source": [
    "@TaskTemplate(name='sd')\n",
    "def asd(a:int, b:str='nothing')->str:\n",
    "    return f'{a}, {b}'"
   ],
   "outputs": [],
   "execution_count": null
  },
  {
   "cell_type": "code",
   "id": "2e22fac6c627a1e8",
   "metadata": {},
   "source": [
    "@LinearFlowTemplate(asd, name='my_flow')\n",
    "def my_flow(a:int, b:str)->str:\n",
    "    ..."
   ],
   "outputs": [],
   "execution_count": null
  },
  {
   "cell_type": "code",
   "id": "58076d9f-683f-45d9-b03b-0167ba3d26ea",
   "metadata": {},
   "source": [
    "# reveal_type(my_flow)"
   ],
   "outputs": [],
   "execution_count": null
  },
  {
   "cell_type": "code",
   "id": "b8cb8bfd52ed1ac8",
   "metadata": {},
   "source": [
    "my_flow.run(123, 'dsaf')"
   ],
   "outputs": [],
   "execution_count": null
  },
  {
   "cell_type": "code",
   "id": "36b844457d02929a",
   "metadata": {},
   "source": [
    "double_asd = my_flow.refine(asd, asd, name='double_asd')"
   ],
   "outputs": [],
   "execution_count": null
  },
  {
   "cell_type": "code",
   "id": "893011bb-ca39-4f54-a751-8da1d3b8ed64",
   "metadata": {},
   "source": [
    "# reveal_type(double_asd)"
   ],
   "outputs": [],
   "execution_count": null
  },
  {
   "cell_type": "code",
   "id": "40805f9020a339a9",
   "metadata": {
    "scrolled": true
   },
   "source": [
    "double_asd.run(234, 'sd')"
   ],
   "outputs": [],
   "execution_count": null
  },
  {
   "cell_type": "code",
   "id": "30fc5f6c-a48d-4760-9c93-a1603c2c72cb",
   "metadata": {},
   "source": [
    "@DagFlowTemplate(asd, name='my_dag_flow')\n",
    "def my_dag_flow(a:int, b:str) -> str:\n",
    "    ..."
   ],
   "outputs": [],
   "execution_count": null
  },
  {
   "cell_type": "code",
   "id": "6b9f27fc-2514-4180-807e-ddcef7f5f08b",
   "metadata": {},
   "source": [
    "# reveal_type(my_dag_flow)"
   ],
   "outputs": [],
   "execution_count": null
  },
  {
   "cell_type": "code",
   "id": "6dbbcfab-433c-4c05-8fbe-f3bf22f6d952",
   "metadata": {},
   "source": [
    "my_dag_flow.run(234, 'sdf')"
   ],
   "outputs": [],
   "execution_count": null
  },
  {
   "cell_type": "code",
   "id": "f221b075-8fd3-4f77-8415-fc5a44ec3368",
   "metadata": {},
   "source": [
    "double_asd_dag = my_dag_flow.refine(asd, asd, name='double_asd_dag')"
   ],
   "outputs": [],
   "execution_count": null
  },
  {
   "cell_type": "code",
   "id": "9515697a-13c2-4b87-9b65-f58851a8b76f",
   "metadata": {},
   "source": [
    "# reveal_type(double_asd_dag)"
   ],
   "outputs": [],
   "execution_count": null
  },
  {
   "cell_type": "code",
   "id": "9404995a-f773-4f58-a563-3db410ca0592",
   "metadata": {},
   "source": [
    "double_asd_dag.run(234, '23')"
   ],
   "outputs": [],
   "execution_count": null
  },
  {
   "cell_type": "code",
   "id": "6f444db9-9301-461c-be60-5706fcad9bcc",
   "metadata": {},
   "source": [
    "double_asd_dag.return_type"
   ],
   "outputs": [],
   "execution_count": null
  },
  {
   "cell_type": "code",
   "id": "9d38ad6a-53c2-4170-b091-1380c2e07356",
   "metadata": {},
   "source": [
    "@FuncFlowTemplate(name='ddd')\n",
    "def my_func_flow(a:int, b:str) -> str:\n",
    "    return f'{a}, {b}'\n"
   ],
   "outputs": [],
   "execution_count": null
  },
  {
   "cell_type": "code",
   "id": "badedfa8-e7d0-4a54-8376-d4eae0f54bca",
   "metadata": {},
   "source": [
    "# reveal_type(my_func_flow)"
   ],
   "outputs": [],
   "execution_count": null
  },
  {
   "cell_type": "code",
   "id": "1c9c6a32-def1-475e-a64e-d1d06476f0ad",
   "metadata": {},
   "source": [
    "my_func_flow.run(1234, '34')"
   ],
   "outputs": [],
   "execution_count": null
  },
  {
   "cell_type": "code",
   "id": "28c2e1a9-d295-4bff-bc3e-e0b57fa5a648",
   "metadata": {},
   "source": [
    "my_refined_func_flow = my_func_flow.refine(fixed_params={'b':'yes'})"
   ],
   "outputs": [],
   "execution_count": null
  },
  {
   "cell_type": "code",
   "id": "80c5b6e7-8b2d-4a15-a6d1-739ac92153f0",
   "metadata": {},
   "source": [
    "# reveal_type(my_refined_func_flow)"
   ],
   "outputs": [],
   "execution_count": null
  },
  {
   "cell_type": "code",
   "id": "4c369ec9-09fd-422b-84db-8dc6682ef19f",
   "metadata": {},
   "source": [
    "my_refined_func_flow.run(234)  # fixed_params is impossible to type with the current typing features in Python"
   ],
   "outputs": [],
   "execution_count": null
  },
  {
   "cell_type": "code",
   "id": "ccd3c4c0-5e31-44e3-9ad7-2a514ea75d0e",
   "metadata": {},
   "source": [
    "# my_refined_func_flow.run(a=233, b='er')  # will fail"
   ],
   "outputs": [],
   "execution_count": null
  },
  {
   "cell_type": "code",
   "id": "bc18c7c0-6bd1-45af-b2fb-20f26a075fae",
   "metadata": {},
   "source": [
    "my_flow.apply()(123, 'd')"
   ],
   "outputs": [],
   "execution_count": null
  },
  {
   "cell_type": "code",
   "id": "c82732a4-6e29-4692-8284-751fd47df46a",
   "metadata": {
    "scrolled": true
   },
   "source": [
    "ddd = my_flow.apply()"
   ],
   "outputs": [],
   "execution_count": null
  },
  {
   "cell_type": "code",
   "id": "8a1ab045-3d2b-468c-8caf-8c2709035dc5",
   "metadata": {},
   "source": [
    "# reveal_type(ddd)"
   ],
   "outputs": [],
   "execution_count": null
  },
  {
   "cell_type": "code",
   "id": "0cd3fad3-f8ca-4ea0-a48e-1c91e63a94be",
   "metadata": {},
   "source": [
    "import os, sys"
   ],
   "outputs": [],
   "execution_count": null
  },
  {
   "cell_type": "code",
   "id": "9b1f8d53-bbcb-496f-af71-f78b60b610ed",
   "metadata": {},
   "source": [
    "os.chdir('../../tests')"
   ],
   "outputs": [],
   "execution_count": null
  },
  {
   "cell_type": "code",
   "id": "65da9eb1-3109-4b10-9cbf-d456eda612ec",
   "metadata": {},
   "source": [
    "sys.path.append(os.path.abspath(os.curdir))"
   ],
   "outputs": [],
   "execution_count": null
  },
  {
   "cell_type": "code",
   "id": "4e3ac261-1f48-4c24-893a-0ec0a8f124ee",
   "metadata": {},
   "source": [
    "os.path.abspath(os.curdir)"
   ],
   "outputs": [],
   "execution_count": null
  },
  {
   "cell_type": "code",
   "id": "042b3c55-5434-496f-8d43-1cbc2a959b21",
   "metadata": {},
   "source": [
    "from compute.helpers.mocks import CommandMockJobTemplate"
   ],
   "outputs": [],
   "execution_count": null
  },
  {
   "cell_type": "code",
   "id": "3eab312b-998f-42b1-bb50-da59de3b7048",
   "metadata": {},
   "source": [
    "@CommandMockJobTemplate('erase', uppercase=True)\n",
    "def dsa(a: int) -> int:\n",
    "    ..."
   ],
   "outputs": [],
   "execution_count": null
  },
  {
   "cell_type": "code",
   "id": "7ee67d5d-d3fd-4d58-9fce-b070995e9583",
   "metadata": {},
   "source": [
    "# reveal_type(dsa)"
   ],
   "outputs": [],
   "execution_count": null
  },
  {
   "cell_type": "code",
   "id": "9afc3469-08ca-489a-b006-6309646b20dc",
   "metadata": {},
   "source": [
    "dsa.run(23)"
   ],
   "outputs": [],
   "execution_count": null
  },
  {
   "cell_type": "code",
   "id": "a01aa3cf-0ca3-4cc8-9167-152bf6aa1994",
   "metadata": {},
   "source": [
    "dsa.refine(params=dict(what = 'everything')).run(33)"
   ],
   "outputs": [],
   "execution_count": null
  },
  {
   "cell_type": "code",
   "id": "2f4ea98a-b33b-4381-a214-24b6e6945aed",
   "metadata": {},
   "source": [
    "from compute.helpers.mocks import MockTaskTemplateAssertSameTimeOfCurFlowRun"
   ],
   "outputs": [],
   "execution_count": null
  },
  {
   "cell_type": "code",
   "id": "4087bb10-8dd4-467e-bf61-65fa8d254d78",
   "metadata": {},
   "source": [
    "@MockTaskTemplateAssertSameTimeOfCurFlowRun(name='double')\n",
    "def double(a:int) -> int:\n",
    "    return a*2\n"
   ],
   "outputs": [],
   "execution_count": null
  },
  {
   "cell_type": "code",
   "id": "40b75514-b92c-4765-8913-4fe6b4b2d630",
   "metadata": {},
   "source": [
    "# reveal_type(double)"
   ],
   "outputs": [],
   "execution_count": null
  },
  {
   "cell_type": "code",
   "id": "5ed1dad8-83cb-48e8-8311-bce69f79ba93",
   "metadata": {
    "scrolled": true
   },
   "source": [
    "double.apply().revise().run(23)"
   ],
   "outputs": [],
   "execution_count": null
  },
  {
   "cell_type": "code",
   "id": "244b946f-4dd9-4df5-9a3a-9fc738ac66bc",
   "metadata": {},
   "source": [
    "from omnipy import Model, Dataset, TaskTemplate"
   ],
   "outputs": [],
   "execution_count": null
  },
  {
   "cell_type": "code",
   "id": "4378c8a1-9cd2-4f1a-b2d3-58350135c0e2",
   "metadata": {},
   "source": [
    "my_list = Model[list[int]]([123])"
   ],
   "outputs": [],
   "execution_count": null
  },
  {
   "cell_type": "code",
   "id": "ec99b0ca-4c5a-4c88-bfe7-3832c0b60a44",
   "metadata": {},
   "source": [
    "my_list.append('23')"
   ],
   "outputs": [],
   "execution_count": null
  },
  {
   "cell_type": "code",
   "id": "20070938-5ab9-4e0d-961c-f3be6211968a",
   "metadata": {},
   "source": [
    "# reveal_type(a)"
   ],
   "outputs": [],
   "execution_count": null
  },
  {
   "cell_type": "code",
   "id": "7fd1202e-45a3-4b2b-84ae-f956c7eba556",
   "metadata": {},
   "source": [
    "@TaskTemplate(name='my_task')\n",
    "def my_task(a:int)->str:\n",
    "    return str(a)"
   ],
   "outputs": [],
   "execution_count": null
  },
  {
   "cell_type": "code",
   "id": "a7e33da9-830c-4eea-913d-ab5e5701aae9",
   "metadata": {
    "scrolled": true
   },
   "source": [
    "my_str = my_task.run(123)"
   ],
   "outputs": [],
   "execution_count": null
  },
  {
   "cell_type": "code",
   "id": "50a1b73b-8dec-43ad-8150-d21502be3b00",
   "metadata": {},
   "source": [
    "data = Dataset[Model[str]](a=my_str, b=1234)"
   ],
   "outputs": [],
   "execution_count": null
  },
  {
   "cell_type": "code",
   "id": "4443af05-c59e-455a-851f-6c398f471436",
   "metadata": {},
   "source": [
    "print(data['a'] + 'asdasd')"
   ],
   "outputs": [],
   "execution_count": null
  },
  {
   "cell_type": "code",
   "id": "377acf0e-8a1e-4998-b179-d137a19d7d62",
   "metadata": {},
   "source": [
    "# reveal_type(data['a'])"
   ],
   "outputs": [],
   "execution_count": null
  },
  {
   "cell_type": "code",
   "id": "c4cf02f7-4915-42e5-906c-6c4afff72073",
   "metadata": {},
   "source": [
    "from omnipy.modules.pandas.models import PandasModel"
   ],
   "outputs": [],
   "execution_count": null
  },
  {
   "cell_type": "code",
   "id": "72b66624-e0cd-40ee-8239-69cff3ce2504",
   "metadata": {},
   "source": [
    "my_df = PandasModel({1: [123, 234], '2': [23, 3]})"
   ],
   "outputs": [],
   "execution_count": null
  },
  {
   "cell_type": "code",
   "id": "ae9caefa-4688-447c-b1de-8176359e6817",
   "metadata": {},
   "source": [
    "# reveal_type(my_df)"
   ],
   "outputs": [],
   "execution_count": null
  },
  {
   "cell_type": "code",
   "id": "0c8ed447-dd3b-40ab-b81b-faf8713bcde4",
   "metadata": {},
   "source": [
    "my_df"
   ],
   "outputs": [],
   "execution_count": null
  },
  {
   "cell_type": "code",
   "id": "78f36fa0-7ca9-479c-93fa-a76324d68fdb",
   "metadata": {},
   "source": [
    "# reveal_type(ab)"
   ],
   "outputs": [],
   "execution_count": null
  },
  {
   "cell_type": "code",
   "id": "07e2e25b-6ca6-42a1-8ac2-b2eb9165f97b",
   "metadata": {},
   "source": [
    "from omnipy import HttpUrlModel, QueryParamsModel, UrlPathModel"
   ],
   "outputs": [],
   "execution_count": null
  },
  {
   "cell_type": "code",
   "id": "08f69baf-d3fb-49c7-abd5-0dd4ef2455a4",
   "metadata": {},
   "source": [
    "url = HttpUrlModel()"
   ],
   "outputs": [],
   "execution_count": null
  },
  {
   "cell_type": "code",
   "id": "df67d461-81d6-4c84-8eca-737e0a2ca1ef",
   "metadata": {},
   "source": [
    "# reveal_type(url)"
   ],
   "outputs": [],
   "execution_count": null
  },
  {
   "cell_type": "code",
   "id": "32240f9b-e006-47ec-93f9-e0e9acc24f45",
   "metadata": {
    "scrolled": true
   },
   "source": [
    "url.query"
   ],
   "outputs": [],
   "execution_count": null
  },
  {
   "cell_type": "code",
   "id": "529d609b-de81-4b1f-ac24-993ee88f9acc",
   "metadata": {},
   "source": [
    "url.query['asd'] = 'asd'"
   ],
   "outputs": [],
   "execution_count": null
  },
  {
   "cell_type": "code",
   "id": "7d62d03b-e936-4dfd-9242-c0302d0cc2e5",
   "metadata": {},
   "source": [
    "# reveal_type(url.query)"
   ],
   "outputs": [],
   "execution_count": null
  },
  {
   "cell_type": "code",
   "id": "dc0d3cd8-41be-4c65-bc1b-089b85155be3",
   "metadata": {},
   "source": [],
   "outputs": [],
   "execution_count": null
  },
  {
   "cell_type": "code",
   "id": "0dec4a38-e5c0-479f-90c3-06e665f22d9f",
   "metadata": {
    "scrolled": true
   },
   "source": [
    "url.path // 'asd' // 'fdg'"
   ],
   "outputs": [],
   "execution_count": null
  },
  {
   "cell_type": "code",
   "id": "da658e13-54a9-431a-bab5-25db5af56b4e",
   "metadata": {},
   "source": [
    "# reveal_type(url.path)"
   ],
   "outputs": [],
   "execution_count": null
  },
  {
   "cell_type": "code",
   "id": "5d06f95c-f215-4ce3-bb8e-f124fd04a978",
   "metadata": {
    "scrolled": true
   },
   "source": [
    "url.path.parent"
   ],
   "outputs": [],
   "execution_count": null
  },
  {
   "cell_type": "code",
   "id": "7ca21a6b-dc4b-4077-93a0-c6dea327b3ac",
   "metadata": {},
   "source": [],
   "outputs": [],
   "execution_count": null
  }
 ],
 "metadata": {
  "kernelspec": {
   "display_name": "Python 3 (ipykernel)",
   "language": "python",
   "name": "python3"
  },
  "language_info": {
   "codemirror_mode": {
    "name": "ipython",
    "version": 3
   },
   "file_extension": ".py",
   "mimetype": "text/x-python",
   "name": "python",
   "nbconvert_exporter": "python",
   "pygments_lexer": "ipython3",
   "version": "3.10.14"
  }
 },
 "nbformat": 4,
 "nbformat_minor": 5
}
