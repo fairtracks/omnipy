{
 "cells": [
  {
   "cell_type": "code",
   "execution_count": 1,
   "id": "initial_id",
   "metadata": {
    "ExecuteTime": {
     "end_time": "2024-12-01T18:12:08.242588Z",
     "start_time": "2024-12-01T18:12:08.240346Z"
    }
   },
   "outputs": [],
   "source": [
    "from omnipy import TaskTemplate, LinearFlowTemplate, DagFlowTemplate, FuncFlowTemplate"
   ]
  },
  {
   "cell_type": "code",
   "execution_count": 34,
   "id": "b8aa0b7cff0e05e0",
   "metadata": {
    "ExecuteTime": {
     "end_time": "2024-12-01T18:12:08.254133Z",
     "start_time": "2024-12-01T18:12:08.251050Z"
    }
   },
   "outputs": [],
   "source": [
    "@TaskTemplate(name='sd')\n",
    "def asd(a:int, b:str='nothing')->str:\n",
    "    return f'{a}, {b}'"
   ]
  },
  {
   "cell_type": "code",
   "execution_count": 33,
   "id": "2e22fac6c627a1e8",
   "metadata": {
    "ExecuteTime": {
     "end_time": "2024-12-01T18:12:08.262559Z",
     "start_time": "2024-12-01T18:12:08.259724Z"
    }
   },
   "outputs": [],
   "source": [
    "@LinearFlowTemplate(asd, name='my_flow')\n",
    "def my_flow(a:int, b:str)->str:\n",
    "    ..."
   ]
  },
  {
   "cell_type": "code",
   "execution_count": 35,
   "id": "b8cb8bfd52ed1ac8",
   "metadata": {
    "ExecuteTime": {
     "end_time": "2024-12-01T18:12:08.279127Z",
     "start_time": "2024-12-01T18:12:08.270385Z"
    }
   },
   "outputs": [
    {
     "name": "stdout",
     "output_type": "stream",
     "text": [
      "[OMNIPY ] Sun Dec  1 23:09:09 2024 - INFO: Initialized \"linear-flow-my-flow-electric-markhor\" (omnipy.hub.registry.RunStateRegistry)\n",
      "[OMNIPY ] Sun Dec  1 23:09:09 2024 - INFO: Started running \"linear-flow-my-flow-electric-markhor\"... (omnipy.hub.registry.RunStateRegistry)\n",
      "[OMNIPY ] Sun Dec  1 23:09:09 2024 - INFO: Initialized \"task-sd-small-bat\" (omnipy.hub.registry.RunStateRegistry)\n",
      "[OMNIPY ] Sun Dec  1 23:09:09 2024 - INFO: Started running \"task-sd-small-bat\"... (omnipy.hub.registry.RunStateRegistry)\n",
      "[OMNIPY ] Sun Dec  1 23:09:09 2024 - INFO: Finished running \"task-sd-small-bat\"! (omnipy.hub.registry.RunStateRegistry)\n",
      "[OMNIPY ] Sun Dec  1 23:09:09 2024 - INFO: Results of task-sd-small-bat is not a Dataset and cannot be automatically serialized and persisted! (omnipy.compute.task.TaskWithMixins)\n",
      "[OMNIPY ] Sun Dec  1 23:09:09 2024 - INFO: Finished running \"linear-flow-my-flow-electric-markhor\"! (omnipy.hub.registry.RunStateRegistry)\n",
      "[OMNIPY ] Sun Dec  1 23:09:09 2024 - INFO: Results of linear-flow-my-flow-electric-markhor is not a Dataset and cannot be automatically serialized and persisted! (omnipy.compute.flow.LinearFlowWithMixins)\n"
     ]
    },
    {
     "data": {
      "text/plain": [
       "'123, dsaf'"
      ]
     },
     "execution_count": 35,
     "metadata": {},
     "output_type": "execute_result"
    }
   ],
   "source": [
    "my_flow.run(123, 'dsaf')"
   ]
  },
  {
   "cell_type": "code",
   "execution_count": 36,
   "id": "36b844457d02929a",
   "metadata": {
    "ExecuteTime": {
     "end_time": "2024-12-01T18:12:08.330207Z",
     "start_time": "2024-12-01T18:12:08.327574Z"
    }
   },
   "outputs": [],
   "source": [
    "double_asd = my_flow.refine(asd, asd, name='double_asd')"
   ]
  },
  {
   "cell_type": "code",
   "execution_count": 37,
   "id": "40805f9020a339a9",
   "metadata": {
    "ExecuteTime": {
     "end_time": "2024-12-01T18:12:08.354511Z",
     "start_time": "2024-12-01T18:12:08.345492Z"
    },
    "scrolled": true
   },
   "outputs": [
    {
     "name": "stdout",
     "output_type": "stream",
     "text": [
      "[OMNIPY ] Sun Dec  1 23:09:39 2024 - INFO: Initialized \"linear-flow-double-asd-terrestrial-mouflon\" (omnipy.hub.registry.RunStateRegistry)\n",
      "[OMNIPY ] Sun Dec  1 23:09:39 2024 - INFO: Started running \"linear-flow-double-asd-terrestrial-mouflon\"... (omnipy.hub.registry.RunStateRegistry)\n",
      "[OMNIPY ] Sun Dec  1 23:09:39 2024 - INFO: Initialized \"task-sd-vivacious-uakari\" (omnipy.hub.registry.RunStateRegistry)\n",
      "[OMNIPY ] Sun Dec  1 23:09:39 2024 - INFO: Started running \"task-sd-vivacious-uakari\"... (omnipy.hub.registry.RunStateRegistry)\n",
      "[OMNIPY ] Sun Dec  1 23:09:39 2024 - INFO: Finished running \"task-sd-vivacious-uakari\"! (omnipy.hub.registry.RunStateRegistry)\n",
      "[OMNIPY ] Sun Dec  1 23:09:39 2024 - INFO: Results of task-sd-vivacious-uakari is not a Dataset and cannot be automatically serialized and persisted! (omnipy.compute.task.TaskWithMixins)\n",
      "[OMNIPY ] Sun Dec  1 23:09:39 2024 - INFO: Initialized \"task-sd-jasmine-bulldog\" (omnipy.hub.registry.RunStateRegistry)\n",
      "[OMNIPY ] Sun Dec  1 23:09:39 2024 - INFO: Started running \"task-sd-jasmine-bulldog\"... (omnipy.hub.registry.RunStateRegistry)\n",
      "[OMNIPY ] Sun Dec  1 23:09:39 2024 - INFO: Finished running \"task-sd-jasmine-bulldog\"! (omnipy.hub.registry.RunStateRegistry)\n",
      "[OMNIPY ] Sun Dec  1 23:09:39 2024 - INFO: Results of task-sd-jasmine-bulldog is not a Dataset and cannot be automatically serialized and persisted! (omnipy.compute.task.TaskWithMixins)\n",
      "[OMNIPY ] Sun Dec  1 23:09:39 2024 - INFO: Finished running \"linear-flow-double-asd-terrestrial-mouflon\"! (omnipy.hub.registry.RunStateRegistry)\n",
      "[OMNIPY ] Sun Dec  1 23:09:39 2024 - INFO: Results of linear-flow-double-asd-terrestrial-mouflon is not a Dataset and cannot be automatically serialized and persisted! (omnipy.compute.flow.LinearFlowWithMixins)\n"
     ]
    },
    {
     "data": {
      "text/plain": [
       "'234, sd, nothing'"
      ]
     },
     "execution_count": 37,
     "metadata": {},
     "output_type": "execute_result"
    }
   ],
   "source": [
    "double_asd.run(234, 'sd')"
   ]
  },
  {
   "cell_type": "code",
   "execution_count": 38,
   "id": "30fc5f6c-a48d-4760-9c93-a1603c2c72cb",
   "metadata": {
    "ExecuteTime": {
     "end_time": "2024-12-01T18:12:08.365063Z",
     "start_time": "2024-12-01T18:12:08.362087Z"
    }
   },
   "outputs": [],
   "source": [
    "@DagFlowTemplate(asd, name='my_dag_flow')\n",
    "def my_dag_flow(a:int, b:str) -> str:\n",
    "    ..."
   ]
  },
  {
   "cell_type": "code",
   "execution_count": 39,
   "id": "6dbbcfab-433c-4c05-8fbe-f3bf22f6d952",
   "metadata": {
    "ExecuteTime": {
     "end_time": "2024-12-01T18:12:08.382934Z",
     "start_time": "2024-12-01T18:12:08.376033Z"
    }
   },
   "outputs": [
    {
     "name": "stdout",
     "output_type": "stream",
     "text": [
      "[OMNIPY ] Sun Dec  1 23:09:44 2024 - INFO: Initialized \"dag-flow-my-dag-flow-witty-rook\" (omnipy.hub.registry.RunStateRegistry)\n",
      "[OMNIPY ] Sun Dec  1 23:09:44 2024 - INFO: Started running \"dag-flow-my-dag-flow-witty-rook\"... (omnipy.hub.registry.RunStateRegistry)\n",
      "[OMNIPY ] Sun Dec  1 23:09:44 2024 - INFO: Initialized \"task-sd-micro-agama\" (omnipy.hub.registry.RunStateRegistry)\n",
      "[OMNIPY ] Sun Dec  1 23:09:44 2024 - INFO: Started running \"task-sd-micro-agama\"... (omnipy.hub.registry.RunStateRegistry)\n",
      "[OMNIPY ] Sun Dec  1 23:09:44 2024 - INFO: Finished running \"task-sd-micro-agama\"! (omnipy.hub.registry.RunStateRegistry)\n",
      "[OMNIPY ] Sun Dec  1 23:09:44 2024 - INFO: Results of task-sd-micro-agama is not a Dataset and cannot be automatically serialized and persisted! (omnipy.compute.task.TaskWithMixins)\n",
      "[OMNIPY ] Sun Dec  1 23:09:44 2024 - INFO: Finished running \"dag-flow-my-dag-flow-witty-rook\"! (omnipy.hub.registry.RunStateRegistry)\n",
      "[OMNIPY ] Sun Dec  1 23:09:44 2024 - INFO: Results of dag-flow-my-dag-flow-witty-rook is not a Dataset and cannot be automatically serialized and persisted! (omnipy.compute.flow.DagFlowWithMixins)\n"
     ]
    },
    {
     "data": {
      "text/plain": [
       "'234, sdf'"
      ]
     },
     "execution_count": 39,
     "metadata": {},
     "output_type": "execute_result"
    }
   ],
   "source": [
    "my_dag_flow.run(234, 'sdf')"
   ]
  },
  {
   "cell_type": "code",
   "execution_count": 40,
   "id": "f221b075-8fd3-4f77-8415-fc5a44ec3368",
   "metadata": {
    "ExecuteTime": {
     "end_time": "2024-12-01T18:12:08.394596Z",
     "start_time": "2024-12-01T18:12:08.392424Z"
    }
   },
   "outputs": [],
   "source": [
    "double_asd_dag = my_dag_flow.refine(asd, asd, name='double_asd_dag')"
   ]
  },
  {
   "cell_type": "code",
   "execution_count": 41,
   "id": "9404995a-f773-4f58-a563-3db410ca0592",
   "metadata": {
    "ExecuteTime": {
     "end_time": "2024-12-01T18:12:08.412581Z",
     "start_time": "2024-12-01T18:12:08.404074Z"
    }
   },
   "outputs": [
    {
     "name": "stdout",
     "output_type": "stream",
     "text": [
      "[OMNIPY ] Sun Dec  1 23:09:47 2024 - INFO: Initialized \"dag-flow-double-asd-dag-coral-newt\" (omnipy.hub.registry.RunStateRegistry)\n",
      "[OMNIPY ] Sun Dec  1 23:09:47 2024 - INFO: Started running \"dag-flow-double-asd-dag-coral-newt\"... (omnipy.hub.registry.RunStateRegistry)\n",
      "[OMNIPY ] Sun Dec  1 23:09:47 2024 - INFO: Initialized \"task-sd-hilarious-flamingo\" (omnipy.hub.registry.RunStateRegistry)\n",
      "[OMNIPY ] Sun Dec  1 23:09:47 2024 - INFO: Started running \"task-sd-hilarious-flamingo\"... (omnipy.hub.registry.RunStateRegistry)\n",
      "[OMNIPY ] Sun Dec  1 23:09:47 2024 - INFO: Finished running \"task-sd-hilarious-flamingo\"! (omnipy.hub.registry.RunStateRegistry)\n",
      "[OMNIPY ] Sun Dec  1 23:09:47 2024 - INFO: Results of task-sd-hilarious-flamingo is not a Dataset and cannot be automatically serialized and persisted! (omnipy.compute.task.TaskWithMixins)\n",
      "[OMNIPY ] Sun Dec  1 23:09:47 2024 - INFO: Initialized \"task-sd-bipedal-perch\" (omnipy.hub.registry.RunStateRegistry)\n",
      "[OMNIPY ] Sun Dec  1 23:09:47 2024 - INFO: Started running \"task-sd-bipedal-perch\"... (omnipy.hub.registry.RunStateRegistry)\n",
      "[OMNIPY ] Sun Dec  1 23:09:47 2024 - INFO: Finished running \"task-sd-bipedal-perch\"! (omnipy.hub.registry.RunStateRegistry)\n",
      "[OMNIPY ] Sun Dec  1 23:09:47 2024 - INFO: Results of task-sd-bipedal-perch is not a Dataset and cannot be automatically serialized and persisted! (omnipy.compute.task.TaskWithMixins)\n",
      "[OMNIPY ] Sun Dec  1 23:09:47 2024 - INFO: Finished running \"dag-flow-double-asd-dag-coral-newt\"! (omnipy.hub.registry.RunStateRegistry)\n",
      "[OMNIPY ] Sun Dec  1 23:09:47 2024 - INFO: Results of dag-flow-double-asd-dag-coral-newt is not a Dataset and cannot be automatically serialized and persisted! (omnipy.compute.flow.DagFlowWithMixins)\n"
     ]
    },
    {
     "data": {
      "text/plain": [
       "'234, 23'"
      ]
     },
     "execution_count": 41,
     "metadata": {},
     "output_type": "execute_result"
    }
   ],
   "source": [
    "double_asd_dag.run(234, '23')"
   ]
  },
  {
   "cell_type": "code",
   "execution_count": 42,
   "id": "6f444db9-9301-461c-be60-5706fcad9bcc",
   "metadata": {
    "ExecuteTime": {
     "end_time": "2024-12-01T18:12:08.423923Z",
     "start_time": "2024-12-01T18:12:08.421508Z"
    }
   },
   "outputs": [
    {
     "data": {
      "text/plain": [
       "str"
      ]
     },
     "execution_count": 42,
     "metadata": {},
     "output_type": "execute_result"
    }
   ],
   "source": [
    "double_asd_dag.return_type"
   ]
  },
  {
   "cell_type": "code",
   "execution_count": 43,
   "id": "9d38ad6a-53c2-4170-b091-1380c2e07356",
   "metadata": {
    "ExecuteTime": {
     "end_time": "2024-12-01T18:12:08.438395Z",
     "start_time": "2024-12-01T18:12:08.435387Z"
    }
   },
   "outputs": [],
   "source": [
    "@FuncFlowTemplate(name='ddd')\n",
    "def my_func_flow(a:int, b:str) -> str:\n",
    "    return f'{a}, {b}'\n"
   ]
  },
  {
   "cell_type": "code",
   "execution_count": 44,
   "id": "1c9c6a32-def1-475e-a64e-d1d06476f0ad",
   "metadata": {
    "ExecuteTime": {
     "end_time": "2024-12-01T18:12:08.448149Z",
     "start_time": "2024-12-01T18:12:08.443576Z"
    }
   },
   "outputs": [
    {
     "name": "stdout",
     "output_type": "stream",
     "text": [
      "[OMNIPY ] Sun Dec  1 23:09:54 2024 - INFO: Initialized \"func-flow-ddd-married-chital\" (omnipy.hub.registry.RunStateRegistry)\n",
      "[OMNIPY ] Sun Dec  1 23:09:54 2024 - INFO: Started running \"func-flow-ddd-married-chital\"... (omnipy.hub.registry.RunStateRegistry)\n",
      "[OMNIPY ] Sun Dec  1 23:09:54 2024 - INFO: Finished running \"func-flow-ddd-married-chital\"! (omnipy.hub.registry.RunStateRegistry)\n",
      "[OMNIPY ] Sun Dec  1 23:09:54 2024 - INFO: Results of func-flow-ddd-married-chital is not a Dataset and cannot be automatically serialized and persisted! (omnipy.compute.flow.FuncFlowWithMixins)\n"
     ]
    },
    {
     "data": {
      "text/plain": [
       "'1234, 34'"
      ]
     },
     "execution_count": 44,
     "metadata": {},
     "output_type": "execute_result"
    }
   ],
   "source": [
    "my_func_flow.run(1234, '34')"
   ]
  },
  {
   "cell_type": "code",
   "execution_count": 45,
   "id": "28c2e1a9-d295-4bff-bc3e-e0b57fa5a648",
   "metadata": {
    "ExecuteTime": {
     "end_time": "2024-12-01T18:12:08.455671Z",
     "start_time": "2024-12-01T18:12:08.453225Z"
    }
   },
   "outputs": [],
   "source": [
    "my_refined_func_flow = my_func_flow.refine(fixed_params={'b':'yes'})"
   ]
  },
  {
   "cell_type": "code",
   "execution_count": 46,
   "id": "4c369ec9-09fd-422b-84db-8dc6682ef19f",
   "metadata": {
    "ExecuteTime": {
     "end_time": "2024-12-01T18:12:08.469935Z",
     "start_time": "2024-12-01T18:12:08.464606Z"
    }
   },
   "outputs": [
    {
     "name": "stdout",
     "output_type": "stream",
     "text": [
      "[OMNIPY ] Sun Dec  1 23:09:59 2024 - INFO: Initialized \"func-flow-ddd-primitive-salmon\" (omnipy.hub.registry.RunStateRegistry)\n",
      "[OMNIPY ] Sun Dec  1 23:09:59 2024 - INFO: Started running \"func-flow-ddd-primitive-salmon\"... (omnipy.hub.registry.RunStateRegistry)\n",
      "[OMNIPY ] Sun Dec  1 23:09:59 2024 - INFO: Finished running \"func-flow-ddd-primitive-salmon\"! (omnipy.hub.registry.RunStateRegistry)\n",
      "[OMNIPY ] Sun Dec  1 23:09:59 2024 - INFO: Results of func-flow-ddd-primitive-salmon is not a Dataset and cannot be automatically serialized and persisted! (omnipy.compute.flow.FuncFlowWithMixins)\n"
     ]
    },
    {
     "data": {
      "text/plain": [
       "'234, yes'"
      ]
     },
     "execution_count": 46,
     "metadata": {},
     "output_type": "execute_result"
    }
   ],
   "source": [
    "my_refined_func_flow.run(234)  # fixed_params is impossible to type with the current typing features in Python"
   ]
  },
  {
   "cell_type": "code",
   "execution_count": 47,
   "id": "ccd3c4c0-5e31-44e3-9ad7-2a514ea75d0e",
   "metadata": {
    "ExecuteTime": {
     "end_time": "2024-12-01T18:12:08.633349Z",
     "start_time": "2024-12-01T18:12:08.476404Z"
    }
   },
   "outputs": [],
   "source": [
    "# my_refined_func_flow.run(a=233, b='er')  # will fail"
   ]
  },
  {
   "cell_type": "code",
   "execution_count": 48,
   "id": "bc18c7c0-6bd1-45af-b2fb-20f26a075fae",
   "metadata": {
    "ExecuteTime": {
     "end_time": "2024-12-01T18:12:58.080556Z",
     "start_time": "2024-12-01T18:12:58.071134Z"
    }
   },
   "outputs": [
    {
     "name": "stdout",
     "output_type": "stream",
     "text": [
      "[OMNIPY ] Sun Dec  1 23:10:02 2024 - INFO: Initialized \"linear-flow-my-flow-abiding-groundhog\" (omnipy.hub.registry.RunStateRegistry)\n",
      "[OMNIPY ] Sun Dec  1 23:10:02 2024 - INFO: Started running \"linear-flow-my-flow-abiding-groundhog\"... (omnipy.hub.registry.RunStateRegistry)\n",
      "[OMNIPY ] Sun Dec  1 23:10:02 2024 - INFO: Initialized \"task-sd-chocolate-armadillo\" (omnipy.hub.registry.RunStateRegistry)\n",
      "[OMNIPY ] Sun Dec  1 23:10:02 2024 - INFO: Started running \"task-sd-chocolate-armadillo\"... (omnipy.hub.registry.RunStateRegistry)\n",
      "[OMNIPY ] Sun Dec  1 23:10:02 2024 - INFO: Finished running \"task-sd-chocolate-armadillo\"! (omnipy.hub.registry.RunStateRegistry)\n",
      "[OMNIPY ] Sun Dec  1 23:10:02 2024 - INFO: Results of task-sd-chocolate-armadillo is not a Dataset and cannot be automatically serialized and persisted! (omnipy.compute.task.TaskWithMixins)\n",
      "[OMNIPY ] Sun Dec  1 23:10:02 2024 - INFO: Finished running \"linear-flow-my-flow-abiding-groundhog\"! (omnipy.hub.registry.RunStateRegistry)\n",
      "[OMNIPY ] Sun Dec  1 23:10:02 2024 - INFO: Results of linear-flow-my-flow-abiding-groundhog is not a Dataset and cannot be automatically serialized and persisted! (omnipy.compute.flow.LinearFlowWithMixins)\n"
     ]
    },
    {
     "data": {
      "text/plain": [
       "'123, d'"
      ]
     },
     "execution_count": 48,
     "metadata": {},
     "output_type": "execute_result"
    }
   ],
   "source": [
    "my_flow.apply()(123, 'd')"
   ]
  },
  {
   "cell_type": "code",
   "execution_count": 50,
   "id": "c82732a4-6e29-4692-8284-751fd47df46a",
   "metadata": {
    "ExecuteTime": {
     "end_time": "2024-12-01T18:13:00.177528Z",
     "start_time": "2024-12-01T18:13:00.165143Z"
    },
    "scrolled": true
   },
   "outputs": [
    {
     "name": "stdout",
     "output_type": "stream",
     "text": [
      "[OMNIPY ] Sun Dec  1 23:10:31 2024 - INFO: Initialized \"linear-flow-my-flow-burgundy-mustang\" (omnipy.hub.registry.RunStateRegistry)\n"
     ]
    },
    {
     "data": {
      "text/plain": [
       "<omnipy.compute.flow.LinearFlowWithMixins at 0x11f0df7f0>"
      ]
     },
     "execution_count": 50,
     "metadata": {},
     "output_type": "execute_result"
    }
   ],
   "source": [
    "ddd = my_flow.apply()"
   ]
  },
  {
   "cell_type": "code",
   "execution_count": 19,
   "id": "0cd3fad3-f8ca-4ea0-a48e-1c91e63a94be",
   "metadata": {
    "ExecuteTime": {
     "end_time": "2024-12-01T18:13:01.952687Z",
     "start_time": "2024-12-01T18:13:01.950446Z"
    }
   },
   "outputs": [],
   "source": [
    "import os, sys"
   ]
  },
  {
   "cell_type": "code",
   "execution_count": 20,
   "id": "9b1f8d53-bbcb-496f-af71-f78b60b610ed",
   "metadata": {
    "ExecuteTime": {
     "end_time": "2024-12-01T18:13:03.536323Z",
     "start_time": "2024-12-01T18:13:03.534114Z"
    }
   },
   "outputs": [],
   "source": [
    "os.chdir('../../tests')"
   ]
  },
  {
   "cell_type": "code",
   "execution_count": 21,
   "id": "65da9eb1-3109-4b10-9cbf-d456eda612ec",
   "metadata": {
    "ExecuteTime": {
     "end_time": "2024-12-01T18:13:05.646213Z",
     "start_time": "2024-12-01T18:13:05.643709Z"
    }
   },
   "outputs": [],
   "source": [
    "sys.path.append(os.path.abspath(os.curdir))"
   ]
  },
  {
   "cell_type": "code",
   "execution_count": 22,
   "id": "4e3ac261-1f48-4c24-893a-0ec0a8f124ee",
   "metadata": {
    "ExecuteTime": {
     "end_time": "2024-12-01T18:13:07.000364Z",
     "start_time": "2024-12-01T18:13:06.997469Z"
    }
   },
   "outputs": [
    {
     "data": {
      "text/plain": [
       "'/Users/sveinugu/PycharmProjects/omnipy/tests'"
      ]
     },
     "execution_count": 22,
     "metadata": {},
     "output_type": "execute_result"
    }
   ],
   "source": [
    "os.path.abspath(os.curdir)"
   ]
  },
  {
   "cell_type": "code",
   "execution_count": 23,
   "id": "042b3c55-5434-496f-8d43-1cbc2a959b21",
   "metadata": {
    "ExecuteTime": {
     "end_time": "2024-12-01T18:13:09.057984Z",
     "start_time": "2024-12-01T18:13:09.051165Z"
    }
   },
   "outputs": [],
   "source": [
    "from compute.helpers.mocks import CommandMockJobTemplate"
   ]
  },
  {
   "cell_type": "code",
   "execution_count": 24,
   "id": "3eab312b-998f-42b1-bb50-da59de3b7048",
   "metadata": {
    "ExecuteTime": {
     "end_time": "2024-12-01T18:13:11.227338Z",
     "start_time": "2024-12-01T18:13:11.224510Z"
    }
   },
   "outputs": [],
   "source": [
    "@CommandMockJobTemplate('erase', uppercase=True)\n",
    "def dsa(a: int) -> int:\n",
    "    ..."
   ]
  },
  {
   "cell_type": "code",
   "execution_count": 25,
   "id": "9afc3469-08ca-489a-b006-6309646b20dc",
   "metadata": {},
   "outputs": [
    {
     "data": {
      "text/plain": [
       "'I KNOW NOTHING'"
      ]
     },
     "execution_count": 25,
     "metadata": {},
     "output_type": "execute_result"
    }
   ],
   "source": [
    "dsa.run(23)"
   ]
  },
  {
   "cell_type": "code",
   "execution_count": 26,
   "id": "a01aa3cf-0ca3-4cc8-9167-152bf6aa1994",
   "metadata": {},
   "outputs": [
    {
     "data": {
      "text/plain": [
       "'EVERYTHING HAS BEEN ERASED'"
      ]
     },
     "execution_count": 26,
     "metadata": {},
     "output_type": "execute_result"
    }
   ],
   "source": [
    "dsa.refine(params=dict(what = 'everything')).run(33)"
   ]
  },
  {
   "cell_type": "code",
   "execution_count": 27,
   "id": "2f4ea98a-b33b-4381-a214-24b6e6945aed",
   "metadata": {},
   "outputs": [],
   "source": [
    "from compute.helpers.mocks import MockTaskTemplateAssertSameTimeOfCurFlowRun"
   ]
  },
  {
   "cell_type": "code",
   "execution_count": 28,
   "id": "4087bb10-8dd4-467e-bf61-65fa8d254d78",
   "metadata": {},
   "outputs": [],
   "source": [
    "@MockTaskTemplateAssertSameTimeOfCurFlowRun(name='double')\n",
    "def double(a:int) -> int:\n",
    "    return a*2\n"
   ]
  },
  {
   "cell_type": "code",
   "execution_count": 29,
   "id": "5ed1dad8-83cb-48e8-8311-bce69f79ba93",
   "metadata": {},
   "outputs": [
    {
     "name": "stdout",
     "output_type": "stream",
     "text": [
      "[OMNIPY ] Sun Dec  1 23:08:04 2024 - INFO: Initialized \"mock-task-assert-same-time-of-cur-flow-run-double-berserk-bustard\" (omnipy.hub.registry.RunStateRegistry)\n",
      "[OMNIPY ] Sun Dec  1 23:08:04 2024 - INFO: Initialized \"mock-task-assert-same-time-of-cur-flow-run-double-wooden-platypus\" (omnipy.hub.registry.RunStateRegistry)\n",
      "[OMNIPY ] Sun Dec  1 23:08:04 2024 - INFO: Started running \"mock-task-assert-same-time-of-cur-flow-run-double-wooden-platypus\"... (omnipy.hub.registry.RunStateRegistry)\n",
      "[OMNIPY ] Sun Dec  1 23:08:04 2024 - INFO: Finished running \"mock-task-assert-same-time-of-cur-flow-run-double-wooden-platypus\"! (omnipy.hub.registry.RunStateRegistry)\n"
     ]
    },
    {
     "data": {
      "text/plain": [
       "46"
      ]
     },
     "execution_count": 29,
     "metadata": {},
     "output_type": "execute_result"
    }
   ],
   "source": [
    "double.apply().revise().run(23)"
   ]
  },
  {
   "cell_type": "code",
   "execution_count": null,
   "id": "b6290404-bb66-4f95-9bbb-9af3d3215ed2",
   "metadata": {},
   "outputs": [],
   "source": []
  }
 ],
 "metadata": {
  "kernelspec": {
   "display_name": "Python 3 (ipykernel)",
   "language": "python",
   "name": "python3"
  },
  "language_info": {
   "codemirror_mode": {
    "name": "ipython",
    "version": 3
   },
   "file_extension": ".py",
   "mimetype": "text/x-python",
   "name": "python",
   "nbconvert_exporter": "python",
   "pygments_lexer": "ipython3",
   "version": "3.10.14"
  }
 },
 "nbformat": 4,
 "nbformat_minor": 5
}
