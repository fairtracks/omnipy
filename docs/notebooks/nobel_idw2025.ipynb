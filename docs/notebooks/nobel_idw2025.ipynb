{
 "cells": [
  {
   "cell_type": "code",
   "id": "initial_id",
   "metadata": {
    "ExecuteTime": {
     "end_time": "2025-10-15T04:55:01.557800Z",
     "start_time": "2025-10-15T04:54:59.834605Z"
    }
   },
   "source": [
    "from omnipy import Dataset, Model\n",
    "import omnipy as om\n",
    "om.setup_jupyter_ui()\n",
    "om.runtime.config.root_log.log_to_stdout = False\n",
    "om.runtime.config.data.ui.jupyter.color.style = om.DarkHighContrastTintedThemingBase16ColorStyles.GOTHAM_T16"
   ],
   "outputs": [
    {
     "data": {
      "text/html": [
       "        <div style=\"display: flex;\">\n",
       "            <div style=\"flex:1; width: 30px;\">ℹ️</div>\n",
       "            <div style=\"width: calc(100% - 30px);\">Omnipy has detected that it is being imported into a Jupyter\n",
       "session. Please run the following in a separate cell:\n",
       "\n",
       "<pre><code>import omnipy as om\n",
       "om.setup_jupyter_ui()\n",
       "</code></pre>\n",
       "</div>\n",
       "        </div>\n"
      ]
     },
     "metadata": {},
     "output_type": "display_data",
     "jetTransient": {
      "display_id": null
     }
    },
    {
     "data": {
      "text/html": [
       "<div style=\"display: flex;\">\n",
       "    <div style=\"flex:1; width: 30px;\">🌐</div>\n",
       "    <div style=\"width: calc(100% - 30px);\">The Jupyter kernel currently runs in web browser mode. <i>(If you are running Jupyter elsewhere, e.g. from within PyCharm, you probably want to restart the kernel.)</i></div>\n",
       "</div>\n"
      ]
     },
     "metadata": {},
     "output_type": "display_data",
     "jetTransient": {
      "display_id": null
     }
    },
    {
     "data": {
      "text/html": [
       "<div style=\"display: flex;\">\n",
       "    <div style=\"flex:1; width: 30px;\">🔧</div>\n",
       "    <div style=\"width: calc(100% - 30px);\"><i>Workaround for <a href=\"https://github.com/fairtracks/omnipy/issues/244\">Jupyter in PyCharm detection issue</a>:</i> immediately after kernel startup, run an empty or unrelated cell before the cell that loads Omnipy.</div>\n",
       "</div>\n"
      ]
     },
     "metadata": {},
     "output_type": "display_data",
     "jetTransient": {
      "display_id": null
     }
    },
    {
     "data": {
      "text/html": [
       "            <noscript>\n",
       "            <div style=\"display: flex;\">\n",
       "    <div style=\"flex:1; width: 30px;\">⚠️</div>\n",
       "    <div style=\"width: calc(100% - 30px);\">This cell was not loaded properly! You probably want to rerun the code cell above (<i>Click in the code cell, and press Shift+Enter <kbd>⇧</kbd>+<kbd>↩</kbd></i>).</div>\n",
       "</div>\n",
       "\n",
       "            </noscript>\n"
      ]
     },
     "metadata": {},
     "output_type": "display_data",
     "jetTransient": {
      "display_id": null
     }
    },
    {
     "data": {
      "text/html": [
       "<div style=\"display: flex;\">\n",
       "    <div style=\"flex:1; width: 30px;\">⚙️</div>\n",
       "    <div style=\"width: calc(100% - 30px);\">This cell contains CSS styling and hidden widgets to allow clean and reactive display of Omnipy outputs when running Jupyter in a web browser.</div>\n",
       "</div>\n",
       "        <div><style>\n",
       "        /*\n",
       "Improve font rendering\n",
       "*/\n",
       "\n",
       "#main, .vuetify-styles {\n",
       "    text-rendering: geometricPrecision;\n",
       "    -webkit-font-smoothing: subpixel-antialiased;\n",
       "    -moz-osx-font-smoothing: grayscale;\n",
       "}\n",
       "\n",
       "/*\n",
       "Workaround for an issue where cells that are far out of view\n",
       "lose their padding. This causes issues with panels resizing\n",
       "when scrolling quickly.\n",
       "*/\n",
       "\n",
       ".jp-Cell {\n",
       "    padding: var(--jp-cell-padding) !important;\n",
       "}\n",
       "\n",
       "/*\n",
       "Remove horizontal spacing for vuetify code elements\n",
       "*/\n",
       "\n",
       ":where(.vuetify-styles) .v-application code:after,\n",
       ":where(.vuetify-styles) .v-application code:before,\n",
       ":where(.vuetify-styles) .v-application kbd:after,\n",
       ":where(.vuetify-styles) .v-application kbd:before {\n",
       "    content: none;\n",
       "    letter-spacing: 0px;\n",
       "}\n",
       "\n",
       "/*\n",
       "Remove Vuetify background color in order to support\n",
       "solid_background=False\n",
       "*/\n",
       "\n",
       ":where(.vuetify-styles) .v-application code {\n",
       "    background-color: unset;\n",
       "}\n",
       "\n",
       ":where(.vuetify-styles) .theme--dark.v-sheet {\n",
       "    background-color: unset;\n",
       "}\n",
       "\n",
       ":where(.vuetify-styles) .theme--light.v-sheet {\n",
       "    background-color: unset;\n",
       "}\n",
       "\n",
       "/*\n",
       "Remove padding and margin for hidden widgets to remove vertical\n",
       "whitespace\n",
       "*/\n",
       "\n",
       ".solara-content-main > div.col:has(> .omnipy-hidden) {\n",
       "    padding: 0px !important;\n",
       "}\n",
       "\n",
       ".solara-content-main:has(.omnipy-hidden) {\n",
       "    margin: 0px !important;\n",
       "}\n",
       "\n",
       "/*\n",
       "Make sure cell that contain hidden widgets do not collapse\n",
       "completely when scrolled out of view.\n",
       "*/\n",
       "\n",
       ".jp-Cell.getsize-protected-cell[style*=\"display: none;\"]{\n",
       "    display: block !important;\n",
       "    height: 0px !important;\n",
       "    opacity: 0px !important;\n",
       "    padding: 0px 5px 0px 5px !important;\n",
       "    }\n",
       "\n",
       "/*\n",
       "Fix horizontal stripes in HTML output when reactive widgets are not\n",
       "loaded (e.g. if a notebook with stored HTML outputs is viewed\n",
       "without rerunning the cells).\n",
       "*/\n",
       "\n",
       ".jp-RenderedHTMLCommon code {\n",
       "    display: inline-block;\n",
       "}\n",
       "\n",
       "/*\n",
       "Remove black lines in ANSI-encoded code blocks\n",
       "*/\n",
       "\n",
       ".jp-RenderedText pre {\n",
       "    line-height: normal !important;\n",
       "}\n",
       "        </style></div>\n"
      ],
      "text/plain": [
       "No Omnipy-related CSS styling or hidden widgets were loaded due to plain text output."
      ]
     },
     "metadata": {},
     "output_type": "display_data",
     "jetTransient": {
      "display_id": null
     }
    },
    {
     "data": {
      "text/html": [
       "<div style=\"display: flex;\">\n",
       "    <div style=\"flex:1; width: 30px;\">↻</div>\n",
       "    <div style=\"width: calc(100% - 30px);\"><i>Make sure to rerun this cell whenever the kernel is restarted.</i></div>\n",
       "</div>\n"
      ]
     },
     "metadata": {},
     "output_type": "display_data",
     "jetTransient": {
      "display_id": null
     }
    },
    {
     "data": {
      "text/html": [
       "<div style=\"display: flex;\">\n",
       "    <div style=\"flex:1; width: 30px;\">🔧</div>\n",
       "    <div style=\"width: calc(100% - 30px);\"><i>Workaround for <a href=\"https://github.com/jupyterlab/jupyterlab/issues/15968\">JupyterLab erratic scrolling issue</a>:</i> set the \"Windowing mode\" setting under the \"Notebook\" section of the \"Settings Editor\" (from the \"Settings\" menu) to <i>\"defer\"</i> instead of the default <i>\"full\"</i>. Reactive functionality might be less responsive in this mode.</div>\n",
       "</div>\n"
      ]
     },
     "metadata": {},
     "output_type": "display_data",
     "jetTransient": {
      "display_id": null
     }
    },
    {
     "data": {
      "text/plain": [
       "Cannot show ipywidgets in text"
      ],
      "text/html": [
       "<div style=\"display: flex;\">\n",
       "    <div style=\"flex:1; width: 30px;\">⚠️</div>\n",
       "    <div style=\"width: calc(100% - 30px);\">Widget to automatically detect theme background color was not loaded.</div>\n",
       "</div>\n"
      ],
      "application/vnd.jupyter.widget-view+json": {
       "version_major": 2,
       "version_minor": 0,
       "model_id": "3a59a6b9d80849d9a6a132421c3ae89a"
      }
     },
     "metadata": {},
     "output_type": "display_data",
     "jetTransient": {
      "display_id": null
     }
    },
    {
     "data": {
      "text/plain": [
       "Cannot show ipywidgets in text"
      ],
      "text/html": [
       "<div style=\"display: flex;\">\n",
       "    <div style=\"flex:1; width: 30px;\">⚠️</div>\n",
       "    <div style=\"width: calc(100% - 30px);\">Widget to automatically detect window size was not loaded.</div>\n",
       "</div>\n"
      ],
      "application/vnd.jupyter.widget-view+json": {
       "version_major": 2,
       "version_minor": 0,
       "model_id": "b6cddb2fbbbf4974aa75e4ce168813e2"
      }
     },
     "metadata": {},
     "output_type": "display_data",
     "jetTransient": {
      "display_id": null
     }
    },
    {
     "data": {
      "text/html": [
       "<noscript></noscript>"
      ]
     },
     "metadata": {},
     "output_type": "display_data",
     "jetTransient": {
      "display_id": null
     }
    }
   ],
   "execution_count": 1
  },
  {
   "cell_type": "code",
   "execution_count": 6,
   "id": "de269ced-d466-47ad-a56c-e550a17c5a46",
   "metadata": {
    "scrolled": true
   },
   "outputs": [
    {
     "data": {
      "application/vnd.jupyter.widget-view+json": {
       "model_id": "46e808db06694f14a361a62e345eb1a6",
       "version_major": 2,
       "version_minor": 0
      },
      "text/html": [
       "<div style=\"display: flex;\">\n",
       "    <div style=\"flex:1; width: 30px;\">⚠️</div>\n",
       "    <div style=\"width: calc(100% - 30px);\">Widget for reactive Omnipy output was not loaded. If you are running Jupyter in a web browser, you probably want to rerun the code cell above (<i>Click in the code cell, and press Shift+Enter <kbd>⇧</kbd>+<kbd>↩</kbd></i>).</div>\n",
       "</div>\n",
       "<pre><code style=\"font-family: 'Menlo', 'DejaVu Sans Mono', 'Consolas', 'Courier New', 'monospace'; font-size: 14px; font-weight: 400; line-height: 1.25; color: #599cab; \"><span style=\"color: #0a3749; text-decoration-color: #0a3749\">╭────┬────────────────┬────────────────────────────┬────────┬──────────────────╮</span>\n",
       "<span style=\"color: #0a3749; text-decoration-color: #0a3749\">│ </span><span style=\"color: #edb443; text-decoration-color: #edb443; font-style: italic\"># </span><span style=\"color: #0a3749; text-decoration-color: #0a3749\"> │ </span><span style=\"color: #edb443; text-decoration-color: #edb443; font-style: italic\">Data file name</span><span style=\"color: #0a3749; text-decoration-color: #0a3749\"> │ </span><span style=\"color: #edb443; text-decoration-color: #edb443; font-style: italic\">           Type           </span><span style=\"color: #0a3749; text-decoration-color: #0a3749\"> │ </span><span style=\"color: #edb443; text-decoration-color: #edb443; font-style: italic\">Length</span><span style=\"color: #0a3749; text-decoration-color: #0a3749\"> │ </span><span style=\"color: #edb443; text-decoration-color: #edb443; font-style: italic\">Size (in memory)</span><span style=\"color: #0a3749; text-decoration-color: #0a3749\"> │</span>\n",
       "<span style=\"color: #0a3749; text-decoration-color: #0a3749\">│ </span><span style=\"color: #edb443; text-decoration-color: #edb443; font-style: italic\">  </span><span style=\"color: #0a3749; text-decoration-color: #0a3749\"> │ </span><span style=\"color: #edb443; text-decoration-color: #edb443; font-style: italic\">              </span><span style=\"color: #0a3749; text-decoration-color: #0a3749\"> │ </span><span style=\"color: #edb443; text-decoration-color: #edb443; font-style: italic\">                          </span><span style=\"color: #0a3749; text-decoration-color: #0a3749\"> │ </span><span style=\"color: #edb443; text-decoration-color: #edb443; font-style: italic\">      </span><span style=\"color: #0a3749; text-decoration-color: #0a3749\"> │ </span><span style=\"color: #edb443; text-decoration-color: #edb443; font-style: italic\">                </span><span style=\"color: #0a3749; text-decoration-color: #0a3749\"> │</span>\n",
       "<span style=\"color: #0a3749; text-decoration-color: #0a3749\">│ </span><span style=\"color: #d26937; text-decoration-color: #d26937\">0</span><span style=\"color: #0a3749; text-decoration-color: #0a3749\">  │ </span><span style=\"color: #599cab; text-decoration-color: #599cab\">1901</span><span style=\"color: #0a3749; text-decoration-color: #0a3749\">           │ </span><span style=\"color: #599cab; text-decoration-color: #599cab\">Model[</span><span style=\"color: #2aa889; text-decoration-color: #2aa889\">list</span><span style=\"color: #599cab; text-decoration-color: #599cab\">[LaureateBasic]]</span><span style=\"color: #0a3749; text-decoration-color: #0a3749\"> │      </span><span style=\"color: #d26937; text-decoration-color: #d26937\">1</span><span style=\"color: #0a3749; text-decoration-color: #0a3749\"> │           </span><span style=\"color: #d26937; text-decoration-color: #d26937\">5.4</span><span style=\"color: #599cab; text-decoration-color: #599cab\"> kB</span><span style=\"color: #0a3749; text-decoration-color: #0a3749\"> │</span>\n",
       "<span style=\"color: #0a3749; text-decoration-color: #0a3749\">│ </span><span style=\"color: #d26937; text-decoration-color: #d26937\">1</span><span style=\"color: #0a3749; text-decoration-color: #0a3749\">  │ </span><span style=\"color: #599cab; text-decoration-color: #599cab\">1902</span><span style=\"color: #0a3749; text-decoration-color: #0a3749\">           │ </span><span style=\"color: #599cab; text-decoration-color: #599cab\">Model[</span><span style=\"color: #2aa889; text-decoration-color: #2aa889\">list</span><span style=\"color: #599cab; text-decoration-color: #599cab\">[LaureateBasic]]</span><span style=\"color: #0a3749; text-decoration-color: #0a3749\"> │      </span><span style=\"color: #d26937; text-decoration-color: #d26937\">1</span><span style=\"color: #0a3749; text-decoration-color: #0a3749\"> │           </span><span style=\"color: #d26937; text-decoration-color: #d26937\">5.3</span><span style=\"color: #599cab; text-decoration-color: #599cab\"> kB</span><span style=\"color: #0a3749; text-decoration-color: #0a3749\"> │</span>\n",
       "<span style=\"color: #0a3749; text-decoration-color: #0a3749\">│ </span><span style=\"color: #d26937; text-decoration-color: #d26937\">2</span><span style=\"color: #0a3749; text-decoration-color: #0a3749\">  │ </span><span style=\"color: #599cab; text-decoration-color: #599cab\">1903</span><span style=\"color: #0a3749; text-decoration-color: #0a3749\">           │ </span><span style=\"color: #599cab; text-decoration-color: #599cab\">Model[</span><span style=\"color: #2aa889; text-decoration-color: #2aa889\">list</span><span style=\"color: #599cab; text-decoration-color: #599cab\">[LaureateBasic]]</span><span style=\"color: #0a3749; text-decoration-color: #0a3749\"> │      </span><span style=\"color: #d26937; text-decoration-color: #d26937\">1</span><span style=\"color: #0a3749; text-decoration-color: #0a3749\"> │           </span><span style=\"color: #d26937; text-decoration-color: #d26937\">5.4</span><span style=\"color: #599cab; text-decoration-color: #599cab\"> kB</span><span style=\"color: #0a3749; text-decoration-color: #0a3749\"> │</span>\n",
       "<span style=\"color: #0a3749; text-decoration-color: #0a3749\">│ </span><span style=\"color: #d26937; text-decoration-color: #d26937\">3</span><span style=\"color: #0a3749; text-decoration-color: #0a3749\">  │ </span><span style=\"color: #599cab; text-decoration-color: #599cab\">1904</span><span style=\"color: #0a3749; text-decoration-color: #0a3749\">           │ </span><span style=\"color: #599cab; text-decoration-color: #599cab\">Model[</span><span style=\"color: #2aa889; text-decoration-color: #2aa889\">list</span><span style=\"color: #599cab; text-decoration-color: #599cab\">[LaureateBasic]]</span><span style=\"color: #0a3749; text-decoration-color: #0a3749\"> │      </span><span style=\"color: #d26937; text-decoration-color: #d26937\">2</span><span style=\"color: #0a3749; text-decoration-color: #0a3749\"> │           </span><span style=\"color: #d26937; text-decoration-color: #d26937\">9.4</span><span style=\"color: #599cab; text-decoration-color: #599cab\"> kB</span><span style=\"color: #0a3749; text-decoration-color: #0a3749\"> │</span>\n",
       "<span style=\"color: #0a3749; text-decoration-color: #0a3749\">│ </span><span style=\"color: #d26937; text-decoration-color: #d26937\">4</span><span style=\"color: #0a3749; text-decoration-color: #0a3749\">  │ </span><span style=\"color: #599cab; text-decoration-color: #599cab\">1905</span><span style=\"color: #0a3749; text-decoration-color: #0a3749\">           │ </span><span style=\"color: #599cab; text-decoration-color: #599cab\">Model[</span><span style=\"color: #2aa889; text-decoration-color: #2aa889\">list</span><span style=\"color: #599cab; text-decoration-color: #599cab\">[LaureateBasic]]</span><span style=\"color: #0a3749; text-decoration-color: #0a3749\"> │      </span><span style=\"color: #d26937; text-decoration-color: #d26937\">1</span><span style=\"color: #0a3749; text-decoration-color: #0a3749\"> │           </span><span style=\"color: #d26937; text-decoration-color: #d26937\">5.1</span><span style=\"color: #599cab; text-decoration-color: #599cab\"> kB</span><span style=\"color: #0a3749; text-decoration-color: #0a3749\"> │</span>\n",
       "<span style=\"color: #0a3749; text-decoration-color: #0a3749\">│ </span><span style=\"color: #d26937; text-decoration-color: #d26937\">5</span><span style=\"color: #0a3749; text-decoration-color: #0a3749\">  │ </span><span style=\"color: #599cab; text-decoration-color: #599cab\">1906</span><span style=\"color: #0a3749; text-decoration-color: #0a3749\">           │ </span><span style=\"color: #599cab; text-decoration-color: #599cab\">Model[</span><span style=\"color: #2aa889; text-decoration-color: #2aa889\">list</span><span style=\"color: #599cab; text-decoration-color: #599cab\">[LaureateBasic]]</span><span style=\"color: #0a3749; text-decoration-color: #0a3749\"> │      </span><span style=\"color: #d26937; text-decoration-color: #d26937\">1</span><span style=\"color: #0a3749; text-decoration-color: #0a3749\"> │           </span><span style=\"color: #d26937; text-decoration-color: #d26937\">5.4</span><span style=\"color: #599cab; text-decoration-color: #599cab\"> kB</span><span style=\"color: #0a3749; text-decoration-color: #0a3749\"> │</span>\n",
       "<span style=\"color: #0a3749; text-decoration-color: #0a3749\">│ </span><span style=\"color: #d26937; text-decoration-color: #d26937\">6</span><span style=\"color: #0a3749; text-decoration-color: #0a3749\">  │ </span><span style=\"color: #599cab; text-decoration-color: #599cab\">1907</span><span style=\"color: #0a3749; text-decoration-color: #0a3749\">           │ </span><span style=\"color: #599cab; text-decoration-color: #599cab\">Model[</span><span style=\"color: #2aa889; text-decoration-color: #2aa889\">list</span><span style=\"color: #599cab; text-decoration-color: #599cab\">[LaureateBasic]]</span><span style=\"color: #0a3749; text-decoration-color: #0a3749\"> │      </span><span style=\"color: #d26937; text-decoration-color: #d26937\">1</span><span style=\"color: #0a3749; text-decoration-color: #0a3749\"> │           </span><span style=\"color: #d26937; text-decoration-color: #d26937\">5.4</span><span style=\"color: #599cab; text-decoration-color: #599cab\"> kB</span><span style=\"color: #0a3749; text-decoration-color: #0a3749\"> │</span>\n",
       "<span style=\"color: #0a3749; text-decoration-color: #0a3749\">│ </span><span style=\"color: #d26937; text-decoration-color: #d26937\">7</span><span style=\"color: #0a3749; text-decoration-color: #0a3749\">  │ </span><span style=\"color: #599cab; text-decoration-color: #599cab\">1908</span><span style=\"color: #0a3749; text-decoration-color: #0a3749\">           │ </span><span style=\"color: #599cab; text-decoration-color: #599cab\">Model[</span><span style=\"color: #2aa889; text-decoration-color: #2aa889\">list</span><span style=\"color: #599cab; text-decoration-color: #599cab\">[LaureateBasic]]</span><span style=\"color: #0a3749; text-decoration-color: #0a3749\"> │      </span><span style=\"color: #d26937; text-decoration-color: #d26937\">1</span><span style=\"color: #0a3749; text-decoration-color: #0a3749\"> │           </span><span style=\"color: #d26937; text-decoration-color: #d26937\">5.5</span><span style=\"color: #599cab; text-decoration-color: #599cab\"> kB</span><span style=\"color: #0a3749; text-decoration-color: #0a3749\"> │</span>\n",
       "<span style=\"color: #0a3749; text-decoration-color: #0a3749\">│ </span><span style=\"color: #d26937; text-decoration-color: #d26937\">8</span><span style=\"color: #0a3749; text-decoration-color: #0a3749\">  │ </span><span style=\"color: #599cab; text-decoration-color: #599cab\">1909</span><span style=\"color: #0a3749; text-decoration-color: #0a3749\">           │ </span><span style=\"color: #599cab; text-decoration-color: #599cab\">Model[</span><span style=\"color: #2aa889; text-decoration-color: #2aa889\">list</span><span style=\"color: #599cab; text-decoration-color: #599cab\">[LaureateBasic]]</span><span style=\"color: #0a3749; text-decoration-color: #0a3749\"> │      </span><span style=\"color: #d26937; text-decoration-color: #d26937\">1</span><span style=\"color: #0a3749; text-decoration-color: #0a3749\"> │           </span><span style=\"color: #d26937; text-decoration-color: #d26937\">5.3</span><span style=\"color: #599cab; text-decoration-color: #599cab\"> kB</span><span style=\"color: #0a3749; text-decoration-color: #0a3749\"> │</span>\n",
       "<span style=\"color: #0a3749; text-decoration-color: #0a3749\">│ </span><span style=\"color: #d26937; text-decoration-color: #d26937\">9</span><span style=\"color: #0a3749; text-decoration-color: #0a3749\">  │ </span><span style=\"color: #599cab; text-decoration-color: #599cab\">1910</span><span style=\"color: #0a3749; text-decoration-color: #0a3749\">           │ </span><span style=\"color: #599cab; text-decoration-color: #599cab\">Model[</span><span style=\"color: #2aa889; text-decoration-color: #2aa889\">list</span><span style=\"color: #599cab; text-decoration-color: #599cab\">[LaureateBasic]]</span><span style=\"color: #0a3749; text-decoration-color: #0a3749\"> │      </span><span style=\"color: #d26937; text-decoration-color: #d26937\">1</span><span style=\"color: #0a3749; text-decoration-color: #0a3749\"> │           </span><span style=\"color: #d26937; text-decoration-color: #d26937\">5.4</span><span style=\"color: #599cab; text-decoration-color: #599cab\"> kB</span><span style=\"color: #0a3749; text-decoration-color: #0a3749\"> │</span>\n",
       "<span style=\"color: #0a3749; text-decoration-color: #0a3749\">│ </span><span style=\"color: #d26937; text-decoration-color: #d26937\">10</span><span style=\"color: #0a3749; text-decoration-color: #0a3749\"> │ </span><span style=\"color: #599cab; text-decoration-color: #599cab\">1911</span><span style=\"color: #0a3749; text-decoration-color: #0a3749\">           │ </span><span style=\"color: #599cab; text-decoration-color: #599cab\">Model[</span><span style=\"color: #2aa889; text-decoration-color: #2aa889\">list</span><span style=\"color: #599cab; text-decoration-color: #599cab\">[LaureateBasic]]</span><span style=\"color: #0a3749; text-decoration-color: #0a3749\"> │      </span><span style=\"color: #d26937; text-decoration-color: #d26937\">1</span><span style=\"color: #0a3749; text-decoration-color: #0a3749\"> │           </span><span style=\"color: #d26937; text-decoration-color: #d26937\">5.6</span><span style=\"color: #599cab; text-decoration-color: #599cab\"> kB</span><span style=\"color: #0a3749; text-decoration-color: #0a3749\"> │</span>\n",
       "<span style=\"color: #0a3749; text-decoration-color: #0a3749\">│ </span><span style=\"color: #d26937; text-decoration-color: #d26937\">11</span><span style=\"color: #0a3749; text-decoration-color: #0a3749\"> │ </span><span style=\"color: #599cab; text-decoration-color: #599cab\">1912</span><span style=\"color: #0a3749; text-decoration-color: #0a3749\">           │ </span><span style=\"color: #599cab; text-decoration-color: #599cab\">Model[</span><span style=\"color: #2aa889; text-decoration-color: #2aa889\">list</span><span style=\"color: #599cab; text-decoration-color: #599cab\">[LaureateBasic]]</span><span style=\"color: #0a3749; text-decoration-color: #0a3749\"> │      </span><span style=\"color: #d26937; text-decoration-color: #d26937\">1</span><span style=\"color: #0a3749; text-decoration-color: #0a3749\"> │           </span><span style=\"color: #d26937; text-decoration-color: #d26937\">5.2</span><span style=\"color: #599cab; text-decoration-color: #599cab\"> kB</span><span style=\"color: #0a3749; text-decoration-color: #0a3749\"> │</span>\n",
       "<span style=\"color: #0a3749; text-decoration-color: #0a3749\">│ </span><span style=\"color: #d26937; text-decoration-color: #d26937\">12</span><span style=\"color: #0a3749; text-decoration-color: #0a3749\"> │ </span><span style=\"color: #599cab; text-decoration-color: #599cab\">1913</span><span style=\"color: #0a3749; text-decoration-color: #0a3749\">           │ </span><span style=\"color: #599cab; text-decoration-color: #599cab\">Model[</span><span style=\"color: #2aa889; text-decoration-color: #2aa889\">list</span><span style=\"color: #599cab; text-decoration-color: #599cab\">[LaureateBasic]]</span><span style=\"color: #0a3749; text-decoration-color: #0a3749\"> │      </span><span style=\"color: #d26937; text-decoration-color: #d26937\">1</span><span style=\"color: #0a3749; text-decoration-color: #0a3749\"> │           </span><span style=\"color: #d26937; text-decoration-color: #d26937\">5.4</span><span style=\"color: #599cab; text-decoration-color: #599cab\"> kB</span><span style=\"color: #0a3749; text-decoration-color: #0a3749\"> │</span>\n",
       "<span style=\"color: #0a3749; text-decoration-color: #0a3749\">│ </span><span style=\"color: #d26937; text-decoration-color: #d26937\">13</span><span style=\"color: #0a3749; text-decoration-color: #0a3749\"> │ </span><span style=\"color: #599cab; text-decoration-color: #599cab\">1915</span><span style=\"color: #0a3749; text-decoration-color: #0a3749\">           │ </span><span style=\"color: #599cab; text-decoration-color: #599cab\">Model[</span><span style=\"color: #2aa889; text-decoration-color: #2aa889\">list</span><span style=\"color: #599cab; text-decoration-color: #599cab\">[LaureateBasic]]</span><span style=\"color: #0a3749; text-decoration-color: #0a3749\"> │      </span><span style=\"color: #d26937; text-decoration-color: #d26937\">1</span><span style=\"color: #0a3749; text-decoration-color: #0a3749\"> │           </span><span style=\"color: #d26937; text-decoration-color: #d26937\">5.3</span><span style=\"color: #599cab; text-decoration-color: #599cab\"> kB</span><span style=\"color: #0a3749; text-decoration-color: #0a3749\"> │</span>\n",
       "<span style=\"color: #0a3749; text-decoration-color: #0a3749\">│ </span><span style=\"color: #d26937; text-decoration-color: #d26937\">14</span><span style=\"color: #0a3749; text-decoration-color: #0a3749\"> │ </span><span style=\"color: #599cab; text-decoration-color: #599cab\">1916</span><span style=\"color: #0a3749; text-decoration-color: #0a3749\">           │ </span><span style=\"color: #599cab; text-decoration-color: #599cab\">Model[</span><span style=\"color: #2aa889; text-decoration-color: #2aa889\">list</span><span style=\"color: #599cab; text-decoration-color: #599cab\">[LaureateBasic]]</span><span style=\"color: #0a3749; text-decoration-color: #0a3749\"> │      </span><span style=\"color: #d26937; text-decoration-color: #d26937\">1</span><span style=\"color: #0a3749; text-decoration-color: #0a3749\"> │           </span><span style=\"color: #d26937; text-decoration-color: #d26937\">5.2</span><span style=\"color: #599cab; text-decoration-color: #599cab\"> kB</span><span style=\"color: #0a3749; text-decoration-color: #0a3749\"> │</span>\n",
       "<span style=\"color: #0a3749; text-decoration-color: #0a3749\">│ </span><span style=\"color: #d26937; text-decoration-color: #d26937\">15</span><span style=\"color: #0a3749; text-decoration-color: #0a3749\"> │ </span><span style=\"color: #599cab; text-decoration-color: #599cab\">1917</span><span style=\"color: #0a3749; text-decoration-color: #0a3749\">           │ </span><span style=\"color: #599cab; text-decoration-color: #599cab\">Model[</span><span style=\"color: #2aa889; text-decoration-color: #2aa889\">list</span><span style=\"color: #599cab; text-decoration-color: #599cab\">[LaureateBasic]]</span><span style=\"color: #0a3749; text-decoration-color: #0a3749\"> │      </span><span style=\"color: #d26937; text-decoration-color: #d26937\">2</span><span style=\"color: #0a3749; text-decoration-color: #0a3749\"> │           </span><span style=\"color: #d26937; text-decoration-color: #d26937\">8.8</span><span style=\"color: #599cab; text-decoration-color: #599cab\"> kB</span><span style=\"color: #0a3749; text-decoration-color: #0a3749\"> │</span>\n",
       "<span style=\"color: #0a3749; text-decoration-color: #0a3749\">│ </span><span style=\"color: #d26937; text-decoration-color: #d26937\">16</span><span style=\"color: #0a3749; text-decoration-color: #0a3749\"> │ </span><span style=\"color: #599cab; text-decoration-color: #599cab\">1919</span><span style=\"color: #0a3749; text-decoration-color: #0a3749\">           │ </span><span style=\"color: #599cab; text-decoration-color: #599cab\">Model[</span><span style=\"color: #2aa889; text-decoration-color: #2aa889\">list</span><span style=\"color: #599cab; text-decoration-color: #599cab\">[LaureateBasic]]</span><span style=\"color: #0a3749; text-decoration-color: #0a3749\"> │      </span><span style=\"color: #d26937; text-decoration-color: #d26937\">1</span><span style=\"color: #0a3749; text-decoration-color: #0a3749\"> │           </span><span style=\"color: #d26937; text-decoration-color: #d26937\">5.1</span><span style=\"color: #599cab; text-decoration-color: #599cab\"> kB</span><span style=\"color: #0a3749; text-decoration-color: #0a3749\"> │</span>\n",
       "<span style=\"color: #0a3749; text-decoration-color: #0a3749\">│ </span><span style=\"color: #d26937; text-decoration-color: #d26937\">17</span><span style=\"color: #0a3749; text-decoration-color: #0a3749\"> │ </span><span style=\"color: #599cab; text-decoration-color: #599cab\">1920</span><span style=\"color: #0a3749; text-decoration-color: #0a3749\">           │ </span><span style=\"color: #599cab; text-decoration-color: #599cab\">Model[</span><span style=\"color: #2aa889; text-decoration-color: #2aa889\">list</span><span style=\"color: #599cab; text-decoration-color: #599cab\">[LaureateBasic]]</span><span style=\"color: #0a3749; text-decoration-color: #0a3749\"> │      </span><span style=\"color: #d26937; text-decoration-color: #d26937\">1</span><span style=\"color: #0a3749; text-decoration-color: #0a3749\"> │           </span><span style=\"color: #d26937; text-decoration-color: #d26937\">5.1</span><span style=\"color: #599cab; text-decoration-color: #599cab\"> kB</span><span style=\"color: #0a3749; text-decoration-color: #0a3749\"> │</span>\n",
       "<span style=\"color: #0a3749; text-decoration-color: #0a3749\">│ </span><span style=\"color: #d26937; text-decoration-color: #d26937\">18</span><span style=\"color: #0a3749; text-decoration-color: #0a3749\"> │ </span><span style=\"color: #599cab; text-decoration-color: #599cab\">1921</span><span style=\"color: #0a3749; text-decoration-color: #0a3749\">           │ </span><span style=\"color: #599cab; text-decoration-color: #599cab\">Model[</span><span style=\"color: #2aa889; text-decoration-color: #2aa889\">list</span><span style=\"color: #599cab; text-decoration-color: #599cab\">[LaureateBasic]]</span><span style=\"color: #0a3749; text-decoration-color: #0a3749\"> │      </span><span style=\"color: #d26937; text-decoration-color: #d26937\">1</span><span style=\"color: #0a3749; text-decoration-color: #0a3749\"> │           </span><span style=\"color: #d26937; text-decoration-color: #d26937\">5.3</span><span style=\"color: #599cab; text-decoration-color: #599cab\"> kB</span><span style=\"color: #0a3749; text-decoration-color: #0a3749\"> │</span>\n",
       "<span style=\"color: #0a3749; text-decoration-color: #0a3749\">│ </span><span style=\"color: #d26937; text-decoration-color: #d26937\">19</span><span style=\"color: #0a3749; text-decoration-color: #0a3749\"> │ </span><span style=\"color: #599cab; text-decoration-color: #599cab\">1922</span><span style=\"color: #0a3749; text-decoration-color: #0a3749\">           │ </span><span style=\"color: #599cab; text-decoration-color: #599cab\">Model[</span><span style=\"color: #2aa889; text-decoration-color: #2aa889\">list</span><span style=\"color: #599cab; text-decoration-color: #599cab\">[LaureateBasic]]</span><span style=\"color: #0a3749; text-decoration-color: #0a3749\"> │      </span><span style=\"color: #d26937; text-decoration-color: #d26937\">1</span><span style=\"color: #0a3749; text-decoration-color: #0a3749\"> │           </span><span style=\"color: #d26937; text-decoration-color: #d26937\">5.2</span><span style=\"color: #599cab; text-decoration-color: #599cab\"> kB</span><span style=\"color: #0a3749; text-decoration-color: #0a3749\"> │</span>\n",
       "<span style=\"color: #0a3749; text-decoration-color: #0a3749\">│ </span><span style=\"color: #d26937; text-decoration-color: #d26937\">20</span><span style=\"color: #0a3749; text-decoration-color: #0a3749\"> │ </span><span style=\"color: #599cab; text-decoration-color: #599cab\">1923</span><span style=\"color: #0a3749; text-decoration-color: #0a3749\">           │ </span><span style=\"color: #599cab; text-decoration-color: #599cab\">Model[</span><span style=\"color: #2aa889; text-decoration-color: #2aa889\">list</span><span style=\"color: #599cab; text-decoration-color: #599cab\">[LaureateBasic]]</span><span style=\"color: #0a3749; text-decoration-color: #0a3749\"> │      </span><span style=\"color: #d26937; text-decoration-color: #d26937\">1</span><span style=\"color: #0a3749; text-decoration-color: #0a3749\"> │           </span><span style=\"color: #d26937; text-decoration-color: #d26937\">5.2</span><span style=\"color: #599cab; text-decoration-color: #599cab\"> kB</span><span style=\"color: #0a3749; text-decoration-color: #0a3749\"> │</span>\n",
       "<span style=\"color: #0a3749; text-decoration-color: #0a3749\">│ </span><span style=\"color: #d26937; text-decoration-color: #d26937\">21</span><span style=\"color: #0a3749; text-decoration-color: #0a3749\"> │ </span><span style=\"color: #599cab; text-decoration-color: #599cab\">1924</span><span style=\"color: #0a3749; text-decoration-color: #0a3749\">           │ </span><span style=\"color: #599cab; text-decoration-color: #599cab\">Model[</span><span style=\"color: #2aa889; text-decoration-color: #2aa889\">list</span><span style=\"color: #599cab; text-decoration-color: #599cab\">[LaureateBasic]]</span><span style=\"color: #0a3749; text-decoration-color: #0a3749\"> │      </span><span style=\"color: #d26937; text-decoration-color: #d26937\">1</span><span style=\"color: #0a3749; text-decoration-color: #0a3749\"> │           </span><span style=\"color: #d26937; text-decoration-color: #d26937\">5.1</span><span style=\"color: #599cab; text-decoration-color: #599cab\"> kB</span><span style=\"color: #0a3749; text-decoration-color: #0a3749\"> │</span>\n",
       "<span style=\"color: #0a3749; text-decoration-color: #0a3749\">│ </span><span style=\"color: #d26937; text-decoration-color: #d26937\">22</span><span style=\"color: #0a3749; text-decoration-color: #0a3749\"> │ </span><span style=\"color: #599cab; text-decoration-color: #599cab\">1925</span><span style=\"color: #0a3749; text-decoration-color: #0a3749\">           │ </span><span style=\"color: #599cab; text-decoration-color: #599cab\">Model[</span><span style=\"color: #2aa889; text-decoration-color: #2aa889\">list</span><span style=\"color: #599cab; text-decoration-color: #599cab\">[LaureateBasic]]</span><span style=\"color: #0a3749; text-decoration-color: #0a3749\"> │      </span><span style=\"color: #d26937; text-decoration-color: #d26937\">1</span><span style=\"color: #0a3749; text-decoration-color: #0a3749\"> │           </span><span style=\"color: #d26937; text-decoration-color: #d26937\">5.3</span><span style=\"color: #599cab; text-decoration-color: #599cab\"> kB</span><span style=\"color: #0a3749; text-decoration-color: #0a3749\"> │</span>\n",
       "<span style=\"color: #0a3749; text-decoration-color: #0a3749\">│ </span><span style=\"color: #d26937; text-decoration-color: #d26937\">23</span><span style=\"color: #0a3749; text-decoration-color: #0a3749\"> │ </span><span style=\"color: #599cab; text-decoration-color: #599cab\">1926</span><span style=\"color: #0a3749; text-decoration-color: #0a3749\">           │ </span><span style=\"color: #599cab; text-decoration-color: #599cab\">Model[</span><span style=\"color: #2aa889; text-decoration-color: #2aa889\">list</span><span style=\"color: #599cab; text-decoration-color: #599cab\">[LaureateBasic]]</span><span style=\"color: #0a3749; text-decoration-color: #0a3749\"> │      </span><span style=\"color: #d26937; text-decoration-color: #d26937\">1</span><span style=\"color: #0a3749; text-decoration-color: #0a3749\"> │           </span><span style=\"color: #d26937; text-decoration-color: #d26937\">5.3</span><span style=\"color: #599cab; text-decoration-color: #599cab\"> kB</span><span style=\"color: #0a3749; text-decoration-color: #0a3749\"> │</span>\n",
       "<span style=\"color: #0a3749; text-decoration-color: #0a3749\">│ </span><span style=\"color: #d26937; text-decoration-color: #d26937\">24</span><span style=\"color: #0a3749; text-decoration-color: #0a3749\"> │ </span><span style=\"color: #599cab; text-decoration-color: #599cab\">1927</span><span style=\"color: #0a3749; text-decoration-color: #0a3749\">           │ </span><span style=\"color: #599cab; text-decoration-color: #599cab\">Model[</span><span style=\"color: #2aa889; text-decoration-color: #2aa889\">list</span><span style=\"color: #599cab; text-decoration-color: #599cab\">[LaureateBasic]]</span><span style=\"color: #0a3749; text-decoration-color: #0a3749\"> │      </span><span style=\"color: #d26937; text-decoration-color: #d26937\">1</span><span style=\"color: #0a3749; text-decoration-color: #0a3749\"> │           </span><span style=\"color: #d26937; text-decoration-color: #d26937\">5.2</span><span style=\"color: #599cab; text-decoration-color: #599cab\"> kB</span><span style=\"color: #0a3749; text-decoration-color: #0a3749\"> │</span>\n",
       "<span style=\"color: #0a3749; text-decoration-color: #0a3749\">│ </span><span style=\"color: #d26937; text-decoration-color: #d26937\">25</span><span style=\"color: #0a3749; text-decoration-color: #0a3749\"> │ </span><span style=\"color: #599cab; text-decoration-color: #599cab\">1928</span><span style=\"color: #0a3749; text-decoration-color: #0a3749\">           │ </span><span style=\"color: #599cab; text-decoration-color: #599cab\">Model[</span><span style=\"color: #2aa889; text-decoration-color: #2aa889\">list</span><span style=\"color: #599cab; text-decoration-color: #599cab\">[LaureateBasic]]</span><span style=\"color: #0a3749; text-decoration-color: #0a3749\"> │      </span><span style=\"color: #d26937; text-decoration-color: #d26937\">1</span><span style=\"color: #0a3749; text-decoration-color: #0a3749\"> │           </span><span style=\"color: #d26937; text-decoration-color: #d26937\">5.2</span><span style=\"color: #599cab; text-decoration-color: #599cab\"> kB</span><span style=\"color: #0a3749; text-decoration-color: #0a3749\"> │</span>\n",
       "<span style=\"color: #0a3749; text-decoration-color: #0a3749\">│ </span><span style=\"color: #d26937; text-decoration-color: #d26937\">26</span><span style=\"color: #0a3749; text-decoration-color: #0a3749\"> │ </span><span style=\"color: #599cab; text-decoration-color: #599cab\">1929</span><span style=\"color: #0a3749; text-decoration-color: #0a3749\">           │ </span><span style=\"color: #599cab; text-decoration-color: #599cab\">Model[</span><span style=\"color: #2aa889; text-decoration-color: #2aa889\">list</span><span style=\"color: #599cab; text-decoration-color: #599cab\">[LaureateBasic]]</span><span style=\"color: #0a3749; text-decoration-color: #0a3749\"> │      </span><span style=\"color: #d26937; text-decoration-color: #d26937\">1</span><span style=\"color: #0a3749; text-decoration-color: #0a3749\"> │           </span><span style=\"color: #d26937; text-decoration-color: #d26937\">5.3</span><span style=\"color: #599cab; text-decoration-color: #599cab\"> kB</span><span style=\"color: #0a3749; text-decoration-color: #0a3749\"> │</span>\n",
       "<span style=\"color: #0a3749; text-decoration-color: #0a3749\">│ </span><span style=\"color: #d26937; text-decoration-color: #d26937\">27</span><span style=\"color: #0a3749; text-decoration-color: #0a3749\"> │ </span><span style=\"color: #599cab; text-decoration-color: #599cab\">1930</span><span style=\"color: #0a3749; text-decoration-color: #0a3749\">           │ </span><span style=\"color: #599cab; text-decoration-color: #599cab\">Model[</span><span style=\"color: #2aa889; text-decoration-color: #2aa889\">list</span><span style=\"color: #599cab; text-decoration-color: #599cab\">[LaureateBasic]]</span><span style=\"color: #0a3749; text-decoration-color: #0a3749\"> │      </span><span style=\"color: #d26937; text-decoration-color: #d26937\">1</span><span style=\"color: #0a3749; text-decoration-color: #0a3749\"> │           </span><span style=\"color: #d26937; text-decoration-color: #d26937\">5.2</span><span style=\"color: #599cab; text-decoration-color: #599cab\"> kB</span><span style=\"color: #0a3749; text-decoration-color: #0a3749\"> │</span>\n",
       "<span style=\"color: #0a3749; text-decoration-color: #0a3749\">│ </span><span style=\"color: #d26937; text-decoration-color: #d26937\">28</span><span style=\"color: #0a3749; text-decoration-color: #0a3749\"> │ </span><span style=\"color: #599cab; text-decoration-color: #599cab\">1931</span><span style=\"color: #0a3749; text-decoration-color: #0a3749\">           │ </span><span style=\"color: #599cab; text-decoration-color: #599cab\">Model[</span><span style=\"color: #2aa889; text-decoration-color: #2aa889\">list</span><span style=\"color: #599cab; text-decoration-color: #599cab\">[LaureateBasic]]</span><span style=\"color: #0a3749; text-decoration-color: #0a3749\"> │      </span><span style=\"color: #d26937; text-decoration-color: #d26937\">1</span><span style=\"color: #0a3749; text-decoration-color: #0a3749\"> │           </span><span style=\"color: #d26937; text-decoration-color: #d26937\">5.1</span><span style=\"color: #599cab; text-decoration-color: #599cab\"> kB</span><span style=\"color: #0a3749; text-decoration-color: #0a3749\"> │</span>\n",
       "<span style=\"color: #0a3749; text-decoration-color: #0a3749\">│ </span><span style=\"color: #d26937; text-decoration-color: #d26937\">29</span><span style=\"color: #0a3749; text-decoration-color: #0a3749\"> │ </span><span style=\"color: #599cab; text-decoration-color: #599cab\">1932</span><span style=\"color: #0a3749; text-decoration-color: #0a3749\">           │ </span><span style=\"color: #599cab; text-decoration-color: #599cab\">Model[</span><span style=\"color: #2aa889; text-decoration-color: #2aa889\">list</span><span style=\"color: #599cab; text-decoration-color: #599cab\">[LaureateBasic]]</span><span style=\"color: #0a3749; text-decoration-color: #0a3749\"> │      </span><span style=\"color: #d26937; text-decoration-color: #d26937\">1</span><span style=\"color: #0a3749; text-decoration-color: #0a3749\"> │           </span><span style=\"color: #d26937; text-decoration-color: #d26937\">5.2</span><span style=\"color: #599cab; text-decoration-color: #599cab\"> kB</span><span style=\"color: #0a3749; text-decoration-color: #0a3749\"> │</span>\n",
       "<span style=\"color: #0a3749; text-decoration-color: #0a3749\">│ </span><span style=\"color: #d26937; text-decoration-color: #d26937\">30</span><span style=\"color: #0a3749; text-decoration-color: #0a3749\"> │ </span><span style=\"color: #599cab; text-decoration-color: #599cab\">1933</span><span style=\"color: #0a3749; text-decoration-color: #0a3749\">           │ </span><span style=\"color: #599cab; text-decoration-color: #599cab\">Model[</span><span style=\"color: #2aa889; text-decoration-color: #2aa889\">list</span><span style=\"color: #599cab; text-decoration-color: #599cab\">[LaureateBasic]]</span><span style=\"color: #0a3749; text-decoration-color: #0a3749\"> │      </span><span style=\"color: #d26937; text-decoration-color: #d26937\">1</span><span style=\"color: #0a3749; text-decoration-color: #0a3749\"> │           </span><span style=\"color: #d26937; text-decoration-color: #d26937\">5.2</span><span style=\"color: #599cab; text-decoration-color: #599cab\"> kB</span><span style=\"color: #0a3749; text-decoration-color: #0a3749\"> │</span>\n",
       "<span style=\"color: #0a3749; text-decoration-color: #0a3749\">│ </span><span style=\"color: #d26937; text-decoration-color: #d26937\">31</span><span style=\"color: #0a3749; text-decoration-color: #0a3749\"> │ </span><span style=\"color: #599cab; text-decoration-color: #599cab\">1934</span><span style=\"color: #0a3749; text-decoration-color: #0a3749\">           │ </span><span style=\"color: #599cab; text-decoration-color: #599cab\">Model[</span><span style=\"color: #2aa889; text-decoration-color: #2aa889\">list</span><span style=\"color: #599cab; text-decoration-color: #599cab\">[LaureateBasic]]</span><span style=\"color: #0a3749; text-decoration-color: #0a3749\"> │      </span><span style=\"color: #d26937; text-decoration-color: #d26937\">1</span><span style=\"color: #0a3749; text-decoration-color: #0a3749\"> │           </span><span style=\"color: #d26937; text-decoration-color: #d26937\">5.1</span><span style=\"color: #599cab; text-decoration-color: #599cab\"> kB</span><span style=\"color: #0a3749; text-decoration-color: #0a3749\"> │</span>\n",
       "<span style=\"color: #0a3749; text-decoration-color: #0a3749\">│ </span><span style=\"color: #d26937; text-decoration-color: #d26937\">32</span><span style=\"color: #0a3749; text-decoration-color: #0a3749\"> │ </span><span style=\"color: #599cab; text-decoration-color: #599cab\">1936</span><span style=\"color: #0a3749; text-decoration-color: #0a3749\">           │ </span><span style=\"color: #599cab; text-decoration-color: #599cab\">Model[</span><span style=\"color: #2aa889; text-decoration-color: #2aa889\">list</span><span style=\"color: #599cab; text-decoration-color: #599cab\">[LaureateBasic]]</span><span style=\"color: #0a3749; text-decoration-color: #0a3749\"> │      </span><span style=\"color: #d26937; text-decoration-color: #d26937\">1</span><span style=\"color: #0a3749; text-decoration-color: #0a3749\"> │           </span><span style=\"color: #d26937; text-decoration-color: #d26937\">5.2</span><span style=\"color: #599cab; text-decoration-color: #599cab\"> kB</span><span style=\"color: #0a3749; text-decoration-color: #0a3749\"> │</span>\n",
       "<span style=\"color: #0a3749; text-decoration-color: #0a3749\">│ </span><span style=\"color: #d26937; text-decoration-color: #d26937\">33</span><span style=\"color: #0a3749; text-decoration-color: #0a3749\"> │ </span><span style=\"color: #599cab; text-decoration-color: #599cab\">1937</span><span style=\"color: #0a3749; text-decoration-color: #0a3749\">           │ </span><span style=\"color: #599cab; text-decoration-color: #599cab\">Model[</span><span style=\"color: #2aa889; text-decoration-color: #2aa889\">list</span><span style=\"color: #599cab; text-decoration-color: #599cab\">[LaureateBasic]]</span><span style=\"color: #0a3749; text-decoration-color: #0a3749\"> │      </span><span style=\"color: #d26937; text-decoration-color: #d26937\">1</span><span style=\"color: #0a3749; text-decoration-color: #0a3749\"> │           </span><span style=\"color: #d26937; text-decoration-color: #d26937\">5.3</span><span style=\"color: #599cab; text-decoration-color: #599cab\"> kB</span><span style=\"color: #0a3749; text-decoration-color: #0a3749\"> │</span>\n",
       "<span style=\"color: #0a3749; text-decoration-color: #0a3749\">│ </span><span style=\"color: #d26937; text-decoration-color: #d26937\">34</span><span style=\"color: #0a3749; text-decoration-color: #0a3749\"> │ </span><span style=\"color: #599cab; text-decoration-color: #599cab\">1938</span><span style=\"color: #0a3749; text-decoration-color: #0a3749\">           │ </span><span style=\"color: #599cab; text-decoration-color: #599cab\">Model[</span><span style=\"color: #2aa889; text-decoration-color: #2aa889\">list</span><span style=\"color: #599cab; text-decoration-color: #599cab\">[LaureateBasic]]</span><span style=\"color: #0a3749; text-decoration-color: #0a3749\"> │      </span><span style=\"color: #d26937; text-decoration-color: #d26937\">1</span><span style=\"color: #0a3749; text-decoration-color: #0a3749\"> │           </span><span style=\"color: #d26937; text-decoration-color: #d26937\">5.2</span><span style=\"color: #599cab; text-decoration-color: #599cab\"> kB</span><span style=\"color: #0a3749; text-decoration-color: #0a3749\"> │</span>\n",
       "<span style=\"color: #0a3749; text-decoration-color: #0a3749\">│ </span><span style=\"color: #d26937; text-decoration-color: #d26937\">35</span><span style=\"color: #0a3749; text-decoration-color: #0a3749\"> │ </span><span style=\"color: #599cab; text-decoration-color: #599cab\">1939</span><span style=\"color: #0a3749; text-decoration-color: #0a3749\">           │ </span><span style=\"color: #599cab; text-decoration-color: #599cab\">Model[</span><span style=\"color: #2aa889; text-decoration-color: #2aa889\">list</span><span style=\"color: #599cab; text-decoration-color: #599cab\">[LaureateBasic]]</span><span style=\"color: #0a3749; text-decoration-color: #0a3749\"> │      </span><span style=\"color: #d26937; text-decoration-color: #d26937\">1</span><span style=\"color: #0a3749; text-decoration-color: #0a3749\"> │           </span><span style=\"color: #d26937; text-decoration-color: #d26937\">5.3</span><span style=\"color: #599cab; text-decoration-color: #599cab\"> kB</span><span style=\"color: #0a3749; text-decoration-color: #0a3749\"> │</span>\n",
       "<span style=\"color: #0a3749; text-decoration-color: #0a3749\">│ </span><span style=\"color: #d26937; text-decoration-color: #d26937\">36</span><span style=\"color: #0a3749; text-decoration-color: #0a3749\"> │ </span><span style=\"color: #599cab; text-decoration-color: #599cab\">1944</span><span style=\"color: #0a3749; text-decoration-color: #0a3749\">           │ </span><span style=\"color: #599cab; text-decoration-color: #599cab\">Model[</span><span style=\"color: #2aa889; text-decoration-color: #2aa889\">list</span><span style=\"color: #599cab; text-decoration-color: #599cab\">[LaureateBasic]]</span><span style=\"color: #0a3749; text-decoration-color: #0a3749\"> │      </span><span style=\"color: #d26937; text-decoration-color: #d26937\">1</span><span style=\"color: #0a3749; text-decoration-color: #0a3749\"> │           </span><span style=\"color: #d26937; text-decoration-color: #d26937\">5.3</span><span style=\"color: #599cab; text-decoration-color: #599cab\"> kB</span><span style=\"color: #0a3749; text-decoration-color: #0a3749\"> │</span>\n",
       "<span style=\"color: #0a3749; text-decoration-color: #0a3749\">│ </span><span style=\"color: #d26937; text-decoration-color: #d26937\">37</span><span style=\"color: #0a3749; text-decoration-color: #0a3749\"> │ </span><span style=\"color: #599cab; text-decoration-color: #599cab\">1945</span><span style=\"color: #0a3749; text-decoration-color: #0a3749\">           │ </span><span style=\"color: #599cab; text-decoration-color: #599cab\">Model[</span><span style=\"color: #2aa889; text-decoration-color: #2aa889\">list</span><span style=\"color: #599cab; text-decoration-color: #599cab\">[LaureateBasic]]</span><span style=\"color: #0a3749; text-decoration-color: #0a3749\"> │      </span><span style=\"color: #d26937; text-decoration-color: #d26937\">1</span><span style=\"color: #0a3749; text-decoration-color: #0a3749\"> │           </span><span style=\"color: #d26937; text-decoration-color: #d26937\">5.3</span><span style=\"color: #599cab; text-decoration-color: #599cab\"> kB</span><span style=\"color: #0a3749; text-decoration-color: #0a3749\"> │</span>\n",
       "<span style=\"color: #0a3749; text-decoration-color: #0a3749\">│ </span><span style=\"color: #d26937; text-decoration-color: #d26937\">38</span><span style=\"color: #0a3749; text-decoration-color: #0a3749\"> │ </span><span style=\"color: #599cab; text-decoration-color: #599cab\">1946</span><span style=\"color: #0a3749; text-decoration-color: #0a3749\">           │ </span><span style=\"color: #599cab; text-decoration-color: #599cab\">Model[</span><span style=\"color: #2aa889; text-decoration-color: #2aa889\">list</span><span style=\"color: #599cab; text-decoration-color: #599cab\">[LaureateBasic]]</span><span style=\"color: #0a3749; text-decoration-color: #0a3749\"> │      </span><span style=\"color: #d26937; text-decoration-color: #d26937\">1</span><span style=\"color: #0a3749; text-decoration-color: #0a3749\"> │           </span><span style=\"color: #d26937; text-decoration-color: #d26937\">5.3</span><span style=\"color: #599cab; text-decoration-color: #599cab\"> kB</span><span style=\"color: #0a3749; text-decoration-color: #0a3749\"> │</span>\n",
       "<span style=\"color: #0a3749; text-decoration-color: #0a3749\">│ </span><span style=\"color: #d26937; text-decoration-color: #d26937\">39</span><span style=\"color: #0a3749; text-decoration-color: #0a3749\"> │ </span><span style=\"color: #599cab; text-decoration-color: #599cab\">1947</span><span style=\"color: #0a3749; text-decoration-color: #0a3749\">           │ </span><span style=\"color: #599cab; text-decoration-color: #599cab\">Model[</span><span style=\"color: #2aa889; text-decoration-color: #2aa889\">list</span><span style=\"color: #599cab; text-decoration-color: #599cab\">[LaureateBasic]]</span><span style=\"color: #0a3749; text-decoration-color: #0a3749\"> │      </span><span style=\"color: #d26937; text-decoration-color: #d26937\">1</span><span style=\"color: #0a3749; text-decoration-color: #0a3749\"> │           </span><span style=\"color: #d26937; text-decoration-color: #d26937\">5.4</span><span style=\"color: #599cab; text-decoration-color: #599cab\"> kB</span><span style=\"color: #0a3749; text-decoration-color: #0a3749\"> │</span>\n",
       "<span style=\"color: #0a3749; text-decoration-color: #0a3749\">│ </span><span style=\"color: #d26937; text-decoration-color: #d26937\">40</span><span style=\"color: #0a3749; text-decoration-color: #0a3749\"> │ </span><span style=\"color: #599cab; text-decoration-color: #599cab\">1948</span><span style=\"color: #0a3749; text-decoration-color: #0a3749\">           │ </span><span style=\"color: #599cab; text-decoration-color: #599cab\">Model[</span><span style=\"color: #2aa889; text-decoration-color: #2aa889\">list</span><span style=\"color: #599cab; text-decoration-color: #599cab\">[LaureateBasic]]</span><span style=\"color: #0a3749; text-decoration-color: #0a3749\"> │      </span><span style=\"color: #d26937; text-decoration-color: #d26937\">1</span><span style=\"color: #0a3749; text-decoration-color: #0a3749\"> │           </span><span style=\"color: #d26937; text-decoration-color: #d26937\">5.1</span><span style=\"color: #599cab; text-decoration-color: #599cab\"> kB</span><span style=\"color: #0a3749; text-decoration-color: #0a3749\"> │</span>\n",
       "<span style=\"color: #0a3749; text-decoration-color: #0a3749\">│ </span><span style=\"color: #d26937; text-decoration-color: #d26937\">41</span><span style=\"color: #0a3749; text-decoration-color: #0a3749\"> │ </span><span style=\"color: #599cab; text-decoration-color: #599cab\">1949</span><span style=\"color: #0a3749; text-decoration-color: #0a3749\">           │ </span><span style=\"color: #599cab; text-decoration-color: #599cab\">Model[</span><span style=\"color: #2aa889; text-decoration-color: #2aa889\">list</span><span style=\"color: #599cab; text-decoration-color: #599cab\">[LaureateBasic]]</span><span style=\"color: #0a3749; text-decoration-color: #0a3749\"> │      </span><span style=\"color: #d26937; text-decoration-color: #d26937\">1</span><span style=\"color: #0a3749; text-decoration-color: #0a3749\"> │           </span><span style=\"color: #d26937; text-decoration-color: #d26937\">5.2</span><span style=\"color: #599cab; text-decoration-color: #599cab\"> kB</span><span style=\"color: #0a3749; text-decoration-color: #0a3749\"> │</span>\n",
       "<span style=\"color: #0a3749; text-decoration-color: #0a3749\">│ </span><span style=\"color: #d26937; text-decoration-color: #d26937\">42</span><span style=\"color: #0a3749; text-decoration-color: #0a3749\"> │ </span><span style=\"color: #599cab; text-decoration-color: #599cab\">1950</span><span style=\"color: #0a3749; text-decoration-color: #0a3749\">           │ </span><span style=\"color: #599cab; text-decoration-color: #599cab\">Model[</span><span style=\"color: #2aa889; text-decoration-color: #2aa889\">list</span><span style=\"color: #599cab; text-decoration-color: #599cab\">[LaureateBasic]]</span><span style=\"color: #0a3749; text-decoration-color: #0a3749\"> │      </span><span style=\"color: #d26937; text-decoration-color: #d26937\">1</span><span style=\"color: #0a3749; text-decoration-color: #0a3749\"> │           </span><span style=\"color: #d26937; text-decoration-color: #d26937\">5.3</span><span style=\"color: #599cab; text-decoration-color: #599cab\"> kB</span><span style=\"color: #0a3749; text-decoration-color: #0a3749\"> │</span>\n",
       "<span style=\"color: #0a3749; text-decoration-color: #0a3749\">│ </span><span style=\"color: #d26937; text-decoration-color: #d26937\">43</span><span style=\"color: #0a3749; text-decoration-color: #0a3749\"> │ </span><span style=\"color: #599cab; text-decoration-color: #599cab\">1951</span><span style=\"color: #0a3749; text-decoration-color: #0a3749\">           │ </span><span style=\"color: #599cab; text-decoration-color: #599cab\">Model[</span><span style=\"color: #2aa889; text-decoration-color: #2aa889\">list</span><span style=\"color: #599cab; text-decoration-color: #599cab\">[LaureateBasic]]</span><span style=\"color: #0a3749; text-decoration-color: #0a3749\"> │      </span><span style=\"color: #d26937; text-decoration-color: #d26937\">1</span><span style=\"color: #0a3749; text-decoration-color: #0a3749\"> │           </span><span style=\"color: #d26937; text-decoration-color: #d26937\">5.3</span><span style=\"color: #599cab; text-decoration-color: #599cab\"> kB</span><span style=\"color: #0a3749; text-decoration-color: #0a3749\"> │</span>\n",
       "<span style=\"color: #0a3749; text-decoration-color: #0a3749\">│ </span><span style=\"color: #d26937; text-decoration-color: #d26937\">44</span><span style=\"color: #0a3749; text-decoration-color: #0a3749\"> │ </span><span style=\"color: #599cab; text-decoration-color: #599cab\">1952</span><span style=\"color: #0a3749; text-decoration-color: #0a3749\">           │ </span><span style=\"color: #599cab; text-decoration-color: #599cab\">Model[</span><span style=\"color: #2aa889; text-decoration-color: #2aa889\">list</span><span style=\"color: #599cab; text-decoration-color: #599cab\">[LaureateBasic]]</span><span style=\"color: #0a3749; text-decoration-color: #0a3749\"> │      </span><span style=\"color: #d26937; text-decoration-color: #d26937\">1</span><span style=\"color: #0a3749; text-decoration-color: #0a3749\"> │           </span><span style=\"color: #d26937; text-decoration-color: #d26937\">5.3</span><span style=\"color: #599cab; text-decoration-color: #599cab\"> kB</span><span style=\"color: #0a3749; text-decoration-color: #0a3749\"> │</span>\n",
       "<span style=\"color: #0a3749; text-decoration-color: #0a3749\">│ </span><span style=\"color: #d26937; text-decoration-color: #d26937\">45</span><span style=\"color: #0a3749; text-decoration-color: #0a3749\"> │ </span><span style=\"color: #599cab; text-decoration-color: #599cab\">1953</span><span style=\"color: #0a3749; text-decoration-color: #0a3749\">           │ </span><span style=\"color: #599cab; text-decoration-color: #599cab\">Model[</span><span style=\"color: #2aa889; text-decoration-color: #2aa889\">list</span><span style=\"color: #599cab; text-decoration-color: #599cab\">[LaureateBasic]]</span><span style=\"color: #0a3749; text-decoration-color: #0a3749\"> │      </span><span style=\"color: #d26937; text-decoration-color: #d26937\">1</span><span style=\"color: #0a3749; text-decoration-color: #0a3749\"> │           </span><span style=\"color: #d26937; text-decoration-color: #d26937\">5.3</span><span style=\"color: #599cab; text-decoration-color: #599cab\"> kB</span><span style=\"color: #0a3749; text-decoration-color: #0a3749\"> │</span>\n",
       "<span style=\"color: #0a3749; text-decoration-color: #0a3749\">│ </span><span style=\"color: #d26937; text-decoration-color: #d26937\">46</span><span style=\"color: #0a3749; text-decoration-color: #0a3749\"> │ </span><span style=\"color: #599cab; text-decoration-color: #599cab\">1954</span><span style=\"color: #0a3749; text-decoration-color: #0a3749\">           │ </span><span style=\"color: #599cab; text-decoration-color: #599cab\">Model[</span><span style=\"color: #2aa889; text-decoration-color: #2aa889\">list</span><span style=\"color: #599cab; text-decoration-color: #599cab\">[LaureateBasic]]</span><span style=\"color: #0a3749; text-decoration-color: #0a3749\"> │      </span><span style=\"color: #d26937; text-decoration-color: #d26937\">1</span><span style=\"color: #0a3749; text-decoration-color: #0a3749\"> │           </span><span style=\"color: #d26937; text-decoration-color: #d26937\">5.3</span><span style=\"color: #599cab; text-decoration-color: #599cab\"> kB</span><span style=\"color: #0a3749; text-decoration-color: #0a3749\"> │</span>\n",
       "<span style=\"color: #0a3749; text-decoration-color: #0a3749\">│ </span><span style=\"color: #d26937; text-decoration-color: #d26937\">47</span><span style=\"color: #0a3749; text-decoration-color: #0a3749\"> │ </span><span style=\"color: #599cab; text-decoration-color: #599cab\">1955</span><span style=\"color: #0a3749; text-decoration-color: #0a3749\">           │ </span><span style=\"color: #599cab; text-decoration-color: #599cab\">Model[</span><span style=\"color: #2aa889; text-decoration-color: #2aa889\">list</span><span style=\"color: #599cab; text-decoration-color: #599cab\">[LaureateBasic]]</span><span style=\"color: #0a3749; text-decoration-color: #0a3749\"> │      </span><span style=\"color: #d26937; text-decoration-color: #d26937\">1</span><span style=\"color: #0a3749; text-decoration-color: #0a3749\"> │           </span><span style=\"color: #d26937; text-decoration-color: #d26937\">5.2</span><span style=\"color: #599cab; text-decoration-color: #599cab\"> kB</span><span style=\"color: #0a3749; text-decoration-color: #0a3749\"> │</span>\n",
       "<span style=\"color: #0a3749; text-decoration-color: #0a3749\">│ </span><span style=\"color: #d26937; text-decoration-color: #d26937\">…</span><span style=\"color: #0a3749; text-decoration-color: #0a3749\">  │ </span><span style=\"color: #599cab; text-decoration-color: #599cab\">…</span><span style=\"color: #0a3749; text-decoration-color: #0a3749\">              │ </span><span style=\"color: #599cab; text-decoration-color: #599cab\">…</span><span style=\"color: #0a3749; text-decoration-color: #0a3749\">                          │      </span><span style=\"color: #d26937; text-decoration-color: #d26937\">…</span><span style=\"color: #0a3749; text-decoration-color: #0a3749\"> │                </span><span style=\"color: #d26937; text-decoration-color: #d26937\">…</span><span style=\"color: #0a3749; text-decoration-color: #0a3749\"> │</span>\n",
       "<span style=\"color: #0a3749; text-decoration-color: #0a3749\">╰────┴────────────────┴────────────────────────────┴────────┴──────────────────╯</span>\n",
       "</code></pre>"
      ],
      "text/plain": [
       "Cannot show ipywidgets in text"
      ]
     },
     "metadata": {},
     "output_type": "display_data"
    }
   ],
   "source": [
    "from nobel_api_output_model import NobelPrizesResult, LaureateBasic\n",
    "\n",
    "# Omnipy tasks\n",
    "@om.TaskTemplate()\n",
    "def create_nobel_prize_urls(category: str | None, page_size: int, num_pages: int) -> om.HttpUrlDataset:\n",
    "    def _nobel_price_api_urls(page_offset: int) -> om.HttpUrlModel:\n",
    "        url = om.HttpUrlModel('https://api.nobelprize.org')\n",
    "        url.path // '2.1' // 'nobelPrizes'\n",
    "        if category:\n",
    "            url.query['nobelPrizeCategory'] = category\n",
    "        url.query['offset'] = page_offset\n",
    "        url.query['limit'] = page_size\n",
    "        return url\n",
    "\n",
    "    return om.HttpUrlDataset({\n",
    "        page_num * page_size: _nobel_price_api_urls(page_offset=page_num * page_size)\n",
    "        for page_num in range(num_pages)\n",
    "    })\n",
    "\n",
    "@om.TaskTemplate()\n",
    "async def fetch_and_extract_laureates_per_year(nobel_prize_urls: om.HttpUrlDataset) -> Dataset[Model[list[LaureateBasic]]]:\n",
    "    from functools import reduce\n",
    "    from operator import add\n",
    "\n",
    "    per_page_nobel_prize_info = await Dataset[Model[NobelPrizesResult]].load(nobel_prize_urls)\n",
    "    \n",
    "    per_year_nobel_prizes = Dataset[Model[list[LaureateBasic]]]()\n",
    "    for entry in (reduce(add, (_.nobelPrizes for _ in per_page_nobel_prize_info.values()))):\n",
    "        if entry.laureates:\n",
    "            per_year_nobel_prizes[str(entry.awardYear)] = entry.laureates\n",
    "    \n",
    "    return per_year_nobel_prizes\n",
    "\n",
    "\n",
    "# Omnipy dataflows\n",
    "@om.LinearFlowTemplate(\n",
    "    create_nobel_prize_urls,\n",
    "    fetch_and_extract_laureates_per_year,\n",
    ")\n",
    "def download_and_wrangle_nobel_prizes(category: str | None, page_size: int, num_pages: int):\n",
    "    ...\n",
    "\n",
    "# Run the dataflow and show results\n",
    "literature_prizes = await download_and_wrangle_nobel_prizes.run(category='lit', page_size=25, num_pages=6)\n",
    "literature_prizes"
   ]
  },
  {
   "cell_type": "code",
   "execution_count": 7,
   "id": "015f007e-3fa2-41fd-9f27-cdd6870573d2",
   "metadata": {},
   "outputs": [],
   "source": [
    "old_literature_prizes = literature_prizes\n",
    "literature_prizes = om.JsonDataset()\n",
    "literature_prizes.from_json(old_literature_prizes.to_json())"
   ]
  },
  {
   "cell_type": "code",
   "execution_count": 8,
   "id": "be157f66-188f-42ff-b9a2-3f2d82e0d712",
   "metadata": {},
   "outputs": [
    {
     "data": {
      "application/vnd.jupyter.widget-view+json": {
       "model_id": "a206efde4fe34c1984e0323967b86353",
       "version_major": 2,
       "version_minor": 0
      },
      "text/html": [
       "<div style=\"display: flex;\">\n",
       "    <div style=\"flex:1; width: 30px;\">⚠️</div>\n",
       "    <div style=\"width: calc(100% - 30px);\">Widget for reactive Omnipy output was not loaded. If you are running Jupyter in a web browser, you probably want to rerun the code cell above (<i>Click in the code cell, and press Shift+Enter <kbd>⇧</kbd>+<kbd>↩</kbd></i>).</div>\n",
       "</div>\n",
       "<pre><code style=\"font-family: 'Menlo', 'DejaVu Sans Mono', 'Consolas', 'Courier New', 'monospace'; font-size: 14px; font-weight: 400; line-height: 1.25; color: #575279; background-color: #faf4ed; \"><span style=\"color: #9893a5; text-decoration-color: #9893a5; background-color: #faf4ed\">╭─────────────────────────────────────────────────────────┬─────────────────────────────────────────────────────────╮</span>\n",
       "<span style=\"color: #9893a5; text-decoration-color: #9893a5; background-color: #faf4ed\">│ </span><span style=\"color: #d7827e; text-decoration-color: #d7827e; background-color: #faf4ed; font-style: italic\">                        0. 2024                        </span><span style=\"color: #9893a5; text-decoration-color: #9893a5; background-color: #faf4ed\"> │ </span><span style=\"color: #d7827e; text-decoration-color: #d7827e; background-color: #faf4ed; font-style: italic\">                        1. 2025                        </span><span style=\"color: #9893a5; text-decoration-color: #9893a5; background-color: #faf4ed\"> │</span>\n",
       "<span style=\"color: #9893a5; text-decoration-color: #9893a5; background-color: #faf4ed\">│ </span><span style=\"color: #d7827e; text-decoration-color: #d7827e; background-color: #faf4ed; font-style: italic\">                                                       </span><span style=\"color: #9893a5; text-decoration-color: #9893a5; background-color: #faf4ed\"> │ </span><span style=\"color: #d7827e; text-decoration-color: #d7827e; background-color: #faf4ed; font-style: italic\">                                                       </span><span style=\"color: #9893a5; text-decoration-color: #9893a5; background-color: #faf4ed\"> │</span>\n",
       "<span style=\"color: #9893a5; text-decoration-color: #9893a5; background-color: #faf4ed\">│ </span><span style=\"color: #575279; text-decoration-color: #575279; background-color: #faf4ed\">[</span><span style=\"color: #9893a5; text-decoration-color: #9893a5; background-color: #faf4ed\">                                                       │ </span><span style=\"color: #575279; text-decoration-color: #575279; background-color: #faf4ed\">[</span><span style=\"color: #9893a5; text-decoration-color: #9893a5; background-color: #faf4ed\">                                                       │</span>\n",
       "<span style=\"color: #9893a5; text-decoration-color: #9893a5; background-color: #faf4ed\">│ </span><span style=\"color: #575279; text-decoration-color: #575279; background-color: #faf4ed\">  {</span><span style=\"color: #9893a5; text-decoration-color: #9893a5; background-color: #faf4ed\">                                                     │ </span><span style=\"color: #575279; text-decoration-color: #575279; background-color: #faf4ed\">  {</span><span style=\"color: #9893a5; text-decoration-color: #9893a5; background-color: #faf4ed\">                                                     │</span>\n",
       "<span style=\"color: #9893a5; text-decoration-color: #9893a5; background-color: #faf4ed\">│ </span><span style=\"color: #575279; text-decoration-color: #575279; background-color: #faf4ed\">    </span><span style=\"color: #ea9d34; text-decoration-color: #ea9d34; background-color: #faf4ed\">&quot;id&quot;</span><span style=\"color: #575279; text-decoration-color: #575279; background-color: #faf4ed\">: </span><span style=\"color: #ea9d34; text-decoration-color: #ea9d34; background-color: #faf4ed\">1042</span><span style=\"color: #575279; text-decoration-color: #575279; background-color: #faf4ed\">,</span><span style=\"color: #9893a5; text-decoration-color: #9893a5; background-color: #faf4ed\">                                         │ </span><span style=\"color: #575279; text-decoration-color: #575279; background-color: #faf4ed\">    </span><span style=\"color: #ea9d34; text-decoration-color: #ea9d34; background-color: #faf4ed\">&quot;id&quot;</span><span style=\"color: #575279; text-decoration-color: #575279; background-color: #faf4ed\">: </span><span style=\"color: #ea9d34; text-decoration-color: #ea9d34; background-color: #faf4ed\">1056</span><span style=\"color: #575279; text-decoration-color: #575279; background-color: #faf4ed\">,</span><span style=\"color: #9893a5; text-decoration-color: #9893a5; background-color: #faf4ed\">                                         │</span>\n",
       "<span style=\"color: #9893a5; text-decoration-color: #9893a5; background-color: #faf4ed\">│ </span><span style=\"color: #575279; text-decoration-color: #575279; background-color: #faf4ed\">    </span><span style=\"color: #ea9d34; text-decoration-color: #ea9d34; background-color: #faf4ed\">&quot;knownName&quot;</span><span style=\"color: #575279; text-decoration-color: #575279; background-color: #faf4ed\">: { </span><span style=\"color: #ea9d34; text-decoration-color: #ea9d34; background-color: #faf4ed\">&quot;en&quot;</span><span style=\"color: #575279; text-decoration-color: #575279; background-color: #faf4ed\">: </span><span style=\"color: #286983; text-decoration-color: #286983; background-color: #faf4ed\">&quot;Han Kang&quot;</span><span style=\"color: #575279; text-decoration-color: #575279; background-color: #faf4ed\">, </span><span style=\"color: #ea9d34; text-decoration-color: #ea9d34; background-color: #faf4ed\">&quot;se&quot;</span><span style=\"color: #575279; text-decoration-color: #575279; background-color: #faf4ed\">: </span><span style=\"color: #d7827e; text-decoration-color: #d7827e; background-color: #faf4ed; font-weight: bold\">null</span><span style=\"color: #575279; text-decoration-color: #575279; background-color: #faf4ed\">, </span><span style=\"color: #ea9d34; text-decoration-color: #ea9d34; background-color: #faf4ed\">&quot;no&quot;</span><span style=\"color: #575279; text-decoration-color: #575279; background-color: #faf4ed\">: </span><span style=\"color: #9893a5; text-decoration-color: #9893a5; background-color: #faf4ed\"> │ </span><span style=\"color: #575279; text-decoration-color: #575279; background-color: #faf4ed\">    </span><span style=\"color: #ea9d34; text-decoration-color: #ea9d34; background-color: #faf4ed\">&quot;knownName&quot;</span><span style=\"color: #575279; text-decoration-color: #575279; background-color: #faf4ed\">: { </span><span style=\"color: #ea9d34; text-decoration-color: #ea9d34; background-color: #faf4ed\">&quot;en&quot;</span><span style=\"color: #575279; text-decoration-color: #575279; background-color: #faf4ed\">: </span><span style=\"color: #286983; text-decoration-color: #286983; background-color: #faf4ed\">&quot;László Krasznahorkai&quot;</span><span style=\"color: #575279; text-decoration-color: #575279; background-color: #faf4ed\">, </span><span style=\"color: #ea9d34; text-decoration-color: #ea9d34; background-color: #faf4ed\">&quot;se&quot;</span><span style=\"color: #575279; text-decoration-color: #575279; background-color: #faf4ed\">: </span><span style=\"color: #9893a5; text-decoration-color: #9893a5; background-color: #faf4ed\"> │</span>\n",
       "<span style=\"color: #9893a5; text-decoration-color: #9893a5; background-color: #faf4ed\">│ </span><span style=\"color: #d7827e; text-decoration-color: #d7827e; background-color: #faf4ed; font-weight: bold\">null</span><span style=\"color: #575279; text-decoration-color: #575279; background-color: #faf4ed\"> },</span><span style=\"color: #9893a5; text-decoration-color: #9893a5; background-color: #faf4ed\">                                                 │ </span><span style=\"color: #d7827e; text-decoration-color: #d7827e; background-color: #faf4ed; font-weight: bold\">null</span><span style=\"color: #575279; text-decoration-color: #575279; background-color: #faf4ed\">, </span><span style=\"color: #ea9d34; text-decoration-color: #ea9d34; background-color: #faf4ed\">&quot;no&quot;</span><span style=\"color: #575279; text-decoration-color: #575279; background-color: #faf4ed\">: </span><span style=\"color: #d7827e; text-decoration-color: #d7827e; background-color: #faf4ed; font-weight: bold\">null</span><span style=\"color: #575279; text-decoration-color: #575279; background-color: #faf4ed\"> },</span><span style=\"color: #9893a5; text-decoration-color: #9893a5; background-color: #faf4ed\">                                     │</span>\n",
       "<span style=\"color: #9893a5; text-decoration-color: #9893a5; background-color: #faf4ed\">│ </span><span style=\"color: #575279; text-decoration-color: #575279; background-color: #faf4ed\">    </span><span style=\"color: #ea9d34; text-decoration-color: #ea9d34; background-color: #faf4ed\">&quot;givenName&quot;</span><span style=\"color: #575279; text-decoration-color: #575279; background-color: #faf4ed\">: </span><span style=\"color: #d7827e; text-decoration-color: #d7827e; background-color: #faf4ed; font-weight: bold\">null</span><span style=\"color: #575279; text-decoration-color: #575279; background-color: #faf4ed\">,</span><span style=\"color: #9893a5; text-decoration-color: #9893a5; background-color: #faf4ed\">                                  │ </span><span style=\"color: #575279; text-decoration-color: #575279; background-color: #faf4ed\">    </span><span style=\"color: #ea9d34; text-decoration-color: #ea9d34; background-color: #faf4ed\">&quot;givenName&quot;</span><span style=\"color: #575279; text-decoration-color: #575279; background-color: #faf4ed\">: </span><span style=\"color: #d7827e; text-decoration-color: #d7827e; background-color: #faf4ed; font-weight: bold\">null</span><span style=\"color: #575279; text-decoration-color: #575279; background-color: #faf4ed\">,</span><span style=\"color: #9893a5; text-decoration-color: #9893a5; background-color: #faf4ed\">                                  │</span>\n",
       "<span style=\"color: #9893a5; text-decoration-color: #9893a5; background-color: #faf4ed\">│ </span><span style=\"color: #575279; text-decoration-color: #575279; background-color: #faf4ed\">    </span><span style=\"color: #ea9d34; text-decoration-color: #ea9d34; background-color: #faf4ed\">&quot;portion&quot;</span><span style=\"color: #575279; text-decoration-color: #575279; background-color: #faf4ed\">: </span><span style=\"color: #286983; text-decoration-color: #286983; background-color: #faf4ed\">&quot;1&quot;</span><span style=\"color: #575279; text-decoration-color: #575279; background-color: #faf4ed\">,</span><span style=\"color: #9893a5; text-decoration-color: #9893a5; background-color: #faf4ed\">                                     │ </span><span style=\"color: #575279; text-decoration-color: #575279; background-color: #faf4ed\">    </span><span style=\"color: #ea9d34; text-decoration-color: #ea9d34; background-color: #faf4ed\">&quot;portion&quot;</span><span style=\"color: #575279; text-decoration-color: #575279; background-color: #faf4ed\">: </span><span style=\"color: #286983; text-decoration-color: #286983; background-color: #faf4ed\">&quot;1&quot;</span><span style=\"color: #575279; text-decoration-color: #575279; background-color: #faf4ed\">,</span><span style=\"color: #9893a5; text-decoration-color: #9893a5; background-color: #faf4ed\">                                     │</span>\n",
       "<span style=\"color: #9893a5; text-decoration-color: #9893a5; background-color: #faf4ed\">│ </span><span style=\"color: #575279; text-decoration-color: #575279; background-color: #faf4ed\">    </span><span style=\"color: #ea9d34; text-decoration-color: #ea9d34; background-color: #faf4ed\">&quot;sortOrder&quot;</span><span style=\"color: #575279; text-decoration-color: #575279; background-color: #faf4ed\">: </span><span style=\"color: #286983; text-decoration-color: #286983; background-color: #faf4ed\">&quot;1&quot;</span><span style=\"color: #575279; text-decoration-color: #575279; background-color: #faf4ed\">,</span><span style=\"color: #9893a5; text-decoration-color: #9893a5; background-color: #faf4ed\">                                   │ </span><span style=\"color: #575279; text-decoration-color: #575279; background-color: #faf4ed\">    </span><span style=\"color: #ea9d34; text-decoration-color: #ea9d34; background-color: #faf4ed\">&quot;sortOrder&quot;</span><span style=\"color: #575279; text-decoration-color: #575279; background-color: #faf4ed\">: </span><span style=\"color: #286983; text-decoration-color: #286983; background-color: #faf4ed\">&quot;1&quot;</span><span style=\"color: #575279; text-decoration-color: #575279; background-color: #faf4ed\">,</span><span style=\"color: #9893a5; text-decoration-color: #9893a5; background-color: #faf4ed\">                                   │</span>\n",
       "<span style=\"color: #9893a5; text-decoration-color: #9893a5; background-color: #faf4ed\">│ </span><span style=\"color: #575279; text-decoration-color: #575279; background-color: #faf4ed\">    </span><span style=\"color: #ea9d34; text-decoration-color: #ea9d34; background-color: #faf4ed\">&quot;motivation&quot;</span><span style=\"color: #575279; text-decoration-color: #575279; background-color: #faf4ed\">: {</span><span style=\"color: #9893a5; text-decoration-color: #9893a5; background-color: #faf4ed\">                                     │ </span><span style=\"color: #575279; text-decoration-color: #575279; background-color: #faf4ed\">    </span><span style=\"color: #ea9d34; text-decoration-color: #ea9d34; background-color: #faf4ed\">&quot;motivation&quot;</span><span style=\"color: #575279; text-decoration-color: #575279; background-color: #faf4ed\">: {</span><span style=\"color: #9893a5; text-decoration-color: #9893a5; background-color: #faf4ed\">                                     │</span>\n",
       "<span style=\"color: #9893a5; text-decoration-color: #9893a5; background-color: #faf4ed\">│ </span><span style=\"color: #575279; text-decoration-color: #575279; background-color: #faf4ed\">      </span><span style=\"color: #ea9d34; text-decoration-color: #ea9d34; background-color: #faf4ed\">&quot;en&quot;</span><span style=\"color: #575279; text-decoration-color: #575279; background-color: #faf4ed\">: </span><span style=\"color: #286983; text-decoration-color: #286983; background-color: #faf4ed\">&quot;for her intense poetic prose that </span><span style=\"color: #9893a5; text-decoration-color: #9893a5; background-color: #faf4ed\">         │ </span><span style=\"color: #575279; text-decoration-color: #575279; background-color: #faf4ed\">      </span><span style=\"color: #ea9d34; text-decoration-color: #ea9d34; background-color: #faf4ed\">&quot;en&quot;</span><span style=\"color: #575279; text-decoration-color: #575279; background-color: #faf4ed\">: </span><span style=\"color: #286983; text-decoration-color: #286983; background-color: #faf4ed\">&quot;for his compelling and visionary oeuvre </span><span style=\"color: #9893a5; text-decoration-color: #9893a5; background-color: #faf4ed\">   │</span>\n",
       "<span style=\"color: #9893a5; text-decoration-color: #9893a5; background-color: #faf4ed\">│ </span><span style=\"color: #286983; text-decoration-color: #286983; background-color: #faf4ed\">confronts historical traumas and exposes the fragility </span><span style=\"color: #9893a5; text-decoration-color: #9893a5; background-color: #faf4ed\"> │ </span><span style=\"color: #286983; text-decoration-color: #286983; background-color: #faf4ed\">that, in the midst of apocalyptic terror, reaffirms the</span><span style=\"color: #9893a5; text-decoration-color: #9893a5; background-color: #faf4ed\"> │</span>\n",
       "<span style=\"color: #9893a5; text-decoration-color: #9893a5; background-color: #faf4ed\">│ </span><span style=\"color: #286983; text-decoration-color: #286983; background-color: #faf4ed\">of human life&quot;</span><span style=\"color: #575279; text-decoration-color: #575279; background-color: #faf4ed\">,</span><span style=\"color: #9893a5; text-decoration-color: #9893a5; background-color: #faf4ed\">                                         │ </span><span style=\"color: #286983; text-decoration-color: #286983; background-color: #faf4ed\">power of art&quot;</span><span style=\"color: #575279; text-decoration-color: #575279; background-color: #faf4ed\">,</span><span style=\"color: #9893a5; text-decoration-color: #9893a5; background-color: #faf4ed\">                                          │</span>\n",
       "<span style=\"color: #9893a5; text-decoration-color: #9893a5; background-color: #faf4ed\">│ </span><span style=\"color: #575279; text-decoration-color: #575279; background-color: #faf4ed\">      </span><span style=\"color: #ea9d34; text-decoration-color: #ea9d34; background-color: #faf4ed\">&quot;se&quot;</span><span style=\"color: #575279; text-decoration-color: #575279; background-color: #faf4ed\">: </span><span style=\"color: #286983; text-decoration-color: #286983; background-color: #faf4ed\">&quot;för hennes intensiva poetiska prosa, som </span><span style=\"color: #9893a5; text-decoration-color: #9893a5; background-color: #faf4ed\">  │ </span><span style=\"color: #575279; text-decoration-color: #575279; background-color: #faf4ed\">      </span><span style=\"color: #ea9d34; text-decoration-color: #ea9d34; background-color: #faf4ed\">&quot;se&quot;</span><span style=\"color: #575279; text-decoration-color: #575279; background-color: #faf4ed\">: </span><span style=\"color: #286983; text-decoration-color: #286983; background-color: #faf4ed\">&quot;för hans visionära och kraftfulla </span><span style=\"color: #9893a5; text-decoration-color: #9893a5; background-color: #faf4ed\">         │</span>\n",
       "<span style=\"color: #9893a5; text-decoration-color: #9893a5; background-color: #faf4ed\">│ </span><span style=\"color: #286983; text-decoration-color: #286983; background-color: #faf4ed\">konfronterar historiens trauman och blottlägger </span><span style=\"color: #9893a5; text-decoration-color: #9893a5; background-color: #faf4ed\">        │ </span><span style=\"color: #286983; text-decoration-color: #286983; background-color: #faf4ed\">författarskap som mitt i undergångens fasa </span><span style=\"color: #9893a5; text-decoration-color: #9893a5; background-color: #faf4ed\">             │</span>\n",
       "<span style=\"color: #9893a5; text-decoration-color: #9893a5; background-color: #faf4ed\">│ </span><span style=\"color: #286983; text-decoration-color: #286983; background-color: #faf4ed\">människans sårbarhet&quot;</span><span style=\"color: #575279; text-decoration-color: #575279; background-color: #faf4ed\">,</span><span style=\"color: #9893a5; text-decoration-color: #9893a5; background-color: #faf4ed\">                                  │ </span><span style=\"color: #286983; text-decoration-color: #286983; background-color: #faf4ed\">upprätthåller tron på konstens möjligheter&quot;</span><span style=\"color: #575279; text-decoration-color: #575279; background-color: #faf4ed\">,</span><span style=\"color: #9893a5; text-decoration-color: #9893a5; background-color: #faf4ed\">            │</span>\n",
       "<span style=\"color: #9893a5; text-decoration-color: #9893a5; background-color: #faf4ed\">│ </span><span style=\"color: #575279; text-decoration-color: #575279; background-color: #faf4ed\">      </span><span style=\"color: #ea9d34; text-decoration-color: #ea9d34; background-color: #faf4ed\">&quot;no&quot;</span><span style=\"color: #575279; text-decoration-color: #575279; background-color: #faf4ed\">: </span><span style=\"color: #d7827e; text-decoration-color: #d7827e; background-color: #faf4ed; font-weight: bold\">null</span><span style=\"color: #9893a5; text-decoration-color: #9893a5; background-color: #faf4ed\">                                        │ </span><span style=\"color: #575279; text-decoration-color: #575279; background-color: #faf4ed\">      </span><span style=\"color: #ea9d34; text-decoration-color: #ea9d34; background-color: #faf4ed\">&quot;no&quot;</span><span style=\"color: #575279; text-decoration-color: #575279; background-color: #faf4ed\">: </span><span style=\"color: #d7827e; text-decoration-color: #d7827e; background-color: #faf4ed; font-weight: bold\">null</span><span style=\"color: #9893a5; text-decoration-color: #9893a5; background-color: #faf4ed\">                                        │</span>\n",
       "<span style=\"color: #9893a5; text-decoration-color: #9893a5; background-color: #faf4ed\">│ </span><span style=\"color: #575279; text-decoration-color: #575279; background-color: #faf4ed\">    },</span><span style=\"color: #9893a5; text-decoration-color: #9893a5; background-color: #faf4ed\">                                                  │ </span><span style=\"color: #575279; text-decoration-color: #575279; background-color: #faf4ed\">    },</span><span style=\"color: #9893a5; text-decoration-color: #9893a5; background-color: #faf4ed\">                                                  │</span>\n",
       "<span style=\"color: #9893a5; text-decoration-color: #9893a5; background-color: #faf4ed\">│ </span><span style=\"color: #575279; text-decoration-color: #575279; background-color: #faf4ed\">    </span><span style=\"color: #ea9d34; text-decoration-color: #ea9d34; background-color: #faf4ed\">&quot;links&quot;</span><span style=\"color: #575279; text-decoration-color: #575279; background-color: #faf4ed\">: [</span><span style=\"color: #9893a5; text-decoration-color: #9893a5; background-color: #faf4ed\">                                          │ </span><span style=\"color: #575279; text-decoration-color: #575279; background-color: #faf4ed\">    </span><span style=\"color: #ea9d34; text-decoration-color: #ea9d34; background-color: #faf4ed\">&quot;links&quot;</span><span style=\"color: #575279; text-decoration-color: #575279; background-color: #faf4ed\">: [</span><span style=\"color: #9893a5; text-decoration-color: #9893a5; background-color: #faf4ed\">                                          │</span>\n",
       "<span style=\"color: #9893a5; text-decoration-color: #9893a5; background-color: #faf4ed\">│ </span><span style=\"color: #575279; text-decoration-color: #575279; background-color: #faf4ed\">      {</span><span style=\"color: #9893a5; text-decoration-color: #9893a5; background-color: #faf4ed\">                                                 │ </span><span style=\"color: #575279; text-decoration-color: #575279; background-color: #faf4ed\">      {</span><span style=\"color: #9893a5; text-decoration-color: #9893a5; background-color: #faf4ed\">                                                 │</span>\n",
       "<span style=\"color: #9893a5; text-decoration-color: #9893a5; background-color: #faf4ed\">│ </span><span style=\"color: #575279; text-decoration-color: #575279; background-color: #faf4ed\">        </span><span style=\"color: #ea9d34; text-decoration-color: #ea9d34; background-color: #faf4ed\">&quot;rel&quot;</span><span style=\"color: #575279; text-decoration-color: #575279; background-color: #faf4ed\">: </span><span style=\"color: #286983; text-decoration-color: #286983; background-color: #faf4ed\">&quot;laureate&quot;</span><span style=\"color: #575279; text-decoration-color: #575279; background-color: #faf4ed\">,</span><span style=\"color: #9893a5; text-decoration-color: #9893a5; background-color: #faf4ed\">                              │ </span><span style=\"color: #575279; text-decoration-color: #575279; background-color: #faf4ed\">        </span><span style=\"color: #ea9d34; text-decoration-color: #ea9d34; background-color: #faf4ed\">&quot;rel&quot;</span><span style=\"color: #575279; text-decoration-color: #575279; background-color: #faf4ed\">: </span><span style=\"color: #286983; text-decoration-color: #286983; background-color: #faf4ed\">&quot;laureate&quot;</span><span style=\"color: #575279; text-decoration-color: #575279; background-color: #faf4ed\">,</span><span style=\"color: #9893a5; text-decoration-color: #9893a5; background-color: #faf4ed\">                              │</span>\n",
       "<span style=\"color: #9893a5; text-decoration-color: #9893a5; background-color: #faf4ed\">│ </span><span style=\"color: #575279; text-decoration-color: #575279; background-color: #faf4ed\">        </span><span style=\"color: #ea9d34; text-decoration-color: #ea9d34; background-color: #faf4ed\">&quot;href&quot;</span><span style=\"color: #575279; text-decoration-color: #575279; background-color: #faf4ed\">: </span><span style=\"color: #9893a5; text-decoration-color: #9893a5; background-color: #faf4ed\">                                        │ </span><span style=\"color: #575279; text-decoration-color: #575279; background-color: #faf4ed\">        </span><span style=\"color: #ea9d34; text-decoration-color: #ea9d34; background-color: #faf4ed\">&quot;href&quot;</span><span style=\"color: #575279; text-decoration-color: #575279; background-color: #faf4ed\">: </span><span style=\"color: #9893a5; text-decoration-color: #9893a5; background-color: #faf4ed\">                                        │</span>\n",
       "<span style=\"color: #9893a5; text-decoration-color: #9893a5; background-color: #faf4ed\">│ </span><span style=\"color: #286983; text-decoration-color: #286983; background-color: #faf4ed\">&quot;https://api.nobelprize.org/2/laureate/1042&quot;</span><span style=\"color: #575279; text-decoration-color: #575279; background-color: #faf4ed\">,</span><span style=\"color: #9893a5; text-decoration-color: #9893a5; background-color: #faf4ed\">           │ </span><span style=\"color: #286983; text-decoration-color: #286983; background-color: #faf4ed\">&quot;https://api.nobelprize.org/2/laureate/1056&quot;</span><span style=\"color: #575279; text-decoration-color: #575279; background-color: #faf4ed\">,</span><span style=\"color: #9893a5; text-decoration-color: #9893a5; background-color: #faf4ed\">           │</span>\n",
       "<span style=\"color: #9893a5; text-decoration-color: #9893a5; background-color: #faf4ed\">╰─────────────────────────────────────────────────────────┴─────────────────────────────────────────────────────────╯</span>\n",
       "</code></pre>"
      ],
      "text/plain": [
       "Cannot show ipywidgets in text"
      ]
     },
     "metadata": {},
     "output_type": "display_data"
    }
   ],
   "source": [
    "literature_prizes[-2:].peek(style='rose-pine-dawn-t16', bg=True, syntax='json', h_overflow='word_wrap')"
   ]
  }
 ],
 "metadata": {
  "kernelspec": {
   "display_name": "Python 3 (ipykernel)",
   "language": "python",
   "name": "python3"
  },
  "language_info": {
   "codemirror_mode": {
    "name": "ipython",
    "version": 3
   },
   "file_extension": ".py",
   "mimetype": "text/x-python",
   "name": "python",
   "nbconvert_exporter": "python",
   "pygments_lexer": "ipython3",
   "version": "3.10.18"
  }
 },
 "nbformat": 4,
 "nbformat_minor": 5
}
