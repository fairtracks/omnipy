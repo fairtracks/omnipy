{
 "cells": [
  {
   "cell_type": "code",
   "execution_count": 1,
   "id": "initial_id",
   "metadata": {
    "ExecuteTime": {
     "end_time": "2024-02-07T20:16:36.399996Z",
     "start_time": "2024-02-07T20:16:33.675335Z"
    }
   },
   "source": [
    "!pip install omnipy"
   ],
   "outputs": []
  },
  {
   "cell_type": "code",
   "execution_count": 2,
   "id": "1bb006d79522a6ee",
   "metadata": {
    "ExecuteTime": {
     "end_time": "2024-02-07T20:33:38.429752Z",
     "start_time": "2024-02-07T20:33:37.802935Z"
    },
    "collapsed": false,
    "jupyter": {
     "outputs_hidden": false
    }
   },
   "source": [
    "from omnipy import JsonDataset, IsaJsonDataset"
   ],
   "outputs": []
  },
  {
   "cell_type": "code",
   "execution_count": 3,
   "id": "124242a71ba04026",
   "metadata": {
    "ExecuteTime": {
     "end_time": "2024-02-07T20:33:51.958324Z",
     "start_time": "2024-02-07T20:33:51.951707Z"
    },
    "collapsed": false,
    "jupyter": {
     "outputs_hidden": false
    }
   },
   "source": [
    "isa_ds = IsaJsonDataset()"
   ],
   "outputs": []
  },
  {
   "cell_type": "code",
   "execution_count": 28,
   "id": "679460ed49bb82c0",
   "metadata": {
    "ExecuteTime": {
     "end_time": "2024-02-07T20:34:38.764104Z",
     "start_time": "2024-02-07T20:34:37.444126Z"
    },
    "collapsed": false,
    "jupyter": {
     "outputs_hidden": false
    }
   },
   "source": [
    "#isa_ds.load('https://raw.githubusercontent.com/elixir-europe/biohackathon-projects-2023/256ec768e646f7767d414d22ba1e3deac9436daa/27/isa-test-data/ISA-BH2023-ALL/isa-bh2023-all.json')"
   ],
   "outputs": []
  },
  {
   "cell_type": "code",
   "execution_count": 5,
   "id": "e21c66797b4685da",
   "metadata": {
    "ExecuteTime": {
     "end_time": "2024-02-07T20:35:24.982651Z",
     "start_time": "2024-02-07T20:35:24.978238Z"
    },
    "collapsed": false,
    "jupyter": {
     "outputs_hidden": false
    }
   },
   "source": [
    "json_ds = JsonDataset()"
   ],
   "outputs": []
  },
  {
   "cell_type": "code",
   "execution_count": 26,
   "id": "9f5cda16b7f301e8",
   "metadata": {
    "ExecuteTime": {
     "end_time": "2024-02-07T20:35:42.334350Z",
     "start_time": "2024-02-07T20:35:40.314298Z"
    },
    "collapsed": false,
    "jupyter": {
     "outputs_hidden": false
    }
   },
   "source": [
    "json_ds.load('https://raw.githubusercontent.com/elixir-europe/biohackathon-projects-2023/256ec768e646f7767d414d22ba1e3deac9436daa/27/isa-test-data/ISA-BH2023-ALL/isa-bh2023-all.json')"
   ],
   "outputs": []
  },
  {
   "cell_type": "code",
   "execution_count": 27,
   "id": "1568867af0abf8e7",
   "metadata": {
    "ExecuteTime": {
     "end_time": "2024-02-07T20:37:03.481460Z",
     "start_time": "2024-02-07T20:37:03.450792Z"
    },
    "collapsed": false,
    "jupyter": {
     "outputs_hidden": false
    }
   },
   "source": [
    "json_ds"
   ],
   "outputs": []
  },
  {
   "cell_type": "code",
   "execution_count": 29,
   "id": "ca27c86857cff65",
   "metadata": {
    "ExecuteTime": {
     "end_time": "2024-02-07T20:37:44.437178Z",
     "start_time": "2024-02-07T20:37:43.943384Z"
    },
    "collapsed": false,
    "jupyter": {
     "outputs_hidden": false
    }
   },
   "source": [
    "json_ds[0]"
   ],
   "outputs": []
  },
  {
   "cell_type": "code",
   "execution_count": 30,
   "id": "4b14c5f7c99c3778",
   "metadata": {
    "collapsed": false,
    "jupyter": {
     "outputs_hidden": false
    }
   },
   "source": [
    "#isa_ds.absorb(json_ds)"
   ],
   "outputs": []
  },
  {
   "cell_type": "code",
   "execution_count": 10,
   "id": "fdc69c1d-8a9d-4246-8321-9d72af9cbe93",
   "metadata": {},
   "source": "json_ds[0]['studies'][0]['submissionDate'].content",
   "outputs": []
  },
  {
   "cell_type": "code",
   "execution_count": 34,
   "id": "e86a1594-431e-458f-ac2b-63dc0636ff52",
   "metadata": {},
   "source": [
    "from datetime import datetime\n",
    "\n",
    "def to_iso_format(date_str: str) -> str:\n",
    "    return datetime.strptime(date_str, '%d/%m/%Y').date().isoformat()"
   ],
   "outputs": []
  },
  {
   "cell_type": "code",
   "execution_count": 35,
   "id": "ca11cd2e-198b-47db-9f1a-5b071eb3f409",
   "metadata": {},
   "source": "json_ds[0]['studies'][0]['submissionDate'] = to_iso_format(json_ds[0]['studies'][0]['submissionDate'].content)",
   "outputs": []
  },
  {
   "cell_type": "code",
   "execution_count": 36,
   "id": "939166d5-b9f0-40e8-a68d-a965072c4eb4",
   "metadata": {},
   "source": "json_ds[0]['studies'][0]['publicReleaseDate'] = to_iso_format(json_ds[0]['studies'][0]['publicReleaseDate'].content)",
   "outputs": []
  },
  {
   "cell_type": "code",
   "execution_count": 37,
   "id": "73482924-df6c-46e7-a59a-4de280b5243c",
   "metadata": {},
   "source": [
    "json_ds[0]['studies'][0]['people'][1]['email'] = 'somebody@somewhere.com'"
   ],
   "outputs": []
  },
  {
   "cell_type": "code",
   "execution_count": 42,
   "id": "2dbfb495-4808-4db7-87ae-2c177c1f2c92",
   "metadata": {},
   "source": [
    "file_type_map = {\n",
    "    'Spectral Raw Data File': 'Raw Spectral Data File',\n",
    "    'Free Induction Decay File': 'Free Induction Decay Data File'\n",
    "}\n",
    "\n",
    "def fix_file_type(data_file):\n",
    "    file_type = data_file['type'].content\n",
    "    if file_type in file_type_map:\n",
    "        data_file['type'] = file_type_map[file_type]\n",
    "\n",
    "for study in json_ds[0]['studies']:\n",
    "    for assay in study['assays']:\n",
    "        for data_file in assay['dataFiles']:\n",
    "            fix_file_type(data_file)\n",
    "\n",
    "# Possible new syntax:\n",
    "#\n",
    "# json_ds[0]['studies'][:]['assays'][:]['dataFiles'][:].for_each(fix_file_type)"
   ],
   "outputs": []
  },
  {
   "cell_type": "code",
   "execution_count": 39,
   "id": "2ced82c6-e776-4761-b258-b1a2c5b1a770",
   "metadata": {},
   "source": [
    "json_ds"
   ],
   "outputs": []
  },
  {
   "cell_type": "code",
   "execution_count": 40,
   "id": "43627300-7267-4745-b1c7-e7d07e5c928b",
   "metadata": {},
   "source": [
    "isa_ds.absorb(json_ds)"
   ],
   "outputs": []
  },
  {
   "cell_type": "code",
   "execution_count": 41,
   "id": "02d31cb0-7679-4c87-90e8-897234919345",
   "metadata": {
    "ExecuteTime": {
     "end_time": "2024-02-08T10:13:39.856629Z",
     "start_time": "2024-02-08T10:13:39.829474Z"
    }
   },
   "source": [
    "isa_ds"
   ],
   "outputs": []
  },
  {
   "cell_type": "code",
   "execution_count": 18,
   "id": "5509b72b-2f31-4e18-8603-ee8e0909b633",
   "metadata": {},
   "source": [
    "json_ds[0]['studies'][0]['submissionDate']"
   ],
   "outputs": []
  },
  {
   "cell_type": "code",
   "execution_count": 19,
   "id": "3f5275cb-0715-4e5d-83e8-42c619abbc98",
   "metadata": {},
   "source": [
    "isa_ds[0].investigation"
   ],
   "outputs": []
  },
  {
   "cell_type": "code",
   "execution_count": 20,
   "id": "daa5fed2-b90a-4bc0-942c-c086ee539a73",
   "metadata": {},
   "source": [
    "isa_ds[0].investigation.studies"
   ],
   "outputs": []
  },
  {
   "cell_type": "code",
   "execution_count": 21,
   "id": "7455712e-f991-4c57-b9d3-73657dc61879",
   "metadata": {},
   "source": "from omnipy.components.isa.flows import flatten_isa_json",
   "outputs": []
  },
  {
   "cell_type": "code",
   "execution_count": 22,
   "id": "4c998644-e409-48aa-9f43-7e7af6c24e60",
   "metadata": {},
   "source": [
    "flattened_isa_ds = flatten_isa_json.run(isa_ds)"
   ],
   "outputs": []
  },
  {
   "cell_type": "code",
   "execution_count": 23,
   "id": "623bd51a-0638-4920-b04a-7582489df9c2",
   "metadata": {},
   "source": [
    "flattened_isa_ds"
   ],
   "outputs": []
  },
  {
   "cell_type": "code",
   "execution_count": 25,
   "id": "6db0a1e2-64dd-4d8b-a83e-551dae7fdf76",
   "metadata": {},
   "source": "flattened_isa_ds['investigation.studies.assays.dataFiles'].peek()",
   "outputs": []
  }
 ],
 "metadata": {
  "kernelspec": {
   "display_name": "Python 3 (ipykernel)",
   "language": "python",
   "name": "python3"
  },
  "language_info": {
   "codemirror_mode": {
    "name": "ipython",
    "version": 3
   },
   "file_extension": ".py",
   "mimetype": "text/x-python",
   "name": "python",
   "nbconvert_exporter": "python",
   "pygments_lexer": "ipython3",
   "version": "3.10.8"
  }
 },
 "nbformat": 4,
 "nbformat_minor": 5
}
