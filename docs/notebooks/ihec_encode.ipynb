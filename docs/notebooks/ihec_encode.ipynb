{
 "cells": [
  {
   "cell_type": "code",
   "execution_count": 1,
   "id": "5eea112e761afe07",
   "metadata": {},
   "outputs": [],
   "source": [
    "# Hack: empty cell to allow Omnipy to detect Jupyter embedded within PyCharm (see https://github.com/fairtracks/omnipy/issues/244)"
   ]
  },
  {
   "cell_type": "code",
   "execution_count": 2,
   "id": "3f67fcd4b0ec6682",
   "metadata": {},
   "outputs": [
    {
     "data": {
      "text/html": [
       "        <div style=\"display: flex;\">\n",
       "            <div style=\"flex:1; width: 30px;\">ℹ️</div>\n",
       "            <div style=\"width: calc(100% - 30px);\">Omnipy has detected that it is being imported into a Jupyter\n",
       "session. Please run the following in a separate cell:\n",
       "\n",
       "<pre><code>import omnipy as om\n",
       "om.setup_jupyter_ui()\n",
       "</code></pre>\n",
       "</div>\n",
       "        </div>\n"
      ]
     },
     "metadata": {},
     "output_type": "display_data"
    },
    {
     "data": {
      "text/html": [
       "<div style=\"display: flex;\">\n",
       "    <div style=\"flex:1; width: 30px;\">🌐</div>\n",
       "    <div style=\"width: calc(100% - 30px);\">The Jupyter kernel currently runs in web browser mode. <i>(If you are running Jupyter elsewhere, e.g. from within PyCharm, you probably want to restart the kernel.)</i></div>\n",
       "</div>\n"
      ]
     },
     "metadata": {},
     "output_type": "display_data"
    },
    {
     "data": {
      "text/html": [
       "<div style=\"display: flex;\">\n",
       "    <div style=\"flex:1; width: 30px;\">🔧</div>\n",
       "    <div style=\"width: calc(100% - 30px);\"><i>Workaround for <a href=\"https://github.com/fairtracks/omnipy/issues/244\">Jupyter in PyCharm detection issue</a>:</i> immediately after kernel startup, run an empty or unrelated cell before the cell that loads Omnipy.</div>\n",
       "</div>\n"
      ]
     },
     "metadata": {},
     "output_type": "display_data"
    }
   ],
   "source": [
    "from omnipy import Model, Dataset"
   ]
  },
  {
   "cell_type": "code",
   "execution_count": 3,
   "id": "5f9e3e06-01ae-4e70-84ba-70b5a7048a0c",
   "metadata": {},
   "outputs": [
    {
     "data": {
      "text/html": [
       "            <noscript>\n",
       "            <div style=\"display: flex;\">\n",
       "    <div style=\"flex:1; width: 30px;\">⚠️</div>\n",
       "    <div style=\"width: calc(100% - 30px);\">This cell was not loaded properly! You probably want to rerun the code cell above (<i>Click in the code cell, and press Shift+Enter <kbd>⇧</kbd>+<kbd>↩</kbd></i>).</div>\n",
       "</div>\n",
       "\n",
       "            </noscript>\n"
      ]
     },
     "metadata": {},
     "output_type": "display_data"
    },
    {
     "data": {
      "text/html": [
       "<div style=\"display: flex;\">\n",
       "    <div style=\"flex:1; width: 30px;\">⚙️</div>\n",
       "    <div style=\"width: calc(100% - 30px);\">This cell contains CSS styling and hidden widgets to allow clean and reactive display of Omnipy outputs when running Jupyter in a web browser.</div>\n",
       "</div>\n",
       "        <div><style>\n",
       "        /*\n",
       "Improve font rendering\n",
       "*/\n",
       "\n",
       "#main, .vuetify-styles {\n",
       "    text-rendering: geometricPrecision;\n",
       "    -webkit-font-smoothing: subpixel-antialiased;\n",
       "    -moz-osx-font-smoothing: grayscale;\n",
       "}\n",
       "\n",
       "/*\n",
       "Workaround for an issue where cells that are far out of view\n",
       "lose their padding. This causes issues with panels resizing\n",
       "when scrolling quickly.\n",
       "*/\n",
       "\n",
       ".jp-Cell {\n",
       "    padding: var(--jp-cell-padding) !important;\n",
       "}\n",
       "\n",
       "/*\n",
       "Remove horizontal spacing for vuetify code elements\n",
       "*/\n",
       "\n",
       ":where(.vuetify-styles) .v-application code:after,\n",
       ":where(.vuetify-styles) .v-application code:before,\n",
       ":where(.vuetify-styles) .v-application kbd:after,\n",
       ":where(.vuetify-styles) .v-application kbd:before {\n",
       "    content: none;\n",
       "    letter-spacing: 0px;\n",
       "}\n",
       "\n",
       "/*\n",
       "Remove Vuetify background color in order to support\n",
       "solid_background=False\n",
       "*/\n",
       "\n",
       ":where(.vuetify-styles) .v-application code {\n",
       "    background-color: unset;\n",
       "}\n",
       "\n",
       ":where(.vuetify-styles) .theme--dark.v-sheet {\n",
       "    background-color: unset;\n",
       "}\n",
       "\n",
       ":where(.vuetify-styles) .theme--light.v-sheet {\n",
       "    background-color: unset;\n",
       "}\n",
       "\n",
       "/*\n",
       "Remove padding and margin for hidden widgets to remove vertical\n",
       "whitespace\n",
       "*/\n",
       "\n",
       ".solara-content-main > div.col:has(> .omnipy-hidden) {\n",
       "    padding: 0px !important;\n",
       "}\n",
       "\n",
       ".solara-content-main:has(.omnipy-hidden) {\n",
       "    margin: 0px !important;\n",
       "}\n",
       "\n",
       "/*\n",
       "Make sure cell that contain hidden widgets do not collapse\n",
       "completely when scrolled out of view.\n",
       "*/\n",
       "\n",
       ".jp-Cell.getsize-protected-cell[style*=\"display: none;\"]{\n",
       "    display: block !important;\n",
       "    height: 0px !important;\n",
       "    opacity: 0px !important;\n",
       "    padding: 0px 5px 0px 5px !important;\n",
       "    }\n",
       "\n",
       "/*\n",
       "Fix horizontal stripes in HTML output when reactive widgets are not\n",
       "loaded (e.g. if a notebook with stored HTML outputs is viewed\n",
       "without rerunning the cells).\n",
       "*/\n",
       "\n",
       ".jp-RenderedHTMLCommon code {\n",
       "    display: inline-block;\n",
       "}\n",
       "\n",
       "/*\n",
       "Remove black lines in ANSI-encoded code blocks\n",
       "*/\n",
       "\n",
       ".jp-RenderedText pre {\n",
       "    line-height: normal !important;\n",
       "}\n",
       "        </style></div>\n"
      ],
      "text/plain": [
       "No Omnipy-related CSS styling or hidden widgets were loaded due to plain text output."
      ]
     },
     "metadata": {},
     "output_type": "display_data"
    },
    {
     "data": {
      "text/html": [
       "<div style=\"display: flex;\">\n",
       "    <div style=\"flex:1; width: 30px;\">↻</div>\n",
       "    <div style=\"width: calc(100% - 30px);\"><i>Make sure to rerun this cell whenever the kernel is restarted.</i></div>\n",
       "</div>\n"
      ]
     },
     "metadata": {},
     "output_type": "display_data"
    },
    {
     "data": {
      "text/html": [
       "<div style=\"display: flex;\">\n",
       "    <div style=\"flex:1; width: 30px;\">🔧</div>\n",
       "    <div style=\"width: calc(100% - 30px);\"><i>Workaround for <a href=\"https://github.com/jupyterlab/jupyterlab/issues/15968\">JupyterLab erratic scrolling issue</a>:</i> set the \"Windowing mode\" setting under the \"Notebook\" section of the \"Settings Editor\" (from the \"Settings\" menu) to <i>\"defer\"</i> instead of the default <i>\"full\"</i>. Reactive functionality might be less responsive in this mode.</div>\n",
       "</div>\n"
      ]
     },
     "metadata": {},
     "output_type": "display_data"
    },
    {
     "data": {
      "application/vnd.jupyter.widget-view+json": {
       "model_id": "6df40ec45be74d56b59d189d3759e1d0",
       "version_major": 2,
       "version_minor": 0
      },
      "text/html": [
       "<div style=\"display: flex;\">\n",
       "    <div style=\"flex:1; width: 30px;\">⚠️</div>\n",
       "    <div style=\"width: calc(100% - 30px);\">Widget to automatically detect theme background color was not loaded.</div>\n",
       "</div>\n"
      ],
      "text/plain": [
       "Cannot show ipywidgets in text"
      ]
     },
     "metadata": {},
     "output_type": "display_data"
    },
    {
     "data": {
      "application/vnd.jupyter.widget-view+json": {
       "model_id": "45a7a0cf153749408cf4fdcba13cdd4b",
       "version_major": 2,
       "version_minor": 0
      },
      "text/html": [
       "<div style=\"display: flex;\">\n",
       "    <div style=\"flex:1; width: 30px;\">⚠️</div>\n",
       "    <div style=\"width: calc(100% - 30px);\">Widget to automatically detect window size was not loaded.</div>\n",
       "</div>\n"
      ],
      "text/plain": [
       "Cannot show ipywidgets in text"
      ]
     },
     "metadata": {},
     "output_type": "display_data"
    },
    {
     "data": {
      "text/html": [
       "<noscript></noscript>"
      ]
     },
     "metadata": {},
     "output_type": "display_data"
    }
   ],
   "source": [
    "import omnipy as om\n",
    "om.setup_jupyter_ui()"
   ]
  },
  {
   "cell_type": "code",
   "execution_count": 4,
   "id": "d78cedde3d7eab6d",
   "metadata": {},
   "outputs": [
    {
     "data": {
      "application/vnd.jupyter.widget-view+json": {
       "model_id": "02a454790486442c925d36354c24c83c",
       "version_major": 2,
       "version_minor": 0
      },
      "text/html": [
       "<div style=\"display: flex;\">\n",
       "    <div style=\"flex:1; width: 30px;\">⚠️</div>\n",
       "    <div style=\"width: calc(100% - 30px);\">Widget for reactive Omnipy output was not loaded. If you are running Jupyter in a web browser, you probably want to rerun the code cell above (<i>Click in the code cell, and press Shift+Enter <kbd>⇧</kbd>+<kbd>↩</kbd></i>).</div>\n",
       "</div>\n",
       "<pre><code style=\"font-family: 'Menlo', 'DejaVu Sans Mono', 'Consolas', 'Courier New', 'monospace'; font-size: 14px; font-weight: 400; line-height: 1.25; color: #474747; \"><span style=\"color: #777777; text-decoration-color: #777777\">╭──────────────────────────────────────────────────────────────────────────────────────────────────────────────╮</span>\n",
       "<span style=\"color: #777777; text-decoration-color: #777777\">│ </span><span style=\"color: #af8500; text-decoration-color: #af8500; font-style: italic\">                                                ConfigModel                                                 </span><span style=\"color: #777777; text-decoration-color: #777777\"> │</span>\n",
       "<span style=\"color: #777777; text-decoration-color: #777777\">│ </span><span style=\"color: #af8500; text-decoration-color: #af8500; font-style: italic\">                                                                                                            </span><span style=\"color: #777777; text-decoration-color: #777777\"> │</span>\n",
       "<span style=\"color: #777777; text-decoration-color: #777777\">│ </span><span style=\"color: #474747; text-decoration-color: #474747\">{</span><span style=\"color: #777777; text-decoration-color: #777777\">                                                                                                            │</span>\n",
       "<span style=\"color: #777777; text-decoration-color: #777777\">│ </span><span style=\"color: #474747; text-decoration-color: #474747\">  </span><span style=\"color: #6b40c3; text-decoration-color: #6b40c3\">&quot;data&quot;</span><span style=\"color: #474747; text-decoration-color: #474747\">: {</span><span style=\"color: #777777; text-decoration-color: #777777\">                                                                                                  │</span>\n",
       "<span style=\"color: #777777; text-decoration-color: #777777\">│ </span><span style=\"color: #474747; text-decoration-color: #474747\">    </span><span style=\"color: #6b40c3; text-decoration-color: #6b40c3\">&quot;ui&quot;</span><span style=\"color: #474747; text-decoration-color: #474747\">: {</span><span style=\"color: #777777; text-decoration-color: #777777\">                                                                                                  │</span>\n",
       "<span style=\"color: #777777; text-decoration-color: #777777\">│ </span><span style=\"color: #474747; text-decoration-color: #474747\">      </span><span style=\"color: #6b40c3; text-decoration-color: #6b40c3\">&quot;detected_type&quot;</span><span style=\"color: #474747; text-decoration-color: #474747\">: </span><span style=\"color: #008400; text-decoration-color: #008400\">&quot;jupyter&quot;</span><span style=\"color: #474747; text-decoration-color: #474747\">,</span><span style=\"color: #777777; text-decoration-color: #777777\">                                                                            │</span>\n",
       "<span style=\"color: #777777; text-decoration-color: #777777\">│ </span><span style=\"color: #474747; text-decoration-color: #474747\">      </span><span style=\"color: #6b40c3; text-decoration-color: #6b40c3\">&quot;terminal&quot;</span><span style=\"color: #474747; text-decoration-color: #474747\">: {</span><span style=\"color: #777777; text-decoration-color: #777777\">                                                                                          │</span>\n",
       "<span style=\"color: #777777; text-decoration-color: #777777\">│ </span><span style=\"color: #474747; text-decoration-color: #474747\">        </span><span style=\"color: #6b40c3; text-decoration-color: #6b40c3\">&quot;dims_mode&quot;</span><span style=\"color: #474747; text-decoration-color: #474747\">: </span><span style=\"color: #008400; text-decoration-color: #008400\">&quot;auto&quot;</span><span style=\"color: #474747; text-decoration-color: #474747\">,</span><span style=\"color: #777777; text-decoration-color: #777777\">                                                                                 │</span>\n",
       "<span style=\"color: #777777; text-decoration-color: #777777\">│ </span><span style=\"color: #474747; text-decoration-color: #474747\">        </span><span style=\"color: #6b40c3; text-decoration-color: #6b40c3\">&quot;width&quot;</span><span style=\"color: #474747; text-decoration-color: #474747\">: </span><span style=\"color: #ba3700; text-decoration-color: #ba3700\">80</span><span style=\"color: #474747; text-decoration-color: #474747\">,</span><span style=\"color: #777777; text-decoration-color: #777777\">                                                                                         │</span>\n",
       "<span style=\"color: #777777; text-decoration-color: #777777\">│ </span><span style=\"color: #474747; text-decoration-color: #474747\">        </span><span style=\"color: #6b40c3; text-decoration-color: #6b40c3\">&quot;height&quot;</span><span style=\"color: #474747; text-decoration-color: #474747\">: </span><span style=\"color: #ba3700; text-decoration-color: #ba3700\">24</span><span style=\"color: #474747; text-decoration-color: #474747\">,</span><span style=\"color: #777777; text-decoration-color: #777777\">                                                                                        │</span>\n",
       "<span style=\"color: #777777; text-decoration-color: #777777\">│ </span><span style=\"color: #474747; text-decoration-color: #474747\">        </span><span style=\"color: #6b40c3; text-decoration-color: #6b40c3\">&quot;color&quot;</span><span style=\"color: #474747; text-decoration-color: #474747\">: {</span><span style=\"color: #777777; text-decoration-color: #777777\">                                                                                           │</span>\n",
       "<span style=\"color: #777777; text-decoration-color: #777777\">│ </span><span style=\"color: #474747; text-decoration-color: #474747\">          </span><span style=\"color: #6b40c3; text-decoration-color: #6b40c3\">&quot;system&quot;</span><span style=\"color: #474747; text-decoration-color: #474747\">: </span><span style=\"color: #008400; text-decoration-color: #008400\">&quot;auto&quot;</span><span style=\"color: #474747; text-decoration-color: #474747\">,</span><span style=\"color: #777777; text-decoration-color: #777777\">                                                                                  │</span>\n",
       "<span style=\"color: #777777; text-decoration-color: #777777\">│ </span><span style=\"color: #474747; text-decoration-color: #474747\">          </span><span style=\"color: #6b40c3; text-decoration-color: #6b40c3\">&quot;style&quot;</span><span style=\"color: #474747; text-decoration-color: #474747\">: </span><span style=\"color: #008400; text-decoration-color: #008400\">&quot;ansi-light&quot;</span><span style=\"color: #474747; text-decoration-color: #474747\">,</span><span style=\"color: #777777; text-decoration-color: #777777\">                                                                             │</span>\n",
       "<span style=\"color: #777777; text-decoration-color: #777777\">│ </span><span style=\"color: #474747; text-decoration-color: #474747\">          </span><span style=\"color: #6b40c3; text-decoration-color: #6b40c3\">&quot;dark_background&quot;</span><span style=\"color: #474747; text-decoration-color: #474747\">: </span><span style=\"color: #af8500; text-decoration-color: #af8500; font-weight: bold\">false</span><span style=\"color: #474747; text-decoration-color: #474747\">,</span><span style=\"color: #777777; text-decoration-color: #777777\">                                                                          │</span>\n",
       "<span style=\"color: #777777; text-decoration-color: #777777\">│ </span><span style=\"color: #474747; text-decoration-color: #474747\">          </span><span style=\"color: #6b40c3; text-decoration-color: #6b40c3\">&quot;solid_background&quot;</span><span style=\"color: #474747; text-decoration-color: #474747\">: </span><span style=\"color: #af8500; text-decoration-color: #af8500; font-weight: bold\">false</span><span style=\"color: #777777; text-decoration-color: #777777\">                                                                          │</span>\n",
       "<span style=\"color: #777777; text-decoration-color: #777777\">│ </span><span style=\"color: #474747; text-decoration-color: #474747\">        }</span><span style=\"color: #777777; text-decoration-color: #777777\">                                                                                                    │</span>\n",
       "<span style=\"color: #777777; text-decoration-color: #777777\">│ </span><span style=\"color: #474747; text-decoration-color: #474747\">      },</span><span style=\"color: #777777; text-decoration-color: #777777\">                                                                                                     │</span>\n",
       "<span style=\"color: #777777; text-decoration-color: #777777\">│ </span><span style=\"color: #474747; text-decoration-color: #474747\">      </span><span style=\"color: #6b40c3; text-decoration-color: #6b40c3\">&quot;jupyter&quot;</span><span style=\"color: #474747; text-decoration-color: #474747\">: {</span><span style=\"color: #777777; text-decoration-color: #777777\">                                                                                           │</span>\n",
       "<span style=\"color: #777777; text-decoration-color: #777777\">│ </span><span style=\"color: #474747; text-decoration-color: #474747\">        </span><span style=\"color: #6b40c3; text-decoration-color: #6b40c3\">&quot;dims_mode&quot;</span><span style=\"color: #474747; text-decoration-color: #474747\">: </span><span style=\"color: #008400; text-decoration-color: #008400\">&quot;auto&quot;</span><span style=\"color: #474747; text-decoration-color: #474747\">,</span><span style=\"color: #777777; text-decoration-color: #777777\">                                                                                 │</span>\n",
       "<span style=\"color: #777777; text-decoration-color: #777777\">│ </span><span style=\"color: #474747; text-decoration-color: #474747\">        </span><span style=\"color: #6b40c3; text-decoration-color: #6b40c3\">&quot;width&quot;</span><span style=\"color: #474747; text-decoration-color: #474747\">: </span><span style=\"color: #ba3700; text-decoration-color: #ba3700\">112</span><span style=\"color: #474747; text-decoration-color: #474747\">,</span><span style=\"color: #777777; text-decoration-color: #777777\">                                                                                        │</span>\n",
       "<span style=\"color: #777777; text-decoration-color: #777777\">│ </span><span style=\"color: #474747; text-decoration-color: #474747\">        </span><span style=\"color: #6b40c3; text-decoration-color: #6b40c3\">&quot;height&quot;</span><span style=\"color: #474747; text-decoration-color: #474747\">: </span><span style=\"color: #ba3700; text-decoration-color: #ba3700\">48</span><span style=\"color: #474747; text-decoration-color: #474747\">,</span><span style=\"color: #777777; text-decoration-color: #777777\">                                                                                        │</span>\n",
       "<span style=\"color: #777777; text-decoration-color: #777777\">│ </span><span style=\"color: #474747; text-decoration-color: #474747\">        </span><span style=\"color: #6b40c3; text-decoration-color: #6b40c3\">&quot;color&quot;</span><span style=\"color: #474747; text-decoration-color: #474747\">: {</span><span style=\"color: #777777; text-decoration-color: #777777\">                                                                                           │</span>\n",
       "<span style=\"color: #777777; text-decoration-color: #777777\">│ </span><span style=\"color: #474747; text-decoration-color: #474747\">          </span><span style=\"color: #6b40c3; text-decoration-color: #6b40c3\">&quot;system&quot;</span><span style=\"color: #474747; text-decoration-color: #474747\">: </span><span style=\"color: #008400; text-decoration-color: #008400\">&quot;truecolor&quot;</span><span style=\"color: #474747; text-decoration-color: #474747\">,</span><span style=\"color: #777777; text-decoration-color: #777777\">                                                                             │</span>\n",
       "<span style=\"color: #777777; text-decoration-color: #777777\">│ </span><span style=\"color: #474747; text-decoration-color: #474747\">          </span><span style=\"color: #6b40c3; text-decoration-color: #6b40c3\">&quot;style&quot;</span><span style=\"color: #474747; text-decoration-color: #474747\">: </span><span style=\"color: #008400; text-decoration-color: #008400\">&quot;omnipy-selenized-white&quot;</span><span style=\"color: #474747; text-decoration-color: #474747\">,</span><span style=\"color: #777777; text-decoration-color: #777777\">                                                                 │</span>\n",
       "<span style=\"color: #777777; text-decoration-color: #777777\">│ </span><span style=\"color: #474747; text-decoration-color: #474747\">          </span><span style=\"color: #6b40c3; text-decoration-color: #6b40c3\">&quot;dark_background&quot;</span><span style=\"color: #474747; text-decoration-color: #474747\">: </span><span style=\"color: #af8500; text-decoration-color: #af8500; font-weight: bold\">false</span><span style=\"color: #474747; text-decoration-color: #474747\">,</span><span style=\"color: #777777; text-decoration-color: #777777\">                                                                          │</span>\n",
       "<span style=\"color: #777777; text-decoration-color: #777777\">│ </span><span style=\"color: #474747; text-decoration-color: #474747\">          </span><span style=\"color: #6b40c3; text-decoration-color: #6b40c3\">&quot;solid_background&quot;</span><span style=\"color: #474747; text-decoration-color: #474747\">: </span><span style=\"color: #af8500; text-decoration-color: #af8500; font-weight: bold\">false</span><span style=\"color: #777777; text-decoration-color: #777777\">                                                                          │</span>\n",
       "<span style=\"color: #777777; text-decoration-color: #777777\">│ </span><span style=\"color: #474747; text-decoration-color: #474747\">        },</span><span style=\"color: #777777; text-decoration-color: #777777\">                                                                                                   │</span>\n",
       "<span style=\"color: #777777; text-decoration-color: #777777\">│ </span><span style=\"color: #474747; text-decoration-color: #474747\">        </span><span style=\"color: #6b40c3; text-decoration-color: #6b40c3\">&quot;font&quot;</span><span style=\"color: #474747; text-decoration-color: #474747\">: {</span><span style=\"color: #777777; text-decoration-color: #777777\">                                                                                            │</span>\n",
       "<span style=\"color: #777777; text-decoration-color: #777777\">│ </span><span style=\"color: #474747; text-decoration-color: #474747\">          </span><span style=\"color: #6b40c3; text-decoration-color: #6b40c3\">&quot;families&quot;</span><span style=\"color: #474747; text-decoration-color: #474747\">: [ </span><span style=\"color: #008400; text-decoration-color: #008400\">&quot;Menlo&quot;</span><span style=\"color: #474747; text-decoration-color: #474747\">, </span><span style=\"color: #008400; text-decoration-color: #008400\">&quot;DejaVu Sans Mono&quot;</span><span style=\"color: #474747; text-decoration-color: #474747\">, </span><span style=\"color: #008400; text-decoration-color: #008400\">&quot;Consolas&quot;</span><span style=\"color: #474747; text-decoration-color: #474747\">, </span><span style=\"color: #008400; text-decoration-color: #008400\">&quot;Courier New&quot;</span><span style=\"color: #474747; text-decoration-color: #474747\">, </span><span style=\"color: #008400; text-decoration-color: #008400\">&quot;monospace&quot;</span><span style=\"color: #474747; text-decoration-color: #474747\"> ],</span><span style=\"color: #777777; text-decoration-color: #777777\">               │</span>\n",
       "<span style=\"color: #777777; text-decoration-color: #777777\">│ </span><span style=\"color: #474747; text-decoration-color: #474747\">          </span><span style=\"color: #6b40c3; text-decoration-color: #6b40c3\">&quot;size&quot;</span><span style=\"color: #474747; text-decoration-color: #474747\">: </span><span style=\"color: #ba3700; text-decoration-color: #ba3700\">14</span><span style=\"color: #474747; text-decoration-color: #474747\">,</span><span style=\"color: #777777; text-decoration-color: #777777\">                                                                                        │</span>\n",
       "<span style=\"color: #777777; text-decoration-color: #777777\">│ </span><span style=\"color: #474747; text-decoration-color: #474747\">          </span><span style=\"color: #6b40c3; text-decoration-color: #6b40c3\">&quot;weight&quot;</span><span style=\"color: #474747; text-decoration-color: #474747\">: </span><span style=\"color: #ba3700; text-decoration-color: #ba3700\">400</span><span style=\"color: #474747; text-decoration-color: #474747\">,</span><span style=\"color: #777777; text-decoration-color: #777777\">                                                                                     │</span>\n",
       "<span style=\"color: #777777; text-decoration-color: #777777\">│ </span><span style=\"color: #474747; text-decoration-color: #474747\">          </span><span style=\"color: #6b40c3; text-decoration-color: #6b40c3\">&quot;line_height&quot;</span><span style=\"color: #474747; text-decoration-color: #474747\">: </span><span style=\"color: #ba3700; text-decoration-color: #ba3700\">1.25</span><span style=\"color: #777777; text-decoration-color: #777777\">                                                                                │</span>\n",
       "<span style=\"color: #777777; text-decoration-color: #777777\">│ </span><span style=\"color: #474747; text-decoration-color: #474747\">        }</span><span style=\"color: #777777; text-decoration-color: #777777\">                                                                                                    │</span>\n",
       "<span style=\"color: #777777; text-decoration-color: #777777\">│ </span><span style=\"color: #474747; text-decoration-color: #474747\">      },</span><span style=\"color: #777777; text-decoration-color: #777777\">                                                                                                     │</span>\n",
       "<span style=\"color: #777777; text-decoration-color: #777777\">│ </span><span style=\"color: #474747; text-decoration-color: #474747\">      </span><span style=\"color: #6b40c3; text-decoration-color: #6b40c3\">&quot;browser&quot;</span><span style=\"color: #474747; text-decoration-color: #474747\">: {</span><span style=\"color: #777777; text-decoration-color: #777777\">                                                                                           │</span>\n",
       "<span style=\"color: #777777; text-decoration-color: #777777\">│ </span><span style=\"color: #474747; text-decoration-color: #474747\">        </span><span style=\"color: #6b40c3; text-decoration-color: #6b40c3\">&quot;width&quot;</span><span style=\"color: #474747; text-decoration-color: #474747\">: </span><span style=\"color: #ba3700; text-decoration-color: #ba3700\">160</span><span style=\"color: #474747; text-decoration-color: #474747\">,</span><span style=\"color: #777777; text-decoration-color: #777777\">                                                                                        │</span>\n",
       "<span style=\"color: #777777; text-decoration-color: #777777\">│ </span><span style=\"color: #474747; text-decoration-color: #474747\">        </span><span style=\"color: #6b40c3; text-decoration-color: #6b40c3\">&quot;height&quot;</span><span style=\"color: #474747; text-decoration-color: #474747\">: </span><span style=\"color: #af8500; text-decoration-color: #af8500; font-weight: bold\">null</span><span style=\"color: #474747; text-decoration-color: #474747\">,</span><span style=\"color: #777777; text-decoration-color: #777777\">                                                                                      │</span>\n",
       "<span style=\"color: #777777; text-decoration-color: #777777\">│ </span><span style=\"color: #474747; text-decoration-color: #474747\">        </span><span style=\"color: #6b40c3; text-decoration-color: #6b40c3\">&quot;color&quot;</span><span style=\"color: #474747; text-decoration-color: #474747\">: {</span><span style=\"color: #777777; text-decoration-color: #777777\">                                                                                           │</span>\n",
       "<span style=\"color: #777777; text-decoration-color: #777777\">│ </span><span style=\"color: #474747; text-decoration-color: #474747\">          </span><span style=\"color: #6b40c3; text-decoration-color: #6b40c3\">&quot;system&quot;</span><span style=\"color: #474747; text-decoration-color: #474747\">: </span><span style=\"color: #008400; text-decoration-color: #008400\">&quot;truecolor&quot;</span><span style=\"color: #474747; text-decoration-color: #474747\">,</span><span style=\"color: #777777; text-decoration-color: #777777\">                                                                             │</span>\n",
       "<span style=\"color: #777777; text-decoration-color: #777777\">│ </span><span style=\"color: #474747; text-decoration-color: #474747\">          </span><span style=\"color: #6b40c3; text-decoration-color: #6b40c3\">&quot;style&quot;</span><span style=\"color: #474747; text-decoration-color: #474747\">: </span><span style=\"color: #008400; text-decoration-color: #008400\">&quot;omnipy-selenized-white&quot;</span><span style=\"color: #474747; text-decoration-color: #474747\">,</span><span style=\"color: #777777; text-decoration-color: #777777\">                                                                 │</span>\n",
       "<span style=\"color: #777777; text-decoration-color: #777777\">│ </span><span style=\"color: #474747; text-decoration-color: #474747\">          </span><span style=\"color: #6b40c3; text-decoration-color: #6b40c3\">&quot;dark_background&quot;</span><span style=\"color: #474747; text-decoration-color: #474747\">: </span><span style=\"color: #af8500; text-decoration-color: #af8500; font-weight: bold\">false</span><span style=\"color: #474747; text-decoration-color: #474747\">,</span><span style=\"color: #777777; text-decoration-color: #777777\">                                                                          │</span>\n",
       "<span style=\"color: #777777; text-decoration-color: #777777\">│ </span><span style=\"color: #474747; text-decoration-color: #474747\">          </span><span style=\"color: #6b40c3; text-decoration-color: #6b40c3\">&quot;solid_background&quot;</span><span style=\"color: #474747; text-decoration-color: #474747\">: </span><span style=\"color: #af8500; text-decoration-color: #af8500; font-weight: bold\">false</span><span style=\"color: #777777; text-decoration-color: #777777\">                                                                          │</span>\n",
       "<span style=\"color: #777777; text-decoration-color: #777777\">│ </span><span style=\"color: #474747; text-decoration-color: #474747\">        },</span><span style=\"color: #777777; text-decoration-color: #777777\">                                                                                                   │</span>\n",
       "<span style=\"color: #777777; text-decoration-color: #777777\">│ </span><span style=\"color: #474747; text-decoration-color: #474747\">        </span><span style=\"color: #6b40c3; text-decoration-color: #6b40c3\">&quot;font&quot;</span><span style=\"color: #474747; text-decoration-color: #474747\">: {</span><span style=\"color: #777777; text-decoration-color: #777777\">                                                                                            │</span>\n",
       "<span style=\"color: #777777; text-decoration-color: #777777\">│ </span><span style=\"color: #474747; text-decoration-color: #474747\">          </span><span style=\"color: #6b40c3; text-decoration-color: #6b40c3\">&quot;families&quot;</span><span style=\"color: #474747; text-decoration-color: #474747\">: [ </span><span style=\"color: #008400; text-decoration-color: #008400\">&quot;Menlo&quot;</span><span style=\"color: #474747; text-decoration-color: #474747\">, </span><span style=\"color: #008400; text-decoration-color: #008400\">&quot;DejaVu Sans Mono&quot;</span><span style=\"color: #474747; text-decoration-color: #474747\">, </span><span style=\"color: #008400; text-decoration-color: #008400\">&quot;Consolas&quot;</span><span style=\"color: #474747; text-decoration-color: #474747\">, </span><span style=\"color: #008400; text-decoration-color: #008400\">&quot;Courier New&quot;</span><span style=\"color: #474747; text-decoration-color: #474747\">, </span><span style=\"color: #008400; text-decoration-color: #008400\">&quot;monospace&quot;</span><span style=\"color: #474747; text-decoration-color: #474747\"> ],</span><span style=\"color: #777777; text-decoration-color: #777777\">               │</span>\n",
       "<span style=\"color: #777777; text-decoration-color: #777777\">│ </span><span style=\"color: #474747; text-decoration-color: #474747\">          </span><span style=\"color: #6b40c3; text-decoration-color: #6b40c3\">&quot;size&quot;</span><span style=\"color: #474747; text-decoration-color: #474747\">: </span><span style=\"color: #ba3700; text-decoration-color: #ba3700\">14</span><span style=\"color: #474747; text-decoration-color: #474747\">,</span><span style=\"color: #777777; text-decoration-color: #777777\">                                                                                        │</span>\n",
       "<span style=\"color: #777777; text-decoration-color: #777777\">│ </span><span style=\"color: #474747; text-decoration-color: #474747\">          </span><span style=\"color: #6b40c3; text-decoration-color: #6b40c3\">&quot;weight&quot;</span><span style=\"color: #474747; text-decoration-color: #474747\">: </span><span style=\"color: #ba3700; text-decoration-color: #ba3700\">400</span><span style=\"color: #474747; text-decoration-color: #474747\">,</span><span style=\"color: #777777; text-decoration-color: #777777\">                                                                                     │</span>\n",
       "<span style=\"color: #777777; text-decoration-color: #777777\">│ </span><span style=\"color: #474747; text-decoration-color: #474747\">          </span><span style=\"color: #6b40c3; text-decoration-color: #6b40c3\">&quot;line_height&quot;</span><span style=\"color: #474747; text-decoration-color: #474747\">: </span><span style=\"color: #ba3700; text-decoration-color: #ba3700\">1.25</span><span style=\"color: #777777; text-decoration-color: #777777\">                                                                                │</span>\n",
       "<span style=\"color: #777777; text-decoration-color: #777777\">│ </span><span style=\"color: #474747; text-decoration-color: #474747\">        }</span><span style=\"color: #777777; text-decoration-color: #777777\">                                                                                                    │</span>\n",
       "<span style=\"color: #777777; text-decoration-color: #777777\">│ </span><span style=\"color: #474747; text-decoration-color: #474747\">      },</span><span style=\"color: #777777; text-decoration-color: #777777\">                                                                                                     │</span>\n",
       "<span style=\"color: #777777; text-decoration-color: #777777\">│ </span><span style=\"color: #474747; text-decoration-color: #474747\">      </span><span style=\"color: #6b40c3; text-decoration-color: #6b40c3\">&quot;text&quot;</span><span style=\"color: #474747; text-decoration-color: #474747\">: {</span><span style=\"color: #777777; text-decoration-color: #777777\">                                                                                              │</span>\n",
       "<span style=\"color: #777777; text-decoration-color: #777777\">│ </span><span style=\"color: #474747; text-decoration-color: #474747\">        </span><span style=\"color: #6b40c3; text-decoration-color: #6b40c3\">&quot;overflow&quot;</span><span style=\"color: #474747; text-decoration-color: #474747\">: { </span><span style=\"color: #6b40c3; text-decoration-color: #6b40c3\">&quot;horizontal&quot;</span><span style=\"color: #474747; text-decoration-color: #474747\">: </span><span style=\"color: #008400; text-decoration-color: #008400\">&quot;ellipsis&quot;</span><span style=\"color: #474747; text-decoration-color: #474747\">, </span><span style=\"color: #6b40c3; text-decoration-color: #6b40c3\">&quot;vertical&quot;</span><span style=\"color: #474747; text-decoration-color: #474747\">: </span><span style=\"color: #008400; text-decoration-color: #008400\">&quot;ellipsis_bottom&quot;</span><span style=\"color: #474747; text-decoration-color: #474747\"> },</span><span style=\"color: #777777; text-decoration-color: #777777\">                             │</span>\n",
       "<span style=\"color: #777777; text-decoration-color: #777777\">│ </span><span style=\"color: #474747; text-decoration-color: #474747\">        </span><span style=\"color: #6b40c3; text-decoration-color: #6b40c3\">&quot;tab_size&quot;</span><span style=\"color: #474747; text-decoration-color: #474747\">: </span><span style=\"color: #ba3700; text-decoration-color: #ba3700\">4</span><span style=\"color: #474747; text-decoration-color: #474747\">,</span><span style=\"color: #777777; text-decoration-color: #777777\">                                                                                       │</span>\n",
       "<span style=\"color: #777777; text-decoration-color: #777777\">│ </span><span style=\"color: #474747; text-decoration-color: #474747\">        </span><span style=\"color: #6b40c3; text-decoration-color: #6b40c3\">&quot;indent_tab_size&quot;</span><span style=\"color: #474747; text-decoration-color: #474747\">: </span><span style=\"color: #ba3700; text-decoration-color: #ba3700\">2</span><span style=\"color: #474747; text-decoration-color: #474747\">,</span><span style=\"color: #777777; text-decoration-color: #777777\">                                                                                │</span>\n",
       "<span style=\"color: #777777; text-decoration-color: #777777\">│ </span><span style=\"color: #474747; text-decoration-color: #474747\">        </span><span style=\"color: #6b40c3; text-decoration-color: #6b40c3\">&quot;pretty_printer&quot;</span><span style=\"color: #474747; text-decoration-color: #474747\">: </span><span style=\"color: #008400; text-decoration-color: #008400\">&quot;auto&quot;</span><span style=\"color: #474747; text-decoration-color: #474747\">,</span><span style=\"color: #777777; text-decoration-color: #777777\">                                                                            │</span>\n",
       "<span style=\"color: #777777; text-decoration-color: #777777\">│ </span><span style=\"color: #474747; text-decoration-color: #474747\">        </span><span style=\"color: #6b40c3; text-decoration-color: #6b40c3\">&quot;proportional_freedom&quot;</span><span style=\"color: #474747; text-decoration-color: #474747\">: </span><span style=\"color: #ba3700; text-decoration-color: #ba3700\">2.5</span><span style=\"color: #474747; text-decoration-color: #474747\">,</span><span style=\"color: #777777; text-decoration-color: #777777\">                                                                         │</span>\n",
       "<span style=\"color: #777777; text-decoration-color: #777777\">│ </span><span style=\"color: #474747; text-decoration-color: #474747\">        </span><span style=\"color: #6b40c3; text-decoration-color: #6b40c3\">&quot;debug_mode&quot;</span><span style=\"color: #474747; text-decoration-color: #474747\">: </span><span style=\"color: #af8500; text-decoration-color: #af8500; font-weight: bold\">false</span><span style=\"color: #777777; text-decoration-color: #777777\">                                                                                  │</span>\n",
       "<span style=\"color: #777777; text-decoration-color: #777777\">│ </span><span style=\"color: #474747; text-decoration-color: #474747\">      },</span><span style=\"color: #777777; text-decoration-color: #777777\">                                                                                                     │</span>\n",
       "<span style=\"color: #777777; text-decoration-color: #777777\">│ </span><span style=\"color: #474747; text-decoration-color: #474747\">      </span><span style=\"color: #6b40c3; text-decoration-color: #6b40c3\">&quot;layout&quot;</span><span style=\"color: #474747; text-decoration-color: #474747\">: {</span><span style=\"color: #777777; text-decoration-color: #777777\">                                                                                            │</span>\n",
       "<span style=\"color: #777777; text-decoration-color: #777777\">│ </span><span style=\"color: #474747; text-decoration-color: #474747\">        </span><span style=\"color: #6b40c3; text-decoration-color: #6b40c3\">&quot;overflow&quot;</span><span style=\"color: #474747; text-decoration-color: #474747\">: { </span><span style=\"color: #6b40c3; text-decoration-color: #6b40c3\">&quot;horizontal&quot;</span><span style=\"color: #474747; text-decoration-color: #474747\">: </span><span style=\"color: #008400; text-decoration-color: #008400\">&quot;ellipsis&quot;</span><span style=\"color: #474747; text-decoration-color: #474747\">, </span><span style=\"color: #6b40c3; text-decoration-color: #6b40c3\">&quot;vertical&quot;</span><span style=\"color: #474747; text-decoration-color: #474747\">: </span><span style=\"color: #008400; text-decoration-color: #008400\">&quot;ellipsis_bottom&quot;</span><span style=\"color: #474747; text-decoration-color: #474747\"> },</span><span style=\"color: #777777; text-decoration-color: #777777\">                             │</span>\n",
       "<span style=\"color: #777777; text-decoration-color: #777777\">│ </span><span style=\"color: #474747; text-decoration-color: #474747\">        </span><span style=\"color: #6b40c3; text-decoration-color: #6b40c3\">&quot;panel_design&quot;</span><span style=\"color: #474747; text-decoration-color: #474747\">: </span><span style=\"color: #008400; text-decoration-color: #008400\">&quot;table&quot;</span><span style=\"color: #474747; text-decoration-color: #474747\">,</span><span style=\"color: #777777; text-decoration-color: #777777\">                                                                             │</span>\n",
       "<span style=\"color: #777777; text-decoration-color: #777777\">│ </span><span style=\"color: #474747; text-decoration-color: #474747\">        </span><span style=\"color: #6b40c3; text-decoration-color: #6b40c3\">&quot;panel_title_at_top&quot;</span><span style=\"color: #474747; text-decoration-color: #474747\">: </span><span style=\"color: #af8500; text-decoration-color: #af8500; font-weight: bold\">true</span><span style=\"color: #474747; text-decoration-color: #474747\">,</span><span style=\"color: #777777; text-decoration-color: #777777\">                                                                          │</span>\n",
       "<span style=\"color: #777777; text-decoration-color: #777777\">│ </span><span style=\"color: #474747; text-decoration-color: #474747\">        </span><span style=\"color: #6b40c3; text-decoration-color: #6b40c3\">&quot;max_title_height&quot;</span><span style=\"color: #474747; text-decoration-color: #474747\">: </span><span style=\"color: #ba3700; text-decoration-color: #ba3700\">-1</span><span style=\"color: #474747; text-decoration-color: #474747\">,</span><span style=\"color: #777777; text-decoration-color: #777777\">                                                                              │</span>\n",
       "<span style=\"color: #777777; text-decoration-color: #777777\">│ </span><span style=\"color: #474747; text-decoration-color: #474747\">        </span><span style=\"color: #6b40c3; text-decoration-color: #6b40c3\">&quot;min_panel_width&quot;</span><span style=\"color: #474747; text-decoration-color: #474747\">: </span><span style=\"color: #ba3700; text-decoration-color: #ba3700\">3</span><span style=\"color: #474747; text-decoration-color: #474747\">,</span><span style=\"color: #777777; text-decoration-color: #777777\">                                                                                │</span>\n",
       "<span style=\"color: #777777; text-decoration-color: #777777\">│ </span><span style=\"color: #474747; text-decoration-color: #474747\">        </span><span style=\"color: #6b40c3; text-decoration-color: #6b40c3\">&quot;min_crop_width&quot;</span><span style=\"color: #474747; text-decoration-color: #474747\">: </span><span style=\"color: #ba3700; text-decoration-color: #ba3700\">33</span><span style=\"color: #474747; text-decoration-color: #474747\">,</span><span style=\"color: #777777; text-decoration-color: #777777\">                                                                                │</span>\n",
       "<span style=\"color: #777777; text-decoration-color: #777777\">│ </span><span style=\"color: #474747; text-decoration-color: #474747\">        </span><span style=\"color: #6b40c3; text-decoration-color: #6b40c3\">&quot;justify&quot;</span><span style=\"color: #474747; text-decoration-color: #474747\">: </span><span style=\"color: #008400; text-decoration-color: #008400\">&quot;left&quot;</span><span style=\"color: #777777; text-decoration-color: #777777\">                                                                                    │</span>\n",
       "<span style=\"color: #777777; text-decoration-color: #777777\">│ </span><span style=\"color: #474747; text-decoration-color: #474747\">      },</span><span style=\"color: #777777; text-decoration-color: #777777\">                                                                                                     │</span>\n",
       "<span style=\"color: #777777; text-decoration-color: #777777\">│ </span><span style=\"color: #474747; text-decoration-color: #474747\">      </span><span style=\"color: #6b40c3; text-decoration-color: #6b40c3\">&quot;cache_dir_path&quot;</span><span style=\"color: #474747; text-decoration-color: #474747\">: </span><span style=\"color: #008400; text-decoration-color: #008400\">&quot;/Users/sveinugu/PycharmProjects/omnipy/docs/notebooks/_cache&quot;</span><span style=\"color: #777777; text-decoration-color: #777777\">                       │</span>\n",
       "<span style=\"color: #777777; text-decoration-color: #777777\">│ </span><span style=\"color: #474747; text-decoration-color: #474747\">    },</span><span style=\"color: #777777; text-decoration-color: #777777\">                                                                                                       │</span>\n",
       "<span style=\"color: #777777; text-decoration-color: #777777\">│ </span><span style=\"color: #474747; text-decoration-color: #474747\">    </span><span style=\"color: #6b40c3; text-decoration-color: #6b40c3\">&quot;model&quot;</span><span style=\"color: #474747; text-decoration-color: #474747\">: { </span><span style=\"color: #6b40c3; text-decoration-color: #6b40c3\">&quot;interactive&quot;</span><span style=\"color: #474747; text-decoration-color: #474747\">: </span><span style=\"color: #af8500; text-decoration-color: #af8500; font-weight: bold\">true</span><span style=\"color: #474747; text-decoration-color: #474747\">, </span><span style=\"color: #6b40c3; text-decoration-color: #6b40c3\">&quot;dynamically_convert_elements_to_models&quot;</span><span style=\"color: #474747; text-decoration-color: #474747\">: </span><span style=\"color: #af8500; text-decoration-color: #af8500; font-weight: bold\">false</span><span style=\"color: #474747; text-decoration-color: #474747\"> },</span><span style=\"color: #777777; text-decoration-color: #777777\">                       │</span>\n",
       "<span style=\"color: #777777; text-decoration-color: #777777\">│ </span><span style=\"color: #474747; text-decoration-color: #474747\">    </span><span style=\"color: #6b40c3; text-decoration-color: #6b40c3\">&quot;http&quot;</span><span style=\"color: #474747; text-decoration-color: #474747\">: {</span><span style=\"color: #777777; text-decoration-color: #777777\">                                                                                                │</span>\n",
       "<span style=\"color: #777777; text-decoration-color: #777777\">│ </span><span style=\"color: #474747; text-decoration-color: #474747\">      </span><span style=\"color: #6b40c3; text-decoration-color: #6b40c3\">&quot;defaults&quot;</span><span style=\"color: #474747; text-decoration-color: #474747\">: {</span><span style=\"color: #777777; text-decoration-color: #777777\">                                                                                          │</span>\n",
       "<span style=\"color: #777777; text-decoration-color: #777777\">│ </span><span style=\"color: #474747; text-decoration-color: #474747\">        </span><span style=\"color: #6b40c3; text-decoration-color: #6b40c3\">&quot;requests_per_time_period&quot;</span><span style=\"color: #474747; text-decoration-color: #474747\">: </span><span style=\"color: #ba3700; text-decoration-color: #ba3700\">60</span><span style=\"color: #474747; text-decoration-color: #474747\">,</span><span style=\"color: #777777; text-decoration-color: #777777\">                                                                      │</span>\n",
       "<span style=\"color: #777777; text-decoration-color: #777777\">│ </span><span style=\"color: #474747; text-decoration-color: #474747\">        </span><span style=\"color: #6b40c3; text-decoration-color: #6b40c3\">&quot;time_period_in_secs&quot;</span><span style=\"color: #474747; text-decoration-color: #474747\">: </span><span style=\"color: #ba3700; text-decoration-color: #ba3700\">60</span><span style=\"color: #474747; text-decoration-color: #474747\">,</span><span style=\"color: #777777; text-decoration-color: #777777\">                                                                           │</span>\n",
       "<span style=\"color: #777777; text-decoration-color: #777777\">│ </span><span style=\"color: #474747; text-decoration-color: #474747\">        </span><span style=\"color: #6b40c3; text-decoration-color: #6b40c3\">&quot;retry_http_statuses&quot;</span><span style=\"color: #474747; text-decoration-color: #474747\">: [ </span><span style=\"color: #ba3700; text-decoration-color: #ba3700\">408</span><span style=\"color: #474747; text-decoration-color: #474747\">, </span><span style=\"color: #ba3700; text-decoration-color: #ba3700\">425</span><span style=\"color: #474747; text-decoration-color: #474747\">, </span><span style=\"color: #ba3700; text-decoration-color: #ba3700\">429</span><span style=\"color: #474747; text-decoration-color: #474747\">, </span><span style=\"color: #ba3700; text-decoration-color: #ba3700\">500</span><span style=\"color: #474747; text-decoration-color: #474747\">, </span><span style=\"color: #ba3700; text-decoration-color: #ba3700\">502</span><span style=\"color: #474747; text-decoration-color: #474747\">, </span><span style=\"color: #ba3700; text-decoration-color: #ba3700\">503</span><span style=\"color: #474747; text-decoration-color: #474747\">, </span><span style=\"color: #ba3700; text-decoration-color: #ba3700\">504</span><span style=\"color: #474747; text-decoration-color: #474747\"> ],</span><span style=\"color: #777777; text-decoration-color: #777777\">                                        │</span>\n",
       "<span style=\"color: #777777; text-decoration-color: #777777\">│ </span><span style=\"color: #474747; text-decoration-color: #474747\">        </span><span style=\"color: #6b40c3; text-decoration-color: #6b40c3\">&quot;retry_attempts&quot;</span><span style=\"color: #474747; text-decoration-color: #474747\">: </span><span style=\"color: #ba3700; text-decoration-color: #ba3700\">5</span><span style=\"color: #474747; text-decoration-color: #474747\">,</span><span style=\"color: #777777; text-decoration-color: #777777\">                                                                                 │</span>\n",
       "<span style=\"color: #777777; text-decoration-color: #777777\">│ </span><span style=\"color: #474747; text-decoration-color: #474747\">        </span><span style=\"color: #6b40c3; text-decoration-color: #6b40c3\">&quot;retry_backoff_strategy&quot;</span><span style=\"color: #474747; text-decoration-color: #474747\">: </span><span style=\"color: #008400; text-decoration-color: #008400\">&quot;exponential&quot;</span><span style=\"color: #777777; text-decoration-color: #777777\">                                                              │</span>\n",
       "<span style=\"color: #777777; text-decoration-color: #777777\">│ </span><span style=\"color: #474747; text-decoration-color: #474747\">      },</span><span style=\"color: #777777; text-decoration-color: #777777\">                                                                                                     │</span>\n",
       "<span style=\"color: #777777; text-decoration-color: #777777\">│ </span><span style=\"color: #474747; text-decoration-color: #474747\">      </span><span style=\"color: #6b40c3; text-decoration-color: #6b40c3\">&quot;for_host&quot;</span><span style=\"color: #474747; text-decoration-color: #474747\">: {}</span><span style=\"color: #777777; text-decoration-color: #777777\">                                                                                         │</span>\n",
       "<span style=\"color: #777777; text-decoration-color: #777777\">│ </span><span style=\"color: #474747; text-decoration-color: #474747\">    }</span><span style=\"color: #777777; text-decoration-color: #777777\">                                                                                                        │</span>\n",
       "<span style=\"color: #777777; text-decoration-color: #777777\">│ </span><span style=\"color: #474747; text-decoration-color: #474747\">  },</span><span style=\"color: #777777; text-decoration-color: #777777\">                                                                                                         │</span>\n",
       "<span style=\"color: #777777; text-decoration-color: #777777\">│ </span><span style=\"color: #474747; text-decoration-color: #474747\">  </span><span style=\"color: #6b40c3; text-decoration-color: #6b40c3\">&quot;engine&quot;</span><span style=\"color: #474747; text-decoration-color: #474747\">: { </span><span style=\"color: #6b40c3; text-decoration-color: #6b40c3\">&quot;choice&quot;</span><span style=\"color: #474747; text-decoration-color: #474747\">: </span><span style=\"color: #008400; text-decoration-color: #008400\">&quot;local&quot;</span><span style=\"color: #474747; text-decoration-color: #474747\">, </span><span style=\"color: #6b40c3; text-decoration-color: #6b40c3\">&quot;local&quot;</span><span style=\"color: #474747; text-decoration-color: #474747\">: {}, </span><span style=\"color: #6b40c3; text-decoration-color: #6b40c3\">&quot;prefect&quot;</span><span style=\"color: #474747; text-decoration-color: #474747\">: { </span><span style=\"color: #6b40c3; text-decoration-color: #6b40c3\">&quot;use_cached_results&quot;</span><span style=\"color: #474747; text-decoration-color: #474747\">: </span><span style=\"color: #af8500; text-decoration-color: #af8500; font-weight: bold\">false</span><span style=\"color: #474747; text-decoration-color: #474747\"> } },</span><span style=\"color: #777777; text-decoration-color: #777777\">                  │</span>\n",
       "<span style=\"color: #777777; text-decoration-color: #777777\">│ </span><span style=\"color: #474747; text-decoration-color: #474747\">  </span><span style=\"color: #6b40c3; text-decoration-color: #6b40c3\">&quot;job&quot;</span><span style=\"color: #474747; text-decoration-color: #474747\">: {</span><span style=\"color: #777777; text-decoration-color: #777777\">                                                                                                   │</span>\n",
       "<span style=\"color: #777777; text-decoration-color: #777777\">│ </span><span style=\"color: #474747; text-decoration-color: #474747\">    </span><span style=\"color: #6b40c3; text-decoration-color: #6b40c3\">&quot;output_storage&quot;</span><span style=\"color: #474747; text-decoration-color: #474747\">: {</span><span style=\"color: #777777; text-decoration-color: #777777\">                                                                                      │</span>\n",
       "<span style=\"color: #777777; text-decoration-color: #777777\">│ </span><span style=\"color: #474747; text-decoration-color: #474747\">      </span><span style=\"color: #6b40c3; text-decoration-color: #6b40c3\">&quot;persist_outputs&quot;</span><span style=\"color: #474747; text-decoration-color: #474747\">: </span><span style=\"color: #008400; text-decoration-color: #008400\">&quot;all&quot;</span><span style=\"color: #474747; text-decoration-color: #474747\">,</span><span style=\"color: #777777; text-decoration-color: #777777\">                                                                              │</span>\n",
       "<span style=\"color: #777777; text-decoration-color: #777777\">│ </span><span style=\"color: #474747; text-decoration-color: #474747\">      </span><span style=\"color: #6b40c3; text-decoration-color: #6b40c3\">&quot;restore_outputs&quot;</span><span style=\"color: #474747; text-decoration-color: #474747\">: </span><span style=\"color: #008400; text-decoration-color: #008400\">&quot;disabled&quot;</span><span style=\"color: #474747; text-decoration-color: #474747\">,</span><span style=\"color: #777777; text-decoration-color: #777777\">                                                                         │</span>\n",
       "<span style=\"color: #777777; text-decoration-color: #777777\">│ </span><span style=\"color: #474747; text-decoration-color: #474747\">      </span><span style=\"color: #6b40c3; text-decoration-color: #6b40c3\">&quot;protocol&quot;</span><span style=\"color: #474747; text-decoration-color: #474747\">: </span><span style=\"color: #008400; text-decoration-color: #008400\">&quot;local&quot;</span><span style=\"color: #474747; text-decoration-color: #474747\">,</span><span style=\"color: #777777; text-decoration-color: #777777\">                                                                                   │</span>\n",
       "<span style=\"color: #777777; text-decoration-color: #777777\">│ </span><span style=\"color: #474747; text-decoration-color: #474747\">      </span><span style=\"color: #6b40c3; text-decoration-color: #6b40c3\">&quot;local&quot;</span><span style=\"color: #474747; text-decoration-color: #474747\">: { </span><span style=\"color: #6b40c3; text-decoration-color: #6b40c3\">&quot;persist_data_dir_path&quot;</span><span style=\"color: #474747; text-decoration-color: #474747\">: </span><span style=\"color: #008400; text-decoration-color: #008400\">&quot;/Users/sveinugu/PycharmProjects/omnipy/docs/notebooks/outputs&quot;</span><span style=\"color: #474747; text-decoration-color: #474747\"> },</span><span style=\"color: #777777; text-decoration-color: #777777\"> │</span>\n",
       "<span style=\"color: #777777; text-decoration-color: #777777\">│ </span><span style=\"color: #474747; text-decoration-color: #474747\">      </span><span style=\"color: #6b40c3; text-decoration-color: #6b40c3\">&quot;s3&quot;</span><span style=\"color: #474747; text-decoration-color: #474747\">: {</span><span style=\"color: #777777; text-decoration-color: #777777\">                                                                                                │</span>\n",
       "<span style=\"color: #777777; text-decoration-color: #777777\">│ </span><span style=\"color: #474747; text-decoration-color: #474747\">        </span><span style=\"color: #6b40c3; text-decoration-color: #6b40c3\">&quot;persist_data_dir_path&quot;</span><span style=\"color: #474747; text-decoration-color: #474747\">: </span><span style=\"color: #008400; text-decoration-color: #008400\">&quot;omnipy/outputs&quot;</span><span style=\"color: #474747; text-decoration-color: #474747\">,</span><span style=\"color: #777777; text-decoration-color: #777777\">                                                           │</span>\n",
       "<span style=\"color: #777777; text-decoration-color: #777777\">│ </span><span style=\"color: #474747; text-decoration-color: #474747\">        </span><span style=\"color: #6b40c3; text-decoration-color: #6b40c3\">&quot;endpoint_url&quot;</span><span style=\"color: #474747; text-decoration-color: #474747\">: </span><span style=\"color: #008400; text-decoration-color: #008400\">&quot;&quot;</span><span style=\"color: #474747; text-decoration-color: #474747\">,</span><span style=\"color: #777777; text-decoration-color: #777777\">                                                                                  │</span>\n",
       "<span style=\"color: #777777; text-decoration-color: #777777\">│ </span><span style=\"color: #474747; text-decoration-color: #474747\">        </span><span style=\"color: #6b40c3; text-decoration-color: #6b40c3\">&quot;bucket_name&quot;</span><span style=\"color: #474747; text-decoration-color: #474747\">: </span><span style=\"color: #008400; text-decoration-color: #008400\">&quot;&quot;</span><span style=\"color: #474747; text-decoration-color: #474747\">,</span><span style=\"color: #777777; text-decoration-color: #777777\">                                                                                   │</span>\n",
       "<span style=\"color: #777777; text-decoration-color: #777777\">│ </span><span style=\"color: #474747; text-decoration-color: #474747\">        </span><span style=\"color: #6b40c3; text-decoration-color: #6b40c3\">&quot;access_key&quot;</span><span style=\"color: #474747; text-decoration-color: #474747\">: </span><span style=\"color: #008400; text-decoration-color: #008400\">&quot;&quot;</span><span style=\"color: #474747; text-decoration-color: #474747\">,</span><span style=\"color: #777777; text-decoration-color: #777777\">                                                                                    │</span>\n",
       "<span style=\"color: #777777; text-decoration-color: #777777\">│ </span><span style=\"color: #474747; text-decoration-color: #474747\">        </span><span style=\"color: #6b40c3; text-decoration-color: #6b40c3\">&quot;secret_key&quot;</span><span style=\"color: #474747; text-decoration-color: #474747\">: </span><span style=\"color: #008400; text-decoration-color: #008400\">&quot;&quot;</span><span style=\"color: #777777; text-decoration-color: #777777\">                                                                                     │</span>\n",
       "<span style=\"color: #777777; text-decoration-color: #777777\">│ </span><span style=\"color: #474747; text-decoration-color: #474747\">      }</span><span style=\"color: #777777; text-decoration-color: #777777\">                                                                                                      │</span>\n",
       "<span style=\"color: #777777; text-decoration-color: #777777\">│ </span><span style=\"color: #474747; text-decoration-color: #474747\">    }</span><span style=\"color: #777777; text-decoration-color: #777777\">                                                                                                        │</span>\n",
       "<span style=\"color: #777777; text-decoration-color: #777777\">│ </span><span style=\"color: #474747; text-decoration-color: #474747\">  },</span><span style=\"color: #777777; text-decoration-color: #777777\">                                                                                                         │</span>\n",
       "<span style=\"color: #777777; text-decoration-color: #777777\">│ </span><span style=\"color: #474747; text-decoration-color: #474747\">  </span><span style=\"color: #6b40c3; text-decoration-color: #6b40c3\">&quot;root_log&quot;</span><span style=\"color: #474747; text-decoration-color: #474747\">: {</span><span style=\"color: #777777; text-decoration-color: #777777\">                                                                                              │</span>\n",
       "<span style=\"color: #777777; text-decoration-color: #777777\">│ </span><span style=\"color: #474747; text-decoration-color: #474747\">    </span><span style=\"color: #6b40c3; text-decoration-color: #6b40c3\">&quot;log_format_str&quot;</span><span style=\"color: #474747; text-decoration-color: #474747\">: </span><span style=\"color: #008400; text-decoration-color: #008400\">&quot;[{engine}] {asctime} - {levelname}: {message} ({name})&quot;</span><span style=\"color: #474747; text-decoration-color: #474747\">,</span><span style=\"color: #777777; text-decoration-color: #777777\">                              │</span>\n",
       "<span style=\"color: #777777; text-decoration-color: #777777\">│ </span><span style=\"color: #474747; text-decoration-color: #474747\">    </span><span style=\"color: #6b40c3; text-decoration-color: #6b40c3\">&quot;locale&quot;</span><span style=\"color: #474747; text-decoration-color: #474747\">: [ </span><span style=\"color: #008400; text-decoration-color: #008400\">&quot;en_US&quot;</span><span style=\"color: #474747; text-decoration-color: #474747\">, </span><span style=\"color: #008400; text-decoration-color: #008400\">&quot;UTF-8&quot;</span><span style=\"color: #474747; text-decoration-color: #474747\"> ],</span><span style=\"color: #777777; text-decoration-color: #777777\">                                                                          │</span>\n",
       "<span style=\"color: #777777; text-decoration-color: #777777\">│ </span><span style=\"color: #474747; text-decoration-color: #474747\">    </span><span style=\"color: #6b40c3; text-decoration-color: #6b40c3\">&quot;log_to_stdout&quot;</span><span style=\"color: #474747; text-decoration-color: #474747\">: </span><span style=\"color: #af8500; text-decoration-color: #af8500; font-weight: bold\">true</span><span style=\"color: #474747; text-decoration-color: #474747\">,</span><span style=\"color: #777777; text-decoration-color: #777777\">                                                                                   │</span>\n",
       "<span style=\"color: #777777; text-decoration-color: #777777\">│ </span><span style=\"color: #474747; text-decoration-color: #474747\">    </span><span style=\"color: #6b40c3; text-decoration-color: #6b40c3\">&quot;log_to_stderr&quot;</span><span style=\"color: #474747; text-decoration-color: #474747\">: </span><span style=\"color: #af8500; text-decoration-color: #af8500; font-weight: bold\">true</span><span style=\"color: #474747; text-decoration-color: #474747\">,</span><span style=\"color: #777777; text-decoration-color: #777777\">                                                                                   │</span>\n",
       "<span style=\"color: #777777; text-decoration-color: #777777\">│ </span><span style=\"color: #474747; text-decoration-color: #474747\">    </span><span style=\"color: #6b40c3; text-decoration-color: #6b40c3\">&quot;log_to_file&quot;</span><span style=\"color: #474747; text-decoration-color: #474747\">: </span><span style=\"color: #af8500; text-decoration-color: #af8500; font-weight: bold\">true</span><span style=\"color: #474747; text-decoration-color: #474747\">,</span><span style=\"color: #777777; text-decoration-color: #777777\">                                                                                     │</span>\n",
       "<span style=\"color: #777777; text-decoration-color: #777777\">│ </span><span style=\"color: #474747; text-decoration-color: #474747\">    </span><span style=\"color: #6b40c3; text-decoration-color: #6b40c3\">&quot;stdout&quot;</span><span style=\"color: #474747; text-decoration-color: #474747\">: </span><span style=\"color: #008400; text-decoration-color: #008400\">&quot;&lt;ipykernel.iostream.OutStream object at 0x10383ba90&gt;&quot;</span><span style=\"color: #474747; text-decoration-color: #474747\">,</span><span style=\"color: #777777; text-decoration-color: #777777\">                                        │</span>\n",
       "<span style=\"color: #777777; text-decoration-color: #777777\">│ </span><span style=\"color: #474747; text-decoration-color: #474747\">    </span><span style=\"color: #6b40c3; text-decoration-color: #6b40c3\">&quot;stderr&quot;</span><span style=\"color: #474747; text-decoration-color: #474747\">: </span><span style=\"color: #008400; text-decoration-color: #008400\">&quot;&lt;ipykernel.iostream.OutStream object at 0x10383bca0&gt;&quot;</span><span style=\"color: #474747; text-decoration-color: #474747\">,</span><span style=\"color: #777777; text-decoration-color: #777777\">                                        │</span>\n",
       "<span style=\"color: #777777; text-decoration-color: #777777\">│ </span><span style=\"color: #474747; text-decoration-color: #474747\">    </span><span style=\"color: #6b40c3; text-decoration-color: #6b40c3\">&quot;stdout_log_min_level&quot;</span><span style=\"color: #474747; text-decoration-color: #474747\">: </span><span style=\"color: #ba3700; text-decoration-color: #ba3700\">20</span><span style=\"color: #474747; text-decoration-color: #474747\">,</span><span style=\"color: #777777; text-decoration-color: #777777\">                                                                              │</span>\n",
       "<span style=\"color: #777777; text-decoration-color: #777777\">│ </span><span style=\"color: #474747; text-decoration-color: #474747\">    </span><span style=\"color: #6b40c3; text-decoration-color: #6b40c3\">&quot;stderr_log_min_level&quot;</span><span style=\"color: #474747; text-decoration-color: #474747\">: </span><span style=\"color: #ba3700; text-decoration-color: #ba3700\">40</span><span style=\"color: #474747; text-decoration-color: #474747\">,</span><span style=\"color: #777777; text-decoration-color: #777777\">                                                                              │</span>\n",
       "<span style=\"color: #777777; text-decoration-color: #777777\">│ </span><span style=\"color: #474747; text-decoration-color: #474747\">    </span><span style=\"color: #6b40c3; text-decoration-color: #6b40c3\">&quot;file_log_min_level&quot;</span><span style=\"color: #474747; text-decoration-color: #474747\">: </span><span style=\"color: #ba3700; text-decoration-color: #ba3700\">30</span><span style=\"color: #474747; text-decoration-color: #474747\">,</span><span style=\"color: #777777; text-decoration-color: #777777\">                                                                                │</span>\n",
       "<span style=\"color: #777777; text-decoration-color: #777777\">│ </span><span style=\"color: #474747; text-decoration-color: #474747\">    </span><span style=\"color: #6b40c3; text-decoration-color: #6b40c3\">&quot;file_log_path&quot;</span><span style=\"color: #474747; text-decoration-color: #474747\">: </span><span style=\"color: #008400; text-decoration-color: #008400\">&quot;/Users/sveinugu/PycharmProjects/omnipy/docs/notebooks/logs/omnipy.log&quot;</span><span style=\"color: #777777; text-decoration-color: #777777\">                 │</span>\n",
       "<span style=\"color: #777777; text-decoration-color: #777777\">│ </span><span style=\"color: #474747; text-decoration-color: #474747\">  }</span><span style=\"color: #777777; text-decoration-color: #777777\">                                                                                                          │</span>\n",
       "<span style=\"color: #777777; text-decoration-color: #777777\">│ </span><span style=\"color: #474747; text-decoration-color: #474747\">}</span><span style=\"color: #777777; text-decoration-color: #777777\">                                                                                                            │</span>\n",
       "<span style=\"color: #777777; text-decoration-color: #777777\">╰──────────────────────────────────────────────────────────────────────────────────────────────────────────────╯</span>\n",
       "</code></pre>"
      ],
      "text/plain": [
       "Cannot show ipywidgets in text"
      ]
     },
     "metadata": {},
     "output_type": "display_data"
    }
   ],
   "source": [
    "om.runtime.config"
   ]
  },
  {
   "cell_type": "code",
   "execution_count": 5,
   "id": "249c27912419e58f",
   "metadata": {},
   "outputs": [],
   "source": [
    "om.runtime.config.data.ui.jupyter.color.solid_background = True\n",
    "om.runtime.config.data.ui.jupyter.color.style = om.AllColorStyles.KANAGAabsWA_DRAGON_T16\n",
    "# For a blast, uncomment the following line and comment the line above\n",
    "# om.runtime.config.data.ui.jupyter.color.style = om.AllColorStyles.RANDOM_T16_DARK"
   ]
  },
  {
   "cell_type": "code",
   "execution_count": null,
   "id": "71db12a7208db924",
   "metadata": {
    "scrolled": true
   },
   "outputs": [],
   "source": [
    "!pip install itables\n",
    "import itables\n",
    "itables.init_notebook_mode()"
   ]
  },
  {
   "cell_type": "code",
   "execution_count": null,
   "id": "104c2097824d6824",
   "metadata": {},
   "outputs": [],
   "source": [
    "url = om.async_get_github_repo_urls.run(owner='fairtracks', repo='omnipy_example_data', branch='main', path='omnipy_example_data/ihec', file_suffix='.json')"
   ]
  },
  {
   "cell_type": "code",
   "execution_count": null,
   "id": "345019ddb8c1cbf5",
   "metadata": {},
   "outputs": [],
   "source": [
    "await url"
   ]
  },
  {
   "cell_type": "code",
   "execution_count": null,
   "id": "90dd58e20f38821c",
   "metadata": {},
   "outputs": [],
   "source": [
    "ihec = om.JsonDictOfDictsDataset()\n",
    "await ihec.load_into(url.result(), as_mime_type='application/json')"
   ]
  },
  {
   "cell_type": "code",
   "execution_count": null,
   "id": "ea9ad87ac48c92e",
   "metadata": {},
   "outputs": [],
   "source": [
    "ihec.peek(font_size=12, style=om.AllColorStyles.DEEP_OCEANIC_NEXT_T16)"
   ]
  },
  {
   "cell_type": "code",
   "execution_count": null,
   "id": "5a40d28aed992d93",
   "metadata": {},
   "outputs": [],
   "source": [
    "ihec.config.ui.browser.color.style = om.LightHighContrastColorStyles.ATELIER_SAVANNA_LIGHT_T16\n",
    "ihec.config.ui.browser.color.solid_background = True\n",
    "ihec.config.ui.browser.font.size = 18\n",
    "ihec.config.ui.browser.width = 160"
   ]
  },
  {
   "cell_type": "code",
   "execution_count": null,
   "id": "f3df29c24a5f6fba",
   "metadata": {},
   "outputs": [],
   "source": [
    "# ihec[0].browse()"
   ]
  },
  {
   "cell_type": "code",
   "execution_count": null,
   "id": "1f39449b-dbd7-44f8-bcca-b310debfbdf5",
   "metadata": {},
   "outputs": [],
   "source": [
    "@om.LinearFlowTemplate(\n",
    "    om.transpose_dict_of_dicts_2_list_of_dicts,\n",
    "    om.flatten_nested_json,\n",
    "    om.convert_dataset.refine(fixed_params=dict(dataset_cls=om.PandasDataset))\n",
    ")\n",
    "def flatten(dataset: om.JsonDictOfDictsDataset) -> om.PandasDataset:\n",
    "    ...\n"
   ]
  },
  {
   "cell_type": "code",
   "execution_count": null,
   "id": "23ef801b7612a3c",
   "metadata": {},
   "outputs": [],
   "source": [
    "ihec_datasets = om.JsonDictOfDictsDataset(**{key:{'datasets': val} for key, val in ihec[0]['datasets'].items()})\n",
    "ihec_samples = om.JsonDictOfDictsDataset(**{key:{'samples': val} for key, val in ihec[0]['samples'].items()})"
   ]
  },
  {
   "cell_type": "code",
   "execution_count": null,
   "id": "163e0533-04aa-46b8-9159-fed3184ea0d3",
   "metadata": {},
   "outputs": [],
   "source": [
    "# ihec_datasets = om.JsonDictOfDictsDataset.load('ihec_datasets')"
   ]
  },
  {
   "cell_type": "code",
   "execution_count": null,
   "id": "aec50058-953c-4009-82e7-10e36d68e042",
   "metadata": {},
   "outputs": [],
   "source": [
    "ihec_datasets.peek()"
   ]
  },
  {
   "cell_type": "code",
   "execution_count": null,
   "id": "69b65a8853a8cc83",
   "metadata": {},
   "outputs": [],
   "source": [
    "om.runtime.config.data.ui.layout.min_crop_width=40"
   ]
  },
  {
   "cell_type": "code",
   "execution_count": null,
   "id": "b16a7504-9714-4fc5-8ae4-f62a5370eca0",
   "metadata": {
    "scrolled": true
   },
   "outputs": [],
   "source": [
    "# ihec_datasets.save('ihec_datasets')"
   ]
  },
  {
   "cell_type": "code",
   "execution_count": null,
   "id": "4b0c872a9c95eef",
   "metadata": {},
   "outputs": [],
   "source": [
    "ihec_datasets"
   ]
  },
  {
   "cell_type": "code",
   "execution_count": null,
   "id": "8975227282026eff",
   "metadata": {},
   "outputs": [],
   "source": [
    "ihec_samples.peek(style='gotham-t16')"
   ]
  },
  {
   "cell_type": "code",
   "execution_count": null,
   "id": "ec11d7ce8f01eddb",
   "metadata": {},
   "outputs": [],
   "source": [
    "ihec_dataset_transposed = om.transpose_dict_of_dicts_2_list_of_dicts.run(ihec_datasets)\n",
    "ihec_dataset_transposed[0]"
   ]
  },
  {
   "cell_type": "code",
   "execution_count": null,
   "id": "2856a2e934b7d623",
   "metadata": {},
   "outputs": [],
   "source": [
    "ihec_dataset_pandas = flatten.run(ihec_datasets)\n",
    "ihec_dataset_pandas"
   ]
  },
  {
   "cell_type": "code",
   "execution_count": null,
   "id": "7fae43c58a007165",
   "metadata": {},
   "outputs": [],
   "source": [
    "ihec_samples_pandas = flatten.run(ihec_samples)\n",
    "ihec_samples_pandas"
   ]
  },
  {
   "cell_type": "code",
   "execution_count": null,
   "id": "b31ce390355948de",
   "metadata": {},
   "outputs": [],
   "source": [
    "ihec_pandas = ihec_dataset_pandas | ihec_samples_pandas\n",
    "ihec_pandas"
   ]
  },
  {
   "cell_type": "code",
   "execution_count": null,
   "id": "9ad771c06fa5ca63",
   "metadata": {},
   "outputs": [],
   "source": [
    "ihec_pandas['samples'].content"
   ]
  },
  {
   "cell_type": "code",
   "execution_count": null,
   "id": "9986ae8e970423e5",
   "metadata": {},
   "outputs": [],
   "source": [
    "ihec_pandas['datasets'].content"
   ]
  },
  {
   "cell_type": "code",
   "execution_count": null,
   "id": "20cbef28fe36b2fa",
   "metadata": {},
   "outputs": [],
   "source": [
    "ihec_pandas[3][ihec_pandas[3]['experiment_type'] == 'Histone H3K9me3'].content"
   ]
  },
  {
   "cell_type": "code",
   "execution_count": null,
   "id": "def7e4c280ae645f",
   "metadata": {},
   "outputs": [],
   "source": [
    "ihec_datasets['ENCBS004ENC_H3K9me3'].peek()"
   ]
  },
  {
   "cell_type": "code",
   "execution_count": null,
   "id": "944ec2279b09b1fb",
   "metadata": {},
   "outputs": [],
   "source": [
    "ihec_samples['ENCBS004ENC'].peek()"
   ]
  },
  {
   "cell_type": "code",
   "execution_count": null,
   "id": "79a870df4a2bde36",
   "metadata": {},
   "outputs": [],
   "source": [
    "encode_info = om.JsonDataset()\n",
    "encode_info.load_into('https://www.encodeproject.org/files/ENCFF323LCS/?format=json')\n",
    "await encode_info.load_into('https://www.encodeproject.org/experiments/ENCSR000DPJ/?format=json')"
   ]
  },
  {
   "cell_type": "code",
   "execution_count": null,
   "id": "d411cc5175d0a9f4",
   "metadata": {},
   "outputs": [],
   "source": [
    "# encode_info.browse()"
   ]
  },
  {
   "cell_type": "code",
   "execution_count": null,
   "id": "7984afa1aa2b6cac",
   "metadata": {},
   "outputs": [],
   "source": [
    "om.Model[list[str]](sorted(encode_info[0].keys())).full(style=om.DarkHighContrastTintedThemingBase16ColorStyles.UWUNICORN_T16, font_size=16)"
   ]
  },
  {
   "cell_type": "code",
   "execution_count": null,
   "id": "fe5ba792-8109-4c7f-b767-42f854190214",
   "metadata": {},
   "outputs": [],
   "source": [
    "om.JsonModel(sorted(encode_info[1].keys())).peek()"
   ]
  },
  {
   "cell_type": "code",
   "execution_count": null,
   "id": "9384aa1855c95c91",
   "metadata": {},
   "outputs": [],
   "source": [
    "om.BytesModel(ihec[0].to_json())[:100]"
   ]
  }
 ],
 "metadata": {
  "kernelspec": {
   "display_name": "Python 3 (ipykernel)",
   "language": "python",
   "name": "python3"
  },
  "language_info": {
   "codemirror_mode": {
    "name": "ipython",
    "version": 3
   },
   "file_extension": ".py",
   "mimetype": "text/x-python",
   "name": "python",
   "nbconvert_exporter": "python",
   "pygments_lexer": "ipython3",
   "version": "3.10.18"
  }
 },
 "nbformat": 4,
 "nbformat_minor": 5
}
