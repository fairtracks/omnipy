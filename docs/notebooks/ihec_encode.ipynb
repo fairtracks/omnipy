{
 "cells": [
  {
   "metadata": {},
   "cell_type": "code",
   "outputs": [],
   "execution_count": null,
   "source": [
    "from omnipy import Model, Dataset\n",
    "import omnipy as om"
   ],
   "id": "8873e5774af7c2e6"
  },
  {
   "metadata": {},
   "cell_type": "code",
   "outputs": [],
   "execution_count": null,
   "source": "om.runtime.config.data.ui.jupyter",
   "id": "4df31c6dc41b4d3b"
  },
  {
   "metadata": {},
   "cell_type": "code",
   "outputs": [],
   "execution_count": null,
   "source": [
    "om.runtime.config.data.ui.jupyter.color.style = 'tb16-atelier-dune'\n",
    "om.runtime.config.data.ui.jupyter.color.transparent_background = True"
   ],
   "id": "2cf2c7c09670a12b"
  },
  {
   "metadata": {},
   "cell_type": "code",
   "outputs": [],
   "execution_count": null,
   "source": [
    "import itables\n",
    "itables.init_notebook_mode()"
   ],
   "id": "87d3b467737e80c"
  },
  {
   "metadata": {},
   "cell_type": "code",
   "outputs": [],
   "execution_count": null,
   "source": "url = om.async_get_github_repo_urls.run(owner='fairtracks', repo='omnipy_example_data', branch='main', path='omnipy_example_data/ihec', file_suffix='.json')",
   "id": "5ed310ffb54516c2"
  },
  {
   "metadata": {},
   "cell_type": "code",
   "outputs": [],
   "execution_count": null,
   "source": "await url",
   "id": "91ce24267cf80bf1"
  },
  {
   "metadata": {},
   "cell_type": "code",
   "outputs": [],
   "execution_count": null,
   "source": [
    "ihec = om.JsonDictOfDictsDataset()\n",
    "await ihec.load_into(url.result(), as_mime_type='application/json')"
   ],
   "id": "297bc9a2ef148eda"
  },
  {
   "metadata": {},
   "cell_type": "code",
   "outputs": [],
   "execution_count": null,
   "source": "ihec[0]",
   "id": "2beea9b25853fae0"
  },
  {
   "metadata": {},
   "cell_type": "code",
   "outputs": [],
   "execution_count": null,
   "source": "ihec[0].browse()",
   "id": "2c276a98bf33181"
  },
  {
   "metadata": {},
   "cell_type": "code",
   "outputs": [],
   "execution_count": null,
   "source": [
    "ihec.config.ui.browser.color.style = om.LightHighContrastColorStyles.TB16_TOKYO_CITY_LIGHT\n",
    "ihec.config.ui.browser.font.size = 14\n",
    "ihec.config.ui.browser.width = 200"
   ],
   "id": "320fba7a10e5ca74"
  },
  {
   "metadata": {},
   "cell_type": "code",
   "outputs": [],
   "execution_count": null,
   "source": [
    "@om.LinearFlowTemplate(\n",
    "    om.transpose_dict_of_dicts_2_list_of_dicts,\n",
    "    om.flatten_nested_json,\n",
    "    om.convert_dataset.refine(fixed_params=dict(dataset_cls=om.PandasDataset))\n",
    ")\n",
    "def flatten(dataset: om.JsonDictOfDictsDataset) -> om.PandasDataset:\n",
    "    ...\n"
   ],
   "id": "d6345ba6943458a6"
  },
  {
   "metadata": {},
   "cell_type": "code",
   "outputs": [],
   "execution_count": null,
   "source": [
    "ihec_datasets = om.JsonDictOfDictsDataset(**{key:{'datasets': val} for key, val in ihec[0]['datasets'].items()})\n",
    "ihec_samples = om.JsonDictOfDictsDataset(**{key:{'samples': val} for key, val in ihec[0]['samples'].items()})"
   ],
   "id": "7de3c55552b7e284"
  },
  {
   "metadata": {},
   "cell_type": "code",
   "outputs": [],
   "execution_count": null,
   "source": "ihec_datasets[:3].peek()",
   "id": "be18048f6e508db9"
  },
  {
   "metadata": {},
   "cell_type": "code",
   "outputs": [],
   "execution_count": null,
   "source": "ihec_datasets[4].browse()",
   "id": "2ab982153ad1520d"
  },
  {
   "metadata": {},
   "cell_type": "code",
   "outputs": [],
   "execution_count": null,
   "source": "ihec_samples[:4].peek()",
   "id": "51ac79c1ba6ba5d8"
  },
  {
   "metadata": {},
   "cell_type": "code",
   "outputs": [],
   "execution_count": null,
   "source": [
    "ihec_dataset_transposed = om.transpose_dict_of_dicts_2_list_of_dicts.run(ihec_datasets)\n",
    "ihec_dataset_transposed[0]"
   ],
   "id": "e3a9b78d6a8c3103"
  },
  {
   "metadata": {},
   "cell_type": "code",
   "outputs": [],
   "execution_count": null,
   "source": [
    "ihec_dataset_pandas = flatten.run(ihec_datasets)\n",
    "ihec_dataset_pandas"
   ],
   "id": "5b8e40be8ce24f8a"
  },
  {
   "metadata": {},
   "cell_type": "code",
   "outputs": [],
   "execution_count": null,
   "source": [
    "ihec_samples_pandas = flatten.run(ihec_samples)\n",
    "ihec_samples_pandas"
   ],
   "id": "b6c36f4076953f92"
  },
  {
   "metadata": {},
   "cell_type": "code",
   "outputs": [],
   "execution_count": null,
   "source": [
    "ihec_pandas = ihec_dataset_pandas | ihec_samples_pandas\n",
    "ihec_pandas"
   ],
   "id": "b1bf3237127b1a1c"
  },
  {
   "metadata": {},
   "cell_type": "code",
   "outputs": [],
   "execution_count": null,
   "source": "ihec_pandas['samples'].contents",
   "id": "bfb3894b0f176185"
  },
  {
   "metadata": {},
   "cell_type": "code",
   "outputs": [],
   "execution_count": null,
   "source": "ihec_pandas['datasets'].contents",
   "id": "cc5c64d3dc6f651b"
  },
  {
   "metadata": {},
   "cell_type": "code",
   "outputs": [],
   "execution_count": null,
   "source": "ihec_pandas[3][ihec_pandas[3]['experiment_type'] == 'Histone H3K9me3'].contents",
   "id": "62461954ec0e0c3f"
  },
  {
   "metadata": {},
   "cell_type": "code",
   "outputs": [],
   "execution_count": null,
   "source": "ihec_datasets['ENCBS004ENC_H3K9me3'].peek()",
   "id": "2bab8cc4b3163f14"
  },
  {
   "metadata": {},
   "cell_type": "code",
   "outputs": [],
   "execution_count": null,
   "source": "ihec_samples['ENCBS004ENC'].peek()",
   "id": "97ff104be5ed6b03"
  },
  {
   "metadata": {},
   "cell_type": "code",
   "outputs": [],
   "execution_count": null,
   "source": [
    "encode_info = om.JsonDataset()\n",
    "encode_info.load_into('https://www.encodeproject.org/files/ENCFF323LCS/?format=json')\n",
    "await encode_info.load_into('https://www.encodeproject.org/experiments/ENCSR000DPJ/?format=json')"
   ],
   "id": "ea08155aa733312f"
  },
  {
   "metadata": {},
   "cell_type": "code",
   "outputs": [],
   "execution_count": null,
   "source": "encode_info.browse()",
   "id": "346caf780beee1a3"
  },
  {
   "metadata": {},
   "cell_type": "code",
   "outputs": [],
   "execution_count": null,
   "source": "list(sorted(encode_info[0].keys()))",
   "id": "e7e988b13a47eb6"
  },
  {
   "metadata": {},
   "cell_type": "code",
   "outputs": [],
   "execution_count": null,
   "source": "list(sorted(encode_info[1].keys()))",
   "id": "b1f59d50dbfcc307"
  }
 ],
 "metadata": {
  "kernelspec": {
   "display_name": "Python 3 (ipykernel)",
   "language": "python",
   "name": "python3"
  },
  "language_info": {
   "codemirror_mode": {
    "name": "ipython",
    "version": 3
   },
   "file_extension": ".py",
   "mimetype": "text/x-python",
   "name": "python",
   "nbconvert_exporter": "python",
   "pygments_lexer": "ipython3",
   "version": "3.10.18"
  }
 },
 "nbformat": 4,
 "nbformat_minor": 5
}
