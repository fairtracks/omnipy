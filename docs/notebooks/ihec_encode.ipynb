{
 "cells": [
  {
   "cell_type": "code",
   "id": "1f1e3ebb64d9bfd5",
   "metadata": {},
   "source": [
    "import sys\n",
    "# For detection of Jupyter in PyCharm:\n",
    "# - Run this manually until the package is detected before continuing with the notebook\n",
    "print('pydev_jupyter_utils' in sys.modules)"
   ],
   "outputs": [],
   "execution_count": null
  },
  {
   "cell_type": "code",
   "id": "7f5ac71ae572a7b6",
   "metadata": {},
   "source": [
    "from omnipy import Model, Dataset\n",
    "import omnipy as om"
   ],
   "outputs": [],
   "execution_count": null
  },
  {
   "cell_type": "code",
   "id": "738f4605af36ac7",
   "metadata": {},
   "source": [
    "om.runtime.config.data.ui.detected_type"
   ],
   "outputs": [],
   "execution_count": null
  },
  {
   "cell_type": "code",
   "id": "d160ed9b2c8f625b",
   "metadata": {},
   "source": [
    "om.runtime.config.data.ui"
   ],
   "outputs": [],
   "execution_count": null
  },
  {
   "cell_type": "code",
   "id": "ae495ae0ac59e79f",
   "metadata": {},
   "source": [
    "om.runtime.config.data.ui.jupyter.color.style = 'deep-oceanic-next-t16'\n",
    "om.runtime.config.data.ui.jupyter.color.transparent_background = False"
   ],
   "outputs": [],
   "execution_count": null
  },
  {
   "cell_type": "code",
   "id": "c67304379a9863fc",
   "metadata": {},
   "source": [
    "import itables\n",
    "itables.init_notebook_mode()"
   ],
   "outputs": [],
   "execution_count": null
  },
  {
   "cell_type": "code",
   "id": "5ed310ffb54516c2",
   "metadata": {},
   "source": [
    "url = om.async_get_github_repo_urls.run(owner='fairtracks', repo='omnipy_example_data', branch='main', path='omnipy_example_data/ihec', file_suffix='.json')"
   ],
   "outputs": [],
   "execution_count": null
  },
  {
   "cell_type": "code",
   "id": "244c2ca2d30b35c7",
   "metadata": {},
   "source": [
    "await url"
   ],
   "outputs": [],
   "execution_count": null
  },
  {
   "cell_type": "code",
   "id": "297bc9a2ef148eda",
   "metadata": {},
   "source": [
    "ihec = om.JsonDictOfDictsDataset()\n",
    "await ihec.load_into(url.result(), as_mime_type='application/json')"
   ],
   "outputs": [],
   "execution_count": null
  },
  {
   "cell_type": "code",
   "id": "2beea9b25853fae0",
   "metadata": {},
   "source": [
    "ihec[0]"
   ],
   "outputs": [],
   "execution_count": null
  },
  {
   "cell_type": "code",
   "id": "2e21c603608feb4b",
   "metadata": {},
   "source": [
    "ihec.config.ui.browser.color.style = om.LightHighContrastColorStyles.ATELIER_SAVANNA_LIGHT_T16\n",
    "ihec.config.ui.browser.color.transparent_background = True\n",
    "ihec.config.ui.browser.font.size = 18\n",
    "ihec.config.ui.browser.width = 160"
   ],
   "outputs": [],
   "execution_count": null
  },
  {
   "cell_type": "code",
   "id": "320fba7a10e5ca74",
   "metadata": {},
   "source": [
    "ihec[0].browse()"
   ],
   "outputs": [],
   "execution_count": null
  },
  {
   "cell_type": "code",
   "id": "d6345ba6943458a6",
   "metadata": {},
   "source": [
    "@om.LinearFlowTemplate(\n",
    "    om.transpose_dict_of_dicts_2_list_of_dicts,\n",
    "    om.flatten_nested_json,\n",
    "    om.convert_dataset.refine(fixed_params=dict(dataset_cls=om.PandasDataset))\n",
    ")\n",
    "def flatten(dataset: om.JsonDictOfDictsDataset) -> om.PandasDataset:\n",
    "    ...\n"
   ],
   "outputs": [],
   "execution_count": null
  },
  {
   "cell_type": "code",
   "id": "7de3c55552b7e284",
   "metadata": {},
   "source": [
    "ihec_datasets = om.JsonDictOfDictsDataset(**{key:{'datasets': val} for key, val in ihec[0]['datasets'].items()})\n",
    "ihec_samples = om.JsonDictOfDictsDataset(**{key:{'samples': val} for key, val in ihec[0]['samples'].items()})"
   ],
   "outputs": [],
   "execution_count": null
  },
  {
   "cell_type": "code",
   "id": "be18048f6e508db9",
   "metadata": {},
   "source": [
    "ihec_datasets[:3].peek()"
   ],
   "outputs": [],
   "execution_count": null
  },
  {
   "cell_type": "code",
   "id": "300d31bb7c453553",
   "metadata": {},
   "source": [
    "ihec_datasets"
   ],
   "outputs": [],
   "execution_count": null
  },
  {
   "cell_type": "code",
   "id": "69f26f2b84626e49",
   "metadata": {},
   "source": "ihec_samples[:4].peek(color_style='gotham-t16')",
   "outputs": [],
   "execution_count": null
  },
  {
   "cell_type": "code",
   "id": "99764ad8d89dc04d",
   "metadata": {},
   "source": [
    "ihec_dataset_transposed = om.transpose_dict_of_dicts_2_list_of_dicts.run(ihec_datasets)\n",
    "ihec_dataset_transposed[0]"
   ],
   "outputs": [],
   "execution_count": null
  },
  {
   "cell_type": "code",
   "id": "5b8e40be8ce24f8a",
   "metadata": {},
   "source": [
    "ihec_dataset_pandas = flatten.run(ihec_datasets)\n",
    "ihec_dataset_pandas"
   ],
   "outputs": [],
   "execution_count": null
  },
  {
   "cell_type": "code",
   "id": "b6c36f4076953f92",
   "metadata": {},
   "source": [
    "ihec_samples_pandas = flatten.run(ihec_samples)\n",
    "ihec_samples_pandas"
   ],
   "outputs": [],
   "execution_count": null
  },
  {
   "cell_type": "code",
   "id": "b1bf3237127b1a1c",
   "metadata": {},
   "source": [
    "ihec_pandas = ihec_dataset_pandas | ihec_samples_pandas\n",
    "ihec_pandas"
   ],
   "outputs": [],
   "execution_count": null
  },
  {
   "cell_type": "code",
   "id": "bfb3894b0f176185",
   "metadata": {},
   "source": "ihec_pandas['samples'].content",
   "outputs": [],
   "execution_count": null
  },
  {
   "cell_type": "code",
   "id": "cc5c64d3dc6f651b",
   "metadata": {},
   "source": "ihec_pandas['datasets'].content",
   "outputs": [],
   "execution_count": null
  },
  {
   "cell_type": "code",
   "id": "62461954ec0e0c3f",
   "metadata": {},
   "source": "ihec_pandas[3][ihec_pandas[3]['experiment_type'] == 'Histone H3K9me3'].content",
   "outputs": [],
   "execution_count": null
  },
  {
   "cell_type": "code",
   "id": "2bab8cc4b3163f14",
   "metadata": {},
   "source": [
    "ihec_datasets['ENCBS004ENC_H3K9me3'].peek()"
   ],
   "outputs": [],
   "execution_count": null
  },
  {
   "cell_type": "code",
   "id": "97ff104be5ed6b03",
   "metadata": {},
   "source": [
    "ihec_samples['ENCBS004ENC'].peek()"
   ],
   "outputs": [],
   "execution_count": null
  },
  {
   "cell_type": "code",
   "id": "ea08155aa733312f",
   "metadata": {},
   "source": [
    "encode_info = om.JsonDataset()\n",
    "encode_info.load_into('https://www.encodeproject.org/files/ENCFF323LCS/?format=json')\n",
    "await encode_info.load_into('https://www.encodeproject.org/experiments/ENCSR000DPJ/?format=json')"
   ],
   "outputs": [],
   "execution_count": null
  },
  {
   "cell_type": "code",
   "id": "346caf780beee1a3",
   "metadata": {},
   "source": [
    "encode_info.browse()"
   ],
   "outputs": [],
   "execution_count": null
  },
  {
   "cell_type": "code",
   "id": "e7e988b13a47eb6",
   "metadata": {},
   "source": [
    "list(sorted(encode_info[0].keys()))"
   ],
   "outputs": [],
   "execution_count": null
  },
  {
   "cell_type": "code",
   "id": "b1f59d50dbfcc307",
   "metadata": {},
   "source": [
    "list(sorted(encode_info[1].keys()))"
   ],
   "outputs": [],
   "execution_count": null
  }
 ],
 "metadata": {
  "kernelspec": {
   "display_name": "Python 3 (ipykernel)",
   "language": "python",
   "name": "python3"
  },
  "language_info": {
   "codemirror_mode": {
    "name": "ipython",
    "version": 3
   },
   "file_extension": ".py",
   "mimetype": "text/x-python",
   "name": "python",
   "nbconvert_exporter": "python",
   "pygments_lexer": "ipython3",
   "version": "3.10.18"
  }
 },
 "nbformat": 4,
 "nbformat_minor": 5
}
