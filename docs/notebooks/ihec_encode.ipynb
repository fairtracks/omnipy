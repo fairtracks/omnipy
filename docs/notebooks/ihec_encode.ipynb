{
 "cells": [
  {
   "cell_type": "code",
   "id": "adc3032675b8c31b",
   "metadata": {
    "ExecuteTime": {
     "end_time": "2025-07-10T21:05:46.342316Z",
     "start_time": "2025-07-10T21:05:45.508111Z"
    }
   },
   "source": [
    "from omnipy import Model, Dataset\n",
    "import omnipy as om"
   ],
   "outputs": [
    {
     "data": {
      "text/plain": [
       "<IPython.core.display.HTML object>"
      ],
      "text/html": [
       "\n",
       "            Note: Some CSS styling related to Solara/Vuetify was added by\n",
       "            Omnipy to Jupyter Notebook or JupyterLab.\n",
       "        <style>\n",
       "        /*\n",
       "        Workaround for an issue where cells that are far out of view\n",
       "        lose their padding. This causes issues with panels resizing\n",
       "        when scrolling quickly.\n",
       "        */\n",
       "        .jp-Cell {\n",
       "            padding: var(--jp-cell-padding) !important;\n",
       "        }\n",
       "\n",
       "        /*\n",
       "        Workaround to remove horizontal spacing for vuetify code elements\n",
       "        */\n",
       "        :where(.vuetify-styles) .v-application code:after,\n",
       "        :where(.vuetify-styles) .v-application code:before,\n",
       "        :where(.vuetify-styles) .v-application kbd:after,\n",
       "        :where(.vuetify-styles) .v-application kbd:before {\n",
       "            content: none;\n",
       "            letter-spacing: 0px;\n",
       "        }\n",
       "\n",
       "        /*\n",
       "        Remove Vuetify background color in order to support\n",
       "        transparent-background=True\n",
       "        */\n",
       "        :where(.vuetify-styles) .v-application code {\n",
       "            background-color: unset;\n",
       "        }\n",
       "        :where(.vuetify-styles) .theme--dark.v-sheet {\n",
       "            background-color: unset;\n",
       "        }\n",
       "        :where(.vuetify-styles) .theme--light.v-sheet {\n",
       "            background-color: unset;\n",
       "        }\n",
       "        </style>\n",
       "        "
      ]
     },
     "metadata": {},
     "output_type": "display_data"
    }
   ],
   "execution_count": 1
  },
  {
   "cell_type": "code",
   "id": "c016773446de9b6a",
   "metadata": {
    "ExecuteTime": {
     "end_time": "2025-07-10T21:05:47.602128Z",
     "start_time": "2025-07-10T21:05:47.599883Z"
    }
   },
   "source": [
    "om.runtime.config.data.ui.jupyter.color.style = 'tb16-atelier-dune'\n",
    "om.runtime.config.data.ui.jupyter.color.transparent_background = True"
   ],
   "outputs": [],
   "execution_count": 2
  },
  {
   "cell_type": "code",
   "id": "eac53eaac3ab836c",
   "metadata": {},
   "source": [
    "import itables\n",
    "itables.init_notebook_mode()"
   ],
   "outputs": [],
   "execution_count": null
  },
  {
   "cell_type": "code",
   "id": "e3e2c47bca18c52b",
   "metadata": {
    "ExecuteTime": {
     "end_time": "2025-07-10T21:05:52.005867Z",
     "start_time": "2025-07-10T21:05:50.940457Z"
    }
   },
   "source": [
    "url = om.async_get_github_repo_urls.run(owner='fairtracks', repo='omnipy_example_data', branch='main', path='omnipy_example_data/ihec', file_suffix='.json')"
   ],
   "outputs": [
    {
     "name": "stdout",
     "output_type": "stream",
     "text": [
      "[OMNIPY ] Thu Jul 10 23:05:52 2025 - INFO: Initialized \"task-async-get-github-repo-urls-prophetic-avocet\" (omnipy.hub._registry.RunStateRegistry)\n",
      "[OMNIPY ] Thu Jul 10 23:05:52 2025 - INFO: Started running \"task-async-get-github-repo-urls-prophetic-avocet\"... (omnipy.hub._registry.RunStateRegistry)\n",
      "[OMNIPY ] Thu Jul 10 23:05:52 2025 - INFO: Results of task-async-get-github-repo-urls-prophetic-avocet is not a Dataset and cannot be automatically serialized and persisted! (omnipy.compute.task.TaskWithMixins)\n"
     ]
    }
   ],
   "execution_count": 3
  },
  {
   "cell_type": "code",
   "id": "2fcc248cf241edd4",
   "metadata": {
    "ExecuteTime": {
     "end_time": "2025-07-10T21:05:53.607487Z",
     "start_time": "2025-07-10T21:05:53.420826Z"
    }
   },
   "source": [
    "await url"
   ],
   "outputs": [
    {
     "name": "stdout",
     "output_type": "stream",
     "text": [
      "\u001B[38;2;166;162;140m╭───┬──────────────────┬──────────────┬────────┬──────────────────╮\u001B[0m\n",
      "\u001B[38;2;166;162;140m│\u001B[0m\u001B[38;2;166;162;140m \u001B[0m\u001B[3;38;2;174;149;19m#\u001B[0m\u001B[38;2;166;162;140m \u001B[0m\u001B[38;2;166;162;140m│\u001B[0m\u001B[38;2;166;162;140m \u001B[0m\u001B[3;38;2;174;149;19m Data file name \u001B[0m\u001B[38;2;166;162;140m \u001B[0m\u001B[38;2;166;162;140m│\u001B[0m\u001B[38;2;166;162;140m \u001B[0m\u001B[3;38;2;174;149;19m    Type    \u001B[0m\u001B[38;2;166;162;140m \u001B[0m\u001B[38;2;166;162;140m│\u001B[0m\u001B[38;2;166;162;140m \u001B[0m\u001B[3;38;2;174;149;19mLength\u001B[0m\u001B[38;2;166;162;140m \u001B[0m\u001B[38;2;166;162;140m│\u001B[0m\u001B[38;2;166;162;140m \u001B[0m\u001B[3;38;2;174;149;19mSize (in memory)\u001B[0m\u001B[38;2;166;162;140m \u001B[0m\u001B[38;2;166;162;140m│\u001B[0m\n",
      "\u001B[38;2;166;162;140m│\u001B[0m\u001B[38;2;166;162;140m \u001B[0m\u001B[3;38;2;174;149;19m \u001B[0m\u001B[38;2;166;162;140m \u001B[0m\u001B[38;2;166;162;140m│\u001B[0m\u001B[38;2;166;162;140m \u001B[0m\u001B[3;38;2;174;149;19m                \u001B[0m\u001B[38;2;166;162;140m \u001B[0m\u001B[38;2;166;162;140m│\u001B[0m\u001B[38;2;166;162;140m \u001B[0m\u001B[3;38;2;174;149;19m            \u001B[0m\u001B[38;2;166;162;140m \u001B[0m\u001B[38;2;166;162;140m│\u001B[0m\u001B[38;2;166;162;140m \u001B[0m\u001B[3;38;2;174;149;19m      \u001B[0m\u001B[38;2;166;162;140m \u001B[0m\u001B[38;2;166;162;140m│\u001B[0m\u001B[38;2;166;162;140m \u001B[0m\u001B[3;38;2;174;149;19m                \u001B[0m\u001B[38;2;166;162;140m \u001B[0m\u001B[38;2;166;162;140m│\u001B[0m\n",
      "\u001B[38;2;166;162;140m│\u001B[0m\u001B[38;2;166;162;140m \u001B[0m\u001B[38;2;182;86;17m0\u001B[0m\u001B[38;2;166;162;140m \u001B[0m\u001B[38;2;166;162;140m│\u001B[0m\u001B[38;2;166;162;140m \u001B[0m\u001B[38;2;166;162;140mihec_encode.json\u001B[0m\u001B[38;2;166;162;140m \u001B[0m\u001B[38;2;166;162;140m│\u001B[0m\u001B[38;2;166;162;140m \u001B[0m\u001B[38;2;166;162;140mHttpUrlModel\u001B[0m\u001B[38;2;166;162;140m \u001B[0m\u001B[38;2;166;162;140m│\u001B[0m\u001B[38;2;166;162;140m \u001B[0m\u001B[38;2;166;162;140m     \u001B[0m\u001B[38;2;31;173;131m-\u001B[0m\u001B[38;2;166;162;140m \u001B[0m\u001B[38;2;166;162;140m│\u001B[0m\u001B[38;2;166;162;140m \u001B[0m\u001B[38;2;166;162;140m          \u001B[0m\u001B[38;2;182;86;17m3.2\u001B[0m\u001B[38;2;166;162;140m \u001B[0m\u001B[38;2;166;162;140mkB\u001B[0m\u001B[38;2;166;162;140m \u001B[0m\u001B[38;2;166;162;140m│\u001B[0m\n",
      "\u001B[38;2;166;162;140m╰───┴──────────────────┴──────────────┴────────┴──────────────────╯\u001B[0m\n",
      "\n"
     ]
    },
    {
     "data": {
      "text/plain": [],
      "text/html": []
     },
     "execution_count": 4,
     "metadata": {},
     "output_type": "execute_result"
    }
   ],
   "execution_count": 4
  },
  {
   "cell_type": "code",
   "id": "ebb41923610431a7",
   "metadata": {
    "ExecuteTime": {
     "end_time": "2025-07-10T21:05:59.792122Z",
     "start_time": "2025-07-10T21:05:58.777648Z"
    }
   },
   "source": [
    "ihec = om.JsonDictOfDictsDataset()\n",
    "await ihec.load_into(url.result(), as_mime_type='application/json')"
   ],
   "outputs": [
    {
     "name": "stdout",
     "output_type": "stream",
     "text": [
      "[OMNIPY ] Thu Jul 10 23:05:58 2025 - INFO: Initialized \"task-get-auto-from-api-endpoint-stimulating-numbat\" (omnipy.hub._registry.RunStateRegistry)\n",
      "[OMNIPY ] Thu Jul 10 23:05:58 2025 - INFO: Started running \"task-get-auto-from-api-endpoint-stimulating-numbat\"... (omnipy.hub._registry.RunStateRegistry)\n",
      "[OMNIPY ] Thu Jul 10 23:05:58 2025 - INFO: Results of task-get-auto-from-api-endpoint-stimulating-numbat is not a Dataset and cannot be automatically serialized and persisted! (omnipy.compute.task.TaskWithMixins)\n",
      "[OMNIPY ] Thu Jul 10 23:05:59 2025 - INFO: Finished running \"task-get-auto-from-api-endpoint-stimulating-numbat\"! (omnipy.hub._registry.RunStateRegistry)\n",
      "\u001B[38;2;166;162;140m╭───┬──────────────────┬──────────────────────┬────────┬──────────────────╮\u001B[0m\n",
      "\u001B[38;2;166;162;140m│\u001B[0m\u001B[38;2;166;162;140m \u001B[0m\u001B[3;38;2;174;149;19m#\u001B[0m\u001B[38;2;166;162;140m \u001B[0m\u001B[38;2;166;162;140m│\u001B[0m\u001B[38;2;166;162;140m \u001B[0m\u001B[3;38;2;174;149;19m Data file name \u001B[0m\u001B[38;2;166;162;140m \u001B[0m\u001B[38;2;166;162;140m│\u001B[0m\u001B[38;2;166;162;140m \u001B[0m\u001B[3;38;2;174;149;19m        Type        \u001B[0m\u001B[38;2;166;162;140m \u001B[0m\u001B[38;2;166;162;140m│\u001B[0m\u001B[38;2;166;162;140m \u001B[0m\u001B[3;38;2;174;149;19mLength\u001B[0m\u001B[38;2;166;162;140m \u001B[0m\u001B[38;2;166;162;140m│\u001B[0m\u001B[38;2;166;162;140m \u001B[0m\u001B[3;38;2;174;149;19mSize (in memory)\u001B[0m\u001B[38;2;166;162;140m \u001B[0m\u001B[38;2;166;162;140m│\u001B[0m\n",
      "\u001B[38;2;166;162;140m│\u001B[0m\u001B[38;2;166;162;140m \u001B[0m\u001B[3;38;2;174;149;19m \u001B[0m\u001B[38;2;166;162;140m \u001B[0m\u001B[38;2;166;162;140m│\u001B[0m\u001B[38;2;166;162;140m \u001B[0m\u001B[3;38;2;174;149;19m                \u001B[0m\u001B[38;2;166;162;140m \u001B[0m\u001B[38;2;166;162;140m│\u001B[0m\u001B[38;2;166;162;140m \u001B[0m\u001B[3;38;2;174;149;19m                    \u001B[0m\u001B[38;2;166;162;140m \u001B[0m\u001B[38;2;166;162;140m│\u001B[0m\u001B[38;2;166;162;140m \u001B[0m\u001B[3;38;2;174;149;19m      \u001B[0m\u001B[38;2;166;162;140m \u001B[0m\u001B[38;2;166;162;140m│\u001B[0m\u001B[38;2;166;162;140m \u001B[0m\u001B[3;38;2;174;149;19m                \u001B[0m\u001B[38;2;166;162;140m \u001B[0m\u001B[38;2;166;162;140m│\u001B[0m\n",
      "\u001B[38;2;166;162;140m│\u001B[0m\u001B[38;2;166;162;140m \u001B[0m\u001B[38;2;182;86;17m0\u001B[0m\u001B[38;2;166;162;140m \u001B[0m\u001B[38;2;166;162;140m│\u001B[0m\u001B[38;2;166;162;140m \u001B[0m\u001B[38;2;166;162;140mihec_encode.json\u001B[0m\u001B[38;2;166;162;140m \u001B[0m\u001B[38;2;166;162;140m│\u001B[0m\u001B[38;2;166;162;140m \u001B[0m\u001B[38;2;166;162;140mJsonDictOfDictsModel\u001B[0m\u001B[38;2;166;162;140m \u001B[0m\u001B[38;2;166;162;140m│\u001B[0m\u001B[38;2;166;162;140m \u001B[0m\u001B[38;2;166;162;140m     \u001B[0m\u001B[38;2;182;86;17m3\u001B[0m\u001B[38;2;166;162;140m \u001B[0m\u001B[38;2;166;162;140m│\u001B[0m\u001B[38;2;166;162;140m \u001B[0m\u001B[38;2;166;162;140m          \u001B[0m\u001B[38;2;182;86;17m8.0\u001B[0m\u001B[38;2;166;162;140m \u001B[0m\u001B[38;2;166;162;140mMB\u001B[0m\u001B[38;2;166;162;140m \u001B[0m\u001B[38;2;166;162;140m│\u001B[0m\n",
      "\u001B[38;2;166;162;140m╰───┴──────────────────┴──────────────────────┴────────┴──────────────────╯\u001B[0m\n",
      "\n"
     ]
    },
    {
     "data": {
      "text/plain": [],
      "text/html": []
     },
     "execution_count": 5,
     "metadata": {},
     "output_type": "execute_result"
    }
   ],
   "execution_count": 5
  },
  {
   "metadata": {},
   "cell_type": "code",
   "outputs": [],
   "execution_count": null,
   "source": "ihec[0]",
   "id": "27384aa8c31117d3"
  },
  {
   "cell_type": "code",
   "id": "db194d461d02d98d",
   "metadata": {},
   "source": [
    "ihec.config.ui.browser.color.style = om.LightHighContrastColorStyles.TB16_TOKYO_CITY_LIGHT\n",
    "ihec.config.ui.browser.font.size = 14\n",
    "ihec.config.ui.browser.width = 200"
   ],
   "outputs": [],
   "execution_count": null
  },
  {
   "cell_type": "code",
   "id": "96806e71c894111f",
   "metadata": {
    "ExecuteTime": {
     "end_time": "2025-07-10T21:06:13.448792Z",
     "start_time": "2025-07-10T21:06:13.445878Z"
    }
   },
   "source": [
    "@om.LinearFlowTemplate(\n",
    "    om.transpose_dict_of_dicts_2_list_of_dicts,\n",
    "    om.flatten_nested_json,\n",
    "    om.convert_dataset.refine(fixed_params=dict(dataset_cls=om.PandasDataset))\n",
    ")\n",
    "def flatten(dataset: om.JsonDictOfDictsDataset) -> om.PandasDataset:\n",
    "    ...\n"
   ],
   "outputs": [],
   "execution_count": 8
  },
  {
   "cell_type": "code",
   "id": "97889757be438638",
   "metadata": {
    "ExecuteTime": {
     "end_time": "2025-07-10T21:06:16.372566Z",
     "start_time": "2025-07-10T21:06:15.676725Z"
    }
   },
   "source": [
    "ihec_datasets = om.JsonDictOfDictsDataset(**{key:{'datasets': val} for key, val in ihec[0]['datasets'].items()})\n",
    "ihec_samples = om.JsonDictOfDictsDataset(**{key:{'samples': val} for key, val in ihec[0]['samples'].items()})"
   ],
   "outputs": [],
   "execution_count": 9
  },
  {
   "cell_type": "code",
   "id": "df1a0fb948a922e2",
   "metadata": {},
   "source": [
    "ihec_datasets[:3].peek()"
   ],
   "outputs": [],
   "execution_count": null
  },
  {
   "cell_type": "code",
   "id": "1e8928df0e527202",
   "metadata": {},
   "source": [
    "ihec_datasets[4].browse()"
   ],
   "outputs": [],
   "execution_count": null
  },
  {
   "cell_type": "code",
   "id": "7c811d844265452d",
   "metadata": {},
   "source": [
    "ihec_samples[:4].peek()"
   ],
   "outputs": [],
   "execution_count": null
  },
  {
   "cell_type": "code",
   "id": "b98be7a1cf6ac154",
   "metadata": {
    "ExecuteTime": {
     "end_time": "2025-07-10T21:06:21.128389Z",
     "start_time": "2025-07-10T21:06:19.095842Z"
    }
   },
   "source": [
    "ihec_dataset_transposed = om.transpose_dict_of_dicts_2_list_of_dicts.run(ihec_datasets)\n",
    "ihec_dataset_transposed[0]"
   ],
   "outputs": [
    {
     "name": "stdout",
     "output_type": "stream",
     "text": [
      "[OMNIPY ] Thu Jul 10 23:06:19 2025 - INFO: Initialized \"func-flow-transpose-dict-of-dicts-2-list-of-dicts-certain-boobook\" (omnipy.hub._registry.RunStateRegistry)\n",
      "[OMNIPY ] Thu Jul 10 23:06:19 2025 - INFO: Started running \"func-flow-transpose-dict-of-dicts-2-list-of-dicts-certain-boobook\"... (omnipy.hub._registry.RunStateRegistry)\n",
      "[OMNIPY ] Thu Jul 10 23:06:19 2025 - INFO: Initialized \"task-transpose-dicts-2-lists-misty-guppy\" (omnipy.hub._registry.RunStateRegistry)\n",
      "[OMNIPY ] Thu Jul 10 23:06:19 2025 - INFO: Started running \"task-transpose-dicts-2-lists-misty-guppy\"... (omnipy.hub._registry.RunStateRegistry)\n",
      "[OMNIPY ] Thu Jul 10 23:06:19 2025 - INFO: Finished running \"task-transpose-dicts-2-lists-misty-guppy\"! (omnipy.hub._registry.RunStateRegistry)\n",
      "[OMNIPY ] Thu Jul 10 23:06:19 2025 - INFO: Writing dataset as a gzipped tarpack to \"/Users/sveinugu/PycharmProjects/omnipy/docs/notebooks/outputs/2025_07_10-23_06_19/00_task_transpose_dicts_2_lists.tar.gz\" (omnipy.compute.task.TaskWithMixins)\n",
      "[OMNIPY ] Thu Jul 10 23:06:20 2025 - INFO: Finished running \"func-flow-transpose-dict-of-dicts-2-list-of-dicts-certain-boobook\"! (omnipy.hub._registry.RunStateRegistry)\n",
      "[OMNIPY ] Thu Jul 10 23:06:20 2025 - INFO: Writing dataset as a gzipped tarpack to \"/Users/sveinugu/PycharmProjects/omnipy/docs/notebooks/outputs/2025_07_10-23_06_19/01_func_flow_transpose_dict_of_dicts_2_list_of_dicts.tar.gz\" (omnipy.compute.flow.FuncFlowWithMixins)\n",
      "\u001B[38;2;166;162;140m╭──────────────────────────────────────────────────────────────────────────────────────────────────────────────────────╮\u001B[0m\n",
      "\u001B[38;2;166;162;140m│\u001B[0m\u001B[38;2;166;162;140m \u001B[0m\u001B[3;38;2;174;149;19m                                                JsonListOfDictsModel                                                \u001B[0m\u001B[38;2;166;162;140m \u001B[0m\u001B[38;2;166;162;140m│\u001B[0m\n",
      "\u001B[38;2;166;162;140m│\u001B[0m\u001B[38;2;166;162;140m \u001B[0m\u001B[3;38;2;174;149;19m                                                                                                                    \u001B[0m\u001B[38;2;166;162;140m \u001B[0m\u001B[38;2;166;162;140m│\u001B[0m\n",
      "\u001B[38;2;166;162;140m│\u001B[0m\u001B[38;2;166;162;140m \u001B[0m\u001B[38;2;166;162;140m[\u001B[0m\u001B[38;2;166;162;140m                                                                                                                   \u001B[0m\u001B[38;2;166;162;140m \u001B[0m\u001B[38;2;166;162;140m│\u001B[0m\n",
      "\u001B[38;2;166;162;140m│\u001B[0m\u001B[38;2;166;162;140m \u001B[0m\u001B[38;2;166;162;140m  \u001B[0m\u001B[38;2;166;162;140m{\u001B[0m\u001B[38;2;166;162;140m                                                                                                                 \u001B[0m\u001B[38;2;166;162;140m \u001B[0m\u001B[38;2;166;162;140m│\u001B[0m\n",
      "\u001B[38;2;166;162;140m│\u001B[0m\u001B[38;2;166;162;140m \u001B[0m\u001B[38;2;166;162;140m    \u001B[0m\u001B[38;2;96;172;57m'\u001B[0m\u001B[38;2;96;172;57m_omnipy_id\u001B[0m\u001B[38;2;96;172;57m'\u001B[0m\u001B[38;2;166;162;140m:\u001B[0m\u001B[38;2;166;162;140m \u001B[0m\u001B[38;2;96;172;57m'\u001B[0m\u001B[38;2;96;172;57mENCBS004ENC_H3K27ac\u001B[0m\u001B[38;2;96;172;57m'\u001B[0m\u001B[38;2;166;162;140m,\u001B[0m\u001B[38;2;166;162;140m                                                                            \u001B[0m\u001B[38;2;166;162;140m \u001B[0m\u001B[38;2;166;162;140m│\u001B[0m\n",
      "\u001B[38;2;166;162;140m│\u001B[0m\u001B[38;2;166;162;140m \u001B[0m\u001B[38;2;166;162;140m    \u001B[0m\u001B[38;2;96;172;57m'\u001B[0m\u001B[38;2;96;172;57manalysis_attributes\u001B[0m\u001B[38;2;96;172;57m'\u001B[0m\u001B[38;2;166;162;140m:\u001B[0m\u001B[38;2;166;162;140m \u001B[0m\u001B[38;2;166;162;140m{\u001B[0m\u001B[38;2;166;162;140m                                                                                        \u001B[0m\u001B[38;2;166;162;140m \u001B[0m\u001B[38;2;166;162;140m│\u001B[0m\n",
      "\u001B[38;2;166;162;140m│\u001B[0m\u001B[38;2;166;162;140m \u001B[0m\u001B[38;2;166;162;140m      \u001B[0m\u001B[38;2;96;172;57m'\u001B[0m\u001B[38;2;96;172;57malignment_software\u001B[0m\u001B[38;2;96;172;57m'\u001B[0m\u001B[38;2;166;162;140m:\u001B[0m\u001B[38;2;166;162;140m \u001B[0m\u001B[38;2;96;172;57m'\u001B[0m\u001B[38;2;96;172;57mbwa\u001B[0m\u001B[38;2;96;172;57m'\u001B[0m\u001B[38;2;166;162;140m,\u001B[0m\u001B[38;2;166;162;140m                                                                                  \u001B[0m\u001B[38;2;166;162;140m \u001B[0m\u001B[38;2;166;162;140m│\u001B[0m\n",
      "\u001B[38;2;166;162;140m│\u001B[0m\u001B[38;2;166;162;140m \u001B[0m\u001B[38;2;166;162;140m      \u001B[0m\u001B[38;2;96;172;57m'\u001B[0m\u001B[38;2;96;172;57malignment_software_version\u001B[0m\u001B[38;2;96;172;57m'\u001B[0m\u001B[38;2;166;162;140m:\u001B[0m\u001B[38;2;166;162;140m \u001B[0m\u001B[38;2;96;172;57m'\u001B[0m\u001B[38;2;96;172;57m0.7.10\u001B[0m\u001B[38;2;96;172;57m'\u001B[0m\u001B[38;2;166;162;140m,\u001B[0m\u001B[38;2;166;162;140m                                                                       \u001B[0m\u001B[38;2;166;162;140m \u001B[0m\u001B[38;2;166;162;140m│\u001B[0m\n",
      "\u001B[38;2;166;162;140m│\u001B[0m\u001B[38;2;166;162;140m \u001B[0m\u001B[38;2;166;162;140m      \u001B[0m\u001B[38;2;96;172;57m'\u001B[0m\u001B[38;2;96;172;57manalysis_group\u001B[0m\u001B[38;2;96;172;57m'\u001B[0m\u001B[38;2;166;162;140m:\u001B[0m\u001B[38;2;166;162;140m \u001B[0m\u001B[38;2;96;172;57m'\u001B[0m\u001B[38;2;96;172;57mENCODE Processing Pipeline\u001B[0m\u001B[38;2;96;172;57m'\u001B[0m\u001B[38;2;166;162;140m,\u001B[0m\u001B[38;2;166;162;140m                                                               \u001B[0m\u001B[38;2;166;162;140m \u001B[0m\u001B[38;2;166;162;140m│\u001B[0m\n",
      "\u001B[38;2;166;162;140m│\u001B[0m\u001B[38;2;166;162;140m \u001B[0m\u001B[38;2;166;162;140m      \u001B[0m\u001B[38;2;96;172;57m'\u001B[0m\u001B[38;2;96;172;57manalysis_software\u001B[0m\u001B[38;2;96;172;57m'\u001B[0m\u001B[38;2;166;162;140m:\u001B[0m\u001B[38;2;166;162;140m \u001B[0m\u001B[38;2;96;172;57m'\u001B[0m\u001B[38;2;96;172;57mHistone ChIP-seq (unreplicated)\u001B[0m\u001B[38;2;96;172;57m'\u001B[0m\u001B[38;2;166;162;140m,\u001B[0m\u001B[38;2;166;162;140m                                                       \u001B[0m\u001B[38;2;166;162;140m \u001B[0m\u001B[38;2;166;162;140m│\u001B[0m\n",
      "\u001B[38;2;166;162;140m│\u001B[0m\u001B[38;2;166;162;140m \u001B[0m\u001B[38;2;166;162;140m      \u001B[0m\u001B[38;2;96;172;57m'\u001B[0m\u001B[38;2;96;172;57manalysis_software_version\u001B[0m\u001B[38;2;96;172;57m'\u001B[0m\u001B[38;2;166;162;140m:\u001B[0m\u001B[38;2;166;162;140m \u001B[0m\u001B[38;2;96;172;57m'\u001B[0m\u001B[38;2;96;172;57m1\u001B[0m\u001B[38;2;96;172;57m'\u001B[0m\u001B[38;2;166;162;140m                                                                              \u001B[0m\u001B[38;2;166;162;140m \u001B[0m\u001B[38;2;166;162;140m│\u001B[0m\n",
      "\u001B[38;2;166;162;140m│\u001B[0m\u001B[38;2;166;162;140m \u001B[0m\u001B[38;2;166;162;140m    \u001B[0m\u001B[38;2;166;162;140m}\u001B[0m\u001B[38;2;166;162;140m,\u001B[0m\u001B[38;2;166;162;140m                                                                                                              \u001B[0m\u001B[38;2;166;162;140m \u001B[0m\u001B[38;2;166;162;140m│\u001B[0m\n",
      "\u001B[38;2;166;162;140m│\u001B[0m\u001B[38;2;166;162;140m \u001B[0m\u001B[38;2;166;162;140m    \u001B[0m\u001B[38;2;96;172;57m'\u001B[0m\u001B[38;2;96;172;57mbrowser\u001B[0m\u001B[38;2;96;172;57m'\u001B[0m\u001B[38;2;166;162;140m:\u001B[0m\u001B[38;2;166;162;140m \u001B[0m\u001B[38;2;166;162;140m{\u001B[0m\u001B[38;2;166;162;140m                                                                                                    \u001B[0m\u001B[38;2;166;162;140m \u001B[0m\u001B[38;2;166;162;140m│\u001B[0m\n",
      "\u001B[38;2;166;162;140m│\u001B[0m\u001B[38;2;166;162;140m \u001B[0m\u001B[38;2;166;162;140m      \u001B[0m\u001B[38;2;96;172;57m'\u001B[0m\u001B[38;2;96;172;57mpeak_calls\u001B[0m\u001B[38;2;96;172;57m'\u001B[0m\u001B[38;2;166;162;140m:\u001B[0m\u001B[38;2;166;162;140m \u001B[0m\u001B[38;2;166;162;140m[\u001B[0m\u001B[38;2;166;162;140m                                                                                               \u001B[0m\u001B[38;2;166;162;140m \u001B[0m\u001B[38;2;166;162;140m│\u001B[0m\n",
      "\u001B[38;2;166;162;140m│\u001B[0m\u001B[38;2;166;162;140m \u001B[0m\u001B[38;2;166;162;140m        \u001B[0m\u001B[38;2;166;162;140m{\u001B[0m\u001B[38;2;166;162;140m                                                                                                           \u001B[0m\u001B[38;2;166;162;140m \u001B[0m\u001B[38;2;166;162;140m│\u001B[0m\n",
      "\u001B[38;2;166;162;140m│\u001B[0m\u001B[38;2;166;162;140m \u001B[0m\u001B[38;2;166;162;140m          \u001B[0m\u001B[38;2;96;172;57m'\u001B[0m\u001B[38;2;96;172;57mbig_data_url\u001B[0m\u001B[38;2;96;172;57m'\u001B[0m\u001B[38;2;166;162;140m:\u001B[0m\u001B[38;2;166;162;140m \u001B[0m\u001B[38;2;96;172;57m'\u001B[0m\u001B[38;2;96;172;57mhttps://epigenomesportal.ca/tracks/ENCODE/hg38/87238.ENCODE.ENCBS004ENC.H3K27ac.peak_cal…\u001B[0m\u001B[38;2;166;162;140m \u001B[0m\u001B[38;2;166;162;140m│\u001B[0m\n",
      "\u001B[38;2;166;162;140m│\u001B[0m\u001B[38;2;166;162;140m \u001B[0m\u001B[38;2;166;162;140m          \u001B[0m\u001B[38;2;96;172;57m'\u001B[0m\u001B[38;2;96;172;57mmd5sum\u001B[0m\u001B[38;2;96;172;57m'\u001B[0m\u001B[38;2;166;162;140m:\u001B[0m\u001B[38;2;166;162;140m \u001B[0m\u001B[38;2;96;172;57m'\u001B[0m\u001B[38;2;96;172;57m41394836fc4e1a6121fa2f77d0168be1\u001B[0m\u001B[38;2;96;172;57m'\u001B[0m\u001B[38;2;166;162;140m,\u001B[0m\u001B[38;2;166;162;140m                                                             \u001B[0m\u001B[38;2;166;162;140m \u001B[0m\u001B[38;2;166;162;140m│\u001B[0m\n",
      "\u001B[38;2;166;162;140m│\u001B[0m\u001B[38;2;166;162;140m \u001B[0m\u001B[38;2;166;162;140m          \u001B[0m\u001B[38;2;96;172;57m'\u001B[0m\u001B[38;2;96;172;57mprimary\u001B[0m\u001B[38;2;96;172;57m'\u001B[0m\u001B[38;2;166;162;140m:\u001B[0m\u001B[38;2;166;162;140m \u001B[0m\u001B[1;38;2;174;149;19mTrue\u001B[0m\u001B[38;2;166;162;140m                                                                                           \u001B[0m\u001B[38;2;166;162;140m \u001B[0m\u001B[38;2;166;162;140m│\u001B[0m\n",
      "\u001B[38;2;166;162;140m│\u001B[0m\u001B[38;2;166;162;140m \u001B[0m\u001B[38;2;166;162;140m        \u001B[0m\u001B[38;2;166;162;140m}\u001B[0m\u001B[38;2;166;162;140m                                                                                                           \u001B[0m\u001B[38;2;166;162;140m \u001B[0m\u001B[38;2;166;162;140m│\u001B[0m\n",
      "\u001B[38;2;166;162;140m│\u001B[0m\u001B[38;2;166;162;140m \u001B[0m\u001B[38;2;166;162;140m      \u001B[0m\u001B[38;2;166;162;140m]\u001B[0m\u001B[38;2;166;162;140m,\u001B[0m\u001B[38;2;166;162;140m                                                                                                            \u001B[0m\u001B[38;2;166;162;140m \u001B[0m\u001B[38;2;166;162;140m│\u001B[0m\n",
      "\u001B[38;2;166;162;140m│\u001B[0m\u001B[38;2;166;162;140m \u001B[0m\u001B[38;2;166;162;140m      \u001B[0m\u001B[38;2;96;172;57m'\u001B[0m\u001B[38;2;96;172;57msignal_unstranded\u001B[0m\u001B[38;2;96;172;57m'\u001B[0m\u001B[38;2;166;162;140m:\u001B[0m\u001B[38;2;166;162;140m \u001B[0m\u001B[38;2;166;162;140m[\u001B[0m\u001B[38;2;166;162;140m                                                                                        \u001B[0m\u001B[38;2;166;162;140m \u001B[0m\u001B[38;2;166;162;140m│\u001B[0m\n",
      "\u001B[38;2;166;162;140m│\u001B[0m\u001B[38;2;166;162;140m \u001B[0m\u001B[38;2;166;162;140m        \u001B[0m\u001B[38;2;166;162;140m{\u001B[0m\u001B[38;2;166;162;140m                                                                                                           \u001B[0m\u001B[38;2;166;162;140m \u001B[0m\u001B[38;2;166;162;140m│\u001B[0m\n",
      "\u001B[38;2;166;162;140m│\u001B[0m\u001B[38;2;166;162;140m \u001B[0m\u001B[38;2;166;162;140m          \u001B[0m\u001B[38;2;96;172;57m'\u001B[0m\u001B[38;2;96;172;57mbig_data_url\u001B[0m\u001B[38;2;96;172;57m'\u001B[0m\u001B[38;2;166;162;140m:\u001B[0m\u001B[38;2;166;162;140m \u001B[0m\u001B[38;2;96;172;57m'\u001B[0m\u001B[38;2;96;172;57mhttps://epigenomesportal.ca/tracks/ENCODE/hg38/87237.ENCODE.ENCBS004ENC.H3K27ac.signal_u…\u001B[0m\u001B[38;2;166;162;140m \u001B[0m\u001B[38;2;166;162;140m│\u001B[0m\n",
      "\u001B[38;2;166;162;140m│\u001B[0m\u001B[38;2;166;162;140m \u001B[0m\u001B[38;2;166;162;140m          \u001B[0m\u001B[38;2;96;172;57m'\u001B[0m\u001B[38;2;96;172;57mmd5sum\u001B[0m\u001B[38;2;96;172;57m'\u001B[0m\u001B[38;2;166;162;140m:\u001B[0m\u001B[38;2;166;162;140m \u001B[0m\u001B[38;2;96;172;57m'\u001B[0m\u001B[38;2;96;172;57mf61ba2ded8cf1c4f664fba76e3fa3b3a\u001B[0m\u001B[38;2;96;172;57m'\u001B[0m\u001B[38;2;166;162;140m,\u001B[0m\u001B[38;2;166;162;140m                                                             \u001B[0m\u001B[38;2;166;162;140m \u001B[0m\u001B[38;2;166;162;140m│\u001B[0m\n",
      "\u001B[38;2;166;162;140m│\u001B[0m\u001B[38;2;166;162;140m \u001B[0m\u001B[38;2;166;162;140m          \u001B[0m\u001B[38;2;96;172;57m'\u001B[0m\u001B[38;2;96;172;57mprimary\u001B[0m\u001B[38;2;96;172;57m'\u001B[0m\u001B[38;2;166;162;140m:\u001B[0m\u001B[38;2;166;162;140m \u001B[0m\u001B[1;38;2;174;149;19mTrue\u001B[0m\u001B[38;2;166;162;140m                                                                                           \u001B[0m\u001B[38;2;166;162;140m \u001B[0m\u001B[38;2;166;162;140m│\u001B[0m\n",
      "\u001B[38;2;166;162;140m│\u001B[0m\u001B[38;2;166;162;140m \u001B[0m\u001B[38;2;166;162;140m        \u001B[0m\u001B[38;2;166;162;140m}\u001B[0m\u001B[38;2;166;162;140m                                                                                                           \u001B[0m\u001B[38;2;166;162;140m \u001B[0m\u001B[38;2;166;162;140m│\u001B[0m\n",
      "\u001B[38;2;166;162;140m│\u001B[0m\u001B[38;2;166;162;140m \u001B[0m\u001B[38;2;166;162;140m      \u001B[0m\u001B[38;2;166;162;140m]\u001B[0m\u001B[38;2;166;162;140m                                                                                                             \u001B[0m\u001B[38;2;166;162;140m \u001B[0m\u001B[38;2;166;162;140m│\u001B[0m\n",
      "\u001B[38;2;166;162;140m│\u001B[0m\u001B[38;2;166;162;140m \u001B[0m\u001B[38;2;166;162;140m    \u001B[0m\u001B[38;2;166;162;140m}\u001B[0m\u001B[38;2;166;162;140m,\u001B[0m\u001B[38;2;166;162;140m                                                                                                              \u001B[0m\u001B[38;2;166;162;140m \u001B[0m\u001B[38;2;166;162;140m│\u001B[0m\n",
      "\u001B[38;2;166;162;140m│\u001B[0m\u001B[38;2;166;162;140m \u001B[0m\u001B[38;2;166;162;140m    \u001B[0m\u001B[38;2;96;172;57m'\u001B[0m\u001B[38;2;96;172;57mexperiment_attributes\u001B[0m\u001B[38;2;96;172;57m'\u001B[0m\u001B[38;2;166;162;140m:\u001B[0m\u001B[38;2;166;162;140m \u001B[0m\u001B[38;2;166;162;140m{\u001B[0m\u001B[38;2;166;162;140m                                                                                      \u001B[0m\u001B[38;2;166;162;140m \u001B[0m\u001B[38;2;166;162;140m│\u001B[0m\n",
      "\u001B[38;2;166;162;140m│\u001B[0m\u001B[38;2;166;162;140m \u001B[0m\u001B[38;2;166;162;140m      \u001B[0m\u001B[38;2;96;172;57m'\u001B[0m\u001B[38;2;96;172;57massay_type\u001B[0m\u001B[38;2;96;172;57m'\u001B[0m\u001B[38;2;166;162;140m:\u001B[0m\u001B[38;2;166;162;140m \u001B[0m\u001B[38;2;96;172;57m'\u001B[0m\u001B[38;2;96;172;57mChIP-seq\u001B[0m\u001B[38;2;96;172;57m'\u001B[0m\u001B[38;2;166;162;140m,\u001B[0m\u001B[38;2;166;162;140m                                                                                     \u001B[0m\u001B[38;2;166;162;140m \u001B[0m\u001B[38;2;166;162;140m│\u001B[0m\n",
      "\u001B[38;2;166;162;140m│\u001B[0m\u001B[38;2;166;162;140m \u001B[0m\u001B[38;2;166;162;140m      \u001B[0m\u001B[38;2;96;172;57m'\u001B[0m\u001B[38;2;96;172;57mexperiment_ontology_uri\u001B[0m\u001B[38;2;96;172;57m'\u001B[0m\u001B[38;2;166;162;140m:\u001B[0m\u001B[38;2;166;162;140m \u001B[0m\u001B[38;2;96;172;57m'\u001B[0m\u001B[38;2;96;172;57mhttp://purl.obolibrary.org/obo/OBI_0000716\u001B[0m\u001B[38;2;96;172;57m'\u001B[0m\u001B[38;2;166;162;140m,\u001B[0m\u001B[38;2;166;162;140m                                      \u001B[0m\u001B[38;2;166;162;140m \u001B[0m\u001B[38;2;166;162;140m│\u001B[0m\n",
      "\u001B[38;2;166;162;140m│\u001B[0m\u001B[38;2;166;162;140m \u001B[0m\u001B[38;2;166;162;140m      \u001B[0m\u001B[38;2;96;172;57m'\u001B[0m\u001B[38;2;96;172;57mexperiment_type\u001B[0m\u001B[38;2;96;172;57m'\u001B[0m\u001B[38;2;166;162;140m:\u001B[0m\u001B[38;2;166;162;140m \u001B[0m\u001B[38;2;96;172;57m'\u001B[0m\u001B[38;2;96;172;57mHistone H3K27ac\u001B[0m\u001B[38;2;96;172;57m'\u001B[0m\u001B[38;2;166;162;140m,\u001B[0m\u001B[38;2;166;162;140m                                                                         \u001B[0m\u001B[38;2;166;162;140m \u001B[0m\u001B[38;2;166;162;140m│\u001B[0m\n",
      "\u001B[38;2;166;162;140m│\u001B[0m\u001B[38;2;166;162;140m \u001B[0m\u001B[38;2;166;162;140m      \u001B[0m\u001B[38;2;96;172;57m'\u001B[0m\u001B[38;2;96;172;57mreference_registry_id\u001B[0m\u001B[38;2;96;172;57m'\u001B[0m\u001B[38;2;166;162;140m:\u001B[0m\u001B[38;2;166;162;140m \u001B[0m\u001B[38;2;96;172;57m'\u001B[0m\u001B[38;2;96;172;57mIHECRE00004680\u001B[0m\u001B[38;2;96;172;57m'\u001B[0m\u001B[38;2;166;162;140m                                                                     \u001B[0m\u001B[38;2;166;162;140m \u001B[0m\u001B[38;2;166;162;140m│\u001B[0m\n",
      "\u001B[38;2;166;162;140m│\u001B[0m\u001B[38;2;166;162;140m \u001B[0m\u001B[38;2;166;162;140m    \u001B[0m\u001B[38;2;166;162;140m}\u001B[0m\u001B[38;2;166;162;140m,\u001B[0m\u001B[38;2;166;162;140m                                                                                                              \u001B[0m\u001B[38;2;166;162;140m \u001B[0m\u001B[38;2;166;162;140m│\u001B[0m\n",
      "\u001B[38;2;166;162;140m│\u001B[0m\u001B[38;2;166;162;140m \u001B[0m\u001B[38;2;166;162;140m    \u001B[0m\u001B[38;2;96;172;57m'\u001B[0m\u001B[38;2;96;172;57mihec_data_portal\u001B[0m\u001B[38;2;96;172;57m'\u001B[0m\u001B[38;2;166;162;140m:\u001B[0m\u001B[38;2;166;162;140m \u001B[0m\u001B[38;2;166;162;140m{\u001B[0m\u001B[38;2;166;162;140m                                                                                           \u001B[0m\u001B[38;2;166;162;140m \u001B[0m\u001B[38;2;166;162;140m│\u001B[0m\n",
      "\u001B[38;2;166;162;140m│\u001B[0m\u001B[38;2;166;162;140m \u001B[0m\u001B[38;2;166;162;140m      \u001B[0m\u001B[38;2;96;172;57m'\u001B[0m\u001B[38;2;96;172;57massay\u001B[0m\u001B[38;2;96;172;57m'\u001B[0m\u001B[38;2;166;162;140m:\u001B[0m\u001B[38;2;166;162;140m \u001B[0m\u001B[38;2;96;172;57m'\u001B[0m\u001B[38;2;96;172;57mH3K27ac\u001B[0m\u001B[38;2;96;172;57m'\u001B[0m\u001B[38;2;166;162;140m,\u001B[0m\u001B[38;2;166;162;140m                                                                                           \u001B[0m\u001B[38;2;166;162;140m \u001B[0m\u001B[38;2;166;162;140m│\u001B[0m\n",
      "\u001B[38;2;166;162;140m│\u001B[0m\u001B[38;2;166;162;140m \u001B[0m\u001B[38;2;166;162;140m      \u001B[0m\u001B[38;2;96;172;57m'\u001B[0m\u001B[38;2;96;172;57massay_category\u001B[0m\u001B[38;2;96;172;57m'\u001B[0m\u001B[38;2;166;162;140m:\u001B[0m\u001B[38;2;166;162;140m \u001B[0m\u001B[38;2;96;172;57m'\u001B[0m\u001B[38;2;96;172;57mHistone Modifications\u001B[0m\u001B[38;2;96;172;57m'\u001B[0m\u001B[38;2;166;162;140m,\u001B[0m\u001B[38;2;166;162;140m                                                                    \u001B[0m\u001B[38;2;166;162;140m \u001B[0m\u001B[38;2;166;162;140m│\u001B[0m\n",
      "\u001B[38;2;166;162;140m│\u001B[0m\u001B[38;2;166;162;140m \u001B[0m\u001B[38;2;166;162;140m      \u001B[0m\u001B[38;2;96;172;57m'\u001B[0m\u001B[38;2;96;172;57mcell_type\u001B[0m\u001B[38;2;96;172;57m'\u001B[0m\u001B[38;2;166;162;140m:\u001B[0m\u001B[38;2;166;162;140m \u001B[0m\u001B[38;2;96;172;57m'\u001B[0m\u001B[38;2;96;172;57mAG04450\u001B[0m\u001B[38;2;96;172;57m'\u001B[0m\u001B[38;2;166;162;140m,\u001B[0m\u001B[38;2;166;162;140m                                                                                       \u001B[0m\u001B[38;2;166;162;140m \u001B[0m\u001B[38;2;166;162;140m│\u001B[0m\n",
      "\u001B[38;2;166;162;140m│\u001B[0m\u001B[38;2;166;162;140m \u001B[0m\u001B[38;2;166;162;140m      \u001B[0m\u001B[38;2;96;172;57m'\u001B[0m\u001B[38;2;96;172;57mcell_type_category\u001B[0m\u001B[38;2;96;172;57m'\u001B[0m\u001B[38;2;166;162;140m:\u001B[0m\u001B[38;2;166;162;140m \u001B[0m\u001B[38;2;96;172;57m'\u001B[0m\u001B[38;2;96;172;57mFibroblast derived cell line\u001B[0m\u001B[38;2;96;172;57m'\u001B[0m\u001B[38;2;166;162;140m,\u001B[0m\u001B[38;2;166;162;140m                                                         \u001B[0m\u001B[38;2;166;162;140m \u001B[0m\u001B[38;2;166;162;140m│\u001B[0m\n",
      "\u001B[38;2;166;162;140m│\u001B[0m\u001B[38;2;166;162;140m \u001B[0m\u001B[38;2;166;162;140m      \u001B[0m\u001B[38;2;96;172;57m'\u001B[0m\u001B[38;2;96;172;57mid\u001B[0m\u001B[38;2;96;172;57m'\u001B[0m\u001B[38;2;166;162;140m:\u001B[0m\u001B[38;2;166;162;140m \u001B[0m\u001B[38;2;182;86;17m43974\u001B[0m\u001B[38;2;166;162;140m,\u001B[0m\u001B[38;2;166;162;140m                                                                                                  \u001B[0m\u001B[38;2;166;162;140m \u001B[0m\u001B[38;2;166;162;140m│\u001B[0m\n",
      "\u001B[38;2;166;162;140m│\u001B[0m\u001B[38;2;166;162;140m \u001B[0m\u001B[38;2;166;162;140m      \u001B[0m\u001B[38;2;96;172;57m'\u001B[0m\u001B[38;2;96;172;57mpublishing_group\u001B[0m\u001B[38;2;96;172;57m'\u001B[0m\u001B[38;2;166;162;140m:\u001B[0m\u001B[38;2;166;162;140m \u001B[0m\u001B[38;2;96;172;57m'\u001B[0m\u001B[38;2;96;172;57mENCODE\u001B[0m\u001B[38;2;96;172;57m'\u001B[0m\u001B[38;2;166;162;140m,\u001B[0m\u001B[38;2;166;162;140m                                                                                 \u001B[0m\u001B[38;2;166;162;140m \u001B[0m\u001B[38;2;166;162;140m│\u001B[0m\n",
      "\u001B[38;2;166;162;140m│\u001B[0m\u001B[38;2;166;162;140m \u001B[0m\u001B[38;2;166;162;140m      \u001B[0m\u001B[38;2;96;172;57m'\u001B[0m\u001B[38;2;96;172;57mraw_data_url\u001B[0m\u001B[38;2;96;172;57m'\u001B[0m\u001B[38;2;166;162;140m:\u001B[0m\u001B[38;2;166;162;140m \u001B[0m\u001B[38;2;96;172;57m'\u001B[0m\u001B[38;2;96;172;57mhttps://www.encodeproject.org/experiments/ENCSR000DPL\u001B[0m\u001B[38;2;96;172;57m'\u001B[0m\u001B[38;2;166;162;140m,\u001B[0m\u001B[38;2;166;162;140m                                      \u001B[0m\u001B[38;2;166;162;140m \u001B[0m\u001B[38;2;166;162;140m│\u001B[0m\n",
      "\u001B[38;2;166;162;140m│\u001B[0m\u001B[38;2;166;162;140m \u001B[0m\u001B[38;2;166;162;140m      \u001B[0m\u001B[38;2;96;172;57m'\u001B[0m\u001B[38;2;96;172;57mreleasing_group\u001B[0m\u001B[38;2;96;172;57m'\u001B[0m\u001B[38;2;166;162;140m:\u001B[0m\u001B[38;2;166;162;140m \u001B[0m\u001B[38;2;96;172;57m'\u001B[0m\u001B[38;2;96;172;57mENCODE\u001B[0m\u001B[38;2;96;172;57m'\u001B[0m\u001B[38;2;166;162;140m                                                                                   \u001B[0m\u001B[38;2;166;162;140m \u001B[0m\u001B[38;2;166;162;140m│\u001B[0m\n",
      "\u001B[38;2;166;162;140m│\u001B[0m\u001B[38;2;166;162;140m \u001B[0m\u001B[38;2;166;162;140m    \u001B[0m\u001B[38;2;166;162;140m}\u001B[0m\u001B[38;2;166;162;140m,\u001B[0m\u001B[38;2;166;162;140m                                                                                                              \u001B[0m\u001B[38;2;166;162;140m \u001B[0m\u001B[38;2;166;162;140m│\u001B[0m\n",
      "\u001B[38;2;166;162;140m│\u001B[0m\u001B[38;2;166;162;140m \u001B[0m\u001B[38;2;166;162;140m    \u001B[0m\u001B[38;2;96;172;57m'\u001B[0m\u001B[38;2;96;172;57mother_attributes\u001B[0m\u001B[38;2;96;172;57m'\u001B[0m\u001B[38;2;166;162;140m:\u001B[0m\u001B[38;2;166;162;140m \u001B[0m\u001B[38;2;166;162;140m{\u001B[0m\u001B[38;2;96;172;57m'\u001B[0m\u001B[38;2;96;172;57mlibrary_strategy\u001B[0m\u001B[38;2;96;172;57m'\u001B[0m\u001B[38;2;166;162;140m:\u001B[0m\u001B[38;2;166;162;140m \u001B[0m\u001B[38;2;96;172;57m'\u001B[0m\u001B[38;2;96;172;57mChIP-Seq\u001B[0m\u001B[38;2;96;172;57m'\u001B[0m\u001B[38;2;166;162;140m}\u001B[0m\u001B[38;2;166;162;140m,\u001B[0m\u001B[38;2;166;162;140m                                                           \u001B[0m\u001B[38;2;166;162;140m \u001B[0m\u001B[38;2;166;162;140m│\u001B[0m\n",
      "\u001B[38;2;166;162;140m│\u001B[0m\u001B[38;2;166;162;140m \u001B[0m\u001B[38;2;166;162;140m    \u001B[0m\u001B[38;2;96;172;57m'\u001B[0m\u001B[38;2;96;172;57mraw_data_url\u001B[0m\u001B[38;2;96;172;57m'\u001B[0m\u001B[38;2;166;162;140m:\u001B[0m\u001B[38;2;166;162;140m \u001B[0m\u001B[38;2;96;172;57m'\u001B[0m\u001B[38;2;96;172;57mhttps://www.encodeproject.org/experiments/ENCSR000DPL\u001B[0m\u001B[38;2;96;172;57m'\u001B[0m\u001B[38;2;166;162;140m,\u001B[0m\u001B[38;2;166;162;140m                                        \u001B[0m\u001B[38;2;166;162;140m \u001B[0m\u001B[38;2;166;162;140m│\u001B[0m\n",
      "\u001B[38;2;166;162;140m│\u001B[0m\u001B[38;2;166;162;140m \u001B[0m\u001B[38;2;166;162;140m    \u001B[0m\u001B[38;2;96;172;57m'\u001B[0m\u001B[38;2;96;172;57msample_id\u001B[0m\u001B[38;2;96;172;57m'\u001B[0m\u001B[38;2;166;162;140m:\u001B[0m\u001B[38;2;166;162;140m \u001B[0m\u001B[38;2;96;172;57m'\u001B[0m\u001B[38;2;96;172;57mENCBS004ENC\u001B[0m\u001B[38;2;96;172;57m'\u001B[0m\u001B[38;2;166;162;140m                                                                                      \u001B[0m\u001B[38;2;166;162;140m \u001B[0m\u001B[38;2;166;162;140m│\u001B[0m\n",
      "\u001B[38;2;166;162;140m│\u001B[0m\u001B[38;2;166;162;140m \u001B[0m\u001B[38;2;166;162;140m…\u001B[0m\u001B[38;2;166;162;140m                                                                                                                   \u001B[0m\u001B[38;2;166;162;140m \u001B[0m\u001B[38;2;166;162;140m│\u001B[0m\n",
      "\u001B[38;2;166;162;140m╰──────────────────────────────────────────────────────────────────────────────────────────────────────────────────────╯\u001B[0m\n",
      "\n"
     ]
    },
    {
     "data": {
      "text/plain": [],
      "text/html": []
     },
     "execution_count": 10,
     "metadata": {},
     "output_type": "execute_result"
    }
   ],
   "execution_count": 10
  },
  {
   "cell_type": "code",
   "id": "943be49d5960c0ee",
   "metadata": {
    "ExecuteTime": {
     "end_time": "2025-07-10T21:06:25.428442Z",
     "start_time": "2025-07-10T21:06:21.444619Z"
    }
   },
   "source": [
    "ihec_dataset_pandas = flatten.run(ihec_datasets)\n",
    "ihec_dataset_pandas"
   ],
   "outputs": [
    {
     "name": "stdout",
     "output_type": "stream",
     "text": [
      "[OMNIPY ] Thu Jul 10 23:06:21 2025 - INFO: Initialized \"linear-flow-flatten-bipedal-quokka\" (omnipy.hub._registry.RunStateRegistry)\n",
      "[OMNIPY ] Thu Jul 10 23:06:21 2025 - INFO: Started running \"linear-flow-flatten-bipedal-quokka\"... (omnipy.hub._registry.RunStateRegistry)\n",
      "[OMNIPY ] Thu Jul 10 23:06:21 2025 - INFO: Initialized \"func-flow-transpose-dict-of-dicts-2-list-of-dicts-lovely-oriole\" (omnipy.hub._registry.RunStateRegistry)\n",
      "[OMNIPY ] Thu Jul 10 23:06:21 2025 - INFO: Started running \"func-flow-transpose-dict-of-dicts-2-list-of-dicts-lovely-oriole\"... (omnipy.hub._registry.RunStateRegistry)\n",
      "[OMNIPY ] Thu Jul 10 23:06:21 2025 - INFO: Initialized \"task-transpose-dicts-2-lists-tireless-mastiff\" (omnipy.hub._registry.RunStateRegistry)\n",
      "[OMNIPY ] Thu Jul 10 23:06:21 2025 - INFO: Started running \"task-transpose-dicts-2-lists-tireless-mastiff\"... (omnipy.hub._registry.RunStateRegistry)\n",
      "[OMNIPY ] Thu Jul 10 23:06:21 2025 - INFO: Finished running \"task-transpose-dicts-2-lists-tireless-mastiff\"! (omnipy.hub._registry.RunStateRegistry)\n",
      "[OMNIPY ] Thu Jul 10 23:06:22 2025 - INFO: Writing dataset as a gzipped tarpack to \"/Users/sveinugu/PycharmProjects/omnipy/docs/notebooks/outputs/2025_07_10-23_06_21/00_task_transpose_dicts_2_lists.tar.gz\" (omnipy.compute.task.TaskWithMixins)\n",
      "[OMNIPY ] Thu Jul 10 23:06:22 2025 - INFO: Finished running \"func-flow-transpose-dict-of-dicts-2-list-of-dicts-lovely-oriole\"! (omnipy.hub._registry.RunStateRegistry)\n",
      "[OMNIPY ] Thu Jul 10 23:06:23 2025 - INFO: Writing dataset as a gzipped tarpack to \"/Users/sveinugu/PycharmProjects/omnipy/docs/notebooks/outputs/2025_07_10-23_06_21/01_func_flow_transpose_dict_of_dicts_2_list_of_dicts.tar.gz\" (omnipy.compute.flow.FuncFlowWithMixins)\n",
      "[OMNIPY ] Thu Jul 10 23:06:23 2025 - INFO: Initialized \"func-flow-flatten-nested-json-lively-ermine\" (omnipy.hub._registry.RunStateRegistry)\n",
      "[OMNIPY ] Thu Jul 10 23:06:23 2025 - INFO: Started running \"func-flow-flatten-nested-json-lively-ermine\"... (omnipy.hub._registry.RunStateRegistry)\n",
      "[OMNIPY ] Thu Jul 10 23:06:23 2025 - INFO: Initialized \"task-flatten-outer-level-of-all-data-files-fantastic-sawfly\" (omnipy.hub._registry.RunStateRegistry)\n",
      "[OMNIPY ] Thu Jul 10 23:06:23 2025 - INFO: Started running \"task-flatten-outer-level-of-all-data-files-fantastic-sawfly\"... (omnipy.hub._registry.RunStateRegistry)\n",
      "[OMNIPY ] Thu Jul 10 23:06:23 2025 - INFO: Finished running \"task-flatten-outer-level-of-all-data-files-fantastic-sawfly\"! (omnipy.hub._registry.RunStateRegistry)\n",
      "[OMNIPY ] Thu Jul 10 23:06:23 2025 - INFO: Results of task-flatten-outer-level-of-all-data-files-fantastic-sawfly is not a Dataset and cannot be automatically serialized and persisted! (omnipy.compute.task.TaskWithMixins)\n",
      "[OMNIPY ] Thu Jul 10 23:06:23 2025 - INFO: Initialized \"task-flatten-outer-level-of-all-data-files-nice-okapi\" (omnipy.hub._registry.RunStateRegistry)\n",
      "[OMNIPY ] Thu Jul 10 23:06:23 2025 - INFO: Started running \"task-flatten-outer-level-of-all-data-files-nice-okapi\"... (omnipy.hub._registry.RunStateRegistry)\n",
      "[OMNIPY ] Thu Jul 10 23:06:23 2025 - INFO: Finished running \"task-flatten-outer-level-of-all-data-files-nice-okapi\"! (omnipy.hub._registry.RunStateRegistry)\n",
      "[OMNIPY ] Thu Jul 10 23:06:23 2025 - INFO: Results of task-flatten-outer-level-of-all-data-files-nice-okapi is not a Dataset and cannot be automatically serialized and persisted! (omnipy.compute.task.TaskWithMixins)\n",
      "[OMNIPY ] Thu Jul 10 23:06:23 2025 - INFO: Initialized \"task-flatten-outer-level-of-all-data-files-paper-hamster\" (omnipy.hub._registry.RunStateRegistry)\n",
      "[OMNIPY ] Thu Jul 10 23:06:23 2025 - INFO: Started running \"task-flatten-outer-level-of-all-data-files-paper-hamster\"... (omnipy.hub._registry.RunStateRegistry)\n",
      "[OMNIPY ] Thu Jul 10 23:06:23 2025 - INFO: Finished running \"task-flatten-outer-level-of-all-data-files-paper-hamster\"! (omnipy.hub._registry.RunStateRegistry)\n",
      "[OMNIPY ] Thu Jul 10 23:06:23 2025 - INFO: Results of task-flatten-outer-level-of-all-data-files-paper-hamster is not a Dataset and cannot be automatically serialized and persisted! (omnipy.compute.task.TaskWithMixins)\n",
      "[OMNIPY ] Thu Jul 10 23:06:23 2025 - INFO: Finished running \"func-flow-flatten-nested-json-lively-ermine\"! (omnipy.hub._registry.RunStateRegistry)\n",
      "[OMNIPY ] Thu Jul 10 23:06:24 2025 - INFO: Writing dataset as a gzipped tarpack to \"/Users/sveinugu/PycharmProjects/omnipy/docs/notebooks/outputs/2025_07_10-23_06_21/02_func_flow_flatten_nested_json.tar.gz\" (omnipy.compute.flow.FuncFlowWithMixins)\n",
      "[OMNIPY ] Thu Jul 10 23:06:24 2025 - INFO: Initialized \"task-convert-dataset-industrious-bulldog\" (omnipy.hub._registry.RunStateRegistry)\n",
      "[OMNIPY ] Thu Jul 10 23:06:24 2025 - INFO: Started running \"task-convert-dataset-industrious-bulldog\"... (omnipy.hub._registry.RunStateRegistry)\n",
      "[OMNIPY ] Thu Jul 10 23:06:24 2025 - INFO: Finished running \"task-convert-dataset-industrious-bulldog\"! (omnipy.hub._registry.RunStateRegistry)\n",
      "[OMNIPY ] Thu Jul 10 23:06:25 2025 - INFO: Writing dataset as a gzipped tarpack to \"/Users/sveinugu/PycharmProjects/omnipy/docs/notebooks/outputs/2025_07_10-23_06_21/03_task_convert_dataset.tar.gz\" (omnipy.compute.task.TaskWithMixins)\n",
      "[OMNIPY ] Thu Jul 10 23:06:25 2025 - INFO: Finished running \"linear-flow-flatten-bipedal-quokka\"! (omnipy.hub._registry.RunStateRegistry)\n",
      "[OMNIPY ] Thu Jul 10 23:06:25 2025 - INFO: Writing dataset as a gzipped tarpack to \"/Users/sveinugu/PycharmProjects/omnipy/docs/notebooks/outputs/2025_07_10-23_06_21/04_linear_flow_flatten.tar.gz\" (omnipy.compute.flow.LinearFlowWithMixins)\n",
      "\u001B[38;2;166;162;140m╭───┬────────────────────────────────────┬─────────────┬────────┬──────────────────╮\u001B[0m\n",
      "\u001B[38;2;166;162;140m│\u001B[0m\u001B[38;2;166;162;140m \u001B[0m\u001B[3;38;2;174;149;19m#\u001B[0m\u001B[38;2;166;162;140m \u001B[0m\u001B[38;2;166;162;140m│\u001B[0m\u001B[38;2;166;162;140m \u001B[0m\u001B[3;38;2;174;149;19m          Data file name          \u001B[0m\u001B[38;2;166;162;140m \u001B[0m\u001B[38;2;166;162;140m│\u001B[0m\u001B[38;2;166;162;140m \u001B[0m\u001B[3;38;2;174;149;19m   Type    \u001B[0m\u001B[38;2;166;162;140m \u001B[0m\u001B[38;2;166;162;140m│\u001B[0m\u001B[38;2;166;162;140m \u001B[0m\u001B[3;38;2;174;149;19mLength\u001B[0m\u001B[38;2;166;162;140m \u001B[0m\u001B[38;2;166;162;140m│\u001B[0m\u001B[38;2;166;162;140m \u001B[0m\u001B[3;38;2;174;149;19mSize (in memory)\u001B[0m\u001B[38;2;166;162;140m \u001B[0m\u001B[38;2;166;162;140m│\u001B[0m\n",
      "\u001B[38;2;166;162;140m│\u001B[0m\u001B[38;2;166;162;140m \u001B[0m\u001B[3;38;2;174;149;19m \u001B[0m\u001B[38;2;166;162;140m \u001B[0m\u001B[38;2;166;162;140m│\u001B[0m\u001B[38;2;166;162;140m \u001B[0m\u001B[3;38;2;174;149;19m                                  \u001B[0m\u001B[38;2;166;162;140m \u001B[0m\u001B[38;2;166;162;140m│\u001B[0m\u001B[38;2;166;162;140m \u001B[0m\u001B[3;38;2;174;149;19m           \u001B[0m\u001B[38;2;166;162;140m \u001B[0m\u001B[38;2;166;162;140m│\u001B[0m\u001B[38;2;166;162;140m \u001B[0m\u001B[3;38;2;174;149;19m      \u001B[0m\u001B[38;2;166;162;140m \u001B[0m\u001B[38;2;166;162;140m│\u001B[0m\u001B[38;2;166;162;140m \u001B[0m\u001B[3;38;2;174;149;19m                \u001B[0m\u001B[38;2;166;162;140m \u001B[0m\u001B[38;2;166;162;140m│\u001B[0m\n",
      "\u001B[38;2;166;162;140m│\u001B[0m\u001B[38;2;166;162;140m \u001B[0m\u001B[38;2;182;86;17m0\u001B[0m\u001B[38;2;166;162;140m \u001B[0m\u001B[38;2;166;162;140m│\u001B[0m\u001B[38;2;166;162;140m \u001B[0m\u001B[38;2;166;162;140mdatasets\u001B[0m\u001B[38;2;166;162;140m                          \u001B[0m\u001B[38;2;166;162;140m \u001B[0m\u001B[38;2;166;162;140m│\u001B[0m\u001B[38;2;166;162;140m \u001B[0m\u001B[38;2;166;162;140mPandasModel\u001B[0m\u001B[38;2;166;162;140m \u001B[0m\u001B[38;2;166;162;140m│\u001B[0m\u001B[38;2;166;162;140m \u001B[0m\u001B[38;2;166;162;140m   \u001B[0m\u001B[38;2;182;86;17m784\u001B[0m\u001B[38;2;166;162;140m \u001B[0m\u001B[38;2;166;162;140m│\u001B[0m\u001B[38;2;166;162;140m \u001B[0m\u001B[38;2;166;162;140m        \u001B[0m\u001B[38;2;182;86;17m417.2\u001B[0m\u001B[38;2;166;162;140m \u001B[0m\u001B[38;2;166;162;140mkB\u001B[0m\u001B[38;2;166;162;140m \u001B[0m\u001B[38;2;166;162;140m│\u001B[0m\n",
      "\u001B[38;2;166;162;140m│\u001B[0m\u001B[38;2;166;162;140m \u001B[0m\u001B[38;2;182;86;17m1\u001B[0m\u001B[38;2;166;162;140m \u001B[0m\u001B[38;2;166;162;140m│\u001B[0m\u001B[38;2;166;162;140m \u001B[0m\u001B[38;2;166;162;140mdatasets.analysis_attributes\u001B[0m\u001B[38;2;166;162;140m      \u001B[0m\u001B[38;2;166;162;140m \u001B[0m\u001B[38;2;166;162;140m│\u001B[0m\u001B[38;2;166;162;140m \u001B[0m\u001B[38;2;166;162;140mPandasModel\u001B[0m\u001B[38;2;166;162;140m \u001B[0m\u001B[38;2;166;162;140m│\u001B[0m\u001B[38;2;166;162;140m \u001B[0m\u001B[38;2;166;162;140m   \u001B[0m\u001B[38;2;182;86;17m784\u001B[0m\u001B[38;2;166;162;140m \u001B[0m\u001B[38;2;166;162;140m│\u001B[0m\u001B[38;2;166;162;140m \u001B[0m\u001B[38;2;166;162;140m        \u001B[0m\u001B[38;2;182;86;17m871.5\u001B[0m\u001B[38;2;166;162;140m \u001B[0m\u001B[38;2;166;162;140mkB\u001B[0m\u001B[38;2;166;162;140m \u001B[0m\u001B[38;2;166;162;140m│\u001B[0m\n",
      "\u001B[38;2;166;162;140m│\u001B[0m\u001B[38;2;166;162;140m \u001B[0m\u001B[38;2;182;86;17m2\u001B[0m\u001B[38;2;166;162;140m \u001B[0m\u001B[38;2;166;162;140m│\u001B[0m\u001B[38;2;166;162;140m \u001B[0m\u001B[38;2;166;162;140mdatasets.browser\u001B[0m\u001B[38;2;166;162;140m                  \u001B[0m\u001B[38;2;166;162;140m \u001B[0m\u001B[38;2;166;162;140m│\u001B[0m\u001B[38;2;166;162;140m \u001B[0m\u001B[38;2;166;162;140mPandasModel\u001B[0m\u001B[38;2;166;162;140m \u001B[0m\u001B[38;2;166;162;140m│\u001B[0m\u001B[38;2;166;162;140m \u001B[0m\u001B[38;2;166;162;140m   \u001B[0m\u001B[38;2;182;86;17m784\u001B[0m\u001B[38;2;166;162;140m \u001B[0m\u001B[38;2;166;162;140m│\u001B[0m\u001B[38;2;166;162;140m \u001B[0m\u001B[38;2;166;162;140m        \u001B[0m\u001B[38;2;182;86;17m262.0\u001B[0m\u001B[38;2;166;162;140m \u001B[0m\u001B[38;2;166;162;140mkB\u001B[0m\u001B[38;2;166;162;140m \u001B[0m\u001B[38;2;166;162;140m│\u001B[0m\n",
      "\u001B[38;2;166;162;140m│\u001B[0m\u001B[38;2;166;162;140m \u001B[0m\u001B[38;2;182;86;17m3\u001B[0m\u001B[38;2;166;162;140m \u001B[0m\u001B[38;2;166;162;140m│\u001B[0m\u001B[38;2;166;162;140m \u001B[0m\u001B[38;2;166;162;140mdatasets.experiment_attributes\u001B[0m\u001B[38;2;166;162;140m    \u001B[0m\u001B[38;2;166;162;140m \u001B[0m\u001B[38;2;166;162;140m│\u001B[0m\u001B[38;2;166;162;140m \u001B[0m\u001B[38;2;166;162;140mPandasModel\u001B[0m\u001B[38;2;166;162;140m \u001B[0m\u001B[38;2;166;162;140m│\u001B[0m\u001B[38;2;166;162;140m \u001B[0m\u001B[38;2;166;162;140m   \u001B[0m\u001B[38;2;182;86;17m784\u001B[0m\u001B[38;2;166;162;140m \u001B[0m\u001B[38;2;166;162;140m│\u001B[0m\u001B[38;2;166;162;140m \u001B[0m\u001B[38;2;166;162;140m        \u001B[0m\u001B[38;2;182;86;17m803.9\u001B[0m\u001B[38;2;166;162;140m \u001B[0m\u001B[38;2;166;162;140mkB\u001B[0m\u001B[38;2;166;162;140m \u001B[0m\u001B[38;2;166;162;140m│\u001B[0m\n",
      "\u001B[38;2;166;162;140m│\u001B[0m\u001B[38;2;166;162;140m \u001B[0m\u001B[38;2;182;86;17m4\u001B[0m\u001B[38;2;166;162;140m \u001B[0m\u001B[38;2;166;162;140m│\u001B[0m\u001B[38;2;166;162;140m \u001B[0m\u001B[38;2;166;162;140mdatasets.ihec_data_portal\u001B[0m\u001B[38;2;166;162;140m         \u001B[0m\u001B[38;2;166;162;140m \u001B[0m\u001B[38;2;166;162;140m│\u001B[0m\u001B[38;2;166;162;140m \u001B[0m\u001B[38;2;166;162;140mPandasModel\u001B[0m\u001B[38;2;166;162;140m \u001B[0m\u001B[38;2;166;162;140m│\u001B[0m\u001B[38;2;166;162;140m \u001B[0m\u001B[38;2;166;162;140m   \u001B[0m\u001B[38;2;182;86;17m784\u001B[0m\u001B[38;2;166;162;140m \u001B[0m\u001B[38;2;166;162;140m│\u001B[0m\u001B[38;2;166;162;140m \u001B[0m\u001B[38;2;166;162;140m          \u001B[0m\u001B[38;2;182;86;17m1.2\u001B[0m\u001B[38;2;166;162;140m \u001B[0m\u001B[38;2;166;162;140mMB\u001B[0m\u001B[38;2;166;162;140m \u001B[0m\u001B[38;2;166;162;140m│\u001B[0m\n",
      "\u001B[38;2;166;162;140m│\u001B[0m\u001B[38;2;166;162;140m \u001B[0m\u001B[38;2;182;86;17m5\u001B[0m\u001B[38;2;166;162;140m \u001B[0m\u001B[38;2;166;162;140m│\u001B[0m\u001B[38;2;166;162;140m \u001B[0m\u001B[38;2;166;162;140mdatasets.other_attributes\u001B[0m\u001B[38;2;166;162;140m         \u001B[0m\u001B[38;2;166;162;140m \u001B[0m\u001B[38;2;166;162;140m│\u001B[0m\u001B[38;2;166;162;140m \u001B[0m\u001B[38;2;166;162;140mPandasModel\u001B[0m\u001B[38;2;166;162;140m \u001B[0m\u001B[38;2;166;162;140m│\u001B[0m\u001B[38;2;166;162;140m \u001B[0m\u001B[38;2;166;162;140m   \u001B[0m\u001B[38;2;182;86;17m784\u001B[0m\u001B[38;2;166;162;140m \u001B[0m\u001B[38;2;166;162;140m│\u001B[0m\u001B[38;2;166;162;140m \u001B[0m\u001B[38;2;166;162;140m        \u001B[0m\u001B[38;2;182;86;17m486.6\u001B[0m\u001B[38;2;166;162;140m \u001B[0m\u001B[38;2;166;162;140mkB\u001B[0m\u001B[38;2;166;162;140m \u001B[0m\u001B[38;2;166;162;140m│\u001B[0m\n",
      "\u001B[38;2;166;162;140m│\u001B[0m\u001B[38;2;166;162;140m \u001B[0m\u001B[38;2;182;86;17m6\u001B[0m\u001B[38;2;166;162;140m \u001B[0m\u001B[38;2;166;162;140m│\u001B[0m\u001B[38;2;166;162;140m \u001B[0m\u001B[38;2;166;162;140mdatasets.browser.peak_calls\u001B[0m\u001B[38;2;166;162;140m       \u001B[0m\u001B[38;2;166;162;140m \u001B[0m\u001B[38;2;166;162;140m│\u001B[0m\u001B[38;2;166;162;140m \u001B[0m\u001B[38;2;166;162;140mPandasModel\u001B[0m\u001B[38;2;166;162;140m \u001B[0m\u001B[38;2;166;162;140m│\u001B[0m\u001B[38;2;166;162;140m \u001B[0m\u001B[38;2;166;162;140m   \u001B[0m\u001B[38;2;182;86;17m682\u001B[0m\u001B[38;2;166;162;140m \u001B[0m\u001B[38;2;166;162;140m│\u001B[0m\u001B[38;2;166;162;140m \u001B[0m\u001B[38;2;166;162;140m        \u001B[0m\u001B[38;2;182;86;17m602.8\u001B[0m\u001B[38;2;166;162;140m \u001B[0m\u001B[38;2;166;162;140mkB\u001B[0m\u001B[38;2;166;162;140m \u001B[0m\u001B[38;2;166;162;140m│\u001B[0m\n",
      "\u001B[38;2;166;162;140m│\u001B[0m\u001B[38;2;166;162;140m \u001B[0m\u001B[38;2;182;86;17m7\u001B[0m\u001B[38;2;166;162;140m \u001B[0m\u001B[38;2;166;162;140m│\u001B[0m\u001B[38;2;166;162;140m \u001B[0m\u001B[38;2;166;162;140mdatasets.browser.signal_unstranded\u001B[0m\u001B[38;2;166;162;140m \u001B[0m\u001B[38;2;166;162;140m│\u001B[0m\u001B[38;2;166;162;140m \u001B[0m\u001B[38;2;166;162;140mPandasModel\u001B[0m\u001B[38;2;166;162;140m \u001B[0m\u001B[38;2;166;162;140m│\u001B[0m\u001B[38;2;166;162;140m \u001B[0m\u001B[38;2;166;162;140m   \u001B[0m\u001B[38;2;182;86;17m734\u001B[0m\u001B[38;2;166;162;140m \u001B[0m\u001B[38;2;166;162;140m│\u001B[0m\u001B[38;2;166;162;140m \u001B[0m\u001B[38;2;166;162;140m        \u001B[0m\u001B[38;2;182;86;17m667.8\u001B[0m\u001B[38;2;166;162;140m \u001B[0m\u001B[38;2;166;162;140mkB\u001B[0m\u001B[38;2;166;162;140m \u001B[0m\u001B[38;2;166;162;140m│\u001B[0m\n",
      "\u001B[38;2;166;162;140m│\u001B[0m\u001B[38;2;166;162;140m \u001B[0m\u001B[38;2;182;86;17m8\u001B[0m\u001B[38;2;166;162;140m \u001B[0m\u001B[38;2;166;162;140m│\u001B[0m\u001B[38;2;166;162;140m \u001B[0m\u001B[38;2;166;162;140mdatasets.browser.signal_forward\u001B[0m\u001B[38;2;166;162;140m   \u001B[0m\u001B[38;2;166;162;140m \u001B[0m\u001B[38;2;166;162;140m│\u001B[0m\u001B[38;2;166;162;140m \u001B[0m\u001B[38;2;166;162;140mPandasModel\u001B[0m\u001B[38;2;166;162;140m \u001B[0m\u001B[38;2;166;162;140m│\u001B[0m\u001B[38;2;166;162;140m \u001B[0m\u001B[38;2;166;162;140m   \u001B[0m\u001B[38;2;182;86;17m177\u001B[0m\u001B[38;2;166;162;140m \u001B[0m\u001B[38;2;166;162;140m│\u001B[0m\u001B[38;2;166;162;140m \u001B[0m\u001B[38;2;166;162;140m        \u001B[0m\u001B[38;2;182;86;17m173.9\u001B[0m\u001B[38;2;166;162;140m \u001B[0m\u001B[38;2;166;162;140mkB\u001B[0m\u001B[38;2;166;162;140m \u001B[0m\u001B[38;2;166;162;140m│\u001B[0m\n",
      "\u001B[38;2;166;162;140m│\u001B[0m\u001B[38;2;166;162;140m \u001B[0m\u001B[38;2;182;86;17m9\u001B[0m\u001B[38;2;166;162;140m \u001B[0m\u001B[38;2;166;162;140m│\u001B[0m\u001B[38;2;166;162;140m \u001B[0m\u001B[38;2;166;162;140mdatasets.browser.signal_reverse\u001B[0m\u001B[38;2;166;162;140m   \u001B[0m\u001B[38;2;166;162;140m \u001B[0m\u001B[38;2;166;162;140m│\u001B[0m\u001B[38;2;166;162;140m \u001B[0m\u001B[38;2;166;162;140mPandasModel\u001B[0m\u001B[38;2;166;162;140m \u001B[0m\u001B[38;2;166;162;140m│\u001B[0m\u001B[38;2;166;162;140m \u001B[0m\u001B[38;2;166;162;140m   \u001B[0m\u001B[38;2;182;86;17m177\u001B[0m\u001B[38;2;166;162;140m \u001B[0m\u001B[38;2;166;162;140m│\u001B[0m\u001B[38;2;166;162;140m \u001B[0m\u001B[38;2;166;162;140m        \u001B[0m\u001B[38;2;182;86;17m173.9\u001B[0m\u001B[38;2;166;162;140m \u001B[0m\u001B[38;2;166;162;140mkB\u001B[0m\u001B[38;2;166;162;140m \u001B[0m\u001B[38;2;166;162;140m│\u001B[0m\n",
      "\u001B[38;2;166;162;140m╰───┴────────────────────────────────────┴─────────────┴────────┴──────────────────╯\u001B[0m\n",
      "\n"
     ]
    },
    {
     "data": {
      "text/plain": [],
      "text/html": []
     },
     "execution_count": 11,
     "metadata": {},
     "output_type": "execute_result"
    }
   ],
   "execution_count": 11
  },
  {
   "cell_type": "code",
   "id": "a9e6c6a1461f113",
   "metadata": {
    "ExecuteTime": {
     "end_time": "2025-07-10T21:06:25.714716Z",
     "start_time": "2025-07-10T21:06:25.437093Z"
    }
   },
   "source": [
    "ihec_samples_pandas = flatten.run(ihec_samples)\n",
    "ihec_samples_pandas"
   ],
   "outputs": [
    {
     "name": "stdout",
     "output_type": "stream",
     "text": [
      "[OMNIPY ] Thu Jul 10 23:06:25 2025 - INFO: Initialized \"linear-flow-flatten-jolly-sturgeon\" (omnipy.hub._registry.RunStateRegistry)\n",
      "[OMNIPY ] Thu Jul 10 23:06:25 2025 - INFO: Started running \"linear-flow-flatten-jolly-sturgeon\"... (omnipy.hub._registry.RunStateRegistry)\n",
      "[OMNIPY ] Thu Jul 10 23:06:25 2025 - INFO: Initialized \"func-flow-transpose-dict-of-dicts-2-list-of-dicts-tough-trout\" (omnipy.hub._registry.RunStateRegistry)\n",
      "[OMNIPY ] Thu Jul 10 23:06:25 2025 - INFO: Started running \"func-flow-transpose-dict-of-dicts-2-list-of-dicts-tough-trout\"... (omnipy.hub._registry.RunStateRegistry)\n",
      "[OMNIPY ] Thu Jul 10 23:06:25 2025 - INFO: Initialized \"task-transpose-dicts-2-lists-utopian-pug\" (omnipy.hub._registry.RunStateRegistry)\n",
      "[OMNIPY ] Thu Jul 10 23:06:25 2025 - INFO: Started running \"task-transpose-dicts-2-lists-utopian-pug\"... (omnipy.hub._registry.RunStateRegistry)\n",
      "[OMNIPY ] Thu Jul 10 23:06:25 2025 - INFO: Finished running \"task-transpose-dicts-2-lists-utopian-pug\"! (omnipy.hub._registry.RunStateRegistry)\n",
      "[OMNIPY ] Thu Jul 10 23:06:25 2025 - INFO: Writing dataset as a gzipped tarpack to \"/Users/sveinugu/PycharmProjects/omnipy/docs/notebooks/outputs/2025_07_10-23_06_25/00_task_transpose_dicts_2_lists.tar.gz\" (omnipy.compute.task.TaskWithMixins)\n",
      "[OMNIPY ] Thu Jul 10 23:06:25 2025 - INFO: Finished running \"func-flow-transpose-dict-of-dicts-2-list-of-dicts-tough-trout\"! (omnipy.hub._registry.RunStateRegistry)\n",
      "[OMNIPY ] Thu Jul 10 23:06:25 2025 - INFO: Writing dataset as a gzipped tarpack to \"/Users/sveinugu/PycharmProjects/omnipy/docs/notebooks/outputs/2025_07_10-23_06_25/01_func_flow_transpose_dict_of_dicts_2_list_of_dicts.tar.gz\" (omnipy.compute.flow.FuncFlowWithMixins)\n",
      "[OMNIPY ] Thu Jul 10 23:06:25 2025 - INFO: Initialized \"func-flow-flatten-nested-json-foamy-starling\" (omnipy.hub._registry.RunStateRegistry)\n",
      "[OMNIPY ] Thu Jul 10 23:06:25 2025 - INFO: Started running \"func-flow-flatten-nested-json-foamy-starling\"... (omnipy.hub._registry.RunStateRegistry)\n",
      "[OMNIPY ] Thu Jul 10 23:06:25 2025 - INFO: Initialized \"task-flatten-outer-level-of-all-data-files-dramatic-duck\" (omnipy.hub._registry.RunStateRegistry)\n",
      "[OMNIPY ] Thu Jul 10 23:06:25 2025 - INFO: Started running \"task-flatten-outer-level-of-all-data-files-dramatic-duck\"... (omnipy.hub._registry.RunStateRegistry)\n",
      "[OMNIPY ] Thu Jul 10 23:06:25 2025 - INFO: Finished running \"task-flatten-outer-level-of-all-data-files-dramatic-duck\"! (omnipy.hub._registry.RunStateRegistry)\n",
      "[OMNIPY ] Thu Jul 10 23:06:25 2025 - INFO: Results of task-flatten-outer-level-of-all-data-files-dramatic-duck is not a Dataset and cannot be automatically serialized and persisted! (omnipy.compute.task.TaskWithMixins)\n",
      "[OMNIPY ] Thu Jul 10 23:06:25 2025 - INFO: Finished running \"func-flow-flatten-nested-json-foamy-starling\"! (omnipy.hub._registry.RunStateRegistry)\n",
      "[OMNIPY ] Thu Jul 10 23:06:25 2025 - INFO: Writing dataset as a gzipped tarpack to \"/Users/sveinugu/PycharmProjects/omnipy/docs/notebooks/outputs/2025_07_10-23_06_25/02_func_flow_flatten_nested_json.tar.gz\" (omnipy.compute.flow.FuncFlowWithMixins)\n",
      "[OMNIPY ] Thu Jul 10 23:06:25 2025 - INFO: Initialized \"task-convert-dataset-brilliant-puffin\" (omnipy.hub._registry.RunStateRegistry)\n",
      "[OMNIPY ] Thu Jul 10 23:06:25 2025 - INFO: Started running \"task-convert-dataset-brilliant-puffin\"... (omnipy.hub._registry.RunStateRegistry)\n",
      "[OMNIPY ] Thu Jul 10 23:06:25 2025 - INFO: Finished running \"task-convert-dataset-brilliant-puffin\"! (omnipy.hub._registry.RunStateRegistry)\n",
      "[OMNIPY ] Thu Jul 10 23:06:25 2025 - INFO: Writing dataset as a gzipped tarpack to \"/Users/sveinugu/PycharmProjects/omnipy/docs/notebooks/outputs/2025_07_10-23_06_25/03_task_convert_dataset.tar.gz\" (omnipy.compute.task.TaskWithMixins)\n",
      "[OMNIPY ] Thu Jul 10 23:06:25 2025 - INFO: Finished running \"linear-flow-flatten-jolly-sturgeon\"! (omnipy.hub._registry.RunStateRegistry)\n",
      "[OMNIPY ] Thu Jul 10 23:06:25 2025 - INFO: Writing dataset as a gzipped tarpack to \"/Users/sveinugu/PycharmProjects/omnipy/docs/notebooks/outputs/2025_07_10-23_06_25/04_linear_flow_flatten.tar.gz\" (omnipy.compute.flow.LinearFlowWithMixins)\n",
      "\u001B[38;2;166;162;140m╭───┬────────────────┬─────────────┬────────┬──────────────────╮\u001B[0m\n",
      "\u001B[38;2;166;162;140m│\u001B[0m\u001B[38;2;166;162;140m \u001B[0m\u001B[3;38;2;174;149;19m#\u001B[0m\u001B[38;2;166;162;140m \u001B[0m\u001B[38;2;166;162;140m│\u001B[0m\u001B[38;2;166;162;140m \u001B[0m\u001B[3;38;2;174;149;19mData file name\u001B[0m\u001B[38;2;166;162;140m \u001B[0m\u001B[38;2;166;162;140m│\u001B[0m\u001B[38;2;166;162;140m \u001B[0m\u001B[3;38;2;174;149;19m   Type    \u001B[0m\u001B[38;2;166;162;140m \u001B[0m\u001B[38;2;166;162;140m│\u001B[0m\u001B[38;2;166;162;140m \u001B[0m\u001B[3;38;2;174;149;19mLength\u001B[0m\u001B[38;2;166;162;140m \u001B[0m\u001B[38;2;166;162;140m│\u001B[0m\u001B[38;2;166;162;140m \u001B[0m\u001B[3;38;2;174;149;19mSize (in memory)\u001B[0m\u001B[38;2;166;162;140m \u001B[0m\u001B[38;2;166;162;140m│\u001B[0m\n",
      "\u001B[38;2;166;162;140m│\u001B[0m\u001B[38;2;166;162;140m \u001B[0m\u001B[3;38;2;174;149;19m \u001B[0m\u001B[38;2;166;162;140m \u001B[0m\u001B[38;2;166;162;140m│\u001B[0m\u001B[38;2;166;162;140m \u001B[0m\u001B[3;38;2;174;149;19m              \u001B[0m\u001B[38;2;166;162;140m \u001B[0m\u001B[38;2;166;162;140m│\u001B[0m\u001B[38;2;166;162;140m \u001B[0m\u001B[3;38;2;174;149;19m           \u001B[0m\u001B[38;2;166;162;140m \u001B[0m\u001B[38;2;166;162;140m│\u001B[0m\u001B[38;2;166;162;140m \u001B[0m\u001B[3;38;2;174;149;19m      \u001B[0m\u001B[38;2;166;162;140m \u001B[0m\u001B[38;2;166;162;140m│\u001B[0m\u001B[38;2;166;162;140m \u001B[0m\u001B[3;38;2;174;149;19m                \u001B[0m\u001B[38;2;166;162;140m \u001B[0m\u001B[38;2;166;162;140m│\u001B[0m\n",
      "\u001B[38;2;166;162;140m│\u001B[0m\u001B[38;2;166;162;140m \u001B[0m\u001B[38;2;182;86;17m0\u001B[0m\u001B[38;2;166;162;140m \u001B[0m\u001B[38;2;166;162;140m│\u001B[0m\u001B[38;2;166;162;140m \u001B[0m\u001B[38;2;166;162;140msamples\u001B[0m\u001B[38;2;166;162;140m       \u001B[0m\u001B[38;2;166;162;140m \u001B[0m\u001B[38;2;166;162;140m│\u001B[0m\u001B[38;2;166;162;140m \u001B[0m\u001B[38;2;166;162;140mPandasModel\u001B[0m\u001B[38;2;166;162;140m \u001B[0m\u001B[38;2;166;162;140m│\u001B[0m\u001B[38;2;166;162;140m \u001B[0m\u001B[38;2;166;162;140m   \u001B[0m\u001B[38;2;182;86;17m341\u001B[0m\u001B[38;2;166;162;140m \u001B[0m\u001B[38;2;166;162;140m│\u001B[0m\u001B[38;2;166;162;140m \u001B[0m\u001B[38;2;166;162;140m          \u001B[0m\u001B[38;2;182;86;17m1.1\u001B[0m\u001B[38;2;166;162;140m \u001B[0m\u001B[38;2;166;162;140mMB\u001B[0m\u001B[38;2;166;162;140m \u001B[0m\u001B[38;2;166;162;140m│\u001B[0m\n",
      "\u001B[38;2;166;162;140m╰───┴────────────────┴─────────────┴────────┴──────────────────╯\u001B[0m\n",
      "\n"
     ]
    },
    {
     "data": {
      "text/plain": [],
      "text/html": []
     },
     "execution_count": 12,
     "metadata": {},
     "output_type": "execute_result"
    }
   ],
   "execution_count": 12
  },
  {
   "cell_type": "code",
   "id": "2015d1a563864aa7",
   "metadata": {
    "ExecuteTime": {
     "end_time": "2025-07-10T21:06:27.820805Z",
     "start_time": "2025-07-10T21:06:27.535892Z"
    }
   },
   "source": [
    "ihec_pandas = ihec_dataset_pandas | ihec_samples_pandas\n",
    "ihec_pandas"
   ],
   "outputs": [
    {
     "name": "stdout",
     "output_type": "stream",
     "text": [
      "\u001B[38;2;166;162;140m╭────┬────────────────────────────────────┬─────────────┬────────┬──────────────────╮\u001B[0m\n",
      "\u001B[38;2;166;162;140m│\u001B[0m\u001B[38;2;166;162;140m \u001B[0m\u001B[3;38;2;174;149;19m# \u001B[0m\u001B[38;2;166;162;140m \u001B[0m\u001B[38;2;166;162;140m│\u001B[0m\u001B[38;2;166;162;140m \u001B[0m\u001B[3;38;2;174;149;19m          Data file name          \u001B[0m\u001B[38;2;166;162;140m \u001B[0m\u001B[38;2;166;162;140m│\u001B[0m\u001B[38;2;166;162;140m \u001B[0m\u001B[3;38;2;174;149;19m   Type    \u001B[0m\u001B[38;2;166;162;140m \u001B[0m\u001B[38;2;166;162;140m│\u001B[0m\u001B[38;2;166;162;140m \u001B[0m\u001B[3;38;2;174;149;19mLength\u001B[0m\u001B[38;2;166;162;140m \u001B[0m\u001B[38;2;166;162;140m│\u001B[0m\u001B[38;2;166;162;140m \u001B[0m\u001B[3;38;2;174;149;19mSize (in memory)\u001B[0m\u001B[38;2;166;162;140m \u001B[0m\u001B[38;2;166;162;140m│\u001B[0m\n",
      "\u001B[38;2;166;162;140m│\u001B[0m\u001B[38;2;166;162;140m \u001B[0m\u001B[3;38;2;174;149;19m  \u001B[0m\u001B[38;2;166;162;140m \u001B[0m\u001B[38;2;166;162;140m│\u001B[0m\u001B[38;2;166;162;140m \u001B[0m\u001B[3;38;2;174;149;19m                                  \u001B[0m\u001B[38;2;166;162;140m \u001B[0m\u001B[38;2;166;162;140m│\u001B[0m\u001B[38;2;166;162;140m \u001B[0m\u001B[3;38;2;174;149;19m           \u001B[0m\u001B[38;2;166;162;140m \u001B[0m\u001B[38;2;166;162;140m│\u001B[0m\u001B[38;2;166;162;140m \u001B[0m\u001B[3;38;2;174;149;19m      \u001B[0m\u001B[38;2;166;162;140m \u001B[0m\u001B[38;2;166;162;140m│\u001B[0m\u001B[38;2;166;162;140m \u001B[0m\u001B[3;38;2;174;149;19m                \u001B[0m\u001B[38;2;166;162;140m \u001B[0m\u001B[38;2;166;162;140m│\u001B[0m\n",
      "\u001B[38;2;166;162;140m│\u001B[0m\u001B[38;2;166;162;140m \u001B[0m\u001B[38;2;182;86;17m0\u001B[0m\u001B[38;2;166;162;140m \u001B[0m\u001B[38;2;166;162;140m \u001B[0m\u001B[38;2;166;162;140m│\u001B[0m\u001B[38;2;166;162;140m \u001B[0m\u001B[38;2;166;162;140mdatasets\u001B[0m\u001B[38;2;166;162;140m                          \u001B[0m\u001B[38;2;166;162;140m \u001B[0m\u001B[38;2;166;162;140m│\u001B[0m\u001B[38;2;166;162;140m \u001B[0m\u001B[38;2;166;162;140mPandasModel\u001B[0m\u001B[38;2;166;162;140m \u001B[0m\u001B[38;2;166;162;140m│\u001B[0m\u001B[38;2;166;162;140m \u001B[0m\u001B[38;2;166;162;140m   \u001B[0m\u001B[38;2;182;86;17m784\u001B[0m\u001B[38;2;166;162;140m \u001B[0m\u001B[38;2;166;162;140m│\u001B[0m\u001B[38;2;166;162;140m \u001B[0m\u001B[38;2;166;162;140m        \u001B[0m\u001B[38;2;182;86;17m417.2\u001B[0m\u001B[38;2;166;162;140m \u001B[0m\u001B[38;2;166;162;140mkB\u001B[0m\u001B[38;2;166;162;140m \u001B[0m\u001B[38;2;166;162;140m│\u001B[0m\n",
      "\u001B[38;2;166;162;140m│\u001B[0m\u001B[38;2;166;162;140m \u001B[0m\u001B[38;2;182;86;17m1\u001B[0m\u001B[38;2;166;162;140m \u001B[0m\u001B[38;2;166;162;140m \u001B[0m\u001B[38;2;166;162;140m│\u001B[0m\u001B[38;2;166;162;140m \u001B[0m\u001B[38;2;166;162;140mdatasets.analysis_attributes\u001B[0m\u001B[38;2;166;162;140m      \u001B[0m\u001B[38;2;166;162;140m \u001B[0m\u001B[38;2;166;162;140m│\u001B[0m\u001B[38;2;166;162;140m \u001B[0m\u001B[38;2;166;162;140mPandasModel\u001B[0m\u001B[38;2;166;162;140m \u001B[0m\u001B[38;2;166;162;140m│\u001B[0m\u001B[38;2;166;162;140m \u001B[0m\u001B[38;2;166;162;140m   \u001B[0m\u001B[38;2;182;86;17m784\u001B[0m\u001B[38;2;166;162;140m \u001B[0m\u001B[38;2;166;162;140m│\u001B[0m\u001B[38;2;166;162;140m \u001B[0m\u001B[38;2;166;162;140m        \u001B[0m\u001B[38;2;182;86;17m871.5\u001B[0m\u001B[38;2;166;162;140m \u001B[0m\u001B[38;2;166;162;140mkB\u001B[0m\u001B[38;2;166;162;140m \u001B[0m\u001B[38;2;166;162;140m│\u001B[0m\n",
      "\u001B[38;2;166;162;140m│\u001B[0m\u001B[38;2;166;162;140m \u001B[0m\u001B[38;2;182;86;17m2\u001B[0m\u001B[38;2;166;162;140m \u001B[0m\u001B[38;2;166;162;140m \u001B[0m\u001B[38;2;166;162;140m│\u001B[0m\u001B[38;2;166;162;140m \u001B[0m\u001B[38;2;166;162;140mdatasets.browser\u001B[0m\u001B[38;2;166;162;140m                  \u001B[0m\u001B[38;2;166;162;140m \u001B[0m\u001B[38;2;166;162;140m│\u001B[0m\u001B[38;2;166;162;140m \u001B[0m\u001B[38;2;166;162;140mPandasModel\u001B[0m\u001B[38;2;166;162;140m \u001B[0m\u001B[38;2;166;162;140m│\u001B[0m\u001B[38;2;166;162;140m \u001B[0m\u001B[38;2;166;162;140m   \u001B[0m\u001B[38;2;182;86;17m784\u001B[0m\u001B[38;2;166;162;140m \u001B[0m\u001B[38;2;166;162;140m│\u001B[0m\u001B[38;2;166;162;140m \u001B[0m\u001B[38;2;166;162;140m        \u001B[0m\u001B[38;2;182;86;17m262.0\u001B[0m\u001B[38;2;166;162;140m \u001B[0m\u001B[38;2;166;162;140mkB\u001B[0m\u001B[38;2;166;162;140m \u001B[0m\u001B[38;2;166;162;140m│\u001B[0m\n",
      "\u001B[38;2;166;162;140m│\u001B[0m\u001B[38;2;166;162;140m \u001B[0m\u001B[38;2;182;86;17m3\u001B[0m\u001B[38;2;166;162;140m \u001B[0m\u001B[38;2;166;162;140m \u001B[0m\u001B[38;2;166;162;140m│\u001B[0m\u001B[38;2;166;162;140m \u001B[0m\u001B[38;2;166;162;140mdatasets.experiment_attributes\u001B[0m\u001B[38;2;166;162;140m    \u001B[0m\u001B[38;2;166;162;140m \u001B[0m\u001B[38;2;166;162;140m│\u001B[0m\u001B[38;2;166;162;140m \u001B[0m\u001B[38;2;166;162;140mPandasModel\u001B[0m\u001B[38;2;166;162;140m \u001B[0m\u001B[38;2;166;162;140m│\u001B[0m\u001B[38;2;166;162;140m \u001B[0m\u001B[38;2;166;162;140m   \u001B[0m\u001B[38;2;182;86;17m784\u001B[0m\u001B[38;2;166;162;140m \u001B[0m\u001B[38;2;166;162;140m│\u001B[0m\u001B[38;2;166;162;140m \u001B[0m\u001B[38;2;166;162;140m        \u001B[0m\u001B[38;2;182;86;17m803.9\u001B[0m\u001B[38;2;166;162;140m \u001B[0m\u001B[38;2;166;162;140mkB\u001B[0m\u001B[38;2;166;162;140m \u001B[0m\u001B[38;2;166;162;140m│\u001B[0m\n",
      "\u001B[38;2;166;162;140m│\u001B[0m\u001B[38;2;166;162;140m \u001B[0m\u001B[38;2;182;86;17m4\u001B[0m\u001B[38;2;166;162;140m \u001B[0m\u001B[38;2;166;162;140m \u001B[0m\u001B[38;2;166;162;140m│\u001B[0m\u001B[38;2;166;162;140m \u001B[0m\u001B[38;2;166;162;140mdatasets.ihec_data_portal\u001B[0m\u001B[38;2;166;162;140m         \u001B[0m\u001B[38;2;166;162;140m \u001B[0m\u001B[38;2;166;162;140m│\u001B[0m\u001B[38;2;166;162;140m \u001B[0m\u001B[38;2;166;162;140mPandasModel\u001B[0m\u001B[38;2;166;162;140m \u001B[0m\u001B[38;2;166;162;140m│\u001B[0m\u001B[38;2;166;162;140m \u001B[0m\u001B[38;2;166;162;140m   \u001B[0m\u001B[38;2;182;86;17m784\u001B[0m\u001B[38;2;166;162;140m \u001B[0m\u001B[38;2;166;162;140m│\u001B[0m\u001B[38;2;166;162;140m \u001B[0m\u001B[38;2;166;162;140m          \u001B[0m\u001B[38;2;182;86;17m1.2\u001B[0m\u001B[38;2;166;162;140m \u001B[0m\u001B[38;2;166;162;140mMB\u001B[0m\u001B[38;2;166;162;140m \u001B[0m\u001B[38;2;166;162;140m│\u001B[0m\n",
      "\u001B[38;2;166;162;140m│\u001B[0m\u001B[38;2;166;162;140m \u001B[0m\u001B[38;2;182;86;17m5\u001B[0m\u001B[38;2;166;162;140m \u001B[0m\u001B[38;2;166;162;140m \u001B[0m\u001B[38;2;166;162;140m│\u001B[0m\u001B[38;2;166;162;140m \u001B[0m\u001B[38;2;166;162;140mdatasets.other_attributes\u001B[0m\u001B[38;2;166;162;140m         \u001B[0m\u001B[38;2;166;162;140m \u001B[0m\u001B[38;2;166;162;140m│\u001B[0m\u001B[38;2;166;162;140m \u001B[0m\u001B[38;2;166;162;140mPandasModel\u001B[0m\u001B[38;2;166;162;140m \u001B[0m\u001B[38;2;166;162;140m│\u001B[0m\u001B[38;2;166;162;140m \u001B[0m\u001B[38;2;166;162;140m   \u001B[0m\u001B[38;2;182;86;17m784\u001B[0m\u001B[38;2;166;162;140m \u001B[0m\u001B[38;2;166;162;140m│\u001B[0m\u001B[38;2;166;162;140m \u001B[0m\u001B[38;2;166;162;140m        \u001B[0m\u001B[38;2;182;86;17m486.6\u001B[0m\u001B[38;2;166;162;140m \u001B[0m\u001B[38;2;166;162;140mkB\u001B[0m\u001B[38;2;166;162;140m \u001B[0m\u001B[38;2;166;162;140m│\u001B[0m\n",
      "\u001B[38;2;166;162;140m│\u001B[0m\u001B[38;2;166;162;140m \u001B[0m\u001B[38;2;182;86;17m6\u001B[0m\u001B[38;2;166;162;140m \u001B[0m\u001B[38;2;166;162;140m \u001B[0m\u001B[38;2;166;162;140m│\u001B[0m\u001B[38;2;166;162;140m \u001B[0m\u001B[38;2;166;162;140mdatasets.browser.peak_calls\u001B[0m\u001B[38;2;166;162;140m       \u001B[0m\u001B[38;2;166;162;140m \u001B[0m\u001B[38;2;166;162;140m│\u001B[0m\u001B[38;2;166;162;140m \u001B[0m\u001B[38;2;166;162;140mPandasModel\u001B[0m\u001B[38;2;166;162;140m \u001B[0m\u001B[38;2;166;162;140m│\u001B[0m\u001B[38;2;166;162;140m \u001B[0m\u001B[38;2;166;162;140m   \u001B[0m\u001B[38;2;182;86;17m682\u001B[0m\u001B[38;2;166;162;140m \u001B[0m\u001B[38;2;166;162;140m│\u001B[0m\u001B[38;2;166;162;140m \u001B[0m\u001B[38;2;166;162;140m        \u001B[0m\u001B[38;2;182;86;17m602.9\u001B[0m\u001B[38;2;166;162;140m \u001B[0m\u001B[38;2;166;162;140mkB\u001B[0m\u001B[38;2;166;162;140m \u001B[0m\u001B[38;2;166;162;140m│\u001B[0m\n",
      "\u001B[38;2;166;162;140m│\u001B[0m\u001B[38;2;166;162;140m \u001B[0m\u001B[38;2;182;86;17m7\u001B[0m\u001B[38;2;166;162;140m \u001B[0m\u001B[38;2;166;162;140m \u001B[0m\u001B[38;2;166;162;140m│\u001B[0m\u001B[38;2;166;162;140m \u001B[0m\u001B[38;2;166;162;140mdatasets.browser.signal_unstranded\u001B[0m\u001B[38;2;166;162;140m \u001B[0m\u001B[38;2;166;162;140m│\u001B[0m\u001B[38;2;166;162;140m \u001B[0m\u001B[38;2;166;162;140mPandasModel\u001B[0m\u001B[38;2;166;162;140m \u001B[0m\u001B[38;2;166;162;140m│\u001B[0m\u001B[38;2;166;162;140m \u001B[0m\u001B[38;2;166;162;140m   \u001B[0m\u001B[38;2;182;86;17m734\u001B[0m\u001B[38;2;166;162;140m \u001B[0m\u001B[38;2;166;162;140m│\u001B[0m\u001B[38;2;166;162;140m \u001B[0m\u001B[38;2;166;162;140m        \u001B[0m\u001B[38;2;182;86;17m667.9\u001B[0m\u001B[38;2;166;162;140m \u001B[0m\u001B[38;2;166;162;140mkB\u001B[0m\u001B[38;2;166;162;140m \u001B[0m\u001B[38;2;166;162;140m│\u001B[0m\n",
      "\u001B[38;2;166;162;140m│\u001B[0m\u001B[38;2;166;162;140m \u001B[0m\u001B[38;2;182;86;17m8\u001B[0m\u001B[38;2;166;162;140m \u001B[0m\u001B[38;2;166;162;140m \u001B[0m\u001B[38;2;166;162;140m│\u001B[0m\u001B[38;2;166;162;140m \u001B[0m\u001B[38;2;166;162;140mdatasets.browser.signal_forward\u001B[0m\u001B[38;2;166;162;140m   \u001B[0m\u001B[38;2;166;162;140m \u001B[0m\u001B[38;2;166;162;140m│\u001B[0m\u001B[38;2;166;162;140m \u001B[0m\u001B[38;2;166;162;140mPandasModel\u001B[0m\u001B[38;2;166;162;140m \u001B[0m\u001B[38;2;166;162;140m│\u001B[0m\u001B[38;2;166;162;140m \u001B[0m\u001B[38;2;166;162;140m   \u001B[0m\u001B[38;2;182;86;17m177\u001B[0m\u001B[38;2;166;162;140m \u001B[0m\u001B[38;2;166;162;140m│\u001B[0m\u001B[38;2;166;162;140m \u001B[0m\u001B[38;2;166;162;140m        \u001B[0m\u001B[38;2;182;86;17m174.0\u001B[0m\u001B[38;2;166;162;140m \u001B[0m\u001B[38;2;166;162;140mkB\u001B[0m\u001B[38;2;166;162;140m \u001B[0m\u001B[38;2;166;162;140m│\u001B[0m\n",
      "\u001B[38;2;166;162;140m│\u001B[0m\u001B[38;2;166;162;140m \u001B[0m\u001B[38;2;182;86;17m9\u001B[0m\u001B[38;2;166;162;140m \u001B[0m\u001B[38;2;166;162;140m \u001B[0m\u001B[38;2;166;162;140m│\u001B[0m\u001B[38;2;166;162;140m \u001B[0m\u001B[38;2;166;162;140mdatasets.browser.signal_reverse\u001B[0m\u001B[38;2;166;162;140m   \u001B[0m\u001B[38;2;166;162;140m \u001B[0m\u001B[38;2;166;162;140m│\u001B[0m\u001B[38;2;166;162;140m \u001B[0m\u001B[38;2;166;162;140mPandasModel\u001B[0m\u001B[38;2;166;162;140m \u001B[0m\u001B[38;2;166;162;140m│\u001B[0m\u001B[38;2;166;162;140m \u001B[0m\u001B[38;2;166;162;140m   \u001B[0m\u001B[38;2;182;86;17m177\u001B[0m\u001B[38;2;166;162;140m \u001B[0m\u001B[38;2;166;162;140m│\u001B[0m\u001B[38;2;166;162;140m \u001B[0m\u001B[38;2;166;162;140m        \u001B[0m\u001B[38;2;182;86;17m174.0\u001B[0m\u001B[38;2;166;162;140m \u001B[0m\u001B[38;2;166;162;140mkB\u001B[0m\u001B[38;2;166;162;140m \u001B[0m\u001B[38;2;166;162;140m│\u001B[0m\n",
      "\u001B[38;2;166;162;140m│\u001B[0m\u001B[38;2;166;162;140m \u001B[0m\u001B[38;2;182;86;17m10\u001B[0m\u001B[38;2;166;162;140m \u001B[0m\u001B[38;2;166;162;140m│\u001B[0m\u001B[38;2;166;162;140m \u001B[0m\u001B[38;2;166;162;140msamples\u001B[0m\u001B[38;2;166;162;140m                           \u001B[0m\u001B[38;2;166;162;140m \u001B[0m\u001B[38;2;166;162;140m│\u001B[0m\u001B[38;2;166;162;140m \u001B[0m\u001B[38;2;166;162;140mPandasModel\u001B[0m\u001B[38;2;166;162;140m \u001B[0m\u001B[38;2;166;162;140m│\u001B[0m\u001B[38;2;166;162;140m \u001B[0m\u001B[38;2;166;162;140m   \u001B[0m\u001B[38;2;182;86;17m341\u001B[0m\u001B[38;2;166;162;140m \u001B[0m\u001B[38;2;166;162;140m│\u001B[0m\u001B[38;2;166;162;140m \u001B[0m\u001B[38;2;166;162;140m          \u001B[0m\u001B[38;2;182;86;17m1.1\u001B[0m\u001B[38;2;166;162;140m \u001B[0m\u001B[38;2;166;162;140mMB\u001B[0m\u001B[38;2;166;162;140m \u001B[0m\u001B[38;2;166;162;140m│\u001B[0m\n",
      "\u001B[38;2;166;162;140m╰────┴────────────────────────────────────┴─────────────┴────────┴──────────────────╯\u001B[0m\n",
      "\n"
     ]
    },
    {
     "data": {
      "text/plain": [],
      "text/html": []
     },
     "execution_count": 13,
     "metadata": {},
     "output_type": "execute_result"
    }
   ],
   "execution_count": 13
  },
  {
   "cell_type": "code",
   "id": "6b477e2f251465dc",
   "metadata": {
    "ExecuteTime": {
     "end_time": "2025-07-10T21:06:32.434998Z",
     "start_time": "2025-07-10T21:06:32.420327Z"
    }
   },
   "source": [
    "ihec_pandas['samples'].contents"
   ],
   "outputs": [
    {
     "data": {
      "text/plain": [
       "      _omnipy_id      biomaterial_type differentiation_stage  \\\n",
       "0    ENCBS004ENC             Cell Line               unknown   \n",
       "1    ENCBS006KAW        Primary Tissue               unknown   \n",
       "2    ENCBS006RNA  Primary Cell Culture               unknown   \n",
       "3    ENCBS006VZG             Cell Line               unknown   \n",
       "4    ENCBS017AOD             Cell Line               unknown   \n",
       "..           ...                   ...                   ...   \n",
       "336  ENCBS986CBC        Primary Tissue               unknown   \n",
       "337  ENCBS987CHP             Cell Line               unknown   \n",
       "338  ENCBS987SKT             Cell Line               unknown   \n",
       "339  ENCBS992RNI        Primary Tissue               unknown   \n",
       "340  ENCBS999VTF        Primary Tissue               unknown   \n",
       "\n",
       "                                               disease  \\\n",
       "0                                   Apparently healthy   \n",
       "1                                              Healthy   \n",
       "2    Negative for bac/fung/myc, negative for hiv-1/...   \n",
       "3                                      B cell lymphoma   \n",
       "4                                              Healthy   \n",
       "..                                                 ...   \n",
       "336                                            Healthy   \n",
       "337                                            Healthy   \n",
       "338                                            Unknown   \n",
       "339                                            Healthy   \n",
       "340                                            Healthy   \n",
       "\n",
       "                                  disease_ontology_uri  \\\n",
       "0    https://ncit.nci.nih.gov/ncitbrowser/pages/mul...   \n",
       "1    http://ncit.nci.nih.gov/ncitbrowser/ConceptRep...   \n",
       "2    https://ncit.nci.nih.gov/ncitbrowser/pages/mul...   \n",
       "3    https://ncit.nci.nih.gov/ncitbrowser/pages/mul...   \n",
       "4    http://ncit.nci.nih.gov/ncitbrowser/ConceptRep...   \n",
       "..                                                 ...   \n",
       "336  http://ncit.nci.nih.gov/ncitbrowser/ConceptRep...   \n",
       "337  http://ncit.nci.nih.gov/ncitbrowser/ConceptRep...   \n",
       "338  https://ncit.nci.nih.gov/ncitbrowser/pages/mul...   \n",
       "339  http://ncit.nci.nih.gov/ncitbrowser/ConceptRep...   \n",
       "340  http://ncit.nci.nih.gov/ncitbrowser/ConceptRep...   \n",
       "\n",
       "                          line  lineage   medium     molecule  \\\n",
       "0                      AG04450  unknown  unknown  genomic DNA   \n",
       "1                adrenal gland  unknown  unknown    total RNA   \n",
       "2    bronchial epithelial cell  unknown  unknown    total RNA   \n",
       "3                      OCI-LY7  unknown  unknown  genomic DNA   \n",
       "4                           H7  unknown  unknown  genomic DNA   \n",
       "..                         ...      ...      ...          ...   \n",
       "336               tibial nerve  unknown  unknown    total RNA   \n",
       "337                     KMS-11  unknown  unknown  genomic DNA   \n",
       "338                    GM06990  unknown  unknown  genomic DNA   \n",
       "339        right lobe of liver  unknown  unknown  genomic DNA   \n",
       "340           transverse colon  unknown  unknown    total RNA   \n",
       "\n",
       "    sample_ontology_uri  ... donor_age donor_age_unit donor_ethnicity  \\\n",
       "0           EFO:0006270  ...      None           <NA>            <NA>   \n",
       "1        UBERON:0002369  ...        53           year         unknown   \n",
       "2            CL:0002328  ...        68           year       Caucasian   \n",
       "3           EFO:0006711  ...      None           <NA>            <NA>   \n",
       "4           EFO:0005904  ...      None           <NA>            <NA>   \n",
       "..                  ...  ...       ...            ...             ...   \n",
       "336      UBERON:0001323  ...        37           year         unknown   \n",
       "337         EFO:0005694  ...      None           <NA>            <NA>   \n",
       "338         EFO:0002783  ...      None           <NA>            <NA>   \n",
       "339      UBERON:0001114  ...        53           year         unknown   \n",
       "340      UBERON:0001157  ...        51           year         unknown   \n",
       "\n",
       "                                   donor_health_status     donor_id  \\\n",
       "0                                                 <NA>         <NA>   \n",
       "1                                              Healthy  ENCDO793LXB   \n",
       "2    Negative for bac/fung/myc, negative for hiv-1/...  ENCDO023AAA   \n",
       "3                                                 <NA>         <NA>   \n",
       "4                                                 <NA>         <NA>   \n",
       "..                                                 ...          ...   \n",
       "336                                            Healthy  ENCDO845WKR   \n",
       "337                                               <NA>         <NA>   \n",
       "338                                               <NA>         <NA>   \n",
       "339                                            Healthy  ENCDO793LXB   \n",
       "340                                            Healthy  ENCDO271OUW   \n",
       "\n",
       "    donor_life_stage donor_sex  \\\n",
       "0               <NA>      <NA>   \n",
       "1              adult    Female   \n",
       "2              adult      Male   \n",
       "3               <NA>      <NA>   \n",
       "4               <NA>      <NA>   \n",
       "..               ...       ...   \n",
       "336            adult      Male   \n",
       "337             <NA>      <NA>   \n",
       "338             <NA>      <NA>   \n",
       "339            adult    Female   \n",
       "340            adult    Female   \n",
       "\n",
       "                                          tissue_depot          tissue_type  \\\n",
       "0                                                 <NA>                 <NA>   \n",
       "1    Kristin Ardlie, Broad Institute Genomics Platform        adrenal gland   \n",
       "2                                                 <NA>                 <NA>   \n",
       "3                                                 <NA>                 <NA>   \n",
       "4                                                 <NA>                 <NA>   \n",
       "..                                                 ...                  ...   \n",
       "336  Kristin Ardlie, Broad Institute Genomics Platform         tibial nerve   \n",
       "337                                               <NA>                 <NA>   \n",
       "338                                               <NA>                 <NA>   \n",
       "339  Kristin Ardlie, Broad Institute Genomics Platform  right lobe of liver   \n",
       "340  Kristin Ardlie, Broad Institute Genomics Platform     transverse colon   \n",
       "\n",
       "                     cell_type  \n",
       "0                         <NA>  \n",
       "1                         <NA>  \n",
       "2    bronchial epithelial cell  \n",
       "3                         <NA>  \n",
       "4                         <NA>  \n",
       "..                         ...  \n",
       "336                       <NA>  \n",
       "337                       <NA>  \n",
       "338                       <NA>  \n",
       "339                       <NA>  \n",
       "340                       <NA>  \n",
       "\n",
       "[341 rows x 21 columns]"
      ],
      "text/html": [
       "<div>\n",
       "<style scoped>\n",
       "    .dataframe tbody tr th:only-of-type {\n",
       "        vertical-align: middle;\n",
       "    }\n",
       "\n",
       "    .dataframe tbody tr th {\n",
       "        vertical-align: top;\n",
       "    }\n",
       "\n",
       "    .dataframe thead th {\n",
       "        text-align: right;\n",
       "    }\n",
       "</style>\n",
       "<table border=\"1\" class=\"dataframe\">\n",
       "  <thead>\n",
       "    <tr style=\"text-align: right;\">\n",
       "      <th></th>\n",
       "      <th>_omnipy_id</th>\n",
       "      <th>biomaterial_type</th>\n",
       "      <th>differentiation_stage</th>\n",
       "      <th>disease</th>\n",
       "      <th>disease_ontology_uri</th>\n",
       "      <th>line</th>\n",
       "      <th>lineage</th>\n",
       "      <th>medium</th>\n",
       "      <th>molecule</th>\n",
       "      <th>sample_ontology_uri</th>\n",
       "      <th>...</th>\n",
       "      <th>donor_age</th>\n",
       "      <th>donor_age_unit</th>\n",
       "      <th>donor_ethnicity</th>\n",
       "      <th>donor_health_status</th>\n",
       "      <th>donor_id</th>\n",
       "      <th>donor_life_stage</th>\n",
       "      <th>donor_sex</th>\n",
       "      <th>tissue_depot</th>\n",
       "      <th>tissue_type</th>\n",
       "      <th>cell_type</th>\n",
       "    </tr>\n",
       "  </thead>\n",
       "  <tbody>\n",
       "    <tr>\n",
       "      <th>0</th>\n",
       "      <td>ENCBS004ENC</td>\n",
       "      <td>Cell Line</td>\n",
       "      <td>unknown</td>\n",
       "      <td>Apparently healthy</td>\n",
       "      <td>https://ncit.nci.nih.gov/ncitbrowser/pages/mul...</td>\n",
       "      <td>AG04450</td>\n",
       "      <td>unknown</td>\n",
       "      <td>unknown</td>\n",
       "      <td>genomic DNA</td>\n",
       "      <td>EFO:0006270</td>\n",
       "      <td>...</td>\n",
       "      <td>None</td>\n",
       "      <td>&lt;NA&gt;</td>\n",
       "      <td>&lt;NA&gt;</td>\n",
       "      <td>&lt;NA&gt;</td>\n",
       "      <td>&lt;NA&gt;</td>\n",
       "      <td>&lt;NA&gt;</td>\n",
       "      <td>&lt;NA&gt;</td>\n",
       "      <td>&lt;NA&gt;</td>\n",
       "      <td>&lt;NA&gt;</td>\n",
       "      <td>&lt;NA&gt;</td>\n",
       "    </tr>\n",
       "    <tr>\n",
       "      <th>1</th>\n",
       "      <td>ENCBS006KAW</td>\n",
       "      <td>Primary Tissue</td>\n",
       "      <td>unknown</td>\n",
       "      <td>Healthy</td>\n",
       "      <td>http://ncit.nci.nih.gov/ncitbrowser/ConceptRep...</td>\n",
       "      <td>adrenal gland</td>\n",
       "      <td>unknown</td>\n",
       "      <td>unknown</td>\n",
       "      <td>total RNA</td>\n",
       "      <td>UBERON:0002369</td>\n",
       "      <td>...</td>\n",
       "      <td>53</td>\n",
       "      <td>year</td>\n",
       "      <td>unknown</td>\n",
       "      <td>Healthy</td>\n",
       "      <td>ENCDO793LXB</td>\n",
       "      <td>adult</td>\n",
       "      <td>Female</td>\n",
       "      <td>Kristin Ardlie, Broad Institute Genomics Platform</td>\n",
       "      <td>adrenal gland</td>\n",
       "      <td>&lt;NA&gt;</td>\n",
       "    </tr>\n",
       "    <tr>\n",
       "      <th>2</th>\n",
       "      <td>ENCBS006RNA</td>\n",
       "      <td>Primary Cell Culture</td>\n",
       "      <td>unknown</td>\n",
       "      <td>Negative for bac/fung/myc, negative for hiv-1/...</td>\n",
       "      <td>https://ncit.nci.nih.gov/ncitbrowser/pages/mul...</td>\n",
       "      <td>bronchial epithelial cell</td>\n",
       "      <td>unknown</td>\n",
       "      <td>unknown</td>\n",
       "      <td>total RNA</td>\n",
       "      <td>CL:0002328</td>\n",
       "      <td>...</td>\n",
       "      <td>68</td>\n",
       "      <td>year</td>\n",
       "      <td>Caucasian</td>\n",
       "      <td>Negative for bac/fung/myc, negative for hiv-1/...</td>\n",
       "      <td>ENCDO023AAA</td>\n",
       "      <td>adult</td>\n",
       "      <td>Male</td>\n",
       "      <td>&lt;NA&gt;</td>\n",
       "      <td>&lt;NA&gt;</td>\n",
       "      <td>bronchial epithelial cell</td>\n",
       "    </tr>\n",
       "    <tr>\n",
       "      <th>3</th>\n",
       "      <td>ENCBS006VZG</td>\n",
       "      <td>Cell Line</td>\n",
       "      <td>unknown</td>\n",
       "      <td>B cell lymphoma</td>\n",
       "      <td>https://ncit.nci.nih.gov/ncitbrowser/pages/mul...</td>\n",
       "      <td>OCI-LY7</td>\n",
       "      <td>unknown</td>\n",
       "      <td>unknown</td>\n",
       "      <td>genomic DNA</td>\n",
       "      <td>EFO:0006711</td>\n",
       "      <td>...</td>\n",
       "      <td>None</td>\n",
       "      <td>&lt;NA&gt;</td>\n",
       "      <td>&lt;NA&gt;</td>\n",
       "      <td>&lt;NA&gt;</td>\n",
       "      <td>&lt;NA&gt;</td>\n",
       "      <td>&lt;NA&gt;</td>\n",
       "      <td>&lt;NA&gt;</td>\n",
       "      <td>&lt;NA&gt;</td>\n",
       "      <td>&lt;NA&gt;</td>\n",
       "      <td>&lt;NA&gt;</td>\n",
       "    </tr>\n",
       "    <tr>\n",
       "      <th>4</th>\n",
       "      <td>ENCBS017AOD</td>\n",
       "      <td>Cell Line</td>\n",
       "      <td>unknown</td>\n",
       "      <td>Healthy</td>\n",
       "      <td>http://ncit.nci.nih.gov/ncitbrowser/ConceptRep...</td>\n",
       "      <td>H7</td>\n",
       "      <td>unknown</td>\n",
       "      <td>unknown</td>\n",
       "      <td>genomic DNA</td>\n",
       "      <td>EFO:0005904</td>\n",
       "      <td>...</td>\n",
       "      <td>None</td>\n",
       "      <td>&lt;NA&gt;</td>\n",
       "      <td>&lt;NA&gt;</td>\n",
       "      <td>&lt;NA&gt;</td>\n",
       "      <td>&lt;NA&gt;</td>\n",
       "      <td>&lt;NA&gt;</td>\n",
       "      <td>&lt;NA&gt;</td>\n",
       "      <td>&lt;NA&gt;</td>\n",
       "      <td>&lt;NA&gt;</td>\n",
       "      <td>&lt;NA&gt;</td>\n",
       "    </tr>\n",
       "    <tr>\n",
       "      <th>...</th>\n",
       "      <td>...</td>\n",
       "      <td>...</td>\n",
       "      <td>...</td>\n",
       "      <td>...</td>\n",
       "      <td>...</td>\n",
       "      <td>...</td>\n",
       "      <td>...</td>\n",
       "      <td>...</td>\n",
       "      <td>...</td>\n",
       "      <td>...</td>\n",
       "      <td>...</td>\n",
       "      <td>...</td>\n",
       "      <td>...</td>\n",
       "      <td>...</td>\n",
       "      <td>...</td>\n",
       "      <td>...</td>\n",
       "      <td>...</td>\n",
       "      <td>...</td>\n",
       "      <td>...</td>\n",
       "      <td>...</td>\n",
       "      <td>...</td>\n",
       "    </tr>\n",
       "    <tr>\n",
       "      <th>336</th>\n",
       "      <td>ENCBS986CBC</td>\n",
       "      <td>Primary Tissue</td>\n",
       "      <td>unknown</td>\n",
       "      <td>Healthy</td>\n",
       "      <td>http://ncit.nci.nih.gov/ncitbrowser/ConceptRep...</td>\n",
       "      <td>tibial nerve</td>\n",
       "      <td>unknown</td>\n",
       "      <td>unknown</td>\n",
       "      <td>total RNA</td>\n",
       "      <td>UBERON:0001323</td>\n",
       "      <td>...</td>\n",
       "      <td>37</td>\n",
       "      <td>year</td>\n",
       "      <td>unknown</td>\n",
       "      <td>Healthy</td>\n",
       "      <td>ENCDO845WKR</td>\n",
       "      <td>adult</td>\n",
       "      <td>Male</td>\n",
       "      <td>Kristin Ardlie, Broad Institute Genomics Platform</td>\n",
       "      <td>tibial nerve</td>\n",
       "      <td>&lt;NA&gt;</td>\n",
       "    </tr>\n",
       "    <tr>\n",
       "      <th>337</th>\n",
       "      <td>ENCBS987CHP</td>\n",
       "      <td>Cell Line</td>\n",
       "      <td>unknown</td>\n",
       "      <td>Healthy</td>\n",
       "      <td>http://ncit.nci.nih.gov/ncitbrowser/ConceptRep...</td>\n",
       "      <td>KMS-11</td>\n",
       "      <td>unknown</td>\n",
       "      <td>unknown</td>\n",
       "      <td>genomic DNA</td>\n",
       "      <td>EFO:0005694</td>\n",
       "      <td>...</td>\n",
       "      <td>None</td>\n",
       "      <td>&lt;NA&gt;</td>\n",
       "      <td>&lt;NA&gt;</td>\n",
       "      <td>&lt;NA&gt;</td>\n",
       "      <td>&lt;NA&gt;</td>\n",
       "      <td>&lt;NA&gt;</td>\n",
       "      <td>&lt;NA&gt;</td>\n",
       "      <td>&lt;NA&gt;</td>\n",
       "      <td>&lt;NA&gt;</td>\n",
       "      <td>&lt;NA&gt;</td>\n",
       "    </tr>\n",
       "    <tr>\n",
       "      <th>338</th>\n",
       "      <td>ENCBS987SKT</td>\n",
       "      <td>Cell Line</td>\n",
       "      <td>unknown</td>\n",
       "      <td>Unknown</td>\n",
       "      <td>https://ncit.nci.nih.gov/ncitbrowser/pages/mul...</td>\n",
       "      <td>GM06990</td>\n",
       "      <td>unknown</td>\n",
       "      <td>unknown</td>\n",
       "      <td>genomic DNA</td>\n",
       "      <td>EFO:0002783</td>\n",
       "      <td>...</td>\n",
       "      <td>None</td>\n",
       "      <td>&lt;NA&gt;</td>\n",
       "      <td>&lt;NA&gt;</td>\n",
       "      <td>&lt;NA&gt;</td>\n",
       "      <td>&lt;NA&gt;</td>\n",
       "      <td>&lt;NA&gt;</td>\n",
       "      <td>&lt;NA&gt;</td>\n",
       "      <td>&lt;NA&gt;</td>\n",
       "      <td>&lt;NA&gt;</td>\n",
       "      <td>&lt;NA&gt;</td>\n",
       "    </tr>\n",
       "    <tr>\n",
       "      <th>339</th>\n",
       "      <td>ENCBS992RNI</td>\n",
       "      <td>Primary Tissue</td>\n",
       "      <td>unknown</td>\n",
       "      <td>Healthy</td>\n",
       "      <td>http://ncit.nci.nih.gov/ncitbrowser/ConceptRep...</td>\n",
       "      <td>right lobe of liver</td>\n",
       "      <td>unknown</td>\n",
       "      <td>unknown</td>\n",
       "      <td>genomic DNA</td>\n",
       "      <td>UBERON:0001114</td>\n",
       "      <td>...</td>\n",
       "      <td>53</td>\n",
       "      <td>year</td>\n",
       "      <td>unknown</td>\n",
       "      <td>Healthy</td>\n",
       "      <td>ENCDO793LXB</td>\n",
       "      <td>adult</td>\n",
       "      <td>Female</td>\n",
       "      <td>Kristin Ardlie, Broad Institute Genomics Platform</td>\n",
       "      <td>right lobe of liver</td>\n",
       "      <td>&lt;NA&gt;</td>\n",
       "    </tr>\n",
       "    <tr>\n",
       "      <th>340</th>\n",
       "      <td>ENCBS999VTF</td>\n",
       "      <td>Primary Tissue</td>\n",
       "      <td>unknown</td>\n",
       "      <td>Healthy</td>\n",
       "      <td>http://ncit.nci.nih.gov/ncitbrowser/ConceptRep...</td>\n",
       "      <td>transverse colon</td>\n",
       "      <td>unknown</td>\n",
       "      <td>unknown</td>\n",
       "      <td>total RNA</td>\n",
       "      <td>UBERON:0001157</td>\n",
       "      <td>...</td>\n",
       "      <td>51</td>\n",
       "      <td>year</td>\n",
       "      <td>unknown</td>\n",
       "      <td>Healthy</td>\n",
       "      <td>ENCDO271OUW</td>\n",
       "      <td>adult</td>\n",
       "      <td>Female</td>\n",
       "      <td>Kristin Ardlie, Broad Institute Genomics Platform</td>\n",
       "      <td>transverse colon</td>\n",
       "      <td>&lt;NA&gt;</td>\n",
       "    </tr>\n",
       "  </tbody>\n",
       "</table>\n",
       "<p>341 rows × 21 columns</p>\n",
       "</div>"
      ]
     },
     "execution_count": 14,
     "metadata": {},
     "output_type": "execute_result"
    }
   ],
   "execution_count": 14
  },
  {
   "cell_type": "code",
   "id": "f020a3a3dd86ba13",
   "metadata": {},
   "source": [
    "ihec_pandas['datasets'].contents"
   ],
   "outputs": [],
   "execution_count": null
  },
  {
   "cell_type": "code",
   "id": "3674a747f4ab6d3b",
   "metadata": {},
   "source": [
    "ihec_pandas[3][ihec_pandas[3]['experiment_type'] == 'Histone H3K9me3'].contents"
   ],
   "outputs": [],
   "execution_count": null
  },
  {
   "cell_type": "code",
   "id": "238af0e363229fbc",
   "metadata": {},
   "source": [
    "ihec_datasets['ENCBS004ENC_H3K9me3'].peek()"
   ],
   "outputs": [],
   "execution_count": null
  },
  {
   "cell_type": "code",
   "id": "97d3224771a6311c",
   "metadata": {},
   "source": [
    "ihec_samples['ENCBS004ENC'].peek()"
   ],
   "outputs": [],
   "execution_count": null
  },
  {
   "cell_type": "code",
   "id": "e1fa600010834e2b",
   "metadata": {},
   "source": [
    "encode_info = om.JsonDataset()\n",
    "encode_info.load_into('https://www.encodeproject.org/files/ENCFF323LCS/?format=json')\n",
    "encode_info.load_into('https://www.encodeproject.org/experiments/ENCSR000DPJ/?format=json')"
   ],
   "outputs": [],
   "execution_count": null
  },
  {
   "cell_type": "code",
   "id": "aa99b4f268049eba",
   "metadata": {},
   "source": [
    "encode_info.browse()"
   ],
   "outputs": [],
   "execution_count": null
  },
  {
   "cell_type": "code",
   "id": "5ceca8dc8c4d7a94",
   "metadata": {},
   "source": [
    "list(sorted(encode_info[0].keys()))"
   ],
   "outputs": [],
   "execution_count": null
  },
  {
   "cell_type": "code",
   "id": "65fd107293043005",
   "metadata": {},
   "source": [
    "list(sorted(encode_info[1].keys()))"
   ],
   "outputs": [],
   "execution_count": null
  }
 ],
 "metadata": {
  "kernelspec": {
   "display_name": "Python 3 (ipykernel)",
   "language": "python",
   "name": "python3"
  },
  "language_info": {
   "codemirror_mode": {
    "name": "ipython",
    "version": 3
   },
   "file_extension": ".py",
   "mimetype": "text/x-python",
   "name": "python",
   "nbconvert_exporter": "python",
   "pygments_lexer": "ipython3",
   "version": "3.10.18"
  }
 },
 "nbformat": 4,
 "nbformat_minor": 5
}
