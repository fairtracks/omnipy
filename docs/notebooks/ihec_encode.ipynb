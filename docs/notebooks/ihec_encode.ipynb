{
 "cells": [
  {
   "cell_type": "code",
   "id": "5eea112e761afe07",
   "metadata": {},
   "source": [
    "# Hack: empty cell to allow Omnipy to detect Jupyter embedded within PyCharm (see https://github.com/fairtracks/omnipy/issues/244)"
   ],
   "outputs": [],
   "execution_count": null
  },
  {
   "cell_type": "code",
   "id": "3f67fcd4b0ec6682",
   "metadata": {},
   "source": [
    "from omnipy import Model, Dataset"
   ],
   "outputs": [],
   "execution_count": null
  },
  {
   "cell_type": "code",
   "id": "5f9e3e06-01ae-4e70-84ba-70b5a7048a0c",
   "metadata": {},
   "source": [
    "import omnipy as om\n",
    "om.setup_jupyter_ui()"
   ],
   "outputs": [],
   "execution_count": null
  },
  {
   "cell_type": "code",
   "id": "d78cedde3d7eab6d",
   "metadata": {},
   "source": [
    "om.runtime.config.data.ui"
   ],
   "outputs": [],
   "execution_count": null
  },
  {
   "cell_type": "code",
   "id": "249c27912419e58f",
   "metadata": {},
   "source": [
    "om.runtime.config.data.ui.jupyter.color.style = om.AllColorStyles.DEEP_OCEANIC_NEXT_T16\n",
    "om.runtime.config.data.ui.jupyter.color.solid_background = True"
   ],
   "outputs": [],
   "execution_count": null
  },
  {
   "cell_type": "code",
   "id": "71db12a7208db924",
   "metadata": {
    "scrolled": true
   },
   "source": [
    "!pip install itables\n",
    "import itables\n",
    "itables.init_notebook_mode()"
   ],
   "outputs": [],
   "execution_count": null
  },
  {
   "cell_type": "code",
   "id": "104c2097824d6824",
   "metadata": {},
   "source": [
    "url = om.async_get_github_repo_urls.run(owner='fairtracks', repo='omnipy_example_data', branch='main', path='omnipy_example_data/ihec', file_suffix='.json')"
   ],
   "outputs": [],
   "execution_count": null
  },
  {
   "cell_type": "code",
   "id": "345019ddb8c1cbf5",
   "metadata": {},
   "source": [
    "await url"
   ],
   "outputs": [],
   "execution_count": null
  },
  {
   "cell_type": "code",
   "id": "90dd58e20f38821c",
   "metadata": {},
   "source": [
    "ihec = om.JsonDictOfDictsDataset()\n",
    "await ihec.load_into(url.result(), as_mime_type='application/json')"
   ],
   "outputs": [],
   "execution_count": null
  },
  {
   "cell_type": "code",
   "id": "ea9ad87ac48c92e",
   "metadata": {},
   "source": [
    "ihec.peek(font_size=12, style='gotham-t16')"
   ],
   "outputs": [],
   "execution_count": null
  },
  {
   "cell_type": "code",
   "id": "5a40d28aed992d93",
   "metadata": {},
   "source": [
    "ihec.config.ui.browser.color.style = om.LightHighContrastColorStyles.ATELIER_SAVANNA_LIGHT_T16\n",
    "ihec.config.ui.browser.color.solid_background = True\n",
    "ihec.config.ui.browser.font.size = 18\n",
    "ihec.config.ui.browser.width = 160"
   ],
   "outputs": [],
   "execution_count": null
  },
  {
   "cell_type": "code",
   "id": "f3df29c24a5f6fba",
   "metadata": {},
   "source": [
    "ihec[0].browse()"
   ],
   "outputs": [],
   "execution_count": null
  },
  {
   "cell_type": "code",
   "id": "505e40a01719ea96",
   "metadata": {},
   "source": [
    "@om.LinearFlowTemplate(\n",
    "    om.transpose_dict_of_dicts_2_list_of_dicts,\n",
    "    om.flatten_nested_json,\n",
    "    om.convert_dataset.refine(fixed_params=dict(dataset_cls=om.PandasDataset))\n",
    ")\n",
    "def flatten(dataset: om.JsonDictOfDictsDataset) -> om.PandasDataset:\n",
    "    ...\n"
   ],
   "outputs": [],
   "execution_count": null
  },
  {
   "cell_type": "code",
   "id": "23ef801b7612a3c",
   "metadata": {},
   "source": [
    "ihec_datasets = om.JsonDictOfDictsDataset(**{key:{'datasets': val} for key, val in ihec[0]['datasets'].items()})\n",
    "ihec_samples = om.JsonDictOfDictsDataset(**{key:{'samples': val} for key, val in ihec[0]['samples'].items()})"
   ],
   "outputs": [],
   "execution_count": null
  },
  {
   "cell_type": "code",
   "id": "3610c1e5878fc3be",
   "metadata": {},
   "source": [
    "ihec_datasets[:3].peek()"
   ],
   "outputs": [],
   "execution_count": null
  },
  {
   "cell_type": "code",
   "id": "4b0c872a9c95eef",
   "metadata": {},
   "source": [
    "ihec_datasets"
   ],
   "outputs": [],
   "execution_count": null
  },
  {
   "cell_type": "code",
   "id": "8975227282026eff",
   "metadata": {},
   "source": [
    "ihec_samples[:4].peek(style='gotham-t16')"
   ],
   "outputs": [],
   "execution_count": null
  },
  {
   "cell_type": "code",
   "id": "ec11d7ce8f01eddb",
   "metadata": {},
   "source": [
    "ihec_dataset_transposed = om.transpose_dict_of_dicts_2_list_of_dicts.run(ihec_datasets)\n",
    "ihec_dataset_transposed[0]"
   ],
   "outputs": [],
   "execution_count": null
  },
  {
   "cell_type": "code",
   "id": "2856a2e934b7d623",
   "metadata": {},
   "source": [
    "ihec_dataset_pandas = flatten.run(ihec_datasets)\n",
    "ihec_dataset_pandas"
   ],
   "outputs": [],
   "execution_count": null
  },
  {
   "cell_type": "code",
   "id": "7fae43c58a007165",
   "metadata": {},
   "source": [
    "ihec_samples_pandas = flatten.run(ihec_samples)\n",
    "ihec_samples_pandas"
   ],
   "outputs": [],
   "execution_count": null
  },
  {
   "cell_type": "code",
   "id": "b31ce390355948de",
   "metadata": {},
   "source": [
    "ihec_pandas = ihec_dataset_pandas | ihec_samples_pandas\n",
    "ihec_pandas"
   ],
   "outputs": [],
   "execution_count": null
  },
  {
   "cell_type": "code",
   "id": "9ad771c06fa5ca63",
   "metadata": {},
   "source": [
    "ihec_pandas['samples'].content"
   ],
   "outputs": [],
   "execution_count": null
  },
  {
   "cell_type": "code",
   "id": "9986ae8e970423e5",
   "metadata": {},
   "source": [
    "ihec_pandas['datasets'].content"
   ],
   "outputs": [],
   "execution_count": null
  },
  {
   "cell_type": "code",
   "id": "20cbef28fe36b2fa",
   "metadata": {},
   "source": [
    "ihec_pandas[3][ihec_pandas[3]['experiment_type'] == 'Histone H3K9me3'].content"
   ],
   "outputs": [],
   "execution_count": null
  },
  {
   "cell_type": "code",
   "id": "def7e4c280ae645f",
   "metadata": {},
   "source": [
    "ihec_datasets['ENCBS004ENC_H3K9me3'].peek()"
   ],
   "outputs": [],
   "execution_count": null
  },
  {
   "cell_type": "code",
   "id": "944ec2279b09b1fb",
   "metadata": {},
   "source": [
    "ihec_samples['ENCBS004ENC'].peek()"
   ],
   "outputs": [],
   "execution_count": null
  },
  {
   "cell_type": "code",
   "id": "79a870df4a2bde36",
   "metadata": {},
   "source": [
    "encode_info = om.JsonDataset()\n",
    "encode_info.load_into('https://www.encodeproject.org/files/ENCFF323LCS/?format=json')\n",
    "await encode_info.load_into('https://www.encodeproject.org/experiments/ENCSR000DPJ/?format=json')"
   ],
   "outputs": [],
   "execution_count": null
  },
  {
   "cell_type": "code",
   "id": "d411cc5175d0a9f4",
   "metadata": {},
   "source": [
    "encode_info.browse()"
   ],
   "outputs": [],
   "execution_count": null
  },
  {
   "cell_type": "code",
   "id": "7984afa1aa2b6cac",
   "metadata": {},
   "source": [
    "om.Model[list[str]](sorted(encode_info[0].keys())).full(style=om.DarkHighContrastTintedThemingBase16ColorStyles.UWUNICORN_T16, font_size=16)"
   ],
   "outputs": [],
   "execution_count": null
  },
  {
   "cell_type": "code",
   "id": "fe5ba792-8109-4c7f-b767-42f854190214",
   "metadata": {},
   "source": [
    "om.JsonModel(sorted(encode_info[1].keys())).peek()"
   ],
   "outputs": [],
   "execution_count": null
  },
  {
   "cell_type": "code",
   "id": "9384aa1855c95c91",
   "metadata": {},
   "source": [
    "om.BytesModel(ihec[0].to_json())[:100]"
   ],
   "outputs": [],
   "execution_count": null
  }
 ],
 "metadata": {
  "kernelspec": {
   "display_name": "Python 3 (ipykernel)",
   "language": "python",
   "name": "python3"
  },
  "language_info": {
   "codemirror_mode": {
    "name": "ipython",
    "version": 3
   },
   "file_extension": ".py",
   "mimetype": "text/x-python",
   "name": "python",
   "nbconvert_exporter": "python",
   "pygments_lexer": "ipython3",
   "version": "3.10.18"
  }
 },
 "nbformat": 4,
 "nbformat_minor": 5
}
