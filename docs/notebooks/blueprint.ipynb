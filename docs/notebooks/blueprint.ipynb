{
 "cells": [
  {
   "metadata": {},
   "cell_type": "code",
   "outputs": [],
   "execution_count": null,
   "source": "from omnipy import Model",
   "id": "9332c26d43563f81"
  },
  {
   "metadata": {},
   "cell_type": "code",
   "outputs": [],
   "execution_count": null,
   "source": "",
   "id": "a49e30f0c34f206e"
  },
  {
   "metadata": {},
   "cell_type": "code",
   "outputs": [],
   "execution_count": null,
   "source": [
    "from pydantic import BaseModel, Field, PrivateAttr, validator\n",
    "from pydantic.fields import UndefinedType, Undefined\n",
    "from pydantic.generics import GenericModel\n",
    "from typing import Generic\n",
    "from typing_extensions import TypedDict, TypeVar, TypeVarTuple, Unpack\n",
    "ModelT = TypeVarTuple('ModelT')\n",
    "ModelT.__bound__ = Model  # Pydantic v1 hack\n",
    "BlueprintT = TypeVar('BlueprintT')\n",
    "\n",
    "class NoBlueprintType(object):\n",
    "    def __repr__(self):\n",
    "        return 'NoBlueprint'\n",
    "\n",
    "\n",
    "NoBlueprint = NoBlueprintType()\n",
    "\n",
    "ModelsT = TypeVarTuple('ModelTs')\n",
    "ModelsT.__bound__ = Model  # Pydantic v1 hack"
   ],
   "id": "ce37e861f3b24953"
  },
  {
   "metadata": {},
   "cell_type": "code",
   "outputs": [],
   "execution_count": null,
   "source": [
    "class A(Generic[Unpack[ModelsT]]):\n",
    "    @classmethod\n",
    "    def __class_getitem__(cls, items: Unpack[ModelsT]):\n",
    "        print(f'Creating A with items: {items}')\n",
    "        created_cls = super().__class_getitem__(items)\n",
    "        # created_cls.models = items\n",
    "        return created_cls\n",
    "\n",
    "class B(A[ModelsT], Generic[Unpack[ModelsT]]):\n",
    "    ...\n",
    "\n",
    "\n"
   ],
   "id": "d6deb1c78fd7a6e"
  },
  {
   "metadata": {},
   "cell_type": "code",
   "outputs": [],
   "execution_count": null,
   "source": [
    "b= B[Model[int], Model[str]]()\n",
    "b"
   ],
   "id": "58dd528461688a3f"
  },
  {
   "metadata": {},
   "cell_type": "code",
   "outputs": [],
   "execution_count": null,
   "source": [
    "from typing import ClassVar\n",
    "from typing_extensions import TypedDict, TypeVar, TypeVarTuple, Unpack\n",
    "from collections import UserDict\n",
    "ModelsT = TypeVarTuple('ModelTs')\n",
    "ModelsT.__bound__ = Model  # Pydantic v1 hack\n",
    "BlueprintHolderT = TypeVar('BlueprintHolderT', bound='BlueprintHolder')\n",
    "BlueprintT = TypeVar('BlueprintT', bound='BluePrint')\n",
    "\n",
    "class BluePrint(TypedDict):\n",
    "    ...\n",
    "\n",
    "\n",
    "\n",
    "class BlueprintHolder(GenericModel, Generic[ModelsT]):\n",
    "    __root__: BluePrint = Field(default_factory=lambda: Model)\n",
    "    @classmethod\n",
    "    def __class_getitem__(cls, items: Unpack[ModelsT]):\n",
    "        created_cls = super().__class_getitem__(items)\n",
    "        created_cls.models = items\n",
    "        return created_cls\n",
    "\n",
    "    \n",
    "    @classmethod\n",
    "    def __init_subclass__(cls, blueprint:type[BlueprintT] | None = None, **kwargs):\n",
    "        print(f'Initializing subclass {cls.__name__} with blueprint={blueprint}')\n",
    "        print(f'cls: {cls}, type(blueprint): {type(blueprint)}')\n",
    "        cls._blueprint = blueprint\n",
    "        super().__init_subclass__(**kwargs)\n",
    "\n",
    "\n",
    "    _models: ClassVar[type[ModelsT]] = PrivateAttr()\n",
    "    _blueprint: ClassVar[type[BlueprintT]] = PrivateAttr()\n",
    "\n",
    "\n",
    "\n",
    "\n",
    "class Dataset(UserDict, Generic[BlueprintHolderT]):\n",
    "    def __init__(self, dict=None, /, **kwargs):\n",
    "        super().__init__(dict, **kwargs)"
   ],
   "id": "b530b2f03b51d9c4"
  },
  {
   "metadata": {},
   "cell_type": "code",
   "outputs": [],
   "execution_count": null,
   "source": "",
   "id": "5d625f403c537d45"
  },
  {
   "metadata": {},
   "cell_type": "code",
   "outputs": [],
   "execution_count": null,
   "source": "",
   "id": "c980bd02708acdb7"
  },
  {
   "metadata": {},
   "cell_type": "code",
   "outputs": [],
   "execution_count": null,
   "source": "",
   "id": "f971c62b1992683d"
  },
  {
   "metadata": {},
   "cell_type": "code",
   "outputs": [],
   "execution_count": null,
   "source": "",
   "id": "4ff0aef986c39db5"
  },
  {
   "metadata": {},
   "cell_type": "code",
   "outputs": [],
   "execution_count": null,
   "source": "",
   "id": "82d5a4f7c5cdd0a6"
  },
  {
   "metadata": {},
   "cell_type": "code",
   "outputs": [],
   "execution_count": null,
   "source": "MyBlueprint = Blueprint[Model[int], Model[str]]",
   "id": "89fcc68814a9a3b2"
  },
  {
   "metadata": {},
   "cell_type": "code",
   "outputs": [],
   "execution_count": null,
   "source": [
    "d = MyBlueprint()\n",
    "d.__class__"
   ],
   "id": "cbca0fedc0809c7e"
  },
  {
   "metadata": {},
   "cell_type": "code",
   "outputs": [],
   "execution_count": null,
   "source": [
    "from types import NoneType\n",
    "from pydantic.fields import ModelField\n",
    "from typing import ClassVar, get_args, cast, Union, Type, Any, Tuple\n",
    "\n",
    "class Blueprint(TypedDict):\n",
    "    ...\n",
    "\n",
    "BlueprintT = TypeVar('BlueprintT', bound=Blueprint)\n",
    "\n",
    "\n",
    "\n",
    "\n",
    "class MyDataset(GenericModel, Generic[Unpack[ModelsT], BlueprintT]):\n",
    "    @classmethod\n",
    "    def __class_getitem__(cls, items: Unpack[ModelsT], blueprint: type[BlueprintT]| None=None) -> type['MyDataset']:\n",
    "        blueprint: type[BlueprintT] = items[-1]\n",
    "        items = items[:-1] if len(items) > 1 else ()\n",
    "        print(f'Creating MyDataset with blueprint: {blueprint}, items: {items}')\n",
    "        args = []\n",
    "        # args = []\n",
    "        if isinstance(items, tuple):\n",
    "            print(f'items: {items}')\n",
    "            args += [Union[items]]  # type: ignore\n",
    "\n",
    "        else:\n",
    "            args += [items]\n",
    "        if blueprint is not None:\n",
    "            args += [blueprint]\n",
    "        if len(args) > 0:\n",
    "            print(f'args: {args}, type(args): {type(args)}')\n",
    "            created_cls = super().__class_getitem__(tuple(args))\n",
    "        else:\n",
    "            raise ValueError('At least one model type must be provided')\n",
    "        # if len(items) > 1:\n",
    "        print(f'created_cls: {created_cls}, type(created_cls): {type(created_cls)}')\n",
    "        print(f'items: {items}, type(items): {type(items)}')\n",
    "        created_cls._model = tuple(items)\n",
    "        return created_cls\n",
    "\n",
    "\n",
    "    _blueprint: ClassVar[type[Blueprint] | None] = PrivateAttr()\n",
    "    _model: ClassVar[type[Model]] = PrivateAttr()\n",
    "    # data: dict[str, ModelsT] = Field(default_factory=lambda: dict)\n",
    "    data: BlueprintT = Field(default_factory=lambda: Blueprint)\n",
    "\n",
    "    def __init_subclass__(cls, blueprint:type[BlueprintT] | None = None, **kwargs):\n",
    "        print(f'Initializing subclass {cls.__name__} with blueprint={blueprint}')\n",
    "        print(f'cls: {cls}, type(blueprint): {type(blueprint)}')\n",
    "        cls._blueprint = blueprint\n",
    "\n",
    "\n",
    "    class Config:\n",
    "        validate_assignment = True\n",
    "        arbitrary_types_allowed = True\n",
    "    #\n",
    "    # def __new__(cls, *args, **kwargs):\n",
    "    #     print(f'Creating instance of {cls.__name__} with args={args}, kwargs={kwargs}')\n",
    "    #\n",
    "    #     print(f'cls: {cls}, get_args(cls): {get_args(cls)}')\n",
    "    #     args = []\n",
    "    #     args += list(cls._model)\n",
    "    #     if cls._blueprint is None:\n",
    "    #         args += [None]\n",
    "    #         subcls = MyDictDataset[tuple(args)]\n",
    "    #     else:\n",
    "    #         args += [cls._blueprint]\n",
    "    #         subcls = MyBlueprintDataset[tuple(args)]\n",
    "    #     print(f'cls: {cls}, subcls: {subcls}')\n",
    "    #     print(f'subcls: {subcls}, type(subcls): {type(subcls)}')\n",
    "    #     instance = subcls.__new__(subcls, **kwargs)\n",
    "    #     return instance\n",
    "\n",
    "\n",
    "# class MyDictDataset(MyDataset[ModelsT], Generic[Unpack[ModelsT]]):\n",
    "\n",
    "\n",
    "    # def __new__(cls, *args, **kwargs):\n",
    "    #     return GenericModel.__new__(cls)\n",
    "\n",
    "\n",
    "# class MyBlueprintDataset(MyDataset[ModelsT, BlueprintT], Generic[Unpack[ModelsT], BlueprintT], blueprint = Blueprint):\n",
    "#     data: BlueprintT = Field(default_factory=lambda: Blueprint)\n",
    "\n",
    "    # @classmethod\n",
    "    # def __class_getitem__(cls, items: Unpack[ModelsT]):\n",
    "    #     print(f'Creating MyBlueprintDataset with items: {items}')\n",
    "    #     return super().__class_getitem__(items[:-1])  # Exclude the last item which is BlueprintT\n",
    "\n",
    "    # def __new__(cls, *args, **kwargs):\n",
    "    #     return GenericModel.__new__(cls)\n",
    "\n",
    "\n",
    "    #\n",
    "    # def __init__(self, data: Blueprint | dict[str, Model] = None, **kwargs):\n",
    "    #     print(f'data: {data}')\n",
    "    #     if data is None:\n",
    "    #         data = self._get_blueprint()\n",
    "    #     blueprint_cls = self._blueprint\n",
    "    #     print(f'blueprint_cls: {self, blueprint_cls}')\n",
    "    #     if blueprint_cls is None:\n",
    "    #         blueprint_cls = Union[self._model]\n",
    "    #     print(f\"self.__fields__['data'].type_: {self.__fields__['data'].type_}\")\n",
    "    #     self.__fields__['data'].type_ = blueprint_cls\n",
    "    #     print(f\"self.__fields__['data'].type_: {self.__fields__['data'].type_}\")\n",
    "    #     self.__fields__['data'].default_factory = blueprint_cls\n",
    "    #     my_kwargs = kwargs.copy()\n",
    "    #     my_kwargs['data'] = data\n",
    "    #     print(f'my_kwargs: {my_kwargs}')\n",
    "    #     super().__init__(**my_kwargs)\n",
    "    #     print(f'self.data: {self.data}')\n",
    "\n",
    "    @validator('data')\n",
    "    def validate_data(cls, value):\n",
    "        print(f'cls._model: {cls._model}')\n",
    "        for key, val in value.items():\n",
    "            print(f'Validating value: {val}')\n",
    "            print(cls)\n",
    "            for model in cls._model(val):  # This will raise an error if value is not of type cls._model\n",
    "\n",
    "    # @validator('val', pre=True, always=True)\n",
    "    # def val_is_not_none(cls, value:ModelT | UndefinedType | None) -> ModelT | UndefinedType:\n",
    "    #     # if value is None:\n",
    "    #     #     raise ValueError('val cannot be None')\n",
    "    #     return value"
   ],
   "id": "f708d6ba322b682"
  },
  {
   "metadata": {},
   "cell_type": "code",
   "outputs": [],
   "execution_count": null,
   "source": [
    "asd = MyDictDataset[Model[float]](data=dict(number='1234.1', text=123.0))\n",
    "asd"
   ],
   "id": "78357cb91f1cf76b"
  },
  {
   "metadata": {},
   "cell_type": "code",
   "outputs": [],
   "execution_count": null,
   "source": [
    "class MyBlueprint(Blueprint, total=False):\n",
    "    number: Model[list[int]]\n",
    "    text: Model[list[str]]\n",
    "\n",
    "class MyNewBlueprintDataset(MyBlueprintDataset[Model[int], Model[list], MyBlueprint], blueprint=MyBlueprint):\n",
    "    pass\n",
    "\n",
    "MyBlueprint.__mro__"
   ],
   "id": "236a33c7eae44c51"
  },
  {
   "metadata": {},
   "cell_type": "code",
   "outputs": [],
   "execution_count": null,
   "source": [
    "dd = MyNewBlueprintDataset(data=dict(number=(1234,), text=['hello']))\n",
    "dd._model\n",
    "# dd.data['number']\n",
    "# dd.__fields__"
   ],
   "id": "942e204b76ded542"
  },
  {
   "metadata": {},
   "cell_type": "code",
   "outputs": [],
   "execution_count": null,
   "source": "A = Blueprint[list]",
   "id": "bcad226f62285ae8"
  },
  {
   "metadata": {},
   "cell_type": "code",
   "outputs": [],
   "execution_count": null,
   "source": "B = Blueprint[str]",
   "id": "65c1a48c99b4ba30"
  },
  {
   "metadata": {},
   "cell_type": "code",
   "outputs": [],
   "execution_count": null,
   "source": [
    "hasattr(A(), 'mod')\n",
    "A.mod\n",
    "B().mod"
   ],
   "id": "dcc03a0296750c2c"
  },
  {
   "metadata": {},
   "cell_type": "code",
   "outputs": [],
   "execution_count": null,
   "source": "",
   "id": "ca10779b497ac1b9"
  },
  {
   "metadata": {},
   "cell_type": "code",
   "outputs": [],
   "execution_count": null,
   "source": [
    "class AA:\n",
    "    # @classmethod\n",
    "    def __init_subclass__(cls, x: int, **kwargs):\n",
    "        print(f'Initializing subclass {cls.__name__} with x={x}')\n",
    "        return super().__init_subclass__(**kwargs)\n",
    "\n",
    "    def __init__(self, a):\n",
    "        self.a = a"
   ],
   "id": "2bf0afd45c15898c"
  },
  {
   "metadata": {},
   "cell_type": "code",
   "outputs": [],
   "execution_count": null,
   "source": [
    "class BB(AA, x=3):\n",
    "    def __init__(self, a, b):\n",
    "        super().__init__(a)\n",
    "        self.b = b"
   ],
   "id": "30e5fb3b69e355db"
  },
  {
   "metadata": {},
   "cell_type": "code",
   "outputs": [],
   "execution_count": null,
   "source": [
    "class QuestBase:\n",
    "    # this is implicitly a @classmethod (see below for motivation)\n",
    "    def __init_subclass__(cls, swallow, **kwargs):\n",
    "        cls.swallow = swallow\n",
    "        super().__init_subclass__(**kwargs)"
   ],
   "id": "d0bdb820a6e5fa6a"
  },
  {
   "metadata": {},
   "cell_type": "code",
   "outputs": [],
   "execution_count": null,
   "source": [
    "class Quest(QuestBase, swallow=\"african\"):\n",
    "    pass"
   ],
   "id": "43008af6f8711ca6"
  },
  {
   "metadata": {},
   "cell_type": "code",
   "outputs": [],
   "execution_count": null,
   "source": "Quest.swallow\n",
   "id": "aff5387c21d457ce"
  },
  {
   "metadata": {},
   "cell_type": "code",
   "outputs": [],
   "execution_count": null,
   "source": [
    "class MyBlueprint(TypedDict, total=False):\n",
    "    number: int\n",
    "    text: str"
   ],
   "id": "ce410d9d2d55075b"
  },
  {
   "metadata": {},
   "cell_type": "code",
   "outputs": [],
   "execution_count": null,
   "source": [
    "from collections import UserDict\n",
    "\n",
    "\n",
    "class MyModel(BaseModel, UserDict):\n",
    "    data: MyBlueprint = Field(default_factory=MyBlueprint)\n",
    "\n",
    "    class Config:\n",
    "        validate_assignment = True\n",
    "        arbitrary_types_allowed = True"
   ],
   "id": "c54cc90d7b3596fc"
  },
  {
   "metadata": {},
   "cell_type": "code",
   "outputs": [],
   "execution_count": null,
   "source": "a = MyModel(data=dict(number='1234', text=2))",
   "id": "b168b723e7aedd9a"
  },
  {
   "metadata": {},
   "cell_type": "code",
   "outputs": [],
   "execution_count": null,
   "source": "a",
   "id": "136a9e8222ba4e43"
  },
  {
   "metadata": {},
   "cell_type": "code",
   "outputs": [],
   "execution_count": null,
   "source": "a",
   "id": "799595bd3167e5c5"
  },
  {
   "metadata": {},
   "cell_type": "code",
   "outputs": [],
   "execution_count": null,
   "source": "",
   "id": "93d7691bef15ff0d"
  },
  {
   "metadata": {},
   "cell_type": "code",
   "outputs": [],
   "execution_count": null,
   "source": "asd.val",
   "id": "7e2192a7325c16bc"
  },
  {
   "metadata": {},
   "cell_type": "code",
   "outputs": [],
   "execution_count": null,
   "source": "",
   "id": "d953fb69fe8dff4a"
  },
  {
   "metadata": {},
   "cell_type": "code",
   "outputs": [],
   "execution_count": null,
   "source": "",
   "id": "b7864c9843becc82"
  },
  {
   "metadata": {},
   "cell_type": "code",
   "outputs": [],
   "execution_count": null,
   "source": "",
   "id": "b7d77df7ff933e40"
  },
  {
   "metadata": {},
   "cell_type": "code",
   "outputs": [],
   "execution_count": null,
   "source": "A = TypedDict('A', {'number': int, 'text': str})",
   "id": "f2f5234a774f7430"
  },
  {
   "metadata": {},
   "cell_type": "code",
   "outputs": [],
   "execution_count": null,
   "source": "A()",
   "id": "fd8aef6dc9f46ac3"
  },
  {
   "metadata": {},
   "cell_type": "code",
   "outputs": [],
   "execution_count": null,
   "source": "",
   "id": "7870f800576a32d3"
  },
  {
   "metadata": {},
   "cell_type": "code",
   "outputs": [],
   "execution_count": null,
   "source": "",
   "id": "a5ef46eaf1b88a1c"
  },
  {
   "metadata": {},
   "cell_type": "code",
   "outputs": [],
   "execution_count": null,
   "source": "",
   "id": "eeda96b5a92c36f3"
  },
  {
   "metadata": {},
   "cell_type": "code",
   "outputs": [],
   "execution_count": null,
   "source": "",
   "id": "2371af6a452dabfb"
  },
  {
   "metadata": {},
   "cell_type": "code",
   "outputs": [],
   "execution_count": null,
   "source": "BaseModel.validate(asd)",
   "id": "8f2f9d33e822d791"
  },
  {
   "metadata": {},
   "cell_type": "code",
   "outputs": [],
   "execution_count": null,
   "source": "",
   "id": "d093c173193426d3"
  }
 ],
 "metadata": {},
 "nbformat": 4,
 "nbformat_minor": 5
}
